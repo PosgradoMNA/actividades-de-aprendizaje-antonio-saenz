{
  "nbformat": 4,
  "nbformat_minor": 0,
  "metadata": {
    "colab": {
      "name": "assignment01.ipynb",
      "provenance": [],
      "include_colab_link": true
    },
    "kernelspec": {
      "name": "python3",
      "display_name": "Python 3"
    },
    "language_info": {
      "name": "python"
    }
  },
  "cells": [
    {
      "cell_type": "markdown",
      "metadata": {
        "id": "view-in-github",
        "colab_type": "text"
      },
      "source": [
        "<a href=\"https://colab.research.google.com/github/PosgradoMNA/actividades-de-aprendizaje-antonio-saenz/blob/main/assignment02.ipynb\" target=\"_parent\"><img src=\"https://colab.research.google.com/assets/colab-badge.svg\" alt=\"Open In Colab\"/></a>"
      ]
    },
    {
      "cell_type": "code",
      "execution_count": null,
      "metadata": {
        "id": "LzUSMM79NR9P",
        "outputId": "30282bdf-5a99-4861-e9ff-bfd1d7a5daea",
        "colab": {
          "base_uri": "https://localhost:8080/"
        }
      },
      "outputs": [
        {
          "output_type": "stream",
          "name": "stdout",
          "text": [
            "assignment02 for GitJobish02 and edited in git, and 18\n"
          ]
        }
      ],
      "source": [
        "print('assignment02 for GitJobish02 and edited in git, and 18')"
      ]
    },
    {
      "cell_type": "code",
      "source": [
        "## Uncomment these if working locally, else let the following code cell run.\n",
        "\n",
        "import urllib.request\n",
        "url = 'https://cf-courses-data.s3.us.cloud-object-storage.appdomain.cloud/IBMDeveloperSkillsNetwork-PY0101EN-SkillsNetwork/labs/Module%204/data/example1.txt'\n",
        "filename = 'Example1.txt'\n",
        "urllib.request.urlretrieve(url, filename)\n",
        "\n",
        "## Download Example file\n",
        "#!wget -O /resources/data/Example1.txt https://cf-courses-data.s3.us.cloud-object-storage.appdomain.cloud/IBMDeveloperSkillsNetwork-PY0101EN-SkillsNetwork/labs/Module%204/data/example1.txt"
      ],
      "metadata": {
        "id": "mxM_WppZPMFx",
        "outputId": "9dac606a-66e8-411c-c2a1-d891e1d956e8",
        "colab": {
          "base_uri": "https://localhost:8080/"
        }
      },
      "execution_count": null,
      "outputs": [
        {
          "output_type": "execute_result",
          "data": {
            "text/plain": [
              "('Example1.txt', <http.client.HTTPMessage at 0x7f371841b8d0>)"
            ]
          },
          "metadata": {},
          "execution_count": 6
        }
      ]
    },
    {
      "cell_type": "code",
      "source": [
        "file1 = open(filename, \"r\")"
      ],
      "metadata": {
        "id": "z7cK55Tm7dQC"
      },
      "execution_count": null,
      "outputs": []
    },
    {
      "cell_type": "code",
      "source": [
        "# Print the path of file\n",
        "\n",
        "file1.name"
      ],
      "metadata": {
        "id": "u3qEswM07s1M",
        "outputId": "7ab98cb4-709e-4c1a-d858-b8550b16c8ba",
        "colab": {
          "base_uri": "https://localhost:8080/",
          "height": 35
        }
      },
      "execution_count": null,
      "outputs": [
        {
          "output_type": "execute_result",
          "data": {
            "text/plain": [
              "'Example1.txt'"
            ],
            "application/vnd.google.colaboratory.intrinsic+json": {
              "type": "string"
            }
          },
          "metadata": {},
          "execution_count": 8
        }
      ]
    },
    {
      "cell_type": "code",
      "source": [
        "# Print the mode of file, either 'r' or 'w'\n",
        "\n",
        "file1.mode"
      ],
      "metadata": {
        "id": "Y8Fxhqv17ujO",
        "outputId": "5cf78639-9b58-4a78-85b0-2d1d17b042b5",
        "colab": {
          "base_uri": "https://localhost:8080/",
          "height": 35
        }
      },
      "execution_count": null,
      "outputs": [
        {
          "output_type": "execute_result",
          "data": {
            "text/plain": [
              "'r'"
            ],
            "application/vnd.google.colaboratory.intrinsic+json": {
              "type": "string"
            }
          },
          "metadata": {},
          "execution_count": 9
        }
      ]
    },
    {
      "cell_type": "code",
      "source": [
        "# Read the file\n",
        "\n",
        "FileContent = file1.read()\n",
        "FileContent"
      ],
      "metadata": {
        "id": "FFYn_-q37wPs",
        "outputId": "13352355-9063-427d-e3b0-d8255d301412",
        "colab": {
          "base_uri": "https://localhost:8080/",
          "height": 35
        }
      },
      "execution_count": null,
      "outputs": [
        {
          "output_type": "execute_result",
          "data": {
            "text/plain": [
              "'This is line 1 \\nThis is line 2\\nThis is line 3'"
            ],
            "application/vnd.google.colaboratory.intrinsic+json": {
              "type": "string"
            }
          },
          "metadata": {},
          "execution_count": 10
        }
      ]
    },
    {
      "cell_type": "code",
      "source": [
        "# Print the file with '\\n' as a new line\n",
        "\n",
        "print(FileContent)"
      ],
      "metadata": {
        "id": "UJNFsZxZ8Fb4",
        "outputId": "f5db64b1-f9f2-48a5-a766-2bf2de444dc1",
        "colab": {
          "base_uri": "https://localhost:8080/"
        }
      },
      "execution_count": null,
      "outputs": [
        {
          "output_type": "stream",
          "name": "stdout",
          "text": [
            "This is line 1 \n",
            "This is line 2\n",
            "This is line 3\n"
          ]
        }
      ]
    },
    {
      "cell_type": "code",
      "source": [
        "# Type of file content\n",
        "\n",
        "type(FileContent)"
      ],
      "metadata": {
        "id": "SpLBbSCS8Ic6",
        "outputId": "65cf8e78-126f-4ee7-c6cf-9145da657e4a",
        "colab": {
          "base_uri": "https://localhost:8080/"
        }
      },
      "execution_count": null,
      "outputs": [
        {
          "output_type": "execute_result",
          "data": {
            "text/plain": [
              "str"
            ]
          },
          "metadata": {},
          "execution_count": 12
        }
      ]
    },
    {
      "cell_type": "code",
      "source": [
        "# Close file after finish\n",
        "\n",
        "file1.close()"
      ],
      "metadata": {
        "id": "qCPOJxkk8Kvf"
      },
      "execution_count": null,
      "outputs": []
    },
    {
      "cell_type": "markdown",
      "source": [
        "## **A Better Way to Open a File**\n",
        "Using the with statement is better practice, it automatically closes the file even if the code encounters an exception. The code will run everything in the indent block then close the file object."
      ],
      "metadata": {
        "id": "c3MIbwPj9HHS"
      }
    },
    {
      "cell_type": "code",
      "source": [
        "# Open file using with\n",
        "\n",
        "with open(filename, \"r\") as file1:  #aquí opté por usar la misma variable filename en todo el lab, por facilidad\n",
        "    FileContent = file1.read()\n",
        "    print(FileContent)"
      ],
      "metadata": {
        "id": "sJyTkh6G9J3y",
        "outputId": "2353ff17-c352-4eb4-a91f-d7247d450136",
        "colab": {
          "base_uri": "https://localhost:8080/"
        }
      },
      "execution_count": null,
      "outputs": [
        {
          "output_type": "stream",
          "name": "stdout",
          "text": [
            "This is line 1 \n",
            "This is line 2\n",
            "This is line 3\n"
          ]
        }
      ]
    },
    {
      "cell_type": "code",
      "source": [
        "# Verify if the file is closed\n",
        "\n",
        "file1.closed"
      ],
      "metadata": {
        "id": "9cqpxEF89aIA",
        "outputId": "8545c6bb-52f7-424b-c680-a4d5571267c6",
        "colab": {
          "base_uri": "https://localhost:8080/"
        }
      },
      "execution_count": null,
      "outputs": [
        {
          "output_type": "execute_result",
          "data": {
            "text/plain": [
              "True"
            ]
          },
          "metadata": {},
          "execution_count": 16
        }
      ]
    },
    {
      "cell_type": "code",
      "source": [
        "# See the content of file\n",
        "\n",
        "print(FileContent)"
      ],
      "metadata": {
        "id": "EzRsQKpW9cxI",
        "outputId": "fe6b7629-6663-46f6-e05c-4d3dfad713f6",
        "colab": {
          "base_uri": "https://localhost:8080/"
        }
      },
      "execution_count": null,
      "outputs": [
        {
          "output_type": "stream",
          "name": "stdout",
          "text": [
            "This is line 1 \n",
            "This is line 2\n",
            "This is line 3\n"
          ]
        }
      ]
    },
    {
      "cell_type": "code",
      "source": [
        "# Read first four characters\n",
        "\n",
        "with open(filename, \"r\") as file1:\n",
        "    print(file1.read(4))"
      ],
      "metadata": {
        "id": "3GowwJxp9rg2",
        "outputId": "45221828-a957-44c5-9087-32c70b4cd968",
        "colab": {
          "base_uri": "https://localhost:8080/"
        }
      },
      "execution_count": null,
      "outputs": [
        {
          "output_type": "stream",
          "name": "stdout",
          "text": [
            "This\n"
          ]
        }
      ]
    },
    {
      "cell_type": "code",
      "source": [
        "# Read certain amount of characters\n",
        "\n",
        "with open(filename, \"r\") as file1:\n",
        "    print(file1.read(4))\n",
        "    print(file1.read(4))\n",
        "    print(file1.read(7))\n",
        "    print(file1.read(15))"
      ],
      "metadata": {
        "id": "-3mE8dzj9x8i",
        "outputId": "60f49fb3-1e59-4899-84a5-bdceedcd4a69",
        "colab": {
          "base_uri": "https://localhost:8080/"
        }
      },
      "execution_count": null,
      "outputs": [
        {
          "output_type": "stream",
          "name": "stdout",
          "text": [
            "This\n",
            " is \n",
            "line 1 \n",
            "\n",
            "This is line 2\n"
          ]
        }
      ]
    },
    {
      "cell_type": "markdown",
      "source": [
        "*En la siguiente imágen se explica mediante colores cada llamada del bloque anterior, entiendo por qué obtenemos dicha salida. Importante resaltar que podemos leer un caracter de salto de línea y este se verá reflejado tal cual en la salida (en este caso al hacer print):*\n",
        "\n",
        "![image.png](data:image/png;base64,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)"
      ],
      "metadata": {
        "id": "qAmn2r4r977E"
      }
    },
    {
      "cell_type": "code",
      "source": [
        "# Read certain amount of characters\n",
        "\n",
        "with open(filename, \"r\") as file1:\n",
        "    print(file1.read(16))\n",
        "    print(file1.read(5))\n",
        "    print(file1.read(9))"
      ],
      "metadata": {
        "id": "5_NrcZgi-E4A",
        "outputId": "729e1418-11ed-4f0d-8572-d18da56c62d6",
        "colab": {
          "base_uri": "https://localhost:8080/"
        }
      },
      "execution_count": null,
      "outputs": [
        {
          "output_type": "stream",
          "name": "stdout",
          "text": [
            "This is line 1 \n",
            "\n",
            "This \n",
            "is line 2\n"
          ]
        }
      ]
    },
    {
      "cell_type": "code",
      "source": [
        "# Read one line\n",
        "\n",
        "with open(filename, \"r\") as file1:\n",
        "    print(\"first line: \" + file1.readline())"
      ],
      "metadata": {
        "id": "_jCJeGZL-tfR",
        "outputId": "85228a22-b371-4a8c-be6a-4ec0914eee83",
        "colab": {
          "base_uri": "https://localhost:8080/"
        }
      },
      "execution_count": null,
      "outputs": [
        {
          "output_type": "stream",
          "name": "stdout",
          "text": [
            "first line: This is line 1 \n",
            "\n"
          ]
        }
      ]
    },
    {
      "cell_type": "code",
      "source": [
        "with open(filename, \"r\") as file1:\n",
        "    print(file1.readline(20)) # does not read past the end of line\n",
        "    print(file1.read(20)) # Returns the next 20 chars"
      ],
      "metadata": {
        "id": "K1AaUTNT-y44",
        "outputId": "6a66c83a-3c0c-432c-c708-e767347cd1a0",
        "colab": {
          "base_uri": "https://localhost:8080/"
        }
      },
      "execution_count": null,
      "outputs": [
        {
          "output_type": "stream",
          "name": "stdout",
          "text": [
            "This is line 1 \n",
            "\n",
            "This is line 2\n",
            "This \n"
          ]
        }
      ]
    },
    {
      "cell_type": "code",
      "source": [
        "# Iterate through the lines\n",
        "\n",
        "with open(filename,\"r\") as file1:\n",
        "        i = 0;\n",
        "        for line in file1:\n",
        "            print(\"Iteration\", str(i), \": \", line)\n",
        "            i = i + 1"
      ],
      "metadata": {
        "id": "wecmOUYx-3ku",
        "outputId": "e32d21ee-f42e-4e9b-dc73-2e4a23328004",
        "colab": {
          "base_uri": "https://localhost:8080/"
        }
      },
      "execution_count": null,
      "outputs": [
        {
          "output_type": "stream",
          "name": "stdout",
          "text": [
            "Iteration 0 :  This is line 1 \n",
            "\n",
            "Iteration 1 :  This is line 2\n",
            "\n",
            "Iteration 2 :  This is line 3\n"
          ]
        }
      ]
    },
    {
      "cell_type": "code",
      "source": [
        "# Read all lines and save as a list\n",
        "\n",
        "with open(filename, \"r\") as file1:\n",
        "    FileasList = file1.readlines()"
      ],
      "metadata": {
        "id": "A9cqTtT4-8VP"
      },
      "execution_count": null,
      "outputs": []
    },
    {
      "cell_type": "code",
      "source": [
        "# Print the first line\n",
        "\n",
        "FileasList[0]"
      ],
      "metadata": {
        "id": "BM0T1e5x_AO1",
        "outputId": "d280db10-d1e3-44e9-8b9c-9be8bd1ece4c",
        "colab": {
          "base_uri": "https://localhost:8080/",
          "height": 35
        }
      },
      "execution_count": null,
      "outputs": [
        {
          "output_type": "execute_result",
          "data": {
            "text/plain": [
              "'This is line 1 \\n'"
            ],
            "application/vnd.google.colaboratory.intrinsic+json": {
              "type": "string"
            }
          },
          "metadata": {},
          "execution_count": 28
        }
      ]
    },
    {
      "cell_type": "code",
      "source": [
        "FileasList[1]"
      ],
      "metadata": {
        "id": "ezXUNcaK_DFf",
        "outputId": "a84ab8c2-c5e9-46a7-9505-457a55ab584d",
        "colab": {
          "base_uri": "https://localhost:8080/",
          "height": 35
        }
      },
      "execution_count": null,
      "outputs": [
        {
          "output_type": "execute_result",
          "data": {
            "text/plain": [
              "'This is line 2\\n'"
            ],
            "application/vnd.google.colaboratory.intrinsic+json": {
              "type": "string"
            }
          },
          "metadata": {},
          "execution_count": 29
        }
      ]
    },
    {
      "cell_type": "code",
      "source": [
        "FileasList[2]"
      ],
      "metadata": {
        "id": "j4_LNepF_E3f",
        "outputId": "936d6f4e-70c5-4b6c-d4ce-1f42b80e8469",
        "colab": {
          "base_uri": "https://localhost:8080/",
          "height": 35
        }
      },
      "execution_count": null,
      "outputs": [
        {
          "output_type": "execute_result",
          "data": {
            "text/plain": [
              "'This is line 3'"
            ],
            "application/vnd.google.colaboratory.intrinsic+json": {
              "type": "string"
            }
          },
          "metadata": {},
          "execution_count": 30
        }
      ]
    },
    {
      "cell_type": "markdown",
      "source": [
        "**---------- FIN DE LAB 4-01 ---------**"
      ],
      "metadata": {
        "id": "nxr2-vo8_IH_"
      }
    },
    {
      "cell_type": "markdown",
      "source": [
        "**---------- INICIO DE LAB 4-02 ---------**"
      ],
      "metadata": {
        "id": "XWoWT9I7mYgq"
      }
    },
    {
      "cell_type": "code",
      "source": [
        "# Write line to file\n",
        "exmp2 = 'Example2.txt'\n",
        "with open(exmp2, 'w') as writefile:\n",
        "    writefile.write(\"This is line A\")"
      ],
      "metadata": {
        "id": "C2lMoWWFpT7s"
      },
      "execution_count": 4,
      "outputs": []
    },
    {
      "cell_type": "code",
      "source": [
        "# Read file\n",
        "\n",
        "with open(exmp2, 'r') as testwritefile:\n",
        "    print(testwritefile.read())\n",
        "    "
      ],
      "metadata": {
        "id": "B3KxzCoCpWXb"
      },
      "execution_count": null,
      "outputs": []
    },
    {
      "cell_type": "code",
      "source": [
        "# Write lines to file\n",
        "\n",
        "with open(exmp2, 'w') as writefile:\n",
        "    writefile.write(\"This is line A\\n\")\n",
        "    writefile.write(\"This is line B\\n\")"
      ],
      "metadata": {
        "id": "7S0Y9EmgyqXi"
      },
      "execution_count": 18,
      "outputs": []
    },
    {
      "cell_type": "code",
      "source": [
        "# Check whether write to file\n",
        "\n",
        "with open(exmp2, 'r') as testwritefile:\n",
        "    print(testwritefile.read())"
      ],
      "metadata": {
        "colab": {
          "base_uri": "https://localhost:8080/"
        },
        "id": "Kfo9qGpey4yB",
        "outputId": "dfb0952f-8afc-401e-897f-58a0ac150ee8"
      },
      "execution_count": 19,
      "outputs": [
        {
          "output_type": "stream",
          "name": "stdout",
          "text": [
            "This is line A\n",
            "This is line B\n",
            "\n"
          ]
        }
      ]
    },
    {
      "cell_type": "code",
      "source": [
        "# Sample list of text\n",
        "\n",
        "Lines = [\"This is line A\\n\", \"This is line B\\n\", \"This is line C\\n\"]\n",
        "Lines"
      ],
      "metadata": {
        "colab": {
          "base_uri": "https://localhost:8080/"
        },
        "id": "DeTaMuMVy-_0",
        "outputId": "84374e40-b531-474a-ae93-881fb7e36824"
      },
      "execution_count": 20,
      "outputs": [
        {
          "output_type": "execute_result",
          "data": {
            "text/plain": [
              "['This is line A\\n', 'This is line B\\n', 'This is line C\\n']"
            ]
          },
          "metadata": {},
          "execution_count": 20
        }
      ]
    },
    {
      "cell_type": "code",
      "source": [
        "# Write the strings in the list to text file\n",
        "\n",
        "with open('Example2.txt', 'w') as writefile:\n",
        "    for line in Lines:\n",
        "        print(line)\n",
        "        writefile.write(line)"
      ],
      "metadata": {
        "colab": {
          "base_uri": "https://localhost:8080/"
        },
        "id": "F4gDyrbnzBFO",
        "outputId": "5140e6d4-63be-455e-a687-61de5e9258b6"
      },
      "execution_count": 21,
      "outputs": [
        {
          "output_type": "stream",
          "name": "stdout",
          "text": [
            "This is line A\n",
            "\n",
            "This is line B\n",
            "\n",
            "This is line C\n",
            "\n"
          ]
        }
      ]
    },
    {
      "cell_type": "code",
      "source": [
        "# Verify if writing to file is successfully executed\n",
        "\n",
        "with open('Example2.txt', 'r') as testwritefile:\n",
        "    print(testwritefile.read())"
      ],
      "metadata": {
        "colab": {
          "base_uri": "https://localhost:8080/"
        },
        "id": "ujRI2AzFzD8w",
        "outputId": "39f935b1-ae0a-49d1-d69f-ecb4f1239eb0"
      },
      "execution_count": 22,
      "outputs": [
        {
          "output_type": "stream",
          "name": "stdout",
          "text": [
            "This is line A\n",
            "This is line B\n",
            "This is line C\n",
            "\n"
          ]
        }
      ]
    },
    {
      "cell_type": "code",
      "source": [
        "with open('Example2.txt', 'w') as writefile:\n",
        "    writefile.write(\"Overwrite\\n\")\n",
        "with open('Example2.txt', 'r') as testwritefile:\n",
        "    print(testwritefile.read())"
      ],
      "metadata": {
        "colab": {
          "base_uri": "https://localhost:8080/"
        },
        "id": "Rcu-XuYjzHCH",
        "outputId": "89c0c65b-e500-45d0-8a6b-c42e3ffe9ac8"
      },
      "execution_count": 23,
      "outputs": [
        {
          "output_type": "stream",
          "name": "stdout",
          "text": [
            "Overwrite\n",
            "\n"
          ]
        }
      ]
    },
    {
      "cell_type": "markdown",
      "source": [
        "**Appending Files**"
      ],
      "metadata": {
        "id": "0OevvbeVzWR9"
      }
    },
    {
      "cell_type": "code",
      "source": [
        "# Write a new line to text file\n",
        "\n",
        "with open('Example2.txt', 'a') as testwritefile:\n",
        "    testwritefile.write(\"This is line C\\n\")\n",
        "    testwritefile.write(\"This is line D\\n\")\n",
        "    testwritefile.write(\"This is line E\\n\")"
      ],
      "metadata": {
        "id": "fZwrEXgszYI4"
      },
      "execution_count": 24,
      "outputs": []
    },
    {
      "cell_type": "code",
      "source": [
        "# Verify if the new line is in the text file\n",
        "\n",
        "with open('Example2.txt', 'r') as testwritefile:\n",
        "    print(testwritefile.read())"
      ],
      "metadata": {
        "colab": {
          "base_uri": "https://localhost:8080/"
        },
        "id": "n5KP__A5zbnP",
        "outputId": "e900ac8e-189c-4066-9262-fadd05d37c6f"
      },
      "execution_count": 25,
      "outputs": [
        {
          "output_type": "stream",
          "name": "stdout",
          "text": [
            "Overwrite\n",
            "This is line C\n",
            "This is line D\n",
            "This is line E\n",
            "\n"
          ]
        }
      ]
    },
    {
      "cell_type": "markdown",
      "source": [
        "**Additional modes**"
      ],
      "metadata": {
        "id": "VXNEs3uBzrUY"
      }
    },
    {
      "cell_type": "markdown",
      "source": [
        "It's fairly ineffecient to open the file in a or w and then reopening it in r to read any lines. Luckily we can access the file in the following modes:\n",
        "\n",
        "*   r+ : Reading and writing. Cannot truncate the file.\n",
        "*   w+ : Writing and reading. Truncates the file.\n",
        "*   a+ : Appending and Reading. Creates a new file, if none exists.\n",
        "\n",
        "You dont have to dwell on the specifics of each mode for this lab.\n",
        "\n",
        "\n",
        "\n"
      ],
      "metadata": {
        "id": "Ophlhwjzzv-h"
      }
    },
    {
      "cell_type": "code",
      "source": [
        "with open('Example2.txt', 'a+') as testwritefile:\n",
        "    testwritefile.write(\"This is line E\\n\")\n",
        "    print(testwritefile.read()) # se espera no tener salida ya que el puntero queda al final del archivo tras escribir"
      ],
      "metadata": {
        "colab": {
          "base_uri": "https://localhost:8080/"
        },
        "id": "KR4JBcdDzsix",
        "outputId": "432985d5-21e6-408d-bf26-8bb97873d5ad"
      },
      "execution_count": 28,
      "outputs": [
        {
          "output_type": "stream",
          "name": "stdout",
          "text": [
            "\n"
          ]
        }
      ]
    },
    {
      "cell_type": "code",
      "source": [
        "with open('Example2.txt', 'a+') as testwritefile:\n",
        "    print(\"Initial Location: {}\".format(testwritefile.tell()))\n",
        "    \n",
        "    data = testwritefile.read()\n",
        "    if (not data):  #empty strings return false in python\n",
        "            print('Read nothing') \n",
        "    else: \n",
        "            print(testwritefile.read())\n",
        "            \n",
        "    testwritefile.seek(0,0) # move 0 bytes from beginning.\n",
        "    \n",
        "    print(\"\\nNew Location : {}\".format(testwritefile.tell()))\n",
        "    data = testwritefile.read()\n",
        "    if (not data): \n",
        "            print('Read nothing') \n",
        "    else: \n",
        "            print(data)\n",
        "    \n",
        "    print(\"Location after read: {}\".format(testwritefile.tell()) )"
      ],
      "metadata": {
        "colab": {
          "base_uri": "https://localhost:8080/"
        },
        "id": "SPu6ol5e0xdc",
        "outputId": "aef9cf89-9caf-4eb5-81a3-d05ad6d1d46d"
      },
      "execution_count": 29,
      "outputs": [
        {
          "output_type": "stream",
          "name": "stdout",
          "text": [
            "Initial Location: 100\n",
            "Read nothing\n",
            "\n",
            "New Location : 0\n",
            "Overwrite\n",
            "This is line C\n",
            "This is line D\n",
            "This is line E\n",
            "This is line E\n",
            "This is line E\n",
            "This is line E\n",
            "\n",
            "Location after read: 100\n"
          ]
        }
      ]
    },
    {
      "cell_type": "code",
      "source": [
        "with open('Example2.txt', 'r+') as testwritefile:\n",
        "    data = testwritefile.readlines()\n",
        "    testwritefile.seek(0,0) #write at beginning of file\n",
        "   \n",
        "    testwritefile.write(\"Line 1\" + \"\\n\")\n",
        "    testwritefile.write(\"Line 2\" + \"\\n\")\n",
        "    testwritefile.write(\"Line 3\" + \"\\n\")\n",
        "    testwritefile.write(\"finished\\n\")\n",
        "    #Uncomment the line below\n",
        "    testwritefile.truncate()\n",
        "    testwritefile.seek(0,0)\n",
        "    print(testwritefile.read())"
      ],
      "metadata": {
        "colab": {
          "base_uri": "https://localhost:8080/"
        },
        "id": "nwsv_Y6f1Iyv",
        "outputId": "14f2f973-eddb-483e-f197-3292dde34ab1"
      },
      "execution_count": 33,
      "outputs": [
        {
          "output_type": "stream",
          "name": "stdout",
          "text": [
            "Line 1\n",
            "Line 2\n",
            "Line 3\n",
            "finished\n",
            "\n"
          ]
        }
      ]
    },
    {
      "cell_type": "markdown",
      "source": [
        "**Copy a File**"
      ],
      "metadata": {
        "id": "VRE335Y_1esk"
      }
    },
    {
      "cell_type": "code",
      "source": [
        "# Copy file to another\n",
        "\n",
        "with open('Example2.txt','r') as readfile:\n",
        "    with open('Example3.txt','w') as writefile:\n",
        "          for line in readfile:\n",
        "                writefile.write(line)"
      ],
      "metadata": {
        "id": "WpjsSoh81ff7"
      },
      "execution_count": 34,
      "outputs": []
    },
    {
      "cell_type": "code",
      "source": [
        "# Verify if the copy is successfully executed\n",
        "\n",
        "with open('Example3.txt','r') as testwritefile:\n",
        "    print(testwritefile.read())"
      ],
      "metadata": {
        "colab": {
          "base_uri": "https://localhost:8080/"
        },
        "id": "rW0TkWop1iEn",
        "outputId": "d53e9015-7d91-4f7b-ae57-e175aa36de16"
      },
      "execution_count": 35,
      "outputs": [
        {
          "output_type": "stream",
          "name": "stdout",
          "text": [
            "Line 1\n",
            "Line 2\n",
            "Line 3\n",
            "finished\n",
            "\n"
          ]
        }
      ]
    },
    {
      "cell_type": "markdown",
      "source": [
        "**Exercise **"
      ],
      "metadata": {
        "id": "jixDh3no16JV"
      }
    },
    {
      "cell_type": "code",
      "source": [
        "#Run this prior to starting the exercise\n",
        "from random import randint as rnd\n",
        "\n",
        "memReg = 'members.txt'\n",
        "exReg = 'inactive.txt'\n",
        "fee =('yes','no')\n",
        "\n",
        "def genFiles(current,old):\n",
        "    with open(current,'w+') as writefile: \n",
        "        writefile.write('Membership No  Date Joined  Active  \\n')\n",
        "        data = \"{:^13}  {:<11}  {:<6}\\n\"\n",
        "\n",
        "        for rowno in range(20):\n",
        "            date = str(rnd(2015,2020))+ '-' + str(rnd(1,12))+'-'+str(rnd(1,25))\n",
        "            writefile.write(data.format(rnd(10000,99999),date,fee[rnd(0,1)]))\n",
        "\n",
        "\n",
        "    with open(old,'w+') as writefile: \n",
        "        writefile.write('Membership No  Date Joined  Active  \\n')\n",
        "        data = \"{:^13}  {:<11}  {:<6}\\n\"\n",
        "        for rowno in range(3):\n",
        "            date = str(rnd(2015,2020))+ '-' + str(rnd(1,12))+'-'+str(rnd(1,25))\n",
        "            writefile.write(data.format(rnd(10000,99999),date,fee[1]))\n",
        "\n",
        "\n",
        "genFiles(memReg,exReg)"
      ],
      "metadata": {
        "id": "NYAsKHhj1-cl"
      },
      "execution_count": 40,
      "outputs": []
    },
    {
      "cell_type": "code",
      "source": [
        "'''\n",
        "The two arguments for this function are the files:\n",
        "    - currentMem: File containing list of current members\n",
        "    - exMem: File containing list of old members\n",
        "    \n",
        "    This function should remove all rows from currentMem containing 'no' \n",
        "    in the 'Active' column and appends them to exMem.\n",
        "    '''\n",
        "def cleanFiles(currentMem, exMem):\n",
        "    # TODO: Open the currentMem file as in r+ mode\n",
        "    with open(currentMem,'r+') as writeFile: \n",
        "        #TODO: Open the exMem file in a+ mode\n",
        "        with open(exMem,'a+') as appendFile:\n",
        "        #TODO: Read each member in the currentMem (1 member per row) file into a list.\n",
        "        # Hint: Recall that the first line in the file is the header.\n",
        "          writeFile.seek(0)\n",
        "          members = writeFile.readlines()\n",
        "          header = members[0]\n",
        "          members.pop(0)\n",
        "\n",
        "        #TODO: iterate through the members and create a new list of the innactive members\n",
        "          inactive = []\n",
        "          for member in members:\n",
        "            if 'no' in member:\n",
        "              inactive.append(member)\n",
        "\n",
        "        # Go to the beginning of the currentMem file\n",
        "        # TODO: Iterate through the members list. \n",
        "        # If a member is inactive, add them to exMem, otherwise write them into currentMem\n",
        "          writeFile.seek(0) \n",
        "          writeFile.write(header)\n",
        "          for member in members:\n",
        "              if (member in inactive):\n",
        "                  appendFile.write(member)\n",
        "              else:\n",
        "                  writeFile.write(member)      \n",
        "          writeFile.truncate()\n",
        "\n",
        "# The code below is to help you view the files.\n",
        "# Do not modify this code for this exercise.\n",
        "memReg = 'members.txt'\n",
        "exReg = 'inactive.txt'\n",
        "cleanFiles(memReg,exReg)\n",
        "\n",
        "\n",
        "headers = \"Membership No  Date Joined  Active  \\n\"\n",
        "with open(memReg,'r') as readFile:\n",
        "    print(\"Active Members: \\n\\n\")\n",
        "    print(readFile.read())\n",
        "    \n",
        "with open(exReg,'r') as readFile:\n",
        "    print(\"Inactive Members: \\n\\n\")\n",
        "    print(readFile.read())"
      ],
      "metadata": {
        "colab": {
          "base_uri": "https://localhost:8080/"
        },
        "id": "HnRi_tdC17lE",
        "outputId": "a5c24490-802d-4100-ff46-fc3d5419be16"
      },
      "execution_count": 42,
      "outputs": [
        {
          "output_type": "stream",
          "name": "stdout",
          "text": [
            "Active Members: \n",
            "\n",
            "\n",
            "Membership No  Date Joined  Active  \n",
            "    97848      2019-11-7    yes   \n",
            "    88358      2015-5-13    yes   \n",
            "    39822      2020-9-14    yes   \n",
            "    10548      2016-12-19   yes   \n",
            "    78826      2018-3-23    yes   \n",
            "    28298      2019-3-20    yes   \n",
            "    96680      2020-8-10    yes   \n",
            "    92402      2016-11-17   yes   \n",
            "    81144      2018-11-8    yes   \n",
            "\n",
            "Inactive Members: \n",
            "\n",
            "\n",
            "Membership No  Date Joined  Active  \n",
            "    66142      2016-10-15   no    \n",
            "    58981      2016-1-22    no    \n",
            "    35835      2016-5-12    no    \n",
            "    75235      2016-11-22   no    \n",
            "    75235      2016-11-22   no    \n",
            "    24006      2017-2-18    no    \n",
            "    75235      2016-11-22   no    \n",
            "    24006      2017-2-18    no    \n",
            "    83827      2018-7-19    no    \n",
            "    75235      2016-11-22   no    \n",
            "    24006      2017-2-18    no    \n",
            "    83827      2018-7-19    no    \n",
            "    27253      2018-10-15   no    \n",
            "    75235      2016-11-22   no    \n",
            "    24006      2017-2-18    no    \n",
            "    83827      2018-7-19    no    \n",
            "    27253      2018-10-15   no    \n",
            "    75235      2016-11-22   no    \n",
            "    24006      2017-2-18    no    \n",
            "    83827      2018-7-19    no    \n",
            "    27253      2018-10-15   no    \n",
            "    75235      2016-11-22   no    \n",
            "    24006      2017-2-18    no    \n",
            "    83827      2018-7-19    no    \n",
            "    27253      2018-10-15   no    \n",
            "    45197      2018-3-6     no    \n",
            "    75235      2016-11-22   no    \n",
            "    24006      2017-2-18    no    \n",
            "    83827      2018-7-19    no    \n",
            "    27253      2018-10-15   no    \n",
            "    45197      2018-3-6     no    \n",
            "    11607      2018-5-17    no    \n",
            "    75235      2016-11-22   no    \n",
            "    24006      2017-2-18    no    \n",
            "    83827      2018-7-19    no    \n",
            "    27253      2018-10-15   no    \n",
            "    45197      2018-3-6     no    \n",
            "    11607      2018-5-17    no    \n",
            "    21818      2020-9-19    no    \n",
            "    75235      2016-11-22   no    \n",
            "    24006      2017-2-18    no    \n",
            "    83827      2018-7-19    no    \n",
            "    27253      2018-10-15   no    \n",
            "    45197      2018-3-6     no    \n",
            "    11607      2018-5-17    no    \n",
            "    21818      2020-9-19    no    \n",
            "    75235      2016-11-22   no    \n",
            "    24006      2017-2-18    no    \n",
            "    83827      2018-7-19    no    \n",
            "    27253      2018-10-15   no    \n",
            "    45197      2018-3-6     no    \n",
            "    11607      2018-5-17    no    \n",
            "    21818      2020-9-19    no    \n",
            "    15074      2016-11-22   no    \n",
            "    75235      2016-11-22   no    \n",
            "    24006      2017-2-18    no    \n",
            "    83827      2018-7-19    no    \n",
            "    27253      2018-10-15   no    \n",
            "    45197      2018-3-6     no    \n",
            "    11607      2018-5-17    no    \n",
            "    21818      2020-9-19    no    \n",
            "    15074      2016-11-22   no    \n",
            "    75235      2016-11-22   no    \n",
            "    24006      2017-2-18    no    \n",
            "    83827      2018-7-19    no    \n",
            "    27253      2018-10-15   no    \n",
            "    45197      2018-3-6     no    \n",
            "    11607      2018-5-17    no    \n",
            "    21818      2020-9-19    no    \n",
            "    15074      2016-11-22   no    \n",
            "    29223      2016-8-14    no    \n",
            "    75235      2016-11-22   no    \n",
            "    24006      2017-2-18    no    \n",
            "    83827      2018-7-19    no    \n",
            "    27253      2018-10-15   no    \n",
            "    45197      2018-3-6     no    \n",
            "    11607      2018-5-17    no    \n",
            "    21818      2020-9-19    no    \n",
            "    15074      2016-11-22   no    \n",
            "    29223      2016-8-14    no    \n",
            "    77762      2017-7-5     no    \n",
            "    75235      2016-11-22   no    \n",
            "    24006      2017-2-18    no    \n",
            "    83827      2018-7-19    no    \n",
            "    27253      2018-10-15   no    \n",
            "    45197      2018-3-6     no    \n",
            "    11607      2018-5-17    no    \n",
            "    21818      2020-9-19    no    \n",
            "    15074      2016-11-22   no    \n",
            "    29223      2016-8-14    no    \n",
            "    77762      2017-7-5     no    \n",
            "    75235      2016-11-22   no    \n",
            "    24006      2017-2-18    no    \n",
            "    83827      2018-7-19    no    \n",
            "    27253      2018-10-15   no    \n",
            "    45197      2018-3-6     no    \n",
            "    11607      2018-5-17    no    \n",
            "    21818      2020-9-19    no    \n",
            "    15074      2016-11-22   no    \n",
            "    29223      2016-8-14    no    \n",
            "    77762      2017-7-5     no    \n",
            "    86731      2019-6-10    no    \n",
            "    75235      2016-11-22   no    \n",
            "    24006      2017-2-18    no    \n",
            "    83827      2018-7-19    no    \n",
            "    27253      2018-10-15   no    \n",
            "    45197      2018-3-6     no    \n",
            "    11607      2018-5-17    no    \n",
            "    21818      2020-9-19    no    \n",
            "    15074      2016-11-22   no    \n",
            "    29223      2016-8-14    no    \n",
            "    77762      2017-7-5     no    \n",
            "    86731      2019-6-10    no    \n",
            "    75235      2016-11-22   no    \n",
            "    24006      2017-2-18    no    \n",
            "    83827      2018-7-19    no    \n",
            "    27253      2018-10-15   no    \n",
            "    45197      2018-3-6     no    \n",
            "    11607      2018-5-17    no    \n",
            "    21818      2020-9-19    no    \n",
            "    15074      2016-11-22   no    \n",
            "    29223      2016-8-14    no    \n",
            "    77762      2017-7-5     no    \n",
            "    86731      2019-6-10    no    \n",
            "    75235      2016-11-22   no    \n",
            "    24006      2017-2-18    no    \n",
            "    83827      2018-7-19    no    \n",
            "    27253      2018-10-15   no    \n",
            "    45197      2018-3-6     no    \n",
            "    11607      2018-5-17    no    \n",
            "    21818      2020-9-19    no    \n",
            "    15074      2016-11-22   no    \n",
            "    29223      2016-8-14    no    \n",
            "    77762      2017-7-5     no    \n",
            "    86731      2019-6-10    no    \n",
            "    75235      2016-11-22   no    \n",
            "    24006      2017-2-18    no    \n",
            "    83827      2018-7-19    no    \n",
            "    27253      2018-10-15   no    \n",
            "    45197      2018-3-6     no    \n",
            "    11607      2018-5-17    no    \n",
            "    21818      2020-9-19    no    \n",
            "    15074      2016-11-22   no    \n",
            "    29223      2016-8-14    no    \n",
            "    77762      2017-7-5     no    \n",
            "    86731      2019-6-10    no    \n",
            "\n"
          ]
        }
      ]
    },
    {
      "cell_type": "code",
      "source": [
        "# Code to verify the given solution\n",
        "\n",
        "def testMsg(passed):\n",
        "    if passed:\n",
        "       return 'Test Passed'\n",
        "    else :\n",
        "       return 'Test Failed'\n",
        "\n",
        "testWrite = \"testWrite.txt\"\n",
        "testAppend = \"testAppend.txt\" \n",
        "passed = True\n",
        "\n",
        "genFiles(testWrite,testAppend)\n",
        "\n",
        "with open(testWrite,'r') as file:\n",
        "    ogWrite = file.readlines()\n",
        "\n",
        "with open(testAppend,'r') as file:\n",
        "    ogAppend = file.readlines()\n",
        "\n",
        "try:\n",
        "    cleanFiles(testWrite,testAppend)\n",
        "except:\n",
        "    print('Error')\n",
        "\n",
        "with open(testWrite,'r') as file:\n",
        "    clWrite = file.readlines()\n",
        "\n",
        "with open(testAppend,'r') as file:\n",
        "    clAppend = file.readlines()\n",
        "        \n",
        "# checking if total no of rows is same, including headers\n",
        "\n",
        "if (len(ogWrite) + len(ogAppend) != len(clWrite) + len(clAppend)):\n",
        "    print(\"The number of rows do not add up. Make sure your final files have the same header and format.\")\n",
        "    passed = False\n",
        "    \n",
        "for line in clWrite:\n",
        "    if  'no' in line:\n",
        "        passed = False\n",
        "        print(\"Inactive members in file\")\n",
        "        break\n",
        "    else:\n",
        "        if line not in ogWrite:\n",
        "            print(\"Data in file does not match original file\")\n",
        "            passed = False\n",
        "print (\"{}\".format(testMsg(passed)))"
      ],
      "metadata": {
        "colab": {
          "base_uri": "https://localhost:8080/"
        },
        "id": "AEyzuu4W3aOn",
        "outputId": "43ae008d-8ca8-45cb-bba0-0e387b7c264e"
      },
      "execution_count": 43,
      "outputs": [
        {
          "output_type": "stream",
          "name": "stdout",
          "text": [
            "Test Passed\n"
          ]
        }
      ]
    },
    {
      "cell_type": "markdown",
      "source": [
        "**---------- FIN DE LAB 4-02 ---------**"
      ],
      "metadata": {
        "id": "5BWxa7q648St"
      }
    },
    {
      "cell_type": "markdown",
      "source": [
        "**---------- INICIO DE LAB 4-03 ---------**"
      ],
      "metadata": {
        "id": "wNepU2F55JvU"
      }
    },
    {
      "cell_type": "code",
      "source": [
        "import pandas as pd\n",
        "\n",
        "df=pd.DataFrame({'a':[11,21,31],'b':[21,22,23]})"
      ],
      "metadata": {
        "id": "PYTRTrxXmijI"
      },
      "execution_count": 1,
      "outputs": []
    },
    {
      "cell_type": "code",
      "source": [
        "df.head(3)"
      ],
      "metadata": {
        "colab": {
          "base_uri": "https://localhost:8080/",
          "height": 143
        },
        "id": "JA1b_uTDmo98",
        "outputId": "684b5e12-522b-4a12-f76e-700ad497c6f6"
      },
      "execution_count": 2,
      "outputs": [
        {
          "output_type": "execute_result",
          "data": {
            "text/plain": [
              "    a   b\n",
              "0  11  21\n",
              "1  21  22\n",
              "2  31  23"
            ],
            "text/html": [
              "\n",
              "  <div id=\"df-4c8a71e6-ae01-4858-84e2-06e8dabe196a\">\n",
              "    <div class=\"colab-df-container\">\n",
              "      <div>\n",
              "<style scoped>\n",
              "    .dataframe tbody tr th:only-of-type {\n",
              "        vertical-align: middle;\n",
              "    }\n",
              "\n",
              "    .dataframe tbody tr th {\n",
              "        vertical-align: top;\n",
              "    }\n",
              "\n",
              "    .dataframe thead th {\n",
              "        text-align: right;\n",
              "    }\n",
              "</style>\n",
              "<table border=\"1\" class=\"dataframe\">\n",
              "  <thead>\n",
              "    <tr style=\"text-align: right;\">\n",
              "      <th></th>\n",
              "      <th>a</th>\n",
              "      <th>b</th>\n",
              "    </tr>\n",
              "  </thead>\n",
              "  <tbody>\n",
              "    <tr>\n",
              "      <th>0</th>\n",
              "      <td>11</td>\n",
              "      <td>21</td>\n",
              "    </tr>\n",
              "    <tr>\n",
              "      <th>1</th>\n",
              "      <td>21</td>\n",
              "      <td>22</td>\n",
              "    </tr>\n",
              "    <tr>\n",
              "      <th>2</th>\n",
              "      <td>31</td>\n",
              "      <td>23</td>\n",
              "    </tr>\n",
              "  </tbody>\n",
              "</table>\n",
              "</div>\n",
              "      <button class=\"colab-df-convert\" onclick=\"convertToInteractive('df-4c8a71e6-ae01-4858-84e2-06e8dabe196a')\"\n",
              "              title=\"Convert this dataframe to an interactive table.\"\n",
              "              style=\"display:none;\">\n",
              "        \n",
              "  <svg xmlns=\"http://www.w3.org/2000/svg\" height=\"24px\"viewBox=\"0 0 24 24\"\n",
              "       width=\"24px\">\n",
              "    <path d=\"M0 0h24v24H0V0z\" fill=\"none\"/>\n",
              "    <path d=\"M18.56 5.44l.94 2.06.94-2.06 2.06-.94-2.06-.94-.94-2.06-.94 2.06-2.06.94zm-11 1L8.5 8.5l.94-2.06 2.06-.94-2.06-.94L8.5 2.5l-.94 2.06-2.06.94zm10 10l.94 2.06.94-2.06 2.06-.94-2.06-.94-.94-2.06-.94 2.06-2.06.94z\"/><path d=\"M17.41 7.96l-1.37-1.37c-.4-.4-.92-.59-1.43-.59-.52 0-1.04.2-1.43.59L10.3 9.45l-7.72 7.72c-.78.78-.78 2.05 0 2.83L4 21.41c.39.39.9.59 1.41.59.51 0 1.02-.2 1.41-.59l7.78-7.78 2.81-2.81c.8-.78.8-2.07 0-2.86zM5.41 20L4 18.59l7.72-7.72 1.47 1.35L5.41 20z\"/>\n",
              "  </svg>\n",
              "      </button>\n",
              "      \n",
              "  <style>\n",
              "    .colab-df-container {\n",
              "      display:flex;\n",
              "      flex-wrap:wrap;\n",
              "      gap: 12px;\n",
              "    }\n",
              "\n",
              "    .colab-df-convert {\n",
              "      background-color: #E8F0FE;\n",
              "      border: none;\n",
              "      border-radius: 50%;\n",
              "      cursor: pointer;\n",
              "      display: none;\n",
              "      fill: #1967D2;\n",
              "      height: 32px;\n",
              "      padding: 0 0 0 0;\n",
              "      width: 32px;\n",
              "    }\n",
              "\n",
              "    .colab-df-convert:hover {\n",
              "      background-color: #E2EBFA;\n",
              "      box-shadow: 0px 1px 2px rgba(60, 64, 67, 0.3), 0px 1px 3px 1px rgba(60, 64, 67, 0.15);\n",
              "      fill: #174EA6;\n",
              "    }\n",
              "\n",
              "    [theme=dark] .colab-df-convert {\n",
              "      background-color: #3B4455;\n",
              "      fill: #D2E3FC;\n",
              "    }\n",
              "\n",
              "    [theme=dark] .colab-df-convert:hover {\n",
              "      background-color: #434B5C;\n",
              "      box-shadow: 0px 1px 3px 1px rgba(0, 0, 0, 0.15);\n",
              "      filter: drop-shadow(0px 1px 2px rgba(0, 0, 0, 0.3));\n",
              "      fill: #FFFFFF;\n",
              "    }\n",
              "  </style>\n",
              "\n",
              "      <script>\n",
              "        const buttonEl =\n",
              "          document.querySelector('#df-4c8a71e6-ae01-4858-84e2-06e8dabe196a button.colab-df-convert');\n",
              "        buttonEl.style.display =\n",
              "          google.colab.kernel.accessAllowed ? 'block' : 'none';\n",
              "\n",
              "        async function convertToInteractive(key) {\n",
              "          const element = document.querySelector('#df-4c8a71e6-ae01-4858-84e2-06e8dabe196a');\n",
              "          const dataTable =\n",
              "            await google.colab.kernel.invokeFunction('convertToInteractive',\n",
              "                                                     [key], {});\n",
              "          if (!dataTable) return;\n",
              "\n",
              "          const docLinkHtml = 'Like what you see? Visit the ' +\n",
              "            '<a target=\"_blank\" href=https://colab.research.google.com/notebooks/data_table.ipynb>data table notebook</a>'\n",
              "            + ' to learn more about interactive tables.';\n",
              "          element.innerHTML = '';\n",
              "          dataTable['output_type'] = 'display_data';\n",
              "          await google.colab.output.renderOutput(dataTable, element);\n",
              "          const docLink = document.createElement('div');\n",
              "          docLink.innerHTML = docLinkHtml;\n",
              "          element.appendChild(docLink);\n",
              "        }\n",
              "      </script>\n",
              "    </div>\n",
              "  </div>\n",
              "  "
            ]
          },
          "metadata": {},
          "execution_count": 2
        }
      ]
    },
    {
      "cell_type": "code",
      "source": [
        "df['a']"
      ],
      "metadata": {
        "colab": {
          "base_uri": "https://localhost:8080/"
        },
        "id": "hElS02y9msBk",
        "outputId": "a941bdcd-cf42-4bd0-fec1-88485d42e482"
      },
      "execution_count": 3,
      "outputs": [
        {
          "output_type": "execute_result",
          "data": {
            "text/plain": [
              "0    11\n",
              "1    21\n",
              "2    31\n",
              "Name: a, dtype: int64"
            ]
          },
          "metadata": {},
          "execution_count": 3
        }
      ]
    },
    {
      "cell_type": "code",
      "source": [
        "# Read data from CSV file\n",
        "\n",
        "csv_path = 'https://cf-courses-data.s3.us.cloud-object-storage.appdomain.cloud/IBMDeveloperSkillsNetwork-PY0101EN-SkillsNetwork/labs/Module%204/data/TopSellingAlbums.csv'\n",
        "df = pd.read_csv(csv_path)\n"
      ],
      "metadata": {
        "id": "pFEPH3ai5_GZ"
      },
      "execution_count": 44,
      "outputs": []
    },
    {
      "cell_type": "code",
      "source": [
        "# Print first five rows of the dataframe\n",
        "\n",
        "df.head()"
      ],
      "metadata": {
        "colab": {
          "base_uri": "https://localhost:8080/",
          "height": 424
        },
        "id": "auAnasA56OhN",
        "outputId": "88011e2c-548d-46e9-d04a-a12ca2a39f31"
      },
      "execution_count": 45,
      "outputs": [
        {
          "output_type": "execute_result",
          "data": {
            "text/plain": [
              "            Artist                      Album  Released   Length  \\\n",
              "0  Michael Jackson                   Thriller      1982  0:42:19   \n",
              "1            AC/DC              Back in Black      1980  0:42:11   \n",
              "2       Pink Floyd  The Dark Side of the Moon      1973  0:42:49   \n",
              "3  Whitney Houston              The Bodyguard      1992  0:57:44   \n",
              "4        Meat Loaf            Bat Out of Hell      1977  0:46:33   \n",
              "\n",
              "                         Genre  Music Recording Sales (millions)  \\\n",
              "0               pop, rock, R&B                              46.0   \n",
              "1                    hard rock                              26.1   \n",
              "2             progressive rock                              24.2   \n",
              "3               R&B, soul, pop                              27.4   \n",
              "4  hard rock, progressive rock                              20.6   \n",
              "\n",
              "   Claimed Sales (millions) Released.1 Soundtrack  Rating  \n",
              "0                        65  30-Nov-82        NaN    10.0  \n",
              "1                        50  25-Jul-80        NaN     9.5  \n",
              "2                        45  01-Mar-73        NaN     9.0  \n",
              "3                        44  17-Nov-92          Y     8.5  \n",
              "4                        43  21-Oct-77        NaN     8.0  "
            ],
            "text/html": [
              "\n",
              "  <div id=\"df-0c241978-e815-4cd3-9bb3-e40e6f6b4e40\">\n",
              "    <div class=\"colab-df-container\">\n",
              "      <div>\n",
              "<style scoped>\n",
              "    .dataframe tbody tr th:only-of-type {\n",
              "        vertical-align: middle;\n",
              "    }\n",
              "\n",
              "    .dataframe tbody tr th {\n",
              "        vertical-align: top;\n",
              "    }\n",
              "\n",
              "    .dataframe thead th {\n",
              "        text-align: right;\n",
              "    }\n",
              "</style>\n",
              "<table border=\"1\" class=\"dataframe\">\n",
              "  <thead>\n",
              "    <tr style=\"text-align: right;\">\n",
              "      <th></th>\n",
              "      <th>Artist</th>\n",
              "      <th>Album</th>\n",
              "      <th>Released</th>\n",
              "      <th>Length</th>\n",
              "      <th>Genre</th>\n",
              "      <th>Music Recording Sales (millions)</th>\n",
              "      <th>Claimed Sales (millions)</th>\n",
              "      <th>Released.1</th>\n",
              "      <th>Soundtrack</th>\n",
              "      <th>Rating</th>\n",
              "    </tr>\n",
              "  </thead>\n",
              "  <tbody>\n",
              "    <tr>\n",
              "      <th>0</th>\n",
              "      <td>Michael Jackson</td>\n",
              "      <td>Thriller</td>\n",
              "      <td>1982</td>\n",
              "      <td>0:42:19</td>\n",
              "      <td>pop, rock, R&amp;B</td>\n",
              "      <td>46.0</td>\n",
              "      <td>65</td>\n",
              "      <td>30-Nov-82</td>\n",
              "      <td>NaN</td>\n",
              "      <td>10.0</td>\n",
              "    </tr>\n",
              "    <tr>\n",
              "      <th>1</th>\n",
              "      <td>AC/DC</td>\n",
              "      <td>Back in Black</td>\n",
              "      <td>1980</td>\n",
              "      <td>0:42:11</td>\n",
              "      <td>hard rock</td>\n",
              "      <td>26.1</td>\n",
              "      <td>50</td>\n",
              "      <td>25-Jul-80</td>\n",
              "      <td>NaN</td>\n",
              "      <td>9.5</td>\n",
              "    </tr>\n",
              "    <tr>\n",
              "      <th>2</th>\n",
              "      <td>Pink Floyd</td>\n",
              "      <td>The Dark Side of the Moon</td>\n",
              "      <td>1973</td>\n",
              "      <td>0:42:49</td>\n",
              "      <td>progressive rock</td>\n",
              "      <td>24.2</td>\n",
              "      <td>45</td>\n",
              "      <td>01-Mar-73</td>\n",
              "      <td>NaN</td>\n",
              "      <td>9.0</td>\n",
              "    </tr>\n",
              "    <tr>\n",
              "      <th>3</th>\n",
              "      <td>Whitney Houston</td>\n",
              "      <td>The Bodyguard</td>\n",
              "      <td>1992</td>\n",
              "      <td>0:57:44</td>\n",
              "      <td>R&amp;B, soul, pop</td>\n",
              "      <td>27.4</td>\n",
              "      <td>44</td>\n",
              "      <td>17-Nov-92</td>\n",
              "      <td>Y</td>\n",
              "      <td>8.5</td>\n",
              "    </tr>\n",
              "    <tr>\n",
              "      <th>4</th>\n",
              "      <td>Meat Loaf</td>\n",
              "      <td>Bat Out of Hell</td>\n",
              "      <td>1977</td>\n",
              "      <td>0:46:33</td>\n",
              "      <td>hard rock, progressive rock</td>\n",
              "      <td>20.6</td>\n",
              "      <td>43</td>\n",
              "      <td>21-Oct-77</td>\n",
              "      <td>NaN</td>\n",
              "      <td>8.0</td>\n",
              "    </tr>\n",
              "  </tbody>\n",
              "</table>\n",
              "</div>\n",
              "      <button class=\"colab-df-convert\" onclick=\"convertToInteractive('df-0c241978-e815-4cd3-9bb3-e40e6f6b4e40')\"\n",
              "              title=\"Convert this dataframe to an interactive table.\"\n",
              "              style=\"display:none;\">\n",
              "        \n",
              "  <svg xmlns=\"http://www.w3.org/2000/svg\" height=\"24px\"viewBox=\"0 0 24 24\"\n",
              "       width=\"24px\">\n",
              "    <path d=\"M0 0h24v24H0V0z\" fill=\"none\"/>\n",
              "    <path d=\"M18.56 5.44l.94 2.06.94-2.06 2.06-.94-2.06-.94-.94-2.06-.94 2.06-2.06.94zm-11 1L8.5 8.5l.94-2.06 2.06-.94-2.06-.94L8.5 2.5l-.94 2.06-2.06.94zm10 10l.94 2.06.94-2.06 2.06-.94-2.06-.94-.94-2.06-.94 2.06-2.06.94z\"/><path d=\"M17.41 7.96l-1.37-1.37c-.4-.4-.92-.59-1.43-.59-.52 0-1.04.2-1.43.59L10.3 9.45l-7.72 7.72c-.78.78-.78 2.05 0 2.83L4 21.41c.39.39.9.59 1.41.59.51 0 1.02-.2 1.41-.59l7.78-7.78 2.81-2.81c.8-.78.8-2.07 0-2.86zM5.41 20L4 18.59l7.72-7.72 1.47 1.35L5.41 20z\"/>\n",
              "  </svg>\n",
              "      </button>\n",
              "      \n",
              "  <style>\n",
              "    .colab-df-container {\n",
              "      display:flex;\n",
              "      flex-wrap:wrap;\n",
              "      gap: 12px;\n",
              "    }\n",
              "\n",
              "    .colab-df-convert {\n",
              "      background-color: #E8F0FE;\n",
              "      border: none;\n",
              "      border-radius: 50%;\n",
              "      cursor: pointer;\n",
              "      display: none;\n",
              "      fill: #1967D2;\n",
              "      height: 32px;\n",
              "      padding: 0 0 0 0;\n",
              "      width: 32px;\n",
              "    }\n",
              "\n",
              "    .colab-df-convert:hover {\n",
              "      background-color: #E2EBFA;\n",
              "      box-shadow: 0px 1px 2px rgba(60, 64, 67, 0.3), 0px 1px 3px 1px rgba(60, 64, 67, 0.15);\n",
              "      fill: #174EA6;\n",
              "    }\n",
              "\n",
              "    [theme=dark] .colab-df-convert {\n",
              "      background-color: #3B4455;\n",
              "      fill: #D2E3FC;\n",
              "    }\n",
              "\n",
              "    [theme=dark] .colab-df-convert:hover {\n",
              "      background-color: #434B5C;\n",
              "      box-shadow: 0px 1px 3px 1px rgba(0, 0, 0, 0.15);\n",
              "      filter: drop-shadow(0px 1px 2px rgba(0, 0, 0, 0.3));\n",
              "      fill: #FFFFFF;\n",
              "    }\n",
              "  </style>\n",
              "\n",
              "      <script>\n",
              "        const buttonEl =\n",
              "          document.querySelector('#df-0c241978-e815-4cd3-9bb3-e40e6f6b4e40 button.colab-df-convert');\n",
              "        buttonEl.style.display =\n",
              "          google.colab.kernel.accessAllowed ? 'block' : 'none';\n",
              "\n",
              "        async function convertToInteractive(key) {\n",
              "          const element = document.querySelector('#df-0c241978-e815-4cd3-9bb3-e40e6f6b4e40');\n",
              "          const dataTable =\n",
              "            await google.colab.kernel.invokeFunction('convertToInteractive',\n",
              "                                                     [key], {});\n",
              "          if (!dataTable) return;\n",
              "\n",
              "          const docLinkHtml = 'Like what you see? Visit the ' +\n",
              "            '<a target=\"_blank\" href=https://colab.research.google.com/notebooks/data_table.ipynb>data table notebook</a>'\n",
              "            + ' to learn more about interactive tables.';\n",
              "          element.innerHTML = '';\n",
              "          dataTable['output_type'] = 'display_data';\n",
              "          await google.colab.output.renderOutput(dataTable, element);\n",
              "          const docLink = document.createElement('div');\n",
              "          docLink.innerHTML = docLinkHtml;\n",
              "          element.appendChild(docLink);\n",
              "        }\n",
              "      </script>\n",
              "    </div>\n",
              "  </div>\n",
              "  "
            ]
          },
          "metadata": {},
          "execution_count": 45
        }
      ]
    },
    {
      "cell_type": "code",
      "source": [
        "# Read data from Excel File and print the first five rows\n",
        "\n",
        "xlsx_path = 'https://s3-api.us-geo.objectstorage.softlayer.net/cf-courses-data/CognitiveClass/PY0101EN/Chapter%204/Datasets/TopSellingAlbums.xlsx'\n",
        "\n",
        "df = pd.read_excel(xlsx_path)\n",
        "df.head()"
      ],
      "metadata": {
        "colab": {
          "base_uri": "https://localhost:8080/",
          "height": 424
        },
        "id": "5fs4dvtk6SuK",
        "outputId": "db0607c6-a182-41af-e15a-7fd0a48d12a5"
      },
      "execution_count": 48,
      "outputs": [
        {
          "output_type": "execute_result",
          "data": {
            "text/plain": [
              "            Artist                      Album  Released    Length  \\\n",
              "0  Michael Jackson                   Thriller      1982  00:42:19   \n",
              "1            AC/DC              Back in Black      1980  00:42:11   \n",
              "2       Pink Floyd  The Dark Side of the Moon      1973  00:42:49   \n",
              "3  Whitney Houston              The Bodyguard      1992  00:57:44   \n",
              "4        Meat Loaf            Bat Out of Hell      1977  00:46:33   \n",
              "\n",
              "                         Genre  Music Recording Sales (millions)  \\\n",
              "0               pop, rock, R&B                              46.0   \n",
              "1                    hard rock                              26.1   \n",
              "2             progressive rock                              24.2   \n",
              "3               R&B, soul, pop                              27.4   \n",
              "4  hard rock, progressive rock                              20.6   \n",
              "\n",
              "   Claimed Sales (millions) Released.1 Soundtrack  Rating  \n",
              "0                        65 1982-11-30        NaN    10.0  \n",
              "1                        50 1980-07-25        NaN     9.5  \n",
              "2                        45 1973-03-01        NaN     9.0  \n",
              "3                        44 1992-11-17          Y     8.5  \n",
              "4                        43 1977-10-21        NaN     8.0  "
            ],
            "text/html": [
              "\n",
              "  <div id=\"df-f8ca1e9b-b9fc-44af-b5e7-245120d95713\">\n",
              "    <div class=\"colab-df-container\">\n",
              "      <div>\n",
              "<style scoped>\n",
              "    .dataframe tbody tr th:only-of-type {\n",
              "        vertical-align: middle;\n",
              "    }\n",
              "\n",
              "    .dataframe tbody tr th {\n",
              "        vertical-align: top;\n",
              "    }\n",
              "\n",
              "    .dataframe thead th {\n",
              "        text-align: right;\n",
              "    }\n",
              "</style>\n",
              "<table border=\"1\" class=\"dataframe\">\n",
              "  <thead>\n",
              "    <tr style=\"text-align: right;\">\n",
              "      <th></th>\n",
              "      <th>Artist</th>\n",
              "      <th>Album</th>\n",
              "      <th>Released</th>\n",
              "      <th>Length</th>\n",
              "      <th>Genre</th>\n",
              "      <th>Music Recording Sales (millions)</th>\n",
              "      <th>Claimed Sales (millions)</th>\n",
              "      <th>Released.1</th>\n",
              "      <th>Soundtrack</th>\n",
              "      <th>Rating</th>\n",
              "    </tr>\n",
              "  </thead>\n",
              "  <tbody>\n",
              "    <tr>\n",
              "      <th>0</th>\n",
              "      <td>Michael Jackson</td>\n",
              "      <td>Thriller</td>\n",
              "      <td>1982</td>\n",
              "      <td>00:42:19</td>\n",
              "      <td>pop, rock, R&amp;B</td>\n",
              "      <td>46.0</td>\n",
              "      <td>65</td>\n",
              "      <td>1982-11-30</td>\n",
              "      <td>NaN</td>\n",
              "      <td>10.0</td>\n",
              "    </tr>\n",
              "    <tr>\n",
              "      <th>1</th>\n",
              "      <td>AC/DC</td>\n",
              "      <td>Back in Black</td>\n",
              "      <td>1980</td>\n",
              "      <td>00:42:11</td>\n",
              "      <td>hard rock</td>\n",
              "      <td>26.1</td>\n",
              "      <td>50</td>\n",
              "      <td>1980-07-25</td>\n",
              "      <td>NaN</td>\n",
              "      <td>9.5</td>\n",
              "    </tr>\n",
              "    <tr>\n",
              "      <th>2</th>\n",
              "      <td>Pink Floyd</td>\n",
              "      <td>The Dark Side of the Moon</td>\n",
              "      <td>1973</td>\n",
              "      <td>00:42:49</td>\n",
              "      <td>progressive rock</td>\n",
              "      <td>24.2</td>\n",
              "      <td>45</td>\n",
              "      <td>1973-03-01</td>\n",
              "      <td>NaN</td>\n",
              "      <td>9.0</td>\n",
              "    </tr>\n",
              "    <tr>\n",
              "      <th>3</th>\n",
              "      <td>Whitney Houston</td>\n",
              "      <td>The Bodyguard</td>\n",
              "      <td>1992</td>\n",
              "      <td>00:57:44</td>\n",
              "      <td>R&amp;B, soul, pop</td>\n",
              "      <td>27.4</td>\n",
              "      <td>44</td>\n",
              "      <td>1992-11-17</td>\n",
              "      <td>Y</td>\n",
              "      <td>8.5</td>\n",
              "    </tr>\n",
              "    <tr>\n",
              "      <th>4</th>\n",
              "      <td>Meat Loaf</td>\n",
              "      <td>Bat Out of Hell</td>\n",
              "      <td>1977</td>\n",
              "      <td>00:46:33</td>\n",
              "      <td>hard rock, progressive rock</td>\n",
              "      <td>20.6</td>\n",
              "      <td>43</td>\n",
              "      <td>1977-10-21</td>\n",
              "      <td>NaN</td>\n",
              "      <td>8.0</td>\n",
              "    </tr>\n",
              "  </tbody>\n",
              "</table>\n",
              "</div>\n",
              "      <button class=\"colab-df-convert\" onclick=\"convertToInteractive('df-f8ca1e9b-b9fc-44af-b5e7-245120d95713')\"\n",
              "              title=\"Convert this dataframe to an interactive table.\"\n",
              "              style=\"display:none;\">\n",
              "        \n",
              "  <svg xmlns=\"http://www.w3.org/2000/svg\" height=\"24px\"viewBox=\"0 0 24 24\"\n",
              "       width=\"24px\">\n",
              "    <path d=\"M0 0h24v24H0V0z\" fill=\"none\"/>\n",
              "    <path d=\"M18.56 5.44l.94 2.06.94-2.06 2.06-.94-2.06-.94-.94-2.06-.94 2.06-2.06.94zm-11 1L8.5 8.5l.94-2.06 2.06-.94-2.06-.94L8.5 2.5l-.94 2.06-2.06.94zm10 10l.94 2.06.94-2.06 2.06-.94-2.06-.94-.94-2.06-.94 2.06-2.06.94z\"/><path d=\"M17.41 7.96l-1.37-1.37c-.4-.4-.92-.59-1.43-.59-.52 0-1.04.2-1.43.59L10.3 9.45l-7.72 7.72c-.78.78-.78 2.05 0 2.83L4 21.41c.39.39.9.59 1.41.59.51 0 1.02-.2 1.41-.59l7.78-7.78 2.81-2.81c.8-.78.8-2.07 0-2.86zM5.41 20L4 18.59l7.72-7.72 1.47 1.35L5.41 20z\"/>\n",
              "  </svg>\n",
              "      </button>\n",
              "      \n",
              "  <style>\n",
              "    .colab-df-container {\n",
              "      display:flex;\n",
              "      flex-wrap:wrap;\n",
              "      gap: 12px;\n",
              "    }\n",
              "\n",
              "    .colab-df-convert {\n",
              "      background-color: #E8F0FE;\n",
              "      border: none;\n",
              "      border-radius: 50%;\n",
              "      cursor: pointer;\n",
              "      display: none;\n",
              "      fill: #1967D2;\n",
              "      height: 32px;\n",
              "      padding: 0 0 0 0;\n",
              "      width: 32px;\n",
              "    }\n",
              "\n",
              "    .colab-df-convert:hover {\n",
              "      background-color: #E2EBFA;\n",
              "      box-shadow: 0px 1px 2px rgba(60, 64, 67, 0.3), 0px 1px 3px 1px rgba(60, 64, 67, 0.15);\n",
              "      fill: #174EA6;\n",
              "    }\n",
              "\n",
              "    [theme=dark] .colab-df-convert {\n",
              "      background-color: #3B4455;\n",
              "      fill: #D2E3FC;\n",
              "    }\n",
              "\n",
              "    [theme=dark] .colab-df-convert:hover {\n",
              "      background-color: #434B5C;\n",
              "      box-shadow: 0px 1px 3px 1px rgba(0, 0, 0, 0.15);\n",
              "      filter: drop-shadow(0px 1px 2px rgba(0, 0, 0, 0.3));\n",
              "      fill: #FFFFFF;\n",
              "    }\n",
              "  </style>\n",
              "\n",
              "      <script>\n",
              "        const buttonEl =\n",
              "          document.querySelector('#df-f8ca1e9b-b9fc-44af-b5e7-245120d95713 button.colab-df-convert');\n",
              "        buttonEl.style.display =\n",
              "          google.colab.kernel.accessAllowed ? 'block' : 'none';\n",
              "\n",
              "        async function convertToInteractive(key) {\n",
              "          const element = document.querySelector('#df-f8ca1e9b-b9fc-44af-b5e7-245120d95713');\n",
              "          const dataTable =\n",
              "            await google.colab.kernel.invokeFunction('convertToInteractive',\n",
              "                                                     [key], {});\n",
              "          if (!dataTable) return;\n",
              "\n",
              "          const docLinkHtml = 'Like what you see? Visit the ' +\n",
              "            '<a target=\"_blank\" href=https://colab.research.google.com/notebooks/data_table.ipynb>data table notebook</a>'\n",
              "            + ' to learn more about interactive tables.';\n",
              "          element.innerHTML = '';\n",
              "          dataTable['output_type'] = 'display_data';\n",
              "          await google.colab.output.renderOutput(dataTable, element);\n",
              "          const docLink = document.createElement('div');\n",
              "          docLink.innerHTML = docLinkHtml;\n",
              "          element.appendChild(docLink);\n",
              "        }\n",
              "      </script>\n",
              "    </div>\n",
              "  </div>\n",
              "  "
            ]
          },
          "metadata": {},
          "execution_count": 48
        }
      ]
    },
    {
      "cell_type": "code",
      "source": [
        "# Access to the column Length\n",
        "\n",
        "x = df[['Length']]\n",
        "x"
      ],
      "metadata": {
        "colab": {
          "base_uri": "https://localhost:8080/",
          "height": 300
        },
        "id": "2yzvUIdE6qPM",
        "outputId": "d11d1502-bea9-44a4-b57d-444832c5500a"
      },
      "execution_count": 49,
      "outputs": [
        {
          "output_type": "execute_result",
          "data": {
            "text/plain": [
              "     Length\n",
              "0  00:42:19\n",
              "1  00:42:11\n",
              "2  00:42:49\n",
              "3  00:57:44\n",
              "4  00:46:33\n",
              "5  00:43:08\n",
              "6  01:15:54\n",
              "7  00:40:01"
            ],
            "text/html": [
              "\n",
              "  <div id=\"df-8395abb0-a278-4e0a-a7fe-6c0ca5b72f4f\">\n",
              "    <div class=\"colab-df-container\">\n",
              "      <div>\n",
              "<style scoped>\n",
              "    .dataframe tbody tr th:only-of-type {\n",
              "        vertical-align: middle;\n",
              "    }\n",
              "\n",
              "    .dataframe tbody tr th {\n",
              "        vertical-align: top;\n",
              "    }\n",
              "\n",
              "    .dataframe thead th {\n",
              "        text-align: right;\n",
              "    }\n",
              "</style>\n",
              "<table border=\"1\" class=\"dataframe\">\n",
              "  <thead>\n",
              "    <tr style=\"text-align: right;\">\n",
              "      <th></th>\n",
              "      <th>Length</th>\n",
              "    </tr>\n",
              "  </thead>\n",
              "  <tbody>\n",
              "    <tr>\n",
              "      <th>0</th>\n",
              "      <td>00:42:19</td>\n",
              "    </tr>\n",
              "    <tr>\n",
              "      <th>1</th>\n",
              "      <td>00:42:11</td>\n",
              "    </tr>\n",
              "    <tr>\n",
              "      <th>2</th>\n",
              "      <td>00:42:49</td>\n",
              "    </tr>\n",
              "    <tr>\n",
              "      <th>3</th>\n",
              "      <td>00:57:44</td>\n",
              "    </tr>\n",
              "    <tr>\n",
              "      <th>4</th>\n",
              "      <td>00:46:33</td>\n",
              "    </tr>\n",
              "    <tr>\n",
              "      <th>5</th>\n",
              "      <td>00:43:08</td>\n",
              "    </tr>\n",
              "    <tr>\n",
              "      <th>6</th>\n",
              "      <td>01:15:54</td>\n",
              "    </tr>\n",
              "    <tr>\n",
              "      <th>7</th>\n",
              "      <td>00:40:01</td>\n",
              "    </tr>\n",
              "  </tbody>\n",
              "</table>\n",
              "</div>\n",
              "      <button class=\"colab-df-convert\" onclick=\"convertToInteractive('df-8395abb0-a278-4e0a-a7fe-6c0ca5b72f4f')\"\n",
              "              title=\"Convert this dataframe to an interactive table.\"\n",
              "              style=\"display:none;\">\n",
              "        \n",
              "  <svg xmlns=\"http://www.w3.org/2000/svg\" height=\"24px\"viewBox=\"0 0 24 24\"\n",
              "       width=\"24px\">\n",
              "    <path d=\"M0 0h24v24H0V0z\" fill=\"none\"/>\n",
              "    <path d=\"M18.56 5.44l.94 2.06.94-2.06 2.06-.94-2.06-.94-.94-2.06-.94 2.06-2.06.94zm-11 1L8.5 8.5l.94-2.06 2.06-.94-2.06-.94L8.5 2.5l-.94 2.06-2.06.94zm10 10l.94 2.06.94-2.06 2.06-.94-2.06-.94-.94-2.06-.94 2.06-2.06.94z\"/><path d=\"M17.41 7.96l-1.37-1.37c-.4-.4-.92-.59-1.43-.59-.52 0-1.04.2-1.43.59L10.3 9.45l-7.72 7.72c-.78.78-.78 2.05 0 2.83L4 21.41c.39.39.9.59 1.41.59.51 0 1.02-.2 1.41-.59l7.78-7.78 2.81-2.81c.8-.78.8-2.07 0-2.86zM5.41 20L4 18.59l7.72-7.72 1.47 1.35L5.41 20z\"/>\n",
              "  </svg>\n",
              "      </button>\n",
              "      \n",
              "  <style>\n",
              "    .colab-df-container {\n",
              "      display:flex;\n",
              "      flex-wrap:wrap;\n",
              "      gap: 12px;\n",
              "    }\n",
              "\n",
              "    .colab-df-convert {\n",
              "      background-color: #E8F0FE;\n",
              "      border: none;\n",
              "      border-radius: 50%;\n",
              "      cursor: pointer;\n",
              "      display: none;\n",
              "      fill: #1967D2;\n",
              "      height: 32px;\n",
              "      padding: 0 0 0 0;\n",
              "      width: 32px;\n",
              "    }\n",
              "\n",
              "    .colab-df-convert:hover {\n",
              "      background-color: #E2EBFA;\n",
              "      box-shadow: 0px 1px 2px rgba(60, 64, 67, 0.3), 0px 1px 3px 1px rgba(60, 64, 67, 0.15);\n",
              "      fill: #174EA6;\n",
              "    }\n",
              "\n",
              "    [theme=dark] .colab-df-convert {\n",
              "      background-color: #3B4455;\n",
              "      fill: #D2E3FC;\n",
              "    }\n",
              "\n",
              "    [theme=dark] .colab-df-convert:hover {\n",
              "      background-color: #434B5C;\n",
              "      box-shadow: 0px 1px 3px 1px rgba(0, 0, 0, 0.15);\n",
              "      filter: drop-shadow(0px 1px 2px rgba(0, 0, 0, 0.3));\n",
              "      fill: #FFFFFF;\n",
              "    }\n",
              "  </style>\n",
              "\n",
              "      <script>\n",
              "        const buttonEl =\n",
              "          document.querySelector('#df-8395abb0-a278-4e0a-a7fe-6c0ca5b72f4f button.colab-df-convert');\n",
              "        buttonEl.style.display =\n",
              "          google.colab.kernel.accessAllowed ? 'block' : 'none';\n",
              "\n",
              "        async function convertToInteractive(key) {\n",
              "          const element = document.querySelector('#df-8395abb0-a278-4e0a-a7fe-6c0ca5b72f4f');\n",
              "          const dataTable =\n",
              "            await google.colab.kernel.invokeFunction('convertToInteractive',\n",
              "                                                     [key], {});\n",
              "          if (!dataTable) return;\n",
              "\n",
              "          const docLinkHtml = 'Like what you see? Visit the ' +\n",
              "            '<a target=\"_blank\" href=https://colab.research.google.com/notebooks/data_table.ipynb>data table notebook</a>'\n",
              "            + ' to learn more about interactive tables.';\n",
              "          element.innerHTML = '';\n",
              "          dataTable['output_type'] = 'display_data';\n",
              "          await google.colab.output.renderOutput(dataTable, element);\n",
              "          const docLink = document.createElement('div');\n",
              "          docLink.innerHTML = docLinkHtml;\n",
              "          element.appendChild(docLink);\n",
              "        }\n",
              "      </script>\n",
              "    </div>\n",
              "  </div>\n",
              "  "
            ]
          },
          "metadata": {},
          "execution_count": 49
        }
      ]
    },
    {
      "cell_type": "code",
      "source": [
        "# Get the column as a series\n",
        "\n",
        "x = df['Length']\n",
        "x"
      ],
      "metadata": {
        "colab": {
          "base_uri": "https://localhost:8080/"
        },
        "id": "Nk1wxT4O6xRV",
        "outputId": "b522e0a8-5360-4757-d47f-78acf1e1b854"
      },
      "execution_count": 50,
      "outputs": [
        {
          "output_type": "execute_result",
          "data": {
            "text/plain": [
              "0    00:42:19\n",
              "1    00:42:11\n",
              "2    00:42:49\n",
              "3    00:57:44\n",
              "4    00:46:33\n",
              "5    00:43:08\n",
              "6    01:15:54\n",
              "7    00:40:01\n",
              "Name: Length, dtype: object"
            ]
          },
          "metadata": {},
          "execution_count": 50
        }
      ]
    },
    {
      "cell_type": "code",
      "source": [
        "# Get the column as a dataframe\n",
        "\n",
        "x = df[['Artist']]\n",
        "type(x)"
      ],
      "metadata": {
        "colab": {
          "base_uri": "https://localhost:8080/"
        },
        "id": "Vl9ewq4G60Sh",
        "outputId": "40f4b2a7-7b12-41a8-f33f-9f3ca659bac1"
      },
      "execution_count": 51,
      "outputs": [
        {
          "output_type": "execute_result",
          "data": {
            "text/plain": [
              "pandas.core.frame.DataFrame"
            ]
          },
          "metadata": {},
          "execution_count": 51
        }
      ]
    },
    {
      "cell_type": "code",
      "source": [
        "# Access to multiple columns\n",
        "\n",
        "y = df[['Artist','Length','Genre']]\n",
        "y"
      ],
      "metadata": {
        "colab": {
          "base_uri": "https://localhost:8080/",
          "height": 300
        },
        "id": "ubWzPRQx63qC",
        "outputId": "4b38da1d-c961-47bf-f9b7-bfd7c2ee6679"
      },
      "execution_count": 52,
      "outputs": [
        {
          "output_type": "execute_result",
          "data": {
            "text/plain": [
              "            Artist    Length                        Genre\n",
              "0  Michael Jackson  00:42:19               pop, rock, R&B\n",
              "1            AC/DC  00:42:11                    hard rock\n",
              "2       Pink Floyd  00:42:49             progressive rock\n",
              "3  Whitney Houston  00:57:44               R&B, soul, pop\n",
              "4        Meat Loaf  00:46:33  hard rock, progressive rock\n",
              "5           Eagles  00:43:08   rock, soft rock, folk rock\n",
              "6         Bee Gees  01:15:54                        disco\n",
              "7    Fleetwood Mac  00:40:01                    soft rock"
            ],
            "text/html": [
              "\n",
              "  <div id=\"df-114dc1ea-46d9-4136-bdd7-d527463ca182\">\n",
              "    <div class=\"colab-df-container\">\n",
              "      <div>\n",
              "<style scoped>\n",
              "    .dataframe tbody tr th:only-of-type {\n",
              "        vertical-align: middle;\n",
              "    }\n",
              "\n",
              "    .dataframe tbody tr th {\n",
              "        vertical-align: top;\n",
              "    }\n",
              "\n",
              "    .dataframe thead th {\n",
              "        text-align: right;\n",
              "    }\n",
              "</style>\n",
              "<table border=\"1\" class=\"dataframe\">\n",
              "  <thead>\n",
              "    <tr style=\"text-align: right;\">\n",
              "      <th></th>\n",
              "      <th>Artist</th>\n",
              "      <th>Length</th>\n",
              "      <th>Genre</th>\n",
              "    </tr>\n",
              "  </thead>\n",
              "  <tbody>\n",
              "    <tr>\n",
              "      <th>0</th>\n",
              "      <td>Michael Jackson</td>\n",
              "      <td>00:42:19</td>\n",
              "      <td>pop, rock, R&amp;B</td>\n",
              "    </tr>\n",
              "    <tr>\n",
              "      <th>1</th>\n",
              "      <td>AC/DC</td>\n",
              "      <td>00:42:11</td>\n",
              "      <td>hard rock</td>\n",
              "    </tr>\n",
              "    <tr>\n",
              "      <th>2</th>\n",
              "      <td>Pink Floyd</td>\n",
              "      <td>00:42:49</td>\n",
              "      <td>progressive rock</td>\n",
              "    </tr>\n",
              "    <tr>\n",
              "      <th>3</th>\n",
              "      <td>Whitney Houston</td>\n",
              "      <td>00:57:44</td>\n",
              "      <td>R&amp;B, soul, pop</td>\n",
              "    </tr>\n",
              "    <tr>\n",
              "      <th>4</th>\n",
              "      <td>Meat Loaf</td>\n",
              "      <td>00:46:33</td>\n",
              "      <td>hard rock, progressive rock</td>\n",
              "    </tr>\n",
              "    <tr>\n",
              "      <th>5</th>\n",
              "      <td>Eagles</td>\n",
              "      <td>00:43:08</td>\n",
              "      <td>rock, soft rock, folk rock</td>\n",
              "    </tr>\n",
              "    <tr>\n",
              "      <th>6</th>\n",
              "      <td>Bee Gees</td>\n",
              "      <td>01:15:54</td>\n",
              "      <td>disco</td>\n",
              "    </tr>\n",
              "    <tr>\n",
              "      <th>7</th>\n",
              "      <td>Fleetwood Mac</td>\n",
              "      <td>00:40:01</td>\n",
              "      <td>soft rock</td>\n",
              "    </tr>\n",
              "  </tbody>\n",
              "</table>\n",
              "</div>\n",
              "      <button class=\"colab-df-convert\" onclick=\"convertToInteractive('df-114dc1ea-46d9-4136-bdd7-d527463ca182')\"\n",
              "              title=\"Convert this dataframe to an interactive table.\"\n",
              "              style=\"display:none;\">\n",
              "        \n",
              "  <svg xmlns=\"http://www.w3.org/2000/svg\" height=\"24px\"viewBox=\"0 0 24 24\"\n",
              "       width=\"24px\">\n",
              "    <path d=\"M0 0h24v24H0V0z\" fill=\"none\"/>\n",
              "    <path d=\"M18.56 5.44l.94 2.06.94-2.06 2.06-.94-2.06-.94-.94-2.06-.94 2.06-2.06.94zm-11 1L8.5 8.5l.94-2.06 2.06-.94-2.06-.94L8.5 2.5l-.94 2.06-2.06.94zm10 10l.94 2.06.94-2.06 2.06-.94-2.06-.94-.94-2.06-.94 2.06-2.06.94z\"/><path d=\"M17.41 7.96l-1.37-1.37c-.4-.4-.92-.59-1.43-.59-.52 0-1.04.2-1.43.59L10.3 9.45l-7.72 7.72c-.78.78-.78 2.05 0 2.83L4 21.41c.39.39.9.59 1.41.59.51 0 1.02-.2 1.41-.59l7.78-7.78 2.81-2.81c.8-.78.8-2.07 0-2.86zM5.41 20L4 18.59l7.72-7.72 1.47 1.35L5.41 20z\"/>\n",
              "  </svg>\n",
              "      </button>\n",
              "      \n",
              "  <style>\n",
              "    .colab-df-container {\n",
              "      display:flex;\n",
              "      flex-wrap:wrap;\n",
              "      gap: 12px;\n",
              "    }\n",
              "\n",
              "    .colab-df-convert {\n",
              "      background-color: #E8F0FE;\n",
              "      border: none;\n",
              "      border-radius: 50%;\n",
              "      cursor: pointer;\n",
              "      display: none;\n",
              "      fill: #1967D2;\n",
              "      height: 32px;\n",
              "      padding: 0 0 0 0;\n",
              "      width: 32px;\n",
              "    }\n",
              "\n",
              "    .colab-df-convert:hover {\n",
              "      background-color: #E2EBFA;\n",
              "      box-shadow: 0px 1px 2px rgba(60, 64, 67, 0.3), 0px 1px 3px 1px rgba(60, 64, 67, 0.15);\n",
              "      fill: #174EA6;\n",
              "    }\n",
              "\n",
              "    [theme=dark] .colab-df-convert {\n",
              "      background-color: #3B4455;\n",
              "      fill: #D2E3FC;\n",
              "    }\n",
              "\n",
              "    [theme=dark] .colab-df-convert:hover {\n",
              "      background-color: #434B5C;\n",
              "      box-shadow: 0px 1px 3px 1px rgba(0, 0, 0, 0.15);\n",
              "      filter: drop-shadow(0px 1px 2px rgba(0, 0, 0, 0.3));\n",
              "      fill: #FFFFFF;\n",
              "    }\n",
              "  </style>\n",
              "\n",
              "      <script>\n",
              "        const buttonEl =\n",
              "          document.querySelector('#df-114dc1ea-46d9-4136-bdd7-d527463ca182 button.colab-df-convert');\n",
              "        buttonEl.style.display =\n",
              "          google.colab.kernel.accessAllowed ? 'block' : 'none';\n",
              "\n",
              "        async function convertToInteractive(key) {\n",
              "          const element = document.querySelector('#df-114dc1ea-46d9-4136-bdd7-d527463ca182');\n",
              "          const dataTable =\n",
              "            await google.colab.kernel.invokeFunction('convertToInteractive',\n",
              "                                                     [key], {});\n",
              "          if (!dataTable) return;\n",
              "\n",
              "          const docLinkHtml = 'Like what you see? Visit the ' +\n",
              "            '<a target=\"_blank\" href=https://colab.research.google.com/notebooks/data_table.ipynb>data table notebook</a>'\n",
              "            + ' to learn more about interactive tables.';\n",
              "          element.innerHTML = '';\n",
              "          dataTable['output_type'] = 'display_data';\n",
              "          await google.colab.output.renderOutput(dataTable, element);\n",
              "          const docLink = document.createElement('div');\n",
              "          docLink.innerHTML = docLinkHtml;\n",
              "          element.appendChild(docLink);\n",
              "        }\n",
              "      </script>\n",
              "    </div>\n",
              "  </div>\n",
              "  "
            ]
          },
          "metadata": {},
          "execution_count": 52
        }
      ]
    },
    {
      "cell_type": "code",
      "source": [
        "# Access the value on the first row and the first column\n",
        "\n",
        "df.iloc[0, 0]"
      ],
      "metadata": {
        "colab": {
          "base_uri": "https://localhost:8080/",
          "height": 35
        },
        "id": "EbU9rX2m68nj",
        "outputId": "2caabc56-e933-4757-eade-83998076d109"
      },
      "execution_count": 53,
      "outputs": [
        {
          "output_type": "execute_result",
          "data": {
            "text/plain": [
              "'Michael Jackson'"
            ],
            "application/vnd.google.colaboratory.intrinsic+json": {
              "type": "string"
            }
          },
          "metadata": {},
          "execution_count": 53
        }
      ]
    },
    {
      "cell_type": "code",
      "source": [
        "# Access the value on the second row and the first column\n",
        "\n",
        "df.iloc[1,0]"
      ],
      "metadata": {
        "colab": {
          "base_uri": "https://localhost:8080/",
          "height": 35
        },
        "id": "GXzLgt7W6-qF",
        "outputId": "0c903d9a-2770-48b4-ea35-214312943a37"
      },
      "execution_count": 54,
      "outputs": [
        {
          "output_type": "execute_result",
          "data": {
            "text/plain": [
              "'AC/DC'"
            ],
            "application/vnd.google.colaboratory.intrinsic+json": {
              "type": "string"
            }
          },
          "metadata": {},
          "execution_count": 54
        }
      ]
    },
    {
      "cell_type": "code",
      "source": [
        "# Access the column using the name\n",
        "\n",
        "df.loc[1, 'Artist']"
      ],
      "metadata": {
        "colab": {
          "base_uri": "https://localhost:8080/",
          "height": 35
        },
        "id": "4abn0f4s7FHh",
        "outputId": "77348ba5-be77-4b0b-c510-b35d917aa19b"
      },
      "execution_count": 55,
      "outputs": [
        {
          "output_type": "execute_result",
          "data": {
            "text/plain": [
              "'AC/DC'"
            ],
            "application/vnd.google.colaboratory.intrinsic+json": {
              "type": "string"
            }
          },
          "metadata": {},
          "execution_count": 55
        }
      ]
    },
    {
      "cell_type": "code",
      "source": [
        "# Access the column using the name\n",
        "\n",
        "df.loc[0, 'Released']"
      ],
      "metadata": {
        "colab": {
          "base_uri": "https://localhost:8080/"
        },
        "id": "LIdtj9Pz7J34",
        "outputId": "15f9d704-ab43-4236-cacd-7f96a13853ad"
      },
      "execution_count": 56,
      "outputs": [
        {
          "output_type": "execute_result",
          "data": {
            "text/plain": [
              "1982"
            ]
          },
          "metadata": {},
          "execution_count": 56
        }
      ]
    },
    {
      "cell_type": "code",
      "source": [
        "# Slicing the dataframe\n",
        "\n",
        "df.iloc[0:2, 0:3]"
      ],
      "metadata": {
        "colab": {
          "base_uri": "https://localhost:8080/",
          "height": 112
        },
        "id": "jVSqxHC17O06",
        "outputId": "90022966-2412-4d2f-a5c0-2f8b70b14e70"
      },
      "execution_count": 57,
      "outputs": [
        {
          "output_type": "execute_result",
          "data": {
            "text/plain": [
              "            Artist          Album  Released\n",
              "0  Michael Jackson       Thriller      1982\n",
              "1            AC/DC  Back in Black      1980"
            ],
            "text/html": [
              "\n",
              "  <div id=\"df-7942ea0f-8ac5-4aeb-abb3-b7c1efe77d51\">\n",
              "    <div class=\"colab-df-container\">\n",
              "      <div>\n",
              "<style scoped>\n",
              "    .dataframe tbody tr th:only-of-type {\n",
              "        vertical-align: middle;\n",
              "    }\n",
              "\n",
              "    .dataframe tbody tr th {\n",
              "        vertical-align: top;\n",
              "    }\n",
              "\n",
              "    .dataframe thead th {\n",
              "        text-align: right;\n",
              "    }\n",
              "</style>\n",
              "<table border=\"1\" class=\"dataframe\">\n",
              "  <thead>\n",
              "    <tr style=\"text-align: right;\">\n",
              "      <th></th>\n",
              "      <th>Artist</th>\n",
              "      <th>Album</th>\n",
              "      <th>Released</th>\n",
              "    </tr>\n",
              "  </thead>\n",
              "  <tbody>\n",
              "    <tr>\n",
              "      <th>0</th>\n",
              "      <td>Michael Jackson</td>\n",
              "      <td>Thriller</td>\n",
              "      <td>1982</td>\n",
              "    </tr>\n",
              "    <tr>\n",
              "      <th>1</th>\n",
              "      <td>AC/DC</td>\n",
              "      <td>Back in Black</td>\n",
              "      <td>1980</td>\n",
              "    </tr>\n",
              "  </tbody>\n",
              "</table>\n",
              "</div>\n",
              "      <button class=\"colab-df-convert\" onclick=\"convertToInteractive('df-7942ea0f-8ac5-4aeb-abb3-b7c1efe77d51')\"\n",
              "              title=\"Convert this dataframe to an interactive table.\"\n",
              "              style=\"display:none;\">\n",
              "        \n",
              "  <svg xmlns=\"http://www.w3.org/2000/svg\" height=\"24px\"viewBox=\"0 0 24 24\"\n",
              "       width=\"24px\">\n",
              "    <path d=\"M0 0h24v24H0V0z\" fill=\"none\"/>\n",
              "    <path d=\"M18.56 5.44l.94 2.06.94-2.06 2.06-.94-2.06-.94-.94-2.06-.94 2.06-2.06.94zm-11 1L8.5 8.5l.94-2.06 2.06-.94-2.06-.94L8.5 2.5l-.94 2.06-2.06.94zm10 10l.94 2.06.94-2.06 2.06-.94-2.06-.94-.94-2.06-.94 2.06-2.06.94z\"/><path d=\"M17.41 7.96l-1.37-1.37c-.4-.4-.92-.59-1.43-.59-.52 0-1.04.2-1.43.59L10.3 9.45l-7.72 7.72c-.78.78-.78 2.05 0 2.83L4 21.41c.39.39.9.59 1.41.59.51 0 1.02-.2 1.41-.59l7.78-7.78 2.81-2.81c.8-.78.8-2.07 0-2.86zM5.41 20L4 18.59l7.72-7.72 1.47 1.35L5.41 20z\"/>\n",
              "  </svg>\n",
              "      </button>\n",
              "      \n",
              "  <style>\n",
              "    .colab-df-container {\n",
              "      display:flex;\n",
              "      flex-wrap:wrap;\n",
              "      gap: 12px;\n",
              "    }\n",
              "\n",
              "    .colab-df-convert {\n",
              "      background-color: #E8F0FE;\n",
              "      border: none;\n",
              "      border-radius: 50%;\n",
              "      cursor: pointer;\n",
              "      display: none;\n",
              "      fill: #1967D2;\n",
              "      height: 32px;\n",
              "      padding: 0 0 0 0;\n",
              "      width: 32px;\n",
              "    }\n",
              "\n",
              "    .colab-df-convert:hover {\n",
              "      background-color: #E2EBFA;\n",
              "      box-shadow: 0px 1px 2px rgba(60, 64, 67, 0.3), 0px 1px 3px 1px rgba(60, 64, 67, 0.15);\n",
              "      fill: #174EA6;\n",
              "    }\n",
              "\n",
              "    [theme=dark] .colab-df-convert {\n",
              "      background-color: #3B4455;\n",
              "      fill: #D2E3FC;\n",
              "    }\n",
              "\n",
              "    [theme=dark] .colab-df-convert:hover {\n",
              "      background-color: #434B5C;\n",
              "      box-shadow: 0px 1px 3px 1px rgba(0, 0, 0, 0.15);\n",
              "      filter: drop-shadow(0px 1px 2px rgba(0, 0, 0, 0.3));\n",
              "      fill: #FFFFFF;\n",
              "    }\n",
              "  </style>\n",
              "\n",
              "      <script>\n",
              "        const buttonEl =\n",
              "          document.querySelector('#df-7942ea0f-8ac5-4aeb-abb3-b7c1efe77d51 button.colab-df-convert');\n",
              "        buttonEl.style.display =\n",
              "          google.colab.kernel.accessAllowed ? 'block' : 'none';\n",
              "\n",
              "        async function convertToInteractive(key) {\n",
              "          const element = document.querySelector('#df-7942ea0f-8ac5-4aeb-abb3-b7c1efe77d51');\n",
              "          const dataTable =\n",
              "            await google.colab.kernel.invokeFunction('convertToInteractive',\n",
              "                                                     [key], {});\n",
              "          if (!dataTable) return;\n",
              "\n",
              "          const docLinkHtml = 'Like what you see? Visit the ' +\n",
              "            '<a target=\"_blank\" href=https://colab.research.google.com/notebooks/data_table.ipynb>data table notebook</a>'\n",
              "            + ' to learn more about interactive tables.';\n",
              "          element.innerHTML = '';\n",
              "          dataTable['output_type'] = 'display_data';\n",
              "          await google.colab.output.renderOutput(dataTable, element);\n",
              "          const docLink = document.createElement('div');\n",
              "          docLink.innerHTML = docLinkHtml;\n",
              "          element.appendChild(docLink);\n",
              "        }\n",
              "      </script>\n",
              "    </div>\n",
              "  </div>\n",
              "  "
            ]
          },
          "metadata": {},
          "execution_count": 57
        }
      ]
    },
    {
      "cell_type": "code",
      "source": [
        "# Slicing the dataframe using name\n",
        "\n",
        "df.loc[0:2, 'Artist':'Released']"
      ],
      "metadata": {
        "colab": {
          "base_uri": "https://localhost:8080/",
          "height": 143
        },
        "id": "m5zd6GZ_7RmO",
        "outputId": "73300218-7516-4213-f6dc-d6e2df797ba9"
      },
      "execution_count": 58,
      "outputs": [
        {
          "output_type": "execute_result",
          "data": {
            "text/plain": [
              "            Artist                      Album  Released\n",
              "0  Michael Jackson                   Thriller      1982\n",
              "1            AC/DC              Back in Black      1980\n",
              "2       Pink Floyd  The Dark Side of the Moon      1973"
            ],
            "text/html": [
              "\n",
              "  <div id=\"df-e300cbbb-f28f-479b-af76-2e25aebde4ef\">\n",
              "    <div class=\"colab-df-container\">\n",
              "      <div>\n",
              "<style scoped>\n",
              "    .dataframe tbody tr th:only-of-type {\n",
              "        vertical-align: middle;\n",
              "    }\n",
              "\n",
              "    .dataframe tbody tr th {\n",
              "        vertical-align: top;\n",
              "    }\n",
              "\n",
              "    .dataframe thead th {\n",
              "        text-align: right;\n",
              "    }\n",
              "</style>\n",
              "<table border=\"1\" class=\"dataframe\">\n",
              "  <thead>\n",
              "    <tr style=\"text-align: right;\">\n",
              "      <th></th>\n",
              "      <th>Artist</th>\n",
              "      <th>Album</th>\n",
              "      <th>Released</th>\n",
              "    </tr>\n",
              "  </thead>\n",
              "  <tbody>\n",
              "    <tr>\n",
              "      <th>0</th>\n",
              "      <td>Michael Jackson</td>\n",
              "      <td>Thriller</td>\n",
              "      <td>1982</td>\n",
              "    </tr>\n",
              "    <tr>\n",
              "      <th>1</th>\n",
              "      <td>AC/DC</td>\n",
              "      <td>Back in Black</td>\n",
              "      <td>1980</td>\n",
              "    </tr>\n",
              "    <tr>\n",
              "      <th>2</th>\n",
              "      <td>Pink Floyd</td>\n",
              "      <td>The Dark Side of the Moon</td>\n",
              "      <td>1973</td>\n",
              "    </tr>\n",
              "  </tbody>\n",
              "</table>\n",
              "</div>\n",
              "      <button class=\"colab-df-convert\" onclick=\"convertToInteractive('df-e300cbbb-f28f-479b-af76-2e25aebde4ef')\"\n",
              "              title=\"Convert this dataframe to an interactive table.\"\n",
              "              style=\"display:none;\">\n",
              "        \n",
              "  <svg xmlns=\"http://www.w3.org/2000/svg\" height=\"24px\"viewBox=\"0 0 24 24\"\n",
              "       width=\"24px\">\n",
              "    <path d=\"M0 0h24v24H0V0z\" fill=\"none\"/>\n",
              "    <path d=\"M18.56 5.44l.94 2.06.94-2.06 2.06-.94-2.06-.94-.94-2.06-.94 2.06-2.06.94zm-11 1L8.5 8.5l.94-2.06 2.06-.94-2.06-.94L8.5 2.5l-.94 2.06-2.06.94zm10 10l.94 2.06.94-2.06 2.06-.94-2.06-.94-.94-2.06-.94 2.06-2.06.94z\"/><path d=\"M17.41 7.96l-1.37-1.37c-.4-.4-.92-.59-1.43-.59-.52 0-1.04.2-1.43.59L10.3 9.45l-7.72 7.72c-.78.78-.78 2.05 0 2.83L4 21.41c.39.39.9.59 1.41.59.51 0 1.02-.2 1.41-.59l7.78-7.78 2.81-2.81c.8-.78.8-2.07 0-2.86zM5.41 20L4 18.59l7.72-7.72 1.47 1.35L5.41 20z\"/>\n",
              "  </svg>\n",
              "      </button>\n",
              "      \n",
              "  <style>\n",
              "    .colab-df-container {\n",
              "      display:flex;\n",
              "      flex-wrap:wrap;\n",
              "      gap: 12px;\n",
              "    }\n",
              "\n",
              "    .colab-df-convert {\n",
              "      background-color: #E8F0FE;\n",
              "      border: none;\n",
              "      border-radius: 50%;\n",
              "      cursor: pointer;\n",
              "      display: none;\n",
              "      fill: #1967D2;\n",
              "      height: 32px;\n",
              "      padding: 0 0 0 0;\n",
              "      width: 32px;\n",
              "    }\n",
              "\n",
              "    .colab-df-convert:hover {\n",
              "      background-color: #E2EBFA;\n",
              "      box-shadow: 0px 1px 2px rgba(60, 64, 67, 0.3), 0px 1px 3px 1px rgba(60, 64, 67, 0.15);\n",
              "      fill: #174EA6;\n",
              "    }\n",
              "\n",
              "    [theme=dark] .colab-df-convert {\n",
              "      background-color: #3B4455;\n",
              "      fill: #D2E3FC;\n",
              "    }\n",
              "\n",
              "    [theme=dark] .colab-df-convert:hover {\n",
              "      background-color: #434B5C;\n",
              "      box-shadow: 0px 1px 3px 1px rgba(0, 0, 0, 0.15);\n",
              "      filter: drop-shadow(0px 1px 2px rgba(0, 0, 0, 0.3));\n",
              "      fill: #FFFFFF;\n",
              "    }\n",
              "  </style>\n",
              "\n",
              "      <script>\n",
              "        const buttonEl =\n",
              "          document.querySelector('#df-e300cbbb-f28f-479b-af76-2e25aebde4ef button.colab-df-convert');\n",
              "        buttonEl.style.display =\n",
              "          google.colab.kernel.accessAllowed ? 'block' : 'none';\n",
              "\n",
              "        async function convertToInteractive(key) {\n",
              "          const element = document.querySelector('#df-e300cbbb-f28f-479b-af76-2e25aebde4ef');\n",
              "          const dataTable =\n",
              "            await google.colab.kernel.invokeFunction('convertToInteractive',\n",
              "                                                     [key], {});\n",
              "          if (!dataTable) return;\n",
              "\n",
              "          const docLinkHtml = 'Like what you see? Visit the ' +\n",
              "            '<a target=\"_blank\" href=https://colab.research.google.com/notebooks/data_table.ipynb>data table notebook</a>'\n",
              "            + ' to learn more about interactive tables.';\n",
              "          element.innerHTML = '';\n",
              "          dataTable['output_type'] = 'display_data';\n",
              "          await google.colab.output.renderOutput(dataTable, element);\n",
              "          const docLink = document.createElement('div');\n",
              "          docLink.innerHTML = docLinkHtml;\n",
              "          element.appendChild(docLink);\n",
              "        }\n",
              "      </script>\n",
              "    </div>\n",
              "  </div>\n",
              "  "
            ]
          },
          "metadata": {},
          "execution_count": 58
        }
      ]
    },
    {
      "cell_type": "code",
      "source": [
        "new_index=['a','b','c','d','e','f','g','h']\n"
      ],
      "metadata": {
        "id": "xN2IGz2o7cbl"
      },
      "execution_count": 59,
      "outputs": []
    },
    {
      "cell_type": "code",
      "source": [
        "df_new=df\n",
        "df_new.index=new_index\n",
        "df_new.loc['a', 'Artist']\n",
        "df_new.loc['a':'d', 'Artist']"
      ],
      "metadata": {
        "colab": {
          "base_uri": "https://localhost:8080/"
        },
        "id": "3TQCzdO47ep8",
        "outputId": "c656747f-cd84-46bd-c33f-b185358df493"
      },
      "execution_count": 60,
      "outputs": [
        {
          "output_type": "execute_result",
          "data": {
            "text/plain": [
              "a    Michael Jackson\n",
              "b              AC/DC\n",
              "c         Pink Floyd\n",
              "d    Whitney Houston\n",
              "Name: Artist, dtype: object"
            ]
          },
          "metadata": {},
          "execution_count": 60
        }
      ]
    },
    {
      "cell_type": "code",
      "source": [
        "df.iloc[1,0]"
      ],
      "metadata": {
        "colab": {
          "base_uri": "https://localhost:8080/",
          "height": 35
        },
        "id": "pxq9524f7wtB",
        "outputId": "6eeaf62c-fa8d-40d7-d2dd-2e5eb33b985d"
      },
      "execution_count": 62,
      "outputs": [
        {
          "output_type": "execute_result",
          "data": {
            "text/plain": [
              "'AC/DC'"
            ],
            "application/vnd.google.colaboratory.intrinsic+json": {
              "type": "string"
            }
          },
          "metadata": {},
          "execution_count": 62
        }
      ]
    },
    {
      "cell_type": "code",
      "source": [
        "import pandas as banana\n",
        "\n",
        "df=banana.DataFrame({'a':[11,21,31],'b':[21,22,23]})\n",
        "\n",
        "df.head()"
      ],
      "metadata": {
        "colab": {
          "base_uri": "https://localhost:8080/",
          "height": 143
        },
        "id": "b1QbYD3C8N9c",
        "outputId": "a6fb9e5f-e171-4749-8abf-9cb361f0ddb9"
      },
      "execution_count": 63,
      "outputs": [
        {
          "output_type": "execute_result",
          "data": {
            "text/plain": [
              "    a   b\n",
              "0  11  21\n",
              "1  21  22\n",
              "2  31  23"
            ],
            "text/html": [
              "\n",
              "  <div id=\"df-be6e80a4-7485-4bcc-ab64-33ad4a142bcd\">\n",
              "    <div class=\"colab-df-container\">\n",
              "      <div>\n",
              "<style scoped>\n",
              "    .dataframe tbody tr th:only-of-type {\n",
              "        vertical-align: middle;\n",
              "    }\n",
              "\n",
              "    .dataframe tbody tr th {\n",
              "        vertical-align: top;\n",
              "    }\n",
              "\n",
              "    .dataframe thead th {\n",
              "        text-align: right;\n",
              "    }\n",
              "</style>\n",
              "<table border=\"1\" class=\"dataframe\">\n",
              "  <thead>\n",
              "    <tr style=\"text-align: right;\">\n",
              "      <th></th>\n",
              "      <th>a</th>\n",
              "      <th>b</th>\n",
              "    </tr>\n",
              "  </thead>\n",
              "  <tbody>\n",
              "    <tr>\n",
              "      <th>0</th>\n",
              "      <td>11</td>\n",
              "      <td>21</td>\n",
              "    </tr>\n",
              "    <tr>\n",
              "      <th>1</th>\n",
              "      <td>21</td>\n",
              "      <td>22</td>\n",
              "    </tr>\n",
              "    <tr>\n",
              "      <th>2</th>\n",
              "      <td>31</td>\n",
              "      <td>23</td>\n",
              "    </tr>\n",
              "  </tbody>\n",
              "</table>\n",
              "</div>\n",
              "      <button class=\"colab-df-convert\" onclick=\"convertToInteractive('df-be6e80a4-7485-4bcc-ab64-33ad4a142bcd')\"\n",
              "              title=\"Convert this dataframe to an interactive table.\"\n",
              "              style=\"display:none;\">\n",
              "        \n",
              "  <svg xmlns=\"http://www.w3.org/2000/svg\" height=\"24px\"viewBox=\"0 0 24 24\"\n",
              "       width=\"24px\">\n",
              "    <path d=\"M0 0h24v24H0V0z\" fill=\"none\"/>\n",
              "    <path d=\"M18.56 5.44l.94 2.06.94-2.06 2.06-.94-2.06-.94-.94-2.06-.94 2.06-2.06.94zm-11 1L8.5 8.5l.94-2.06 2.06-.94-2.06-.94L8.5 2.5l-.94 2.06-2.06.94zm10 10l.94 2.06.94-2.06 2.06-.94-2.06-.94-.94-2.06-.94 2.06-2.06.94z\"/><path d=\"M17.41 7.96l-1.37-1.37c-.4-.4-.92-.59-1.43-.59-.52 0-1.04.2-1.43.59L10.3 9.45l-7.72 7.72c-.78.78-.78 2.05 0 2.83L4 21.41c.39.39.9.59 1.41.59.51 0 1.02-.2 1.41-.59l7.78-7.78 2.81-2.81c.8-.78.8-2.07 0-2.86zM5.41 20L4 18.59l7.72-7.72 1.47 1.35L5.41 20z\"/>\n",
              "  </svg>\n",
              "      </button>\n",
              "      \n",
              "  <style>\n",
              "    .colab-df-container {\n",
              "      display:flex;\n",
              "      flex-wrap:wrap;\n",
              "      gap: 12px;\n",
              "    }\n",
              "\n",
              "    .colab-df-convert {\n",
              "      background-color: #E8F0FE;\n",
              "      border: none;\n",
              "      border-radius: 50%;\n",
              "      cursor: pointer;\n",
              "      display: none;\n",
              "      fill: #1967D2;\n",
              "      height: 32px;\n",
              "      padding: 0 0 0 0;\n",
              "      width: 32px;\n",
              "    }\n",
              "\n",
              "    .colab-df-convert:hover {\n",
              "      background-color: #E2EBFA;\n",
              "      box-shadow: 0px 1px 2px rgba(60, 64, 67, 0.3), 0px 1px 3px 1px rgba(60, 64, 67, 0.15);\n",
              "      fill: #174EA6;\n",
              "    }\n",
              "\n",
              "    [theme=dark] .colab-df-convert {\n",
              "      background-color: #3B4455;\n",
              "      fill: #D2E3FC;\n",
              "    }\n",
              "\n",
              "    [theme=dark] .colab-df-convert:hover {\n",
              "      background-color: #434B5C;\n",
              "      box-shadow: 0px 1px 3px 1px rgba(0, 0, 0, 0.15);\n",
              "      filter: drop-shadow(0px 1px 2px rgba(0, 0, 0, 0.3));\n",
              "      fill: #FFFFFF;\n",
              "    }\n",
              "  </style>\n",
              "\n",
              "      <script>\n",
              "        const buttonEl =\n",
              "          document.querySelector('#df-be6e80a4-7485-4bcc-ab64-33ad4a142bcd button.colab-df-convert');\n",
              "        buttonEl.style.display =\n",
              "          google.colab.kernel.accessAllowed ? 'block' : 'none';\n",
              "\n",
              "        async function convertToInteractive(key) {\n",
              "          const element = document.querySelector('#df-be6e80a4-7485-4bcc-ab64-33ad4a142bcd');\n",
              "          const dataTable =\n",
              "            await google.colab.kernel.invokeFunction('convertToInteractive',\n",
              "                                                     [key], {});\n",
              "          if (!dataTable) return;\n",
              "\n",
              "          const docLinkHtml = 'Like what you see? Visit the ' +\n",
              "            '<a target=\"_blank\" href=https://colab.research.google.com/notebooks/data_table.ipynb>data table notebook</a>'\n",
              "            + ' to learn more about interactive tables.';\n",
              "          element.innerHTML = '';\n",
              "          dataTable['output_type'] = 'display_data';\n",
              "          await google.colab.output.renderOutput(dataTable, element);\n",
              "          const docLink = document.createElement('div');\n",
              "          docLink.innerHTML = docLinkHtml;\n",
              "          element.appendChild(docLink);\n",
              "        }\n",
              "      </script>\n",
              "    </div>\n",
              "  </div>\n",
              "  "
            ]
          },
          "metadata": {},
          "execution_count": 63
        }
      ]
    },
    {
      "cell_type": "code",
      "source": [
        "df=pd.DataFrame({'a':[1,2,1],'b':[1,1,1]})"
      ],
      "metadata": {
        "id": "8e3rlk4A8xRz"
      },
      "execution_count": 64,
      "outputs": []
    },
    {
      "cell_type": "code",
      "source": [
        "df['a']==1 "
      ],
      "metadata": {
        "colab": {
          "base_uri": "https://localhost:8080/"
        },
        "id": "4He4wg2E80QG",
        "outputId": "4fe2fdef-0471-4493-89ac-3cc57ab99648"
      },
      "execution_count": 65,
      "outputs": [
        {
          "output_type": "execute_result",
          "data": {
            "text/plain": [
              "0     True\n",
              "1    False\n",
              "2     True\n",
              "Name: a, dtype: bool"
            ]
          },
          "metadata": {},
          "execution_count": 65
        }
      ]
    },
    {
      "cell_type": "code",
      "source": [
        "with open(\"Example2.txt\",\"r\") as file1:\n",
        "\n",
        "  FileContent=file1.readlines()\n",
        "\n",
        "  print(FileContent)"
      ],
      "metadata": {
        "id": "E8Z56Ghy-DHy",
        "outputId": "803bd30f-8f90-4d0a-85d4-be76bbb48714",
        "colab": {
          "base_uri": "https://localhost:8080/"
        }
      },
      "execution_count": 68,
      "outputs": [
        {
          "output_type": "stream",
          "name": "stdout",
          "text": [
            "['Line 1\\n', 'Line 2\\n', 'Line 3\\n', 'finished\\n']\n"
          ]
        }
      ]
    },
    {
      "cell_type": "code",
      "source": [
        "with open(\"Example2.txt\",\"w\") as writefile:\n",
        "\n",
        "  writefile.write(\"This is line A\\n\")\n",
        "\n",
        "  writefile.write(\"This is line B\\n\")"
      ],
      "metadata": {
        "id": "pQJ40wSZ-j6n"
      },
      "execution_count": null,
      "outputs": []
    },
    {
      "cell_type": "markdown",
      "source": [
        "![image.png](data:image/png;base64,iVBORw0KGgoAAAANSUhEUgAABJoAAAHVCAYAAAC5X5GYAAAAAXNSR0IArs4c6QAAAARnQU1BAACxjwv8YQUAAAAJcEhZcwAADsMAAA7DAcdvqGQAAFRhSURBVHhe7d0PmF11fSf+j3Ud+TMig1jG0EQggATcJyl1LBKsZlkJqIGWBNahLIlIsuKw6mAxsRCgTJGMtAzwMEATCglVwkKiTYJC6GJoJZY1XTbpIqFKCiaFDivLKL/h31jW3/mee+7MzWQmfyYnyUBer+e5mXPO/ZN7z/ecc8953+/5nLf9OhMAAAAAsJN+o/gLAAAAADtF0AQAAABAKQRNAAAAAJRC0AQAAABAKQRNAAAAAJRC0AQAAABAKQRNAAAAAJRC0AQAAABAKQRNAAAAAJRC0AQAAABAKQRNAAAAAJRC0AQAAABAKQRNAAAAAJRC0AQAAABAKd7260wxDOysN7pizbc6Y+H962JDd28+qa5hbIw/6+KYe+bYqMunMJJtWNISrbdtiBg9Na66cWZM2Le4AwAAgG0qP2h6aWOsun9xrFy5Np54rjuKQ+1oGDU6jjzh1Dj95JOiaWxDPpVt61rWGjNuWV+M1aqL+kMOiiOPnxqf+cyUmHBIMZk9qCtWfGVWdP64stTXarpkSbSdXF+M7QGPdcapf7wiGxgbM2/vjKmjKpMZKGvDL8+IzifT8JiYfuv8aD4sv4Ndrmben9IWD1zcVJm8PXpWR/s5bbGqtz4mty2M1qZy1rWuRxdF510PxLqfVL7L8tD4tBnR8odN0fj2ymOG9EZ3rL6hNdof7MqeOy5aFnXElIHb6b71cvuMu3BhdJzRWIxltgi20/fCsTHxD2fGzJPHRv1g73HI7+hjY8LkqTF92tCfrecnK2PxXcvj++s2RPeraUrleR8+4zPR/OkJgz/vjZ7Y8NDiWHjf9/vmY+zbEI1Hfzim/qfmmHJ8zefZqp5YPe+caHu48o6nfP2BaDk+H9yq7g2r4oHs/37ksfWx6fmeLfZJpn56ckwY5SeAMvX8oD3OuXpV9B48Jebd2hIT9uBXHwCwZ5R46ly2M7msLWacOyva71gVa/t2YJPe6H5uQ6z5dmfMbflCLMgP4tg5vdHzfFesvb8z5kw/Pebc11VMZ495ckUsqoZMB0+K2QuWxJJ75kfHnLlxTkkHvjuvLuq2dYC8W2yMxeefGqee2hlriykjQ2M0/ccJ2VzK5tTRkwS4e0rdO4qB7dEdq9rbY1W26tV9vDVmlrKu9cTam5pjxpWLY001HMn0dmffY3fNjVnnZ8ttTzFxMD3rY8EXp0dbHjLtIs+tirbpM2LuXWv6ek9WvhfWxsrrWuKcLy6I9Zu9x95Yf1dLnH72UN/Ra2PVHXNjxrQ5seK5YnKfnlh/W3rNjlj6aDVkSirPW3nLnMHnST4fzomW65ZuNh/j1e7oWrcyOv94Vsy4ZW326tvWdd/caC9Cpu3R85MV2fw5PZpb2mPR/dk8ej77Xxoao3FUdjsgW2qKfZI550+LGVeviA0vFU8cRO8P2rNt1anRusz37Pao/+isaG3KtqIvrIjLb1q9Xe0LALy1lNajKfW8mXXL+mJHsi7qj5sYUyf/hzgy26GL17riiUe/Hyt+uD56Ptgai78+OfRp2j61PZomnNcWU4/IB/N5uvahpbFiTfVApiGmXr84Zh6Tj7AH9Dw0N6ZduyYfnnTp8pj90RH0K/lzS6Pl/AWxISbF3O/Mjol7+nSwTUtj1swFsTGmxLwHWmJCMZm925rrTo25D0Y0njc/Fp4zppi6db2PdcY5f7wiO5gdEzMXzI+po4s7dkJ3ti5Pz9bltG2tGzs5Zp51ahzZ2BMbVy2MzmUbKtObZseitklbfpdtWhltX+uI1S8U47khejSl4OqfXixGBtf1w+ui88HubKg+pv75kph5XDb4xsZY3DIrFj2THlEXY0+ZGdM+OT7GZmv4mqWLYtEPKt8LA99jX0+TfcdE0x9MjdPHHxmjG7P/4+mnYs1dnbH0J5Vvkzh+wPf0jxfEtK8szQODurFTovXiqdH03vqIV5+PNd++Ljqq8+TkubHkkol5UJusnz8tWr+dPyvGntEaF5/ZFIdk256en6+Jpdd1xIoN+bNi0uVLYvaJW9lePrciWj/fGeuLt5cM3aOpJzYs+dNovW1t9p7qorFpakyfcXpMPKxh85D9jd7YuG5FLLphUax+PnvhgyfG7G/MjUlb9PbsjdXXTou2h3q37FHG0J5ZHLM+vyjbxts3AYC9UTk9mp5cEK3VkKluXEy/8a5Y8uezo/mUpmg6Ibt9fEpMn9MRS76zOBZePMiOOdtl9DHF/Czm6cy2hTH/wnHFTn13rPjvI6tvyN6mp6f/d9v6/UdQyJS8va5YTupj/xFQc6jrsUeyAxDY3DuK1aZhu9ef7li1JIVMKeSYHlNKCJlSb7vv31sJmeKAyTG3vTWmfHxcjMu2v5MvbI+5p1R6TPWuWRzf35QP9ulZtyBaWiohU90hU6LlnHHFPUNoGNu/TR/s1nRI9PwkhUyZw5pjcgqZknUrYnEeMkWMOe+m6Lx4Skw6ZkyMOWZSTL30prjq05Vv2d41nbHkx/lgrv6jLdE+py0WLpkfbedNjqbxY6PxkLEx4YTJMbOjI5qrIctjT8XPisGk65+qvY7GZN/lLTFpbGPUH1Af9dlzJ134p32BT+8P1sYTlcFMVzyxrtgmHjY9Zl84KcYekj0ne17j2EnR8qfVgLk3Vq/rf9YW3uiKpd9IIVNdNj+2HUl3LZtbCZmKfZGFbdOz9zsgZEqybeKY46fG3NsXxdyTs/n1wupov2pxbHyjuL/qjSdi7Q9qEi62z2GnxtR8ueiOpXeuzP4FAPYmJfRo6o6Vf9wcHY+l4eHXx+h5ZlUsXbgkHqit/XD0+Dj1zJkx9aNjtqw1UVPbYqhfGdfedGrMuS8NDfw1eW10njonVtTUq+l6dEFcf8OKWJtOQTimJRZePyWqr9j16OJY9J2VsWZ9V/RU0rRsB3t0jJs4dH2HLWpZ7NsQY8f/hzj9nOxg4ejtnz+1PZoG/QX3jTXR8am5sTINb/a+d+wzJjvcBoWBdUzy+hsN78zv6zcpZt8+PWuJ/nYZO2thdJ6ZvYPn18SC666LFevS8wf55T/VIVmyKJZ+b008kdfYqNQhafrk0PVEdqjNBqshkj57XrNkckw7JTtA2lo6+sLaWPGtu+Ouh9fWnFLSb7C6KmvvWxx3f3t18Xmy/+2Axjh24tD1tvqWg2rtmpc2xIqb22PRDzfmn2+b9UpezQ6i/qAtVo2aHvNvb84OF2u80R0bfvBALLl/Zax/+sXoeqmYA3k9mmkx88xJMWbgIvv8imidnh38xeRo+25rNL28IVbesSAWr36i8vy6+uwgbko0f25qTBpd8+TifS94eGMxnwf49Lx44KIBB5PPZ/P37rtjafW1i/afeOZQdWEGLPuHbFnHpmH8pDjnnBkxZfyWDdu/3Riit1W2vGz8wdJY8O3Nl/mx40+NaTOyz3vYjm//kh1bZnvzU49WLH8gVv/TpugqTp3qW47+MFuODs4nbWmQ5T1v60mnx4zPTI6xqRdqreG29Wb1roZWu35svGtGzLqza/t7BPb1jBu6V0xvOrXrvqXxwKNPxabq6WLZe24cNzGmDrYM9PX+G6Jn1TOLY8bnF2WfbsD9vetjwfmtsTSFTMdNj44/aY79H6puv4fo0bQNvT9sj2lXrcre8+afrzqfhqy51r0y5jR35Kel1mXr1PKB69SgatqrLlv2l/cv+13fbokZ89McaYrZ97TFpM2Wkd5YPe/0aHs4GzxganTcMzPfzqfXW9oyIxbkT5sdS9omZXsINarbpGywflpHLLlg8FBu/W3N0bqkO/vOmhkL/7ArZsytfO8Pus3L2q41a7v1ddn8vjWb31v0ThpCCrO+kr3X7LNPuHhxzDulskyk78z261bE+mKbuLnBvqt2cN2qqn4nLPtRf92svI7VhJh8WnNM+Xj2/Zs/cGibf6/Wx8aHF8fNd6zs+85sOHpiTPvcrJhaLO/59/bCFbHumf7v1Mmf/UI01/5f2fta8dVq3cGGmNK+KFrGb76O9fWSy4brs++nhdn3U/X56ZTD07P7hrv8AwBvXjvfo+n5R+KBPGTKHNYcU3c4ZCpqP3y+PRYPrP3wkzWxeN6sOGfu0tjQ31mkRBuiq6sn1t6S7bRfubQSwCTZgWslJqnW6VgUq9ZVD/6SVAejUt/h8m8Vv3z3GaKWxavZwfyjS6Pji+eUW+fh7e/IdhEL/7wxP/jZ3LY+YzLcNti8jklkB7mNoxqiLtXfeK5rs9uLgwQwG7LpPY91xoyZc2NpHjIVaoODah2SVFOkr5BrpQ5JXk8kOwDevC7IDrZZviM9SA2RbKhSs6Q92h/aet+brtXZDvv9g4dMWyg+z5xbVtZ8nux/e6motzVzRnT8YCu//W5M83NFzJneEp0PV0Km7FBm83k2mH33r+z8H1Dfv7wU1t8xM1rmVeZXNWRKKvVo2mPW57dWj2ZdPPGDyvvpyOZB3/N7e2Ljo4ujfebM6Hys/8ldq27K33f//7J1XQ+1RfP0Ofn87X9vRR2avC7MwFOUam2Ip9atjs7zZ21Rx6Y71YeZPX3H18Wi5syseZvX7qms39nn/fw5MWfJhmwp3BE7vp3pebgtZvxxZ76NqYZMSd9ydH7rIHV2MkPUzMnb+tsd0XLuEM/L7VhbD0fd/pWD4O3tEdjfM25inPTbgzznpWx9Oz9bfr6dtX9tTaLsPec1ggZZBno3PJWHTMn4owY5fe+wcVEtU961vqat68bFzG+0xMRT5saibzTH2GyF63qu+krD0R2r7qscwMcBU+L03+3/fC++WH3Px8bYwcKUhvHRNLYy2Ju9x+1ayl9YFz/658pg/SkTs1fu1/iBCUV4sCaW//cBr/bcyljyw8pg/X88qQiZksY4dnyxP7BmeawcsFx1PbgkVudD9TH5I4OHTOn74aoUMqXg6KtTt1GAvTdWf2tR5LHejNmbhUwpVJn7xeY4/dRUFy67nT4tZmTLRapVtTFtt9/eGFNnTs0/49rvPVLMr7WxNPvOHDxkGsRw163a74TaZTSvY7UqFq/ZtMU2e2s2/GRdrL5pZraNyr7va74zu3+yKhZky3v7D7NtRPV7Ow+ZKvenberSeRfFRXdWftjKZfNlyldnxrj8DXTHimuz+Vvb46sn275eWyyjB0+Jy2b1h0xJ3fgPF+vK+vjR4zu3bQAA3lx2Omjq/ckT+Y5d0vh7TZv3lNgO3Q+1x+zswCztqNQd0hTNF3fE/HsWRmd7azQXv7z1PrYgWndRQck1d86NP80ONHrr6mPcx6fElDOy2yfHV07ve2ZFXH9f5aA//4V6USruXC3w3BKTjxuTPba/HkVS+3kaTswOyBYtjwceeCCWL+qImcenR/bG+ltayyuI/urL/fMlOyh6fzFYa6ufMTPcNuj9YXYAXMyfcRfMj+XZcxbevjiWL+mIqdUrdR08NTq+m33+xZXeTJt5LNv5n7ciunrrov64SZX3dcbpMb7aE+ONbMf9q+2VIKFubEy5cn4sWf5APLB8ScyfMzka0+xMxUbbV/V3y9/BNuv94aK+q8Q1nDw7+9zF4xd1xryLm6Np9MSYevLWl+rGMzryNl54Yf8nTL+2p2np1tebqfbzZO9g7Gkt0da5MJYs6IjZF06Osfni0RUrr57dd1rMFp78frR/ozPWZgdHdaObYnI+z6bHxMOL+4c0IVrS+xnQiy0ZNyVrmwPGxeQL26KzZn61nTG2Mp+yeXzzA0OFbV2xeF72fmJsTL14Xv78hZ1tMfOjjcU8zg5O5q/sO02uMq8WRktfvY7Ua6h/Xm3Wmymdknvt6krb7ju27/3Nv352tJxSeW+9z6+MtssGOd2lsOqGtljRfVBMvGB2dKTi7Nm8bj2z+FxpXfzLRbF6ewLCXCo6PTuWFnVlGpuao/X6bJkslpVKD6LeWHtba3T+YAe2VsPYztSfODWmHDImms5prXyu/PELo+PCiZX1OvWu+dbqfJ3uV/v+G2LihR2x8DvZPP/u8lh4/cyYkE6pzJ7X+dUFmx9M9tmxtk5Bw+Q/rb63mtviuTG5ejSaHZxOP7l/iayuS1vtndenJ9b/Q/Htc9yxcexgp4QekK2/n26MMScUbVW8h4XXt8TEor0GLgP9IU5jNL63GNxM9nrV5fefnorNzp4bNSXmXpy1QTUQeWPzFtghP14SC4ofccacPTnGDRqydEX3VopY5zZ0bRk0Ze+r56We/Na1YW2sWtYRLTM7Yk32duuOnxntMyoF8fsc1xyXFafjrZ8/Ky+evb67OzY+nE4VrNROSqcKXjbgVMFx51wWU/L5nC2Pn58RbcvWR3f3xlg1v6Wo6ZitR2dcFs3VUwJr9ayNRdetyJaqumj60uXb7p300up44KH0RibFtNOq29yuWHVVzY8h1WLg+/dGV/oh4b8tj3XV+XfMhJiY/j75o1ifTyu2mV+fkkZyqfdd37bqgdoeOsNct15dm03r/07ItylXzouO6+dF28XTY9L4xpg0sWnzttiWhzui7b6XY+wp/d8vrdVteTbHV101I+Zk25uGE2fG7GL71XZBsd3I7u+6a/nm28SsXWfPKk7Rf2FpXHVHdY+vJ9bM78iL8KfPPCV7v1tcXS77XplQBJ5r1qwbsD0CAN7Kdjpo6t8pH+LX363JDryX/EXxS322czg7O2iZfsq4GHNAY4wdPzmmty+IuR8vdo8evimW/iQfLFXXk9nObnZw13nXkvygruXC7FYNFl58sW8HfeLvT41xRX2J+gPG5IFN65/PrxRm7VPzeQ6bHu2XTsmeU3n/dYeMi6lzr4opedf57lj61wMPAocjO9D61qL81IOk8Xf6w6NaW/2MO9EGTzxW/JIZ2Y79p2ravn5cTP/DSZXhF1bGIz+tDG7hufWx/rX+ml75+7pwUl9Y2fPwXflpKGkHfNIl7dFywpioT28lnarz8daY97nKQU3vmkXxQDWY2cE2qz2oPP2s7P/OH5vdUt2SU6ZH24LsoHiwmToM3Q8tKj5PUVflS1OiKdU6GT0uJp3RGp03Ti8++8ZYfOeqzUK9ftk8e7IhJl26OJYvaIvWfJ5NjQlDnZKxPbIDiY570sFIU18NlTS/mmZdVCyv2Tv6+3XZUjuUMTG9ozNmnjIhf37j2KaYeulVMb0aNj7zSKwrPvf2646Vdy4t/s/K61ffX6pDM+XizrjpvGJJeWZxLBoy2EnLzk0xd9qkGDc6+1zZvJ48qyNmn1xZpqN3dazd3u1KduDfmY7EM3Ufnx03tU2Pycdky2SxrMy7dW5Myl82O5j7i6V9vWK2aYe3M5l9s4PgRZU6O/nnyh/fGOPOuChmFCHN5vVyMk/2v/8x57XH3DPGRWM6AH57doB7zNS4au6USm+E7GBy+Q+H2jrtWFvX1VffW/UW8dS3boqVeXMNcXC63Z6KJ9ZVhurHHTnoti+1/4SLFsb8K4u2Kt5H4zFT4qLzilBzwDLQ3wupIeq3Vc/spd54vRgsV0+sXlGpPZW2y9Nrt6+Z9x9WDXTWxMpHt1wzex5bGku2tgCuWxDTzp6W32a0zIn2W1bGi++fEjO/vjCWf31q3htrc/Ux4cIFMe+cFFj0RtcPsvWxuTnvNbPh1boYe2ZbzL99kMvY12fL6c3zovnobMXo7YrVt7RGc/OsaP/2hujdd2xMvXJ+LLyw2luqVvb5b7o8VmTLUsOnr8rW121vhHvX/SibG5kTT4qmot267muP9h9m8yf1NluQfvBIP4Zkt29m2/XKQ/p7g759dByZB4g90bPd4XNhmOtW9w/uzj9jkj5nvk05YUKMO2ZCNJ3SHLPbF0br1oqkD6H+lLnRfnH/98vkC2f3r6PJ8a1x8+VT87peafvVNG12XFTdJsaW28TGT19euYpcpnvJVfkPZT1rFkT7g5XtbsOns9c/frAVOduP+GDxuj8ZrMc1APBWVU4x8MIOXzb9p4/EyuLXxPpPnx4TB9m5nTil2EFLvxj+w9ZPYRqebEf4ssppDls4NDvQKwZXXdcaCx7tit4hek7knlkbq4vPM/aUSTFm4PzIDg4/fEIx/MMBB4HbYdOTa2LNo5XbqmWLoj2dhrekmCd1TTH9tM0PRvpt5TMOuw26YtNTxWB278AC03X7V1+oJ3pfKQYHMeGiy7ODkMHeWG+sW1O5glsKsv7DiVs+prHppKj8WNoVP3q8ONjawTZrHH1k5Zfa7DUWX9EWK54cOk7ZOT2xNjvwr5gQUwdrq77iqdmn/+GPYt0QBzv1Z14esz9aUvq1NW9viMZqL4JsHg55QJ0dtE+qPYjJjYljP1TTZltbbwbz0tp4pHpK7vFT49QtXj/7H06bms3JpDdWPzrEr+V1k2PyFstOXYw/fnwxnD1rO9/b+r9fWTnwz5b3KVMmFutEjfqJcfqni6kvrIofDdUrbaAd3c5sVUMcUm2zATNk42PVHoljY/LHt1z+0mkueY+OzOrHh9g67WRb9zyWbbeK3lsN0y6PlkEPTrfTS93RVXzG0e/d8fWh4eBq5fABy8DO9EIqy6aVsai4lH++XR6wfW2YeHoUx/2x9qbLovPhDdGV91DaGGuXtMVFV6aeQDum+8kVseDKi6J1/proGqwNs++zdzUeGaO3Fb4N9Bvvisaxo4vt7Pbpum9utKfPf/CUmD1jsCBqSxv+qfJ9Mfboau+djdn3ZKX3zcSL2za/GuELXUXPu+zzDFXLbAcMb92q/U4YF+ectX2fc9vqY/InNz+FbeA6Oum0gRdlqYtjxxVdjwbdJjbEpItbi2WuO5Ze3xpzry22h6mNPjf0e28cVbzucy/G1q+vCAC8lZQaNO3owVHPsxuLnbNsNyvbER3U6CP7DsK6Nm4a/GByZxwzMQapB1xxyOSYlf+Cm3l1Qyy9ckacPm1WzL1zVWwYZC++d1P/L3Yb5s+o1IIYcEuX7s4N44OsvXNuzL2ycmu/ZXGsql6Ket8JMfPPZsekoT7HVj7j8NugMRr79qd74uUBoUjvy9VXzebekAHkuJg45MzPDgT6flVdGXM/teW8PLUo2Jt7o4hBdrDNUojRemLlPfQ+vzo6v9wcp5/dGh3L1vYdxJZjUzz1T8XgAWNjzKAfuyHGHFHdXV8fG58vBgeY9KFqa5QkFZZ+LF3me260nD8jZpx9ejGPt13IOan7wOhsadhSw3t34hJgzz3Vd0pu/RFjBhwUFRrG9BfXHerX8nQ66SDLX33DYO94a3qi62d9a0ocOdSqMrZvTYmNm4oFKNVoKQLizW7VBXJHl9lC94ZVsfiW9piT2qy52mbVQuYD9camjX1bp1hwfs16VL1VLyqQGWpbvlNtneq5VAOQY2ZGx2d3cjl+tadv23Vkukb/ULL5v+q/dUb77Gw+nV9Tp6e4mMQW3p63xB7UG2uXLS6CkDHRfNog86lhUrTMKk5v690QK+a1ZOtt6qE0K+bctjpePKolZp6SPzKb12O2bLPjW/pPAfvu8liyYF7ldNTenlj/7bkx66srNg+bUi27P071h1bmPZgaP9oSHZ3zitMme2ND9pwZ09ti1cAaRKme3H9ONb02RG9dY35KWefXZ8bE1NO3WNabr1q1+f+VPad9fjqtriGmXjZIL6khvP5aZWk46N3FE17dFBvz9zMuJozbnhdJtQWLwR360Wy469aL0fVsMVh3ZIwurVB2to4OEp71r6ONMWb0lst4w6gji6EhZMvc7EsmVZa5Z9YXpxc2xJRLilMDh1BfX533T8WmIb7TAIC3np0Omvp3IrLdiE071jG69nLwjQ1D7Age0NC/k9y1C34Ry44Yhz5EqYtx53XGXTe2xKTqjtmrG/MCyS3Zgd2seSs3qw1TexrhLpeumnR0U0y9cF4sXDIvpm7tSnZb+Yw70wbjTyh2OmNVLPluTW+zNzbGiqXFCX0HTI6JR1cGt7S1nevs/xmscOo27VibpZ3uSZcvjoVXTo1xB1Qe3/vS+rzQ9Ixp06L1zrXRs9njh+v17HWLwVGNgwcnmf6Dga50RtUgxsWYQ4vBMvSsjc7zp+WFpRffnwomvxg9+x5UqWOS3fJTFbdhbPa40r3S2xciDN1bpabH1VC/lh8+esh5vWN6ouf/KwazZaZhiFMVawOsrmoDPv1AX0C82e3+6gXkd3CZzQ/6T4/mlvZYtGxVrE3F9qO/zRoGPejL5k8Jm6fht3X2nq9or9Rz2a7CzuXoum9OnN7cEu13rKgUu++OOKiYT40Ngy/cfT0wonvbp1Bl24yB19fcad2r4u77Kkt/3cnTY8oQGV7jp+dly0xrTB7fUGyHs8c3jI1JF8yLRd9oSplHxZjssxaDg3p7XdSPnhBTLm6PuadUvgN6f7wgFv2P/qR9/R2t0flYGm+IKW13xcJ0WvjYCTH10oXZeyiChhdWR/tXK/XjcnlNumL84CnR9s2F+SllY4+fGnNvvys6L6gEZd0/bI/W+Wsj/9+y747FV1VqPo35T5fHtFGVOlK1t6q+aQPaqL6umBvZ38pQ7xbBaW1tyT7PPxVPpG30AcfGkTvUy2m461bNd9wRg4SBw7atXlrbcUroEOpPnNxfXy0ZOy2mDrgK3UA7HuoDAG8FOx80jT22bwdpwz9srY7Llg46qH8HpKu7fwdyM+n0iGIwGg/KDqe236/695N3Sv3RU2L2guWx/PZ50XJa0fMg23nd+HBHXHRlfyHq2tAtXZ67v2joYLdBLpu+DbUFplNB7IU3tsXMMwa7vPv225k2qDuxJa6qFoi9bVacfnbqMTAjpv3BrEqx87rGmDJn+lZ/7RzaO6OuejCfLsm/2bzb8tZXcLuwvW1W1XjCzOi4Z3ks7pwdzU1FceP06/5dc2JmX/HTnZHNt75QpGvI9aT759XSwo1Z2xSDu0wqYHt5rHg+rSgp7OiIxal3w6Kijkk276YfUXnkbpd9+GqLbvr5kHOrvwfCqB3bNuy47PX7FrGhCzD3dPcfcTbuYANu7zLbf9CfHTKePDsWLq+pPZPdZp+c3zVAfdS/qxiMSTE3FSoeZD3qu23X5fC3X9ey9liQF93PlrNZm18RbJdJxeRvKgKMgyfF7NuzbfJ3FvfNp4WX9FXp2Uz/NrErun5eDG6mKzZWe/qN3kaIMwzrly6MyglV9VsUgR+o/ujJ0dq+OJYX7bZ8cWfMnjYhGl5eH2uLoGnInqpbqI+mj1ZP8OrNPnsRlL6xNr6/vLL01X16drQMuLJs/dG1NYhWxMp/KL54132/qD9UF1Mubomm2nD27fUxdtpV2fdH5bW6l62MNSkwSle+K0453fjfWqO5qCPVd5tXrUgYsWpeMe0vq6efVfQFvH01lzbEyv9eU7Cq9oeQeDEqX3s9sfbeu/LwKS+8niZtt+GuWzXfcVv5ThhJ1t/RHitqdxM2LIr2bVy5s793MwCwN9n5U+cOmxiTqwcNjy2MJdtxqk1V3ej+X/HWb9js2j39NvWfQtM4ZkfqPGyMpx4vBktSN2pCTPlSZyy/p624kk62E7VmeTxSFPOsP3RMZWc7s2b91iqxjhw71wapQGx7X6HidGn1rmyHuXefxphwWkvMW7BwJ2qwZAcJHygGn1sX64e5F76tNhuoYeykmN62MJYvqF7SOTsIWv794sBvZzTGmGrPrpc2xMZBP093bPzn6k75uBhT2qkUQ3j1ifhRUcA2xk6P2eeM679aVi5dmaoY3N0O6a9b1PPPGwc/COveGBuq7+/oMnsEDKYuRo/pW1PiqaFWlQ19a0r/6Sm1pykNesC5ua0vsxtjbSpunJscF188qXL1xT69MfhxXX00vr9v6xRPFJex3y2eWxrt+RXGss/28dnR9umSWqpmWX3quS2XkFQ3p29OfWl2TBq1+bfHUAfAdUcf27fsrftpTU/NqmfWV4pOZ4YuQj5Mr66O5UWoE8dMjymDXY1tO3T99+XFe5wQp/7e9s/v7ucH+bwvbIqnqpuJIU5RrMu++/r6YhZBT1f2vVF52tghemHWRePomh6cO7mtqRZI39DXs7oxJp03JW+fjXe19P0Q0jxtViz453Ex/bzUI3d1dKRTT6fPqFxB9eAp8YUBhde3bbjrVmP2+YvBIb8TRo7edZ1x1ZLKm6w/ZWZMPy6tT+mqje2xYiu9j/t7epd5eiAAMNKVUKNpTJz6h9XL73bH0j9ti5VDHITlaruwH/bhmFQcSPXctzxWb7HfX3PlnWxnbuL4mh3Amh4P6//Hlj2petYsjaXDOvWqxlCnTB3QFFPPrJ5ekak+7qiTYnLxC2XPffO3uvM1YuxMG2QHByu+elEs+HFdTJqzpO8Aevk9C2Pel6bEhJ3aqayPCR+tHoivjYXfWlu8h23Y0TYb6vGjp8Y5Hy+Gi4OsnVMX40+o9k5YG0vvH+wA9oFY2lcAe8Lgl2sv06/6T09L69MWkeCTK2P5LlmGa3sHbVnfK7fv+Phw9WpLjy3tv6pgjY33L+0LACccf2wxb3edMR+qFtDtiRUrqsV/a/SsjuXFKU/psvoTtrcjyQ4tsy9H39mu6QpqA3szdq+OB35YDA8w7iOTizbO3v/tA2rw7Cr56VMLKkF1dhB/1UWDFFEfroNHx5FFo3e/1HdeY5+XX6nOqNoeJ1XdsfrB1cXwAIeMj5OKguddf7001mzW0D2x5ttLsy1fUh+TP7JjfV+2ZeN3FxWXi8+2qWdPHlZ42rNuQbQtrASe9Z/+TE3tvp7o3lqY8caGbPmtBqX1cewHiv/9gP7v2g3rN2y53Gd6fvJE35l61Z58/T3DNsQTPxn0WfnrVTTGQem7M10BszaMHXj7+pTKwzN9PXyLwLbhgx/O32dv1q5ri2W7/viWWJBOST06mwn5DyEvRhw9Ndpu74jmc1qi/ZxxUfdaNv353mj8eEt03tyyZQ/cmn2N7pcH/zIY3rrVEOM/Uv0+3cp3XO1rvdETGx9dESseXL971t+qV9fGgmuL+moHTI7Zs6ZG81eKH2N6s3X8z4f+zH1XcdwVp5kCACNWKcXAG7IdtJn5r1uZF1ZHx8zTY9aVC2LFw9XCtytj8S0dMffz0+L0r2Q7JJVHZsbG1P9S1PnpXRVtn58Ti7IdqI0vZTtT2UHuotkzo6248k5dU0tMq/11d/SEmFjtdv5YZ1x2y8pYv6knep7fEGuWdcTstuoVonbCus44febcWLBsTWx4PtWC6I3e7CivK12d59vVnaeaeg5vHxfN/7X6edZHZ0u2k1t8nryWRPbe1j64ONq/Mi06q4HCHrcTbfD8mvh+cTpMXd2vKtNK1HDyF/ouydx93+Vx0dXZQd+Grr7aHBufXBUr5s+NWX9cs0ztYJt13dca077SHour7dSbPT699qOdsfDhymPi+CPj/cXgzqj/6PRoLj7PxjsvipbrVlQ+T7HMtnxxUVEAuCGmnje53J4SgzmgMcZU16E186Pz4Y2V+ZUdkG14uDNavrp0iwC3HHVx0MHVuGFV3JQdwKxPbbVpfaxZUy1OXx+TzmuOymHYxlj0xZboKNq0a8OaWHFdS1x0ZxHWHTw1pm/H5c93WnaAetHHK9u53ofbYubsRbHyyez9vrQx1j+4KOZ8vq0vJGj6L9Ni3Pae0rpDy2xNT7+XVsT8u7IDzp7K4zc+tjTa/mt7VDupbeG45mitvv8fd8as1gXF+6+sT10b1sbK/9YerWd3ltCDL+mJtbdcFUvznlj1MfG8qXHk/6v8X5vdBgsat8v7Y8xRlaGuQQKQ0Yf39YmLFQsW58tYbyogvmltLL3qC9E+5IwaE5P/sNgmvrQy2mZ3ZN9l62P9k2ti5S2zo624pHvdccPvcTSoN9bHynuKZfqAKXH671baaii9z62NtX3bw2wZzL5nF82dEefMXhob0kc7eEpcNqMoGJ57Ku5qPj2mfT4ta6tizbrKlepSu6/Jlt+557fG4iLQzT9bftpZZt+mOKm49H3vw+1xUSoInpbT/P+tbCtmX7uqksdn73vyhyqPrfvQSTEpH+yNVddeFB0PVq+Ml92ybd6qbF7mV5bL1H96cjTtbLB+2KSYmt5z74pYVHM6V35K6o3V0wuXx+L2mdGUr0v1+enCS5ZXps+fM6X/4gK1Dmrs7611d3t0PprWmexzr1uVLVPFHcNct8acOr2YR/3fcaserSxrax5OVwGcFaff0v+M7vuz77srO6PzutaYdfWqnd/H2S7Zepx6LRWnQU76r9n8S5vvUdl8nVFZx9JnHvwUuu7YVO0Od/yx2d4GALC3eNuvM8XwznmjK1bNmxMdP+jaegeQY1pi4fVTNvulduOyOXFRtjM11PPqxk6N9mzncOCFY7qzg73p81YP/rxsJ3veBRFz5qUrC42LlkUdMaWvh83a6Dx1TuTXHPr0vKHrkTzWOfSViXINMeXrCwacHtYTG5b8abTeNvTnSdKvsS3Fpey3pmtZa8y4pfIr8/Y+p2I7P2NhWG3wxsZY+sWLYkF+VDOIfRti7PhTY8aF06OppnfT2puqV8bK2mhbtapScPmV9liZ1xEaQu0ytYNtVjt/B5UKF9+aLTvbUVNmu9rqpTXR+V/birpIg2mIiZd0xNyTa9eQ2tceuCzvnO6H5sb0a9cM2u51x7fEVb/7/ZiT/t+B6+3zK6J1emfeU2XchQu3qJGVbPU9p+fPrBT93cyA/6dnTWdc1LZi6CsAHjwxZn9jbkzarH22Y9mvWU4GttVWl89U32XuRX01krZUF2OntUf7BeOKHg7bYUe3M08uiOYvDx4C1h0yJa7KtnuXX70ia9NB3n/Phlj69dZYMOT7TwY8b7ht/UL2vHMrz9uq7dg+DWXjXTNi1p3ZAW5d9p6/k73n2nAv9aaa3loEXQOk+nFXzoy4MlsXs1mx5fqaQrKL4vLs4HnQOTXocrel/mVp2+tt94Nzovm6Sqgw1HyutbVtV93RzXHVn06PCZsFJzXrxVYMuq1PFw1oqdZzG0Ld2Jh6TTqVuv+JPdmyfdGVW1l/M0N9vw9qK+ttrm/daIhJl94csz9aRgDdmy0L02POsi3XuM3ew3DWrUzPjxfE7K8V4eBgataPvuU9GbCt3Nb36ja/Q4aYt6kNZ2bT06ev+/jcuGtOTa/EbL9v6VdmVGoyxpiYfuv8vh9Tcq+ujvY/aItUEWt7lmkA4K2jlB5Nubc3Zjt2C+OuW2fH9I9PGHBFn7poGDU2mk6bHrO/PGmzkCkZc8a8WL6oLZpPGFtzxaTsOUc3RfOc+flVbQbbCW1IOz35VXf6r45Vd8CYaDpndsy/NdvR+mB/nZdhSb+EfnZSTBi1+dW36hoaY8LHp0fbosX9B399UpHT9HlSQd8B82Hfhr4rxU0dX0wbIYbXBu+KCWdMzHbph/Bqd2x4dHHMndk6/NMIswO61tvvivlzmqPp6Np2qIv6QyrtsNkytYNt1jhxerSc2RRjR/Vfuany2tnyemZrdH4z2yEvs3DxAU3Rkq64dPHkmHBIfd//WXdAUdcqe38DQ6ZdqeHktljUls3bw6rvJX32CTH54s64q21KTBhfOR2ldIdMibY/G3DFrDQPPjh6s4Cmvik7mPpmZ7Smdam4KmDfe0xXXFy07YP9Ur19THYQtjwWXpmWx5plJoWqJzTH7FvT1bR2IGRKdnQ7c8zMWDDI1caazmmL+bdn270PTYhqSect1I+Nqen9f70l327WXqEu/X9jT5gaLV+fusVB6rDshlN7xpxYnF7WuzJWr8sn9Xv7uJh5a2XZ6fucRTu15fXjmmLCicX0LaT6cwtj/oB2rszn9P1S8nL3xsZ44NtFz5W6STHtlG2vde/ct36L5aXSfgtj+Y0DQ6ZkQpzT2TbI9i57brbuVZ+7ZLBtff2EfLs1+HZ4Qkz6bFssXNK5WciUpFPXFn5zfsw+J/s/a7Z3+VVTx0+K6VcO8f8NV7ZudFyUenF1x6qrp8eMuYti1YbuLa46l/RWexjftHLQ0LZfXUyYdXO0ZZ9hTM02KH03Hllb73+Y61b9cTOz75lsOU3tUrO/UGmTbJtyxpHFlGx5//jUaErvoa4xJv5+067ZNtfqWRML5hWnzGXL5eyBp75m+31Tv5q1Xz6yMRZdtiDW18zr3v/1SFROUB0TJx2/+77XAIA9r7weTexdan7hrjt6csw886Ro3Ke4L/diPPXQ8lj8gw15j4C6FGRdWMrhK0BhYyz9/KxY8Ey2jTl5biy5ZOtXaWPv0POTpdF+2aJY81J/N6EU9hyUwp9XX4yu7pruQ4P0sqYM3bHyj5ujI5UJOL41Fn99N5wODgCMGIImhmX9bdOidUlPxKjm6FwwPcYOWo+mK5a2zIgFqczMcS2x+M8rVwACKEvvD9tj2lWpRlC5p5XyJvdGb3StWxkrH1wdq9Y/FS+mGl3FXSl0Gv2B8XHSiafGpI+PG3DlRkrxzOKY9flUd7A+pnz9rmg53kwGgL2JoIlh6IoVX54Rnakuw9Z+DU41UppbY+lLejQBu0p3rJo7PS/uvUUNGWAPqFknm2bHorbqFTsBgL1FeTWa2Is0xpEfLA7lnrwrFj28cfMaGG/0RveGVbGgdXYeMqX6DM2nCZmAXaEhJl3cGk11Eb0Pd8SCNbvnWlzA4Hp+MD860lUdD54SV80WMgHA3kiPJoYn1Wj6/JziksdbUdcYky/piNZSrv4DAAAAjGSCJobvja5Ye9/iuHvZj+KJ57r7618c0BgHHT4uJp04OSanq4UpzQAAAAB7BUETAAAAAKVQowkAAACAUgiaAAAAACiFoAkAAACAUgiaAAAAACiFoAkAAACAUgiaAAAAACiFoAkAAACAUgiaAAAAACiFoAkAAACAUgiaAAAAACiFoAkAAACAUgiaAAAAACiFoAkAAACAUgiaAAAAACiFoAkAAACAUgiaAAAAACiFoAkAAACAUgiaAAAAACiFoAkAAACAUgiaAAAAACiFoKlEr7/+elxzzTXxve99r5jS75lnnonzzz8/zjrrrPxvGq+1YMGC/L50S8O1qvel107/R5L+3nDDDVu8DgAAAMCeImgqyS9/+cuYPXt29PT0FFP6pftuu+22uPzyy+Pee+/N/6bxND2pBlPpvnRLqtNSkLTvvvvm0w8++OBYv359Pj39Peqoo+Kwww7LxwEAAAD2NEFTSVasWBFf/vKXY+LEicWUfk8//XS8//3v7wuF0t80nqannkk//elP4xOf+ER+X5KG07R03y9+8Ys46KCD8umHHnpoPPfcc3lAdf/99w/6fwEAAADsKW/7daYYpgTVnkif/OQn879Jmvbss8/GzJkziyn9j0th0bXXXhsXXHBBXxCVgqSbb745vvCFL+RhVAqX0utVn5Pst99+8dd//df561566aUxYcKE4p7Ntba2FkMAAAAAER0dHcVQ+QRNJRsqaEoGC5/OPvvsvlDp3e9+d35fCpqq4VPyyCOPxLnnnpvXanrPe94TmzZtitGjR8cRRxwRhx9+eNxzzz1x3nnnxTvf+c788bVS0DSv/RvF2N5h47e+Gf+67DvFGMNx/Py/jHcceGAxtvPWX3FFvLT+8WKMHVV38G/Gb998SzFWjh+d85n49b/9qhhjR73nxI/GkV/+cjG2815++ul4fPYfFWMMx5gZ58f7PvmpYgwAgKHMmf3VXRo0OXVuN0mh0kDpVLjk5Zdfju7u7ny4av/994+Ghoa8l9Orr76aFwN/4YUX8pDpYx/7WLzyyitx4IEHxj777JM//rXXXsv/AgAAAOwpgqbdYNSoUcVQvxQ8pekpKHrve99bTK1IoVM6Na4aIqVT7lIx8Obm5rxH01CnyQEAAADsSYKm3SCd3vazn/0sv4Jckv6m8TQ9ne6Wrh73N3/zN/l9SRpO02pPhUuFwZctWxYnnXRSPp4KhKdC4dWeTNVQCgAAAGBPETTtBqn2Uqq3dNVVV+WnwKW/abxak6lauyndl25JbT2n5KGHHsrDp2rB8FREfOHChfnrNDU1DVqfCQAAAGB3EjSVLAVEA0OiJAVEt99+e34KXPpbDYyqqqfHpVvt1emqBr5uCqmuv/76/PFOpQMAAABGAkETAAAAAKUQNAEAAABQCkETAAAAAKUQNAEAAABQCkETAAAAAKUQNAEAAABQCkETAAAAAKUQNAEAAABQCkETAAAAAKUQNAEAAABQCkETAAAAAKUQNAEAAABQCkETAAAAAKUQNAEAAABQCkETAAAAAKUQNAEAAABQCkETAAAAAKUQNAEAAABQCkETAAAAAKUQNAEAAABQCkETAAAAAKUQNAEAAABQCkETAAAAAKUQNAEAAABQCkETAAAAAKUQNAEAAABQCkETAAAAAKUQNAEAAABQCkETAAAAAKUQNAEAAABQCkETAAAAAKUQNAEAAABQCkETAAAAAKUQNAEAAABQCkETAAAAAKUQNAEAAABQCkETAAAAAKUQNAEAAABQCkETAAAAAKUQNAEAAABQCkETAAAAAKUQNAEAAABQCkETAAAAAKUQNAEAAABQCkETAAAAAKUQNAEAAABQCkETAAAAAKUQNAEAAABQCkETAAAAAKUQNAEAAABQCkETAAAAAKUQNAEAAABQCkETAAAAAKUQNAEAAABQCkETAAAAAKUQNAEAAABQCkETAAAAAKUQNAEAAABQCkETAAAAAKUQNAEAAABQCkETAAAAAKUQNAEAAABQCkETAAAAAKV4268zxTBvQa2trTGv/RvF2N5h47e+Gf+67DvFGMNx/Py/jHcceGAxtvPWX3FFvLT+8WKMHVV38G/Gb998SzFWjh+d85n49b/9qhhjR73nxI/GkV/+cjG2815++ul4fPYfFWMMx5gZ58f7PvmpYgyG51+/99144W//thhjOI74/IWx/+GHF2MAjERzZn81Ojo6irHyCZre4gRNDIegaWQRNI08gqaRR9BEGVLQtHHh7cUYw/HB9j8TNAGMcLs6aHLqHAAAAAClEDQBAAAAUApBEwAAAAClEDQBAAAAUApBEwAAAAClEDQBAAAAUApBEwAAAAClEDQBAAAAUApBEwAAAAClEDQBAAAAUApBEwAAAAClEDQBAAAAUApBEwAAAAClEDQBAAAAUApBEwAAAAClEDQBAAAAUApBEwAAAAClEDQBAAAAUApBEwAAAAClEDQBAAAAUApBEwAAAAClEDQBAAAAUApBEwAAAAClEDQBAAAAUApBEwAAAAClEDQBAAAAUApBEwAAAAClEDQBAAAAUApBEwAAAAClEDQBAAAAUApBEwAAAAClEDQBAAAAUApBEwAAAAClEDQBAAAAUApBEwAAAAClEDQBAAAAUApBEwAAAAClEDQBAAAAUApBEwAAAAClEDQBAAAAUApBEwAAAAClEDQBAAAAUApBEwAAAAClEDQBAAAAUApBEwAAAAClEDQBAAAAUApBEwAAAAClEDQBAAAAUApBEwAAAAClEDQBAAAAUApBEwAAAAClEDQBAAAAUApBEwAAAAClEDQBAAAAUApBEwAAAAClEDQBAAAAUApBEwAAAAClEDQBAAAAUApBEwAAAAClEDQBAAAAUApBEwAAAAClEDQBAAAAUApBEwAAAACl2GuCprVr18ZZZ5212e173/tece/ukf6/6v/95S9/OX75y18W90QsWLCg7740XKt63zXXXBOvv/56Pi39veGGG+KZZ57JxwEAAAD2tL2qR9Mpp5wS9957b3677bbb4sEHH8wDqN0hhUzPPvts3/9//fXXx7vf/e6++5LqfUl1WgqS9t1333z6wQcfHOvXr8+np79HHXVUHHbYYfk4AAAAwJ621546l0Ke4447Lp577rl8PAU6559/fl+votreQwPvq+2NVNsTKd0G6yWVHrtu3bo4++yziyn90v/x05/+ND7xiU8UUyIfTtPSfb/4xS/ioIMOyqcfeuih+ftNr3f//ffHxIkT8+kAAAAAI8FeGzSlsOZnP/tZHHvssfl46hl0++239/UqqvYeSmHPsmXL4vLLL++7r9obqdobqjo93T75yU/m02o9/fTTsd9++8XNN9/cF0hVT4977bXX4uc//3k+XNXQ0BCvvPJKft9gVq9eHR/5yEfiiiuuyF9rd/XKAgAAANiat/06Uwy/paUw5uqrry7GKi699NKYMGFCMba5as+kFBxVQ6GZM2fmf6tST6eOjo5obW3d6ils6f++8cYb87AqPS6FV9ddd12cdtppcfjhh+cB1Be+8IW+U+lSCHbttdfGBRdckI8/8sgjce655+bv4z3veU9s2rQpRo8eHUcccUT+/HvuuSfOO++8eOc735k/vlZ6b7Nm/ZdibO/wixUromfVQ8UYwzHqyqviNw44oBjbeT/vvCle3/BUMcaO+ncHHRSNl11ejJXj2Uu+Er9+441ijB21328fHwf95/OKsZ3X+y//Ev/nuj8rxhiOA3//D6L+9z5WjMHw9Pzd38Yv/vo7xRjD8ZsX/1HU/dZvFWMAjETz5/9FnmXsKntV0LRmzZotwqKqFO6kHkKpjlLVZz/72b4eStWg6l3veldfYJRUQ6PHHnssrwE12OtX6zPV3ledlk6nq4ZK1ddM76U2fEoBU6ondfzxx+c9oz72sY/F448/HieddFK8733vizvvvDN/nWpQVSsFTbtyARqJfvbNv4pN31lajDEcv/uXd8Q7DmwoxnbeP15+Wbz048eLMXbUPr95SHzolr8oxsrxw8+cFf/vV78qxthRB5/00Tim9SvF2M57+el/jv/1RxcXYwzHEedfEKM+9eliDIbnue/eF/98+23FGMPx2392Xex/+BHFGAAj0a7OCfbaU+dqVXsQpdpL1VPgUshUK/V8StNTyJQKiafnJKkX0de+9rX8vmSwGk2jRo2KF154IQ+lBtpnn33ive99bzFW0d3dnQdK6b4kBVTp9Zubm/MeTUP1wgIAAADYkwRNg0ghUupBNJhUP2n//fcvxjaXinUPZty4cfnf6hXjUuCUioM3NTXlQVW6etzf/M3f5PclaThNqz0VrlorKvViSlKB8FQovFrHqRpKAQAAAOwpgqZMOuXsxBNPjEsuuSQvrp1Oofv93//9/L4U8KQr0FWLeKdT3FJtpWox8Or0dEvh0cknn5w/r1YKjNJpcAsXLswfl+otjR8/vq9nUvX0vOrrJAOLij/00EN5+FQ9vS5dcS69Xno/1cAKAAAAYE/aa2o07a3UaGI41GgaWdRoGnnUaBp51GiiDGo07Tw1mgBGPjWaAAAAAHhTEDQBAAAAUApBEwAAAAClEDQBAAAAUApBEwAAAAClEDQBAAAAUApBEwAAAAClEDQBAAAAUApBEwAAAAClEDQBAAAAUApBEwAAAAClEDQBAAAAUApBEwAAAAClEDQBAAAAUApBEwAAAAClEDQBAAAAUApBEwAAAAClEDQBAAAAUApBEwAAAAClEDQBAAAAUApBEwAAAAClEDQBAAAAUApBEwAAAAClEDQBAAAAUApBEwAAAAClEDQBAAAAUApBEwAAAAClEDQBAAAAUApBEwAAAAClEDQBAAAAUApBEwAAAAClEDQBAAAAUApBEwAAAAClEDQBAAAAUApBEwAAAAClEDQBAAAAUApBEwAAAAClEDQBAAAAUApBEwAAAAClEDQBAAAAUApBEwAAAAClEDQBAAAAUApBEwAAAAClEDQBAAAAUApBEwAAAAClEDQBAAAAw/LrX/86FixYEBMmTIh/+qd/KqZWbNq0KWbNmhXvec974rDDDosbbrghXn311eLeiJ///Ofxuc99Lg444ID4yle+Ei+//HJxT8S//du/xWWXXRbLli0rpvBmIWgCAAAAhuV//s//Gd/97nfjkEMOKaZUdHd35+HRqFGj4oknnoi//du/jR//+Mdx44035iFSsnz58jjhhBPyx6bn33333fn0JD3nxRdfjEmTJhVTeLMQNAEAAAA7LAVEKTj6gz/4g9hnn32KqRX/8A//kAdKX/rSl/IQ6f3vf3987Wtfi1WrVuU9n1577bVYu3Zt/Pt//+/j7W9/e0ycODEPonp7e+P111+Pv/qrv4qpU6fmvZ14cxE0AQAAADvkjTfeiNtuuy1+53d+J++VlIKjWiloampqioaGhmJK5IHT6NGjY8OGDfkpd/vuu2/f/QceeGC87W1vy1933bp1+eudeOKJ+X28uQiaAAAAgB3yyCOPxP/+3/87zjvvvGJKvxQS/cu//EuMGTOmmFKx33775dNS0JRCpVSvKfWKSn7xi1/k4VPq0ZR6M5111ll5EMWbj6AJAAAA2G7PP/983pvpj/7ojzbrsVSVAqPUM2koPT09+al2qYB4CqvSY1evXh3HHXdc3pupvr4+Lx5+7rnn5qfOzZ07d7NC4YxsgiYAAABgu6S6SwsXLozJkyfn9ZV2RqrBlOoypYLhKbw67bTT4pvf/GaceeaZsWTJkjj11FPj//7f/xvvfOc7Y+XKlcWzGOkETQAAAMB2+bu/+7u8mPfv/d7v5VeFS0HQSy+9lPdKSn9/+ctf5o9LBb6H8u/+3b/L/6a6TNdff30eMv35n/95PP744/Gbv/mb8YEPfCCee+65+NCHPhTveMc78v/rH//xH/OeUox8giYAAABgu6RT3O644478KnIHH3xwfvvwhz8cDz30UP539uzZ+eN+67d+KzZu3JgPV73yyiv5tCOOOKKY0i/Varr77rujubk5fvWrX8Wzzz6b13FKUmjV1dW1RcFxRiZBEwAAALBdUr2k1LOo9vbkk0/GKaeckv+99dZb8yLeKXR67LHH+op9J6nn0qZNm+KDH/xgMaXfqlWr4qijjopjjjkmLxre2NgYr7/+en5fCqgOPfRQxcHfJARNAAAAQKlOOOGEvFD4DTfckAdMP/vZz+Kaa66J3/md38lPjav1f/7P/4n77rsvPvOZz+S9l1KglK5Ol06XS72bHn744bxQOG8OgiYAAACgVPvvv39cffXV+RXmjj322PjYxz6WF/2eM2dOX42mqhUrVsT48ePzK81VpSvOpV5O73nPe+I3fuM38uLjvDkImgAAAIBhSz2U0lXhBvZUeu973xt/9md/lhcMf+aZZ+LKK6+Md73rXcW9/T73uc/Fl770pb6aTEl67l/+5V/mBcbb2try4Io3B0ETAAAAAKUQNAEAAABQCkETAAAAAKUQNAEAAABQCkETAAAAAKV4268zxTBvQa2trdHR0VGM7R1+9s2/ik3fWVqMMRy/+5d3xDsObCjGdt4/Xn5ZvPTjx4sxdtQ+v3lIfOiWvyjGyvHDz5wV/+9XvyrG2FEHn/TROKb1K8XYznv56X+O//VHFxdjDMcR518Qoz716WIMhue5794X/3z7bcUYw/Hbf3Zd7H/4EcUYsKv96hfd8X/XrCnGGK7GT5xSDO0ddnVOIGh6ixM0MRyCppFF0DTyCJpGHkETZRA07TxBE+xeKWj6H5/7bDHGcIz+g6nx/nP/czG2d9jVOYFT5wAAAAAohaAJAAAAgFIImgAAAAAohaAJAAAAgFIImgAAAAAohaAJAAAAgFIImgAAAAAohaAJAAAAgFIImgAAAAAohaAJAAAAgFIImgAAAAAohaAJAAAAgFIImgAAAAAohaAJAAAAgFIImgAAAAAohaAJAAAAgFIImgAAAAAohaAJAAAAgFIImgAAAAAohaAJAAAAgFIImgAAAAAohaAJAAAAgFIImgAAAAAohaAJAAAAgFIImgAAAAAohaAJAAAAgFIImgAAAAAohaAJAAAAgFIImgAAAAAohaAJAAAAgFIImgAAAAAohaAJAAAAgFIImgAAAAAohaAJAAAAgFIImgAAAAAohaAJAAAAgFIImgAAAAAohaAJAAAAgFIImgAAAAAohaAJAAAAgFIImgAAAAAohaAJAAAAgFIImgAAAAAohaAJAAAAgFIImgAAAAAohaAJAAAAgFIImgAAAAAohaAJAAAAgFIImgAAAAAohaAJAAAAgFIImgAAAAAohaAJAAAAgFIImgAAAAAohaAJAAAAgFIImgAAAAAohaAJAAAAgFIImgAAAAAohaAJAAAAgFIImgAAAAAohaAJAAAAgFIImgAAAAAohaAJAAAAgFIImgAAAAAohaAJAAAAgFIImgAAAAAohaAJAAAAgFIImgAAAAAohaAJAAAAgFIImgAAAAAohaAJAAAAgFIImgAAAAAohaAJAAAAgFIImgAAAAAohaAJAAAAgFIImgAAAAAohaAJAAAAgFIImgAAAAAohaAJAAAAgFIImgAAAAAohaAJAAAAgFIImgAAAAAohaAJAAAAgFIImgAAAAAohaAJAAAAgFIImgAAAAAohaAJAAAAgFIImgAAAAAohaAJAAAAgFIImgAAAAAohaAJAAAAgFIImgAAAAAohaAJAAAAgFIImgAAAAAohaAJAAAAgFIImgAAAAAohaAJAAAAgFIImgAAAAAohaAJAAAAgFIImgAAAAAohaAJAAAAgFIImgAAAAAohaAJAAAAgFIImgAAAAAohaAJAAAAgFIImgAAAAAohaAJAAAAgFIImgAAAAAohaAJAAAAgFIImgAAAAAohaAJAAAAgFIImgAAAAAohaAJAAAAgFIImgAAAAAohaAJAAAAgFIImgAAAAAohaAJAAAAgFIImgAAAAAohaAJAAAAgFIImgAAAAAohaAJAAAAgFIImgAAAAAohaAJAAAAgFIImgAAAAAohaAJAAAAgFIImgAAAAAohaAJAAAAgFIImgAAAAAohaAJAAAAgFIImgAAAAAohaAJAAAAgFIImgAAAAAohaAJAAAAgFIImgAAAAAohaBphFiwYEGcddZZ+S0N16red80118Trr7+eT0t/b7jhhnjmmWfycQAAAIA9TdA0Anzve9/L/9577735LalOS0HSvvvum08/+OCDY/369fn09Peoo46Kww47LB8HAAAA2NMETXtY6pn005/+ND7xiU8UUyIfTtPSfb/4xS/ioIMOyqcfeuih8dxzz8Uvf/nLuP/++2PixIn5dAAAAICRQNC0h7322mvx85//vBiraGhoiFdeeSW/bzCrV6+Oj3zkI3HFFVfkp9StXbu2uAcAAABgz3nbrzPFMHtA6p108803xxe+8IV497vf3Tft2muvjQsuuCAff+SRR+Lcc8/NazW95z3viU2bNsXo0aPjiCOOiMMPPzzuueeeOO+88+Kd73xn/vhara2txRAAAABAREdHRzFUPkHTHlYbKlXrLQ0Mn1LA9OCDD8bxxx8f++23X3zsYx+Lxx9/PE466aR43/veF3feeWecffbZfUEVAAAAwJ7g1Lk9bJ999on3vve9xVhFd3d3Hiil+5KZM2fmxcCbm5vzHk0TJkzIpwMAAACMJIKmPSyd7pauHvc3f/M3xZTIh9O02lPhUmHwZcuW5b2YklQgPBUKr9ZxqoZSAAAAAHuKoGkE+OQnP5n/TYW90y2pTqt66KGH8vCpenpduuLcwoUL81PumpqaBq3PBAAAALA7qdEEAAAAQCn0aAIAgLewVILh29/+dv53oLVr1+Y96tPFZwCgDHo0AQww8MqP7Bnf+9734o477ohLL73URRBGCOvGyJLa44orroiXXnopLr/88r7T62GgFDBdd9118dhjj+Xjp5xySn6xmdqrH6caoYceeugW5RsAtlf1e+nZZ58tpgwubWv+5E/+xL7EW5igCdgrVUOMqs9+9rN9O9cOpne/2vY4/vjj4wMf+ED83d/9XcyYMSNuvPHGmDZtmoOf3Wh7dhTtJO5eA7dLzzzzTFx11VX5unHsscfmw1/84heFsm9RA7+zqgZ+d6WLwwxWtzMFTbfeemucccYZeSCZei+lGp8HHnhgfrGZz3/+8/kFZu65554477zz1P58ixMGALuaoAl2MQdsI8/AHe6kespA9RdeQdPuk9rjzjvvjLPPPjuf3w8//HD8/d///WYH1NUDIQc/u0/tOlFl3dhzBs77FDwk1ZDBevLWlU5tSxeAGbifUN2/SIF8Coxuu+22uOSSSwZdN9Nja0Ok9JrPPfdcHlJWl5ukdlsMAMOlRhPsYunXxcMPPzzvmn7vvfcOerv++uvt1O1G6Vfb/fbbL973vvcVU/oPpqsHb+w+qT2StK4kKfxL7VMdT+2UxquPY/dI60Tq8fDlL385P0hl5Bk1alQxZD15q0pB/N/+7d/m6+HA/YQ0nqanXp+pR1s6/W2ofYnq9rS6fKSQKfnFL34Rr7zySj4MAGURNMEuln45TD1n0i+NDtZGhoE73FXpwDr1PFuxYkUxhd1hqPaoStNfeOGFYozdKZ2GlXpRpF4TqQcEI5f15K0ptWsKghoaGoopm0vTU+C4rRpdaV8k9Z5OYVQq/L1u3br8tVNIlQLK9evX57e0DFW3yew90o9sabkYePNDAzvLsrX3EjTBbpB2/lIdjdWrVxdT2JOqO9zpNIKBUtj06quvxvPPP19MYVertkd1/Ujry5e+9KV8evL000/nfx387Bmph0TqdblmzZr8YPbll18u7mF3S9ulalCQ6vVUe6Uk1pO91/777z9kEFUrnWZZ7Un9ta99Lc4888y4/fbb89Pm7r///vz0vHRqZnXby94hHeyn4DH9IJp636cfR9Myki7EkYrG63HPcFm29m5qNAEA22WoWjHArlG9Wtxpp502aKH3tE6mkOjiiy8WEDEsKQyo1u/613/913jkkUfi3HPP3aJ+Iuwoy9beTY8m2I1Scd3abqPXXHNNvrFlz9EmI4v2GHlq2+Tqq6+OQw45RK+ZPcx6svdI4VEKmdIpbqnge600nqan+7cVMqUDvnSqSlpe0vIDVbWnr6eecalXd9qeOB2XnWXZ2rsJmmA3SL84pp27dHpQtdt6uo0fPz5P9hWg3v20yciiPUYebTLyaJO9U+rJ9MUvfjG/olxq/+otjafpg/V0Gij1GkinwKblJam+Rlqm2LulkPKoo46K7u7uvt4laXuSTtM9+OCD9Thh2CxbezenzsEulpL7rXUPTb8yulz47qVNRhbtMfJok5FHm1C2tEyl0/JS7S+nwwJQJj2aYBdL3UOToU41SdNTqs/uo01GFu0x8miTkUebMJRHH300Dxp3RDrt7sILL4zHHnssjjvuOCETAKUSNMEulnb+03nI6bLBg3E54d1Pm4ws2mPk0SYjjzbZe6VQ6Pzzz89PdUt/q7WaqtPvvvvufHxbUhhVrdOUTqPr6OjIT6VLV1tl71a7jNXeXIKenZGWnVQTLvWerJXG03TL1lubU+dgN0gb0iuuuCKeffbZYkq/VGtDl/XdT5uMLNpj5NEmI4822ftUT2+rXnUuBQLLli3L70tXcEqXCd+eGk3VZWfGjBnb9Xj2HgOXMShL2u5UrzpXe8GCVBvO1TLf+gRNAAAwAqUDtYG1t6pXjdvZnkhqNJEMFQbAzkgXp7jjjjuKsc29613vissvvzwOO+ywYgpvRYImAAAYgYYKmpqamobd+yT1Jrj66qvz4c9+9rPxyU9+Mh9m75QCx61daACGKy1b3/3ud+NTn/qUEHMvpEYTAAC8haUDvmuuuSavu7NkyZI4/vjj49prrxUykQcAKbhMgWZaTqAsadk688wzhUx7KT2aAABgBKrWVhqsLlfV1upzVZ//0ksv9Z2qksKEW2+9Nc444wynrrDVZUztN3ZW2t6kU3TTFS6rUtCtPtNbn6AJAADeotKpdg8++GDfwV0iaAJ2h7T9SYFlbe/JVL8pBZuuePnW5tQ5AAB4i0oHc/fee280NzfHhRdeGOeee26sW7euuBdg10i95V544YWYOHFiMaUijafp6X7euvRogt1kqKsv1BbiTBvcffbZR1fS3USbjCzaY+TRJiOPNqEM1V5OTo3ae1WvXpiKgDt1jl0hfRcNdkXDdDqdAvRvfYIm2A3SFV4WLly4xZd12gCnL/cZM2bEgQceGLfddltccsklNrq7gTYZWbTHyKNNRh5tQtmeeeYZywuwywx2lcz0XbZmzRqnzr3FCZpgF9tW0c20k3fVVVflw9VCnexa2mRk0R4jjzYZebQJAG821R9CanvM6Sm3d1CjCXax1157LV555ZVoaGgopmwuTR81apQDg91Im4ws2mPk0SYjjzYBypQCgGuuuSb/m6Qw+4YbbshDayhLCpOuv/76vE5c9ZbGhUxvfYImGAH233//IQ8e2DO0yciiPUYebTLyaBMA9rSBISZ7J0ET7GKpIGvy9NNP538Hqk6vPo5dT5uMLNpj5NEmI482AQDeLARNsIulqyycdtppceONN27RHTmNp+npflcH2n20yciiPUYebTLyaBMA4M3ibYqBw+6RrrBw9dVXF2P9Lr300s2uxMDuo01GFu0x8miTkUebAGUYrEjzQIo2MxyWLRJBEwAAALDTUtB08803xxe+8AVB0l7MqXMwAjz66KMK5o0w2mRk0R4jjzYZebQJADASCJpgN0j1M84///w466yz8r/V+hrV6XfffXc+zu6jTUYW7THyaJORR5sAAG8GTp2DXez111+P6667Li/SmupnpAOCZcuW5fc98sgj6mrsAdpkZNEeI482GXm0CQDwZqFHE+xir732Wv738MMPz/8edthhsd9+++W3e++914HBHqBNRhbtMfJok5FHmwAAbxaCJthDmpqaiiFGCm0ysmiPkUebjDzaBAAYaQRNAAAAAJRCjSbYxdIVgK644op49tlniylbOvTQQ+NP/uRPXAJ0N9EmI4v2GHm0ycijTQCANwtBEwAAAAClcOocAAAAAKUQNAEAAABQCkETAAAAAKUQNAEAAABQCkETAAAAAKUQNAEAAABQCkETAAAAAKUQNAEAAABQCkETAAAAAKUQNAEAAABQCkETAAAAAKUQNAEAAABQCkETAAAAAKUQNAEAAABQCkETAAAAAKUQNAEAAABQgoj/H7w9fwgW1aQwAAAAAElFTkSuQmCC)"
      ],
      "metadata": {
        "id": "Kz2PiUig_Qih"
      }
    }
  ]
}