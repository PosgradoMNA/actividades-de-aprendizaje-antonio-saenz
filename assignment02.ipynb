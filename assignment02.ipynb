{
  "nbformat": 4,
  "nbformat_minor": 0,
  "metadata": {
    "colab": {
      "name": "assignment01.ipynb",
      "provenance": [],
      "include_colab_link": true
    },
    "kernelspec": {
      "name": "python3",
      "display_name": "Python 3"
    },
    "language_info": {
      "name": "python"
    }
  },
  "cells": [
    {
      "cell_type": "markdown",
      "metadata": {
        "id": "view-in-github",
        "colab_type": "text"
      },
      "source": [
        "<a href=\"https://colab.research.google.com/github/PosgradoMNA/actividades-de-aprendizaje-antonio-saenz/blob/main/assignment02.ipynb\" target=\"_parent\"><img src=\"https://colab.research.google.com/assets/colab-badge.svg\" alt=\"Open In Colab\"/></a>"
      ]
    },
    {
      "cell_type": "code",
      "execution_count": 1,
      "metadata": {
        "id": "LzUSMM79NR9P",
        "outputId": "30282bdf-5a99-4861-e9ff-bfd1d7a5daea",
        "colab": {
          "base_uri": "https://localhost:8080/"
        }
      },
      "outputs": [
        {
          "output_type": "stream",
          "name": "stdout",
          "text": [
            "assignment02 for GitJobish02 and edited in git, and 18\n"
          ]
        }
      ],
      "source": [
        "print('assignment02 for GitJobish02 and edited in git, and 18')"
      ]
    },
    {
      "cell_type": "code",
      "source": [
        "## Uncomment these if working locally, else let the following code cell run.\n",
        "\n",
        "import urllib.request\n",
        "url = 'https://cf-courses-data.s3.us.cloud-object-storage.appdomain.cloud/IBMDeveloperSkillsNetwork-PY0101EN-SkillsNetwork/labs/Module%204/data/example1.txt'\n",
        "filename = 'Example1.txt'\n",
        "urllib.request.urlretrieve(url, filename)\n",
        "\n",
        "## Download Example file\n",
        "#!wget -O /resources/data/Example1.txt https://cf-courses-data.s3.us.cloud-object-storage.appdomain.cloud/IBMDeveloperSkillsNetwork-PY0101EN-SkillsNetwork/labs/Module%204/data/example1.txt"
      ],
      "metadata": {
        "id": "mxM_WppZPMFx",
        "outputId": "9dac606a-66e8-411c-c2a1-d891e1d956e8",
        "colab": {
          "base_uri": "https://localhost:8080/"
        }
      },
      "execution_count": 6,
      "outputs": [
        {
          "output_type": "execute_result",
          "data": {
            "text/plain": [
              "('Example1.txt', <http.client.HTTPMessage at 0x7f371841b8d0>)"
            ]
          },
          "metadata": {},
          "execution_count": 6
        }
      ]
    },
    {
      "cell_type": "code",
      "source": [
        "file1 = open(filename, \"r\")"
      ],
      "metadata": {
        "id": "z7cK55Tm7dQC"
      },
      "execution_count": 7,
      "outputs": []
    },
    {
      "cell_type": "code",
      "source": [
        "# Print the path of file\n",
        "\n",
        "file1.name"
      ],
      "metadata": {
        "id": "u3qEswM07s1M",
        "outputId": "7ab98cb4-709e-4c1a-d858-b8550b16c8ba",
        "colab": {
          "base_uri": "https://localhost:8080/",
          "height": 35
        }
      },
      "execution_count": 8,
      "outputs": [
        {
          "output_type": "execute_result",
          "data": {
            "text/plain": [
              "'Example1.txt'"
            ],
            "application/vnd.google.colaboratory.intrinsic+json": {
              "type": "string"
            }
          },
          "metadata": {},
          "execution_count": 8
        }
      ]
    },
    {
      "cell_type": "code",
      "source": [
        "# Print the mode of file, either 'r' or 'w'\n",
        "\n",
        "file1.mode"
      ],
      "metadata": {
        "id": "Y8Fxhqv17ujO",
        "outputId": "5cf78639-9b58-4a78-85b0-2d1d17b042b5",
        "colab": {
          "base_uri": "https://localhost:8080/",
          "height": 35
        }
      },
      "execution_count": 9,
      "outputs": [
        {
          "output_type": "execute_result",
          "data": {
            "text/plain": [
              "'r'"
            ],
            "application/vnd.google.colaboratory.intrinsic+json": {
              "type": "string"
            }
          },
          "metadata": {},
          "execution_count": 9
        }
      ]
    },
    {
      "cell_type": "code",
      "source": [
        "# Read the file\n",
        "\n",
        "FileContent = file1.read()\n",
        "FileContent"
      ],
      "metadata": {
        "id": "FFYn_-q37wPs",
        "outputId": "13352355-9063-427d-e3b0-d8255d301412",
        "colab": {
          "base_uri": "https://localhost:8080/",
          "height": 35
        }
      },
      "execution_count": 10,
      "outputs": [
        {
          "output_type": "execute_result",
          "data": {
            "text/plain": [
              "'This is line 1 \\nThis is line 2\\nThis is line 3'"
            ],
            "application/vnd.google.colaboratory.intrinsic+json": {
              "type": "string"
            }
          },
          "metadata": {},
          "execution_count": 10
        }
      ]
    },
    {
      "cell_type": "code",
      "source": [
        "# Print the file with '\\n' as a new line\n",
        "\n",
        "print(FileContent)"
      ],
      "metadata": {
        "id": "UJNFsZxZ8Fb4",
        "outputId": "f5db64b1-f9f2-48a5-a766-2bf2de444dc1",
        "colab": {
          "base_uri": "https://localhost:8080/"
        }
      },
      "execution_count": 11,
      "outputs": [
        {
          "output_type": "stream",
          "name": "stdout",
          "text": [
            "This is line 1 \n",
            "This is line 2\n",
            "This is line 3\n"
          ]
        }
      ]
    },
    {
      "cell_type": "code",
      "source": [
        "# Type of file content\n",
        "\n",
        "type(FileContent)"
      ],
      "metadata": {
        "id": "SpLBbSCS8Ic6",
        "outputId": "65cf8e78-126f-4ee7-c6cf-9145da657e4a",
        "colab": {
          "base_uri": "https://localhost:8080/"
        }
      },
      "execution_count": 12,
      "outputs": [
        {
          "output_type": "execute_result",
          "data": {
            "text/plain": [
              "str"
            ]
          },
          "metadata": {},
          "execution_count": 12
        }
      ]
    },
    {
      "cell_type": "code",
      "source": [
        "# Close file after finish\n",
        "\n",
        "file1.close()"
      ],
      "metadata": {
        "id": "qCPOJxkk8Kvf"
      },
      "execution_count": 13,
      "outputs": []
    },
    {
      "cell_type": "markdown",
      "source": [
        "## **A Better Way to Open a File**\n",
        "Using the with statement is better practice, it automatically closes the file even if the code encounters an exception. The code will run everything in the indent block then close the file object."
      ],
      "metadata": {
        "id": "c3MIbwPj9HHS"
      }
    },
    {
      "cell_type": "code",
      "source": [
        "# Open file using with\n",
        "\n",
        "with open(filename, \"r\") as file1:  #aquí opté por usar la misma variable filename en todo el lab, por facilidad\n",
        "    FileContent = file1.read()\n",
        "    print(FileContent)"
      ],
      "metadata": {
        "id": "sJyTkh6G9J3y",
        "outputId": "2353ff17-c352-4eb4-a91f-d7247d450136",
        "colab": {
          "base_uri": "https://localhost:8080/"
        }
      },
      "execution_count": 15,
      "outputs": [
        {
          "output_type": "stream",
          "name": "stdout",
          "text": [
            "This is line 1 \n",
            "This is line 2\n",
            "This is line 3\n"
          ]
        }
      ]
    },
    {
      "cell_type": "code",
      "source": [
        "# Verify if the file is closed\n",
        "\n",
        "file1.closed"
      ],
      "metadata": {
        "id": "9cqpxEF89aIA",
        "outputId": "8545c6bb-52f7-424b-c680-a4d5571267c6",
        "colab": {
          "base_uri": "https://localhost:8080/"
        }
      },
      "execution_count": 16,
      "outputs": [
        {
          "output_type": "execute_result",
          "data": {
            "text/plain": [
              "True"
            ]
          },
          "metadata": {},
          "execution_count": 16
        }
      ]
    },
    {
      "cell_type": "code",
      "source": [
        "# See the content of file\n",
        "\n",
        "print(FileContent)"
      ],
      "metadata": {
        "id": "EzRsQKpW9cxI",
        "outputId": "fe6b7629-6663-46f6-e05c-4d3dfad713f6",
        "colab": {
          "base_uri": "https://localhost:8080/"
        }
      },
      "execution_count": 17,
      "outputs": [
        {
          "output_type": "stream",
          "name": "stdout",
          "text": [
            "This is line 1 \n",
            "This is line 2\n",
            "This is line 3\n"
          ]
        }
      ]
    },
    {
      "cell_type": "code",
      "source": [
        "# Read first four characters\n",
        "\n",
        "with open(filename, \"r\") as file1:\n",
        "    print(file1.read(4))"
      ],
      "metadata": {
        "id": "3GowwJxp9rg2",
        "outputId": "45221828-a957-44c5-9087-32c70b4cd968",
        "colab": {
          "base_uri": "https://localhost:8080/"
        }
      },
      "execution_count": 18,
      "outputs": [
        {
          "output_type": "stream",
          "name": "stdout",
          "text": [
            "This\n"
          ]
        }
      ]
    },
    {
      "cell_type": "code",
      "source": [
        "# Read certain amount of characters\n",
        "\n",
        "with open(filename, \"r\") as file1:\n",
        "    print(file1.read(4))\n",
        "    print(file1.read(4))\n",
        "    print(file1.read(7))\n",
        "    print(file1.read(15))"
      ],
      "metadata": {
        "id": "-3mE8dzj9x8i",
        "outputId": "60f49fb3-1e59-4899-84a5-bdceedcd4a69",
        "colab": {
          "base_uri": "https://localhost:8080/"
        }
      },
      "execution_count": 20,
      "outputs": [
        {
          "output_type": "stream",
          "name": "stdout",
          "text": [
            "This\n",
            " is \n",
            "line 1 \n",
            "\n",
            "This is line 2\n"
          ]
        }
      ]
    },
    {
      "cell_type": "markdown",
      "source": [
        "*En la siguiente imágen se explica mediante colores cada llamada del bloque anterior, entiendo por qué obtenemos dicha salida. Importante resaltar que podemos leer un caracter de salto de línea y este se verá reflejado tal cual en la salida (en este caso al hacer print):*\n",
        "\n",
        "![image.png](data:image/png;base64,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)"
      ],
      "metadata": {
        "id": "qAmn2r4r977E"
      }
    },
    {
      "cell_type": "code",
      "source": [
        "# Read certain amount of characters\n",
        "\n",
        "with open(filename, \"r\") as file1:\n",
        "    print(file1.read(16))\n",
        "    print(file1.read(5))\n",
        "    print(file1.read(9))"
      ],
      "metadata": {
        "id": "5_NrcZgi-E4A",
        "outputId": "729e1418-11ed-4f0d-8572-d18da56c62d6",
        "colab": {
          "base_uri": "https://localhost:8080/"
        }
      },
      "execution_count": 22,
      "outputs": [
        {
          "output_type": "stream",
          "name": "stdout",
          "text": [
            "This is line 1 \n",
            "\n",
            "This \n",
            "is line 2\n"
          ]
        }
      ]
    },
    {
      "cell_type": "code",
      "source": [
        "# Read one line\n",
        "\n",
        "with open(filename, \"r\") as file1:\n",
        "    print(\"first line: \" + file1.readline())"
      ],
      "metadata": {
        "id": "_jCJeGZL-tfR",
        "outputId": "85228a22-b371-4a8c-be6a-4ec0914eee83",
        "colab": {
          "base_uri": "https://localhost:8080/"
        }
      },
      "execution_count": 24,
      "outputs": [
        {
          "output_type": "stream",
          "name": "stdout",
          "text": [
            "first line: This is line 1 \n",
            "\n"
          ]
        }
      ]
    },
    {
      "cell_type": "code",
      "source": [
        "with open(filename, \"r\") as file1:\n",
        "    print(file1.readline(20)) # does not read past the end of line\n",
        "    print(file1.read(20)) # Returns the next 20 chars"
      ],
      "metadata": {
        "id": "K1AaUTNT-y44",
        "outputId": "6a66c83a-3c0c-432c-c708-e767347cd1a0",
        "colab": {
          "base_uri": "https://localhost:8080/"
        }
      },
      "execution_count": 25,
      "outputs": [
        {
          "output_type": "stream",
          "name": "stdout",
          "text": [
            "This is line 1 \n",
            "\n",
            "This is line 2\n",
            "This \n"
          ]
        }
      ]
    },
    {
      "cell_type": "code",
      "source": [
        "# Iterate through the lines\n",
        "\n",
        "with open(filename,\"r\") as file1:\n",
        "        i = 0;\n",
        "        for line in file1:\n",
        "            print(\"Iteration\", str(i), \": \", line)\n",
        "            i = i + 1"
      ],
      "metadata": {
        "id": "wecmOUYx-3ku",
        "outputId": "e32d21ee-f42e-4e9b-dc73-2e4a23328004",
        "colab": {
          "base_uri": "https://localhost:8080/"
        }
      },
      "execution_count": 26,
      "outputs": [
        {
          "output_type": "stream",
          "name": "stdout",
          "text": [
            "Iteration 0 :  This is line 1 \n",
            "\n",
            "Iteration 1 :  This is line 2\n",
            "\n",
            "Iteration 2 :  This is line 3\n"
          ]
        }
      ]
    },
    {
      "cell_type": "code",
      "source": [
        "# Read all lines and save as a list\n",
        "\n",
        "with open(filename, \"r\") as file1:\n",
        "    FileasList = file1.readlines()"
      ],
      "metadata": {
        "id": "A9cqTtT4-8VP"
      },
      "execution_count": 27,
      "outputs": []
    },
    {
      "cell_type": "code",
      "source": [
        "# Print the first line\n",
        "\n",
        "FileasList[0]"
      ],
      "metadata": {
        "id": "BM0T1e5x_AO1",
        "outputId": "d280db10-d1e3-44e9-8b9c-9be8bd1ece4c",
        "colab": {
          "base_uri": "https://localhost:8080/",
          "height": 35
        }
      },
      "execution_count": 28,
      "outputs": [
        {
          "output_type": "execute_result",
          "data": {
            "text/plain": [
              "'This is line 1 \\n'"
            ],
            "application/vnd.google.colaboratory.intrinsic+json": {
              "type": "string"
            }
          },
          "metadata": {},
          "execution_count": 28
        }
      ]
    },
    {
      "cell_type": "code",
      "source": [
        "FileasList[1]"
      ],
      "metadata": {
        "id": "ezXUNcaK_DFf",
        "outputId": "a84ab8c2-c5e9-46a7-9505-457a55ab584d",
        "colab": {
          "base_uri": "https://localhost:8080/",
          "height": 35
        }
      },
      "execution_count": 29,
      "outputs": [
        {
          "output_type": "execute_result",
          "data": {
            "text/plain": [
              "'This is line 2\\n'"
            ],
            "application/vnd.google.colaboratory.intrinsic+json": {
              "type": "string"
            }
          },
          "metadata": {},
          "execution_count": 29
        }
      ]
    },
    {
      "cell_type": "code",
      "source": [
        "FileasList[2]"
      ],
      "metadata": {
        "id": "j4_LNepF_E3f",
        "outputId": "936d6f4e-70c5-4b6c-d4ce-1f42b80e8469",
        "colab": {
          "base_uri": "https://localhost:8080/",
          "height": 35
        }
      },
      "execution_count": 30,
      "outputs": [
        {
          "output_type": "execute_result",
          "data": {
            "text/plain": [
              "'This is line 3'"
            ],
            "application/vnd.google.colaboratory.intrinsic+json": {
              "type": "string"
            }
          },
          "metadata": {},
          "execution_count": 30
        }
      ]
    },
    {
      "cell_type": "markdown",
      "source": [
        "**---------- FIN DE LAB 4-01 ---------**"
      ],
      "metadata": {
        "id": "nxr2-vo8_IH_"
      }
    }
  ]
}