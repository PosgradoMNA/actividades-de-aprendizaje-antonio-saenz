{
  "metadata": {
    "kernelspec": {
      "name": "python",
      "display_name": "Pyolite",
      "language": "python"
    },
    "language_info": {
      "codemirror_mode": {
        "name": "python",
        "version": 3
      },
      "file_extension": ".py",
      "mimetype": "text/x-python",
      "name": "python",
      "nbconvert_exporter": "python",
      "pygments_lexer": "ipython3",
      "version": "3.8"
    },
    "colab": {
      "provenance": [],
      "include_colab_link": true
    }
  },
  "nbformat_minor": 0,
  "nbformat": 4,
  "cells": [
    {
      "cell_type": "markdown",
      "metadata": {
        "id": "view-in-github",
        "colab_type": "text"
      },
      "source": [
        "<a href=\"https://colab.research.google.com/github/PosgradoMNA/actividades-de-aprendizaje-antonio-saenz/blob/main/assignment07.ipynb\" target=\"_parent\"><img src=\"https://colab.research.google.com/assets/colab-badge.svg\" alt=\"Open In Colab\"/></a>"
      ]
    },
    {
      "cell_type": "markdown",
      "source": [
        "**IBM: DA0101EN**\n",
        "\n",
        "Data Analysis with Python\n",
        "\n",
        "# Module 4\n",
        "**Alumno:** Jose Antonio Saenz Ramirez\n",
        "\n",
        "**Matricula:** A01793884"
      ],
      "metadata": {
        "id": "3pNEEC0vguRv"
      }
    },
    {
      "cell_type": "markdown",
      "source": [
        "# LAB 04"
      ],
      "metadata": {
        "id": "eCoyO7Z8g2VB"
      }
    },
    {
      "cell_type": "markdown",
      "source": [
        "<p>In this section, we will develop several models that will predict the price of the car using the variables or features. This is just an estimate but should give us an objective idea of how much the car should cost.</p>\n"
      ],
      "metadata": {
        "id": "O5c01XZ-eugq"
      }
    },
    {
      "cell_type": "markdown",
      "source": [
        "Some questions we want to ask in this module\n",
        "\n",
        "<ul>\n",
        "    <li>Do I know if the dealer is offering fair value for my trade-in?</li>\n",
        "    <li>Do I know if I put a fair value on my car?</li>\n",
        "</ul>\n",
        "<p>In data analytics, we often use <b>Model Development</b> to help us predict future observations from the data we have.</p>\n",
        "\n",
        "<p>A model will help us understand the exact relationship between different variables and how these variables are used to predict the result.</p>\n"
      ],
      "metadata": {
        "id": "4KVgkhVReugq"
      }
    },
    {
      "cell_type": "markdown",
      "source": [
        "<h4>Setup</h4>\n"
      ],
      "metadata": {
        "id": "pYUyiciweugr"
      }
    },
    {
      "cell_type": "markdown",
      "source": [
        "Import libraries:\n"
      ],
      "metadata": {
        "id": "DhVHvF_beugr"
      }
    },
    {
      "cell_type": "code",
      "source": [
        "import pandas as pd\n",
        "import numpy as np\n",
        "import matplotlib.pyplot as plt"
      ],
      "metadata": {
        "trusted": true,
        "id": "PHktHxA0eugu"
      },
      "execution_count": 1,
      "outputs": []
    },
    {
      "cell_type": "markdown",
      "source": [
        "This function will download the dataset into your browser\n"
      ],
      "metadata": {
        "id": "J_TBXsCVeugu"
      }
    },
    {
      "cell_type": "code",
      "source": [
        "path = 'https://cf-courses-data.s3.us.cloud-object-storage.appdomain.cloud/IBMDeveloperSkillsNetwork-DA0101EN-SkillsNetwork/labs/Data%20files/automobileEDA.csv'"
      ],
      "metadata": {
        "trusted": true,
        "id": "MERNSygceugv"
      },
      "execution_count": 2,
      "outputs": []
    },
    {
      "cell_type": "markdown",
      "source": [
        "Load the data and store it in dataframe `df`:\n"
      ],
      "metadata": {
        "id": "5cab4YOCeugv"
      }
    },
    {
      "cell_type": "code",
      "source": [
        "\n",
        "df = pd.read_csv(path)\n",
        "df.head()"
      ],
      "metadata": {
        "trusted": true,
        "colab": {
          "base_uri": "https://localhost:8080/",
          "height": 386
        },
        "id": "pwEdngYeeugv",
        "outputId": "446b3583-513f-4b8a-f791-f34c643c470c"
      },
      "execution_count": 3,
      "outputs": [
        {
          "output_type": "execute_result",
          "data": {
            "text/plain": [
              "   symboling  normalized-losses         make aspiration num-of-doors  \\\n",
              "0          3                122  alfa-romero        std          two   \n",
              "1          3                122  alfa-romero        std          two   \n",
              "2          1                122  alfa-romero        std          two   \n",
              "3          2                164         audi        std         four   \n",
              "4          2                164         audi        std         four   \n",
              "\n",
              "    body-style drive-wheels engine-location  wheel-base    length  ...  \\\n",
              "0  convertible          rwd           front        88.6  0.811148  ...   \n",
              "1  convertible          rwd           front        88.6  0.811148  ...   \n",
              "2    hatchback          rwd           front        94.5  0.822681  ...   \n",
              "3        sedan          fwd           front        99.8  0.848630  ...   \n",
              "4        sedan          4wd           front        99.4  0.848630  ...   \n",
              "\n",
              "   compression-ratio  horsepower  peak-rpm city-mpg highway-mpg    price  \\\n",
              "0                9.0       111.0    5000.0       21          27  13495.0   \n",
              "1                9.0       111.0    5000.0       21          27  16500.0   \n",
              "2                9.0       154.0    5000.0       19          26  16500.0   \n",
              "3               10.0       102.0    5500.0       24          30  13950.0   \n",
              "4                8.0       115.0    5500.0       18          22  17450.0   \n",
              "\n",
              "  city-L/100km  horsepower-binned  diesel  gas  \n",
              "0    11.190476             Medium       0    1  \n",
              "1    11.190476             Medium       0    1  \n",
              "2    12.368421             Medium       0    1  \n",
              "3     9.791667             Medium       0    1  \n",
              "4    13.055556             Medium       0    1  \n",
              "\n",
              "[5 rows x 29 columns]"
            ],
            "text/html": [
              "\n",
              "  <div id=\"df-cadf8d59-fceb-4a39-8f22-1e9eab61d6de\">\n",
              "    <div class=\"colab-df-container\">\n",
              "      <div>\n",
              "<style scoped>\n",
              "    .dataframe tbody tr th:only-of-type {\n",
              "        vertical-align: middle;\n",
              "    }\n",
              "\n",
              "    .dataframe tbody tr th {\n",
              "        vertical-align: top;\n",
              "    }\n",
              "\n",
              "    .dataframe thead th {\n",
              "        text-align: right;\n",
              "    }\n",
              "</style>\n",
              "<table border=\"1\" class=\"dataframe\">\n",
              "  <thead>\n",
              "    <tr style=\"text-align: right;\">\n",
              "      <th></th>\n",
              "      <th>symboling</th>\n",
              "      <th>normalized-losses</th>\n",
              "      <th>make</th>\n",
              "      <th>aspiration</th>\n",
              "      <th>num-of-doors</th>\n",
              "      <th>body-style</th>\n",
              "      <th>drive-wheels</th>\n",
              "      <th>engine-location</th>\n",
              "      <th>wheel-base</th>\n",
              "      <th>length</th>\n",
              "      <th>...</th>\n",
              "      <th>compression-ratio</th>\n",
              "      <th>horsepower</th>\n",
              "      <th>peak-rpm</th>\n",
              "      <th>city-mpg</th>\n",
              "      <th>highway-mpg</th>\n",
              "      <th>price</th>\n",
              "      <th>city-L/100km</th>\n",
              "      <th>horsepower-binned</th>\n",
              "      <th>diesel</th>\n",
              "      <th>gas</th>\n",
              "    </tr>\n",
              "  </thead>\n",
              "  <tbody>\n",
              "    <tr>\n",
              "      <th>0</th>\n",
              "      <td>3</td>\n",
              "      <td>122</td>\n",
              "      <td>alfa-romero</td>\n",
              "      <td>std</td>\n",
              "      <td>two</td>\n",
              "      <td>convertible</td>\n",
              "      <td>rwd</td>\n",
              "      <td>front</td>\n",
              "      <td>88.6</td>\n",
              "      <td>0.811148</td>\n",
              "      <td>...</td>\n",
              "      <td>9.0</td>\n",
              "      <td>111.0</td>\n",
              "      <td>5000.0</td>\n",
              "      <td>21</td>\n",
              "      <td>27</td>\n",
              "      <td>13495.0</td>\n",
              "      <td>11.190476</td>\n",
              "      <td>Medium</td>\n",
              "      <td>0</td>\n",
              "      <td>1</td>\n",
              "    </tr>\n",
              "    <tr>\n",
              "      <th>1</th>\n",
              "      <td>3</td>\n",
              "      <td>122</td>\n",
              "      <td>alfa-romero</td>\n",
              "      <td>std</td>\n",
              "      <td>two</td>\n",
              "      <td>convertible</td>\n",
              "      <td>rwd</td>\n",
              "      <td>front</td>\n",
              "      <td>88.6</td>\n",
              "      <td>0.811148</td>\n",
              "      <td>...</td>\n",
              "      <td>9.0</td>\n",
              "      <td>111.0</td>\n",
              "      <td>5000.0</td>\n",
              "      <td>21</td>\n",
              "      <td>27</td>\n",
              "      <td>16500.0</td>\n",
              "      <td>11.190476</td>\n",
              "      <td>Medium</td>\n",
              "      <td>0</td>\n",
              "      <td>1</td>\n",
              "    </tr>\n",
              "    <tr>\n",
              "      <th>2</th>\n",
              "      <td>1</td>\n",
              "      <td>122</td>\n",
              "      <td>alfa-romero</td>\n",
              "      <td>std</td>\n",
              "      <td>two</td>\n",
              "      <td>hatchback</td>\n",
              "      <td>rwd</td>\n",
              "      <td>front</td>\n",
              "      <td>94.5</td>\n",
              "      <td>0.822681</td>\n",
              "      <td>...</td>\n",
              "      <td>9.0</td>\n",
              "      <td>154.0</td>\n",
              "      <td>5000.0</td>\n",
              "      <td>19</td>\n",
              "      <td>26</td>\n",
              "      <td>16500.0</td>\n",
              "      <td>12.368421</td>\n",
              "      <td>Medium</td>\n",
              "      <td>0</td>\n",
              "      <td>1</td>\n",
              "    </tr>\n",
              "    <tr>\n",
              "      <th>3</th>\n",
              "      <td>2</td>\n",
              "      <td>164</td>\n",
              "      <td>audi</td>\n",
              "      <td>std</td>\n",
              "      <td>four</td>\n",
              "      <td>sedan</td>\n",
              "      <td>fwd</td>\n",
              "      <td>front</td>\n",
              "      <td>99.8</td>\n",
              "      <td>0.848630</td>\n",
              "      <td>...</td>\n",
              "      <td>10.0</td>\n",
              "      <td>102.0</td>\n",
              "      <td>5500.0</td>\n",
              "      <td>24</td>\n",
              "      <td>30</td>\n",
              "      <td>13950.0</td>\n",
              "      <td>9.791667</td>\n",
              "      <td>Medium</td>\n",
              "      <td>0</td>\n",
              "      <td>1</td>\n",
              "    </tr>\n",
              "    <tr>\n",
              "      <th>4</th>\n",
              "      <td>2</td>\n",
              "      <td>164</td>\n",
              "      <td>audi</td>\n",
              "      <td>std</td>\n",
              "      <td>four</td>\n",
              "      <td>sedan</td>\n",
              "      <td>4wd</td>\n",
              "      <td>front</td>\n",
              "      <td>99.4</td>\n",
              "      <td>0.848630</td>\n",
              "      <td>...</td>\n",
              "      <td>8.0</td>\n",
              "      <td>115.0</td>\n",
              "      <td>5500.0</td>\n",
              "      <td>18</td>\n",
              "      <td>22</td>\n",
              "      <td>17450.0</td>\n",
              "      <td>13.055556</td>\n",
              "      <td>Medium</td>\n",
              "      <td>0</td>\n",
              "      <td>1</td>\n",
              "    </tr>\n",
              "  </tbody>\n",
              "</table>\n",
              "<p>5 rows × 29 columns</p>\n",
              "</div>\n",
              "      <button class=\"colab-df-convert\" onclick=\"convertToInteractive('df-cadf8d59-fceb-4a39-8f22-1e9eab61d6de')\"\n",
              "              title=\"Convert this dataframe to an interactive table.\"\n",
              "              style=\"display:none;\">\n",
              "        \n",
              "  <svg xmlns=\"http://www.w3.org/2000/svg\" height=\"24px\"viewBox=\"0 0 24 24\"\n",
              "       width=\"24px\">\n",
              "    <path d=\"M0 0h24v24H0V0z\" fill=\"none\"/>\n",
              "    <path d=\"M18.56 5.44l.94 2.06.94-2.06 2.06-.94-2.06-.94-.94-2.06-.94 2.06-2.06.94zm-11 1L8.5 8.5l.94-2.06 2.06-.94-2.06-.94L8.5 2.5l-.94 2.06-2.06.94zm10 10l.94 2.06.94-2.06 2.06-.94-2.06-.94-.94-2.06-.94 2.06-2.06.94z\"/><path d=\"M17.41 7.96l-1.37-1.37c-.4-.4-.92-.59-1.43-.59-.52 0-1.04.2-1.43.59L10.3 9.45l-7.72 7.72c-.78.78-.78 2.05 0 2.83L4 21.41c.39.39.9.59 1.41.59.51 0 1.02-.2 1.41-.59l7.78-7.78 2.81-2.81c.8-.78.8-2.07 0-2.86zM5.41 20L4 18.59l7.72-7.72 1.47 1.35L5.41 20z\"/>\n",
              "  </svg>\n",
              "      </button>\n",
              "      \n",
              "  <style>\n",
              "    .colab-df-container {\n",
              "      display:flex;\n",
              "      flex-wrap:wrap;\n",
              "      gap: 12px;\n",
              "    }\n",
              "\n",
              "    .colab-df-convert {\n",
              "      background-color: #E8F0FE;\n",
              "      border: none;\n",
              "      border-radius: 50%;\n",
              "      cursor: pointer;\n",
              "      display: none;\n",
              "      fill: #1967D2;\n",
              "      height: 32px;\n",
              "      padding: 0 0 0 0;\n",
              "      width: 32px;\n",
              "    }\n",
              "\n",
              "    .colab-df-convert:hover {\n",
              "      background-color: #E2EBFA;\n",
              "      box-shadow: 0px 1px 2px rgba(60, 64, 67, 0.3), 0px 1px 3px 1px rgba(60, 64, 67, 0.15);\n",
              "      fill: #174EA6;\n",
              "    }\n",
              "\n",
              "    [theme=dark] .colab-df-convert {\n",
              "      background-color: #3B4455;\n",
              "      fill: #D2E3FC;\n",
              "    }\n",
              "\n",
              "    [theme=dark] .colab-df-convert:hover {\n",
              "      background-color: #434B5C;\n",
              "      box-shadow: 0px 1px 3px 1px rgba(0, 0, 0, 0.15);\n",
              "      filter: drop-shadow(0px 1px 2px rgba(0, 0, 0, 0.3));\n",
              "      fill: #FFFFFF;\n",
              "    }\n",
              "  </style>\n",
              "\n",
              "      <script>\n",
              "        const buttonEl =\n",
              "          document.querySelector('#df-cadf8d59-fceb-4a39-8f22-1e9eab61d6de button.colab-df-convert');\n",
              "        buttonEl.style.display =\n",
              "          google.colab.kernel.accessAllowed ? 'block' : 'none';\n",
              "\n",
              "        async function convertToInteractive(key) {\n",
              "          const element = document.querySelector('#df-cadf8d59-fceb-4a39-8f22-1e9eab61d6de');\n",
              "          const dataTable =\n",
              "            await google.colab.kernel.invokeFunction('convertToInteractive',\n",
              "                                                     [key], {});\n",
              "          if (!dataTable) return;\n",
              "\n",
              "          const docLinkHtml = 'Like what you see? Visit the ' +\n",
              "            '<a target=\"_blank\" href=https://colab.research.google.com/notebooks/data_table.ipynb>data table notebook</a>'\n",
              "            + ' to learn more about interactive tables.';\n",
              "          element.innerHTML = '';\n",
              "          dataTable['output_type'] = 'display_data';\n",
              "          await google.colab.output.renderOutput(dataTable, element);\n",
              "          const docLink = document.createElement('div');\n",
              "          docLink.innerHTML = docLinkHtml;\n",
              "          element.appendChild(docLink);\n",
              "        }\n",
              "      </script>\n",
              "    </div>\n",
              "  </div>\n",
              "  "
            ]
          },
          "metadata": {},
          "execution_count": 3
        }
      ]
    },
    {
      "cell_type": "markdown",
      "source": [
        "<h2>1. Linear Regression and Multiple Linear Regression</h2>\n"
      ],
      "metadata": {
        "id": "g7RnKvX2eugw"
      }
    },
    {
      "cell_type": "markdown",
      "source": [
        "<h4>Linear Regression</h4>\n"
      ],
      "metadata": {
        "id": "jiYmSRv4eugw"
      }
    },
    {
      "cell_type": "markdown",
      "source": [
        "<p>One example of a Data  Model that we will be using is:</p>\n",
        "<b>Simple Linear Regression</b>\n",
        "\n",
        "<br>\n",
        "<p>Simple Linear Regression is a method to help us understand the relationship between two variables:</p>\n",
        "<ul>\n",
        "    <li>The predictor/independent variable (X)</li>\n",
        "    <li>The response/dependent variable (that we want to predict)(Y)</li>\n",
        "</ul>\n",
        "\n",
        "<p>The result of Linear Regression is a <b>linear function</b> that predicts the response (dependent) variable as a function of the predictor (independent) variable.</p>\n"
      ],
      "metadata": {
        "id": "nfbv7jaZeugw"
      }
    },
    {
      "cell_type": "markdown",
      "source": [
        "$$\n",
        "Y: Response \\ Variable\\\\\\\\\\\\\\\\\\\\\n",
        "X: Predictor \\ Variables\n",
        "$$\n"
      ],
      "metadata": {
        "id": "Ozp_gJ-deugw"
      }
    },
    {
      "cell_type": "markdown",
      "source": [
        "<b>Linear Function</b>\n",
        "$$\n",
        "Yhat = a + b  X\n",
        "$$\n"
      ],
      "metadata": {
        "id": "-EADbXJ8eugw"
      }
    },
    {
      "cell_type": "markdown",
      "source": [
        "<ul>\n",
        "    <li>a refers to the <b>intercept</b> of the regression line, in other words: the value of Y when X is 0</li>\n",
        "    <li>b refers to the <b>slope</b> of the regression line, in other words: the value with which Y changes when X increases by 1 unit</li>\n",
        "</ul>\n"
      ],
      "metadata": {
        "id": "uWs6LQQSeugw"
      }
    },
    {
      "cell_type": "markdown",
      "source": [
        "<h4>Let's load the modules for linear regression:</h4>\n"
      ],
      "metadata": {
        "id": "40J0lOa-eugw"
      }
    },
    {
      "cell_type": "code",
      "source": [
        "from sklearn.linear_model import LinearRegression"
      ],
      "metadata": {
        "trusted": true,
        "id": "y-T9eOhkeugw"
      },
      "execution_count": 4,
      "outputs": []
    },
    {
      "cell_type": "markdown",
      "source": [
        "<h4>Create the linear regression object:</h4>\n"
      ],
      "metadata": {
        "id": "U3uJ3PjFeugx"
      }
    },
    {
      "cell_type": "code",
      "source": [
        "lm = LinearRegression()\n",
        "lm"
      ],
      "metadata": {
        "trusted": true,
        "colab": {
          "base_uri": "https://localhost:8080/"
        },
        "id": "nz5RKV0veugx",
        "outputId": "12e9a311-bcf8-4f56-ce02-94a07d09585b"
      },
      "execution_count": 5,
      "outputs": [
        {
          "output_type": "execute_result",
          "data": {
            "text/plain": [
              "LinearRegression()"
            ]
          },
          "metadata": {},
          "execution_count": 5
        }
      ]
    },
    {
      "cell_type": "markdown",
      "source": [
        "<h4>How could \"highway-mpg\" help us predict car price?</h4>\n"
      ],
      "metadata": {
        "id": "r2sMpGP6eugx"
      }
    },
    {
      "cell_type": "markdown",
      "source": [
        "For this example, we want to look at how highway-mpg can help us predict car price.\n",
        "Using simple linear regression, we will create a linear function with \"highway-mpg\" as the predictor variable and the \"price\" as the response variable.\n"
      ],
      "metadata": {
        "id": "-ZF8VXwZeugx"
      }
    },
    {
      "cell_type": "code",
      "source": [
        "X = df[['highway-mpg']]\n",
        "Y = df['price']"
      ],
      "metadata": {
        "trusted": true,
        "id": "Bb6tkkdJeugx"
      },
      "execution_count": 6,
      "outputs": []
    },
    {
      "cell_type": "markdown",
      "source": [
        "Fit the linear model using highway-mpg:\n"
      ],
      "metadata": {
        "id": "4vSWKpHieugx"
      }
    },
    {
      "cell_type": "code",
      "source": [
        "lm.fit(X,Y)"
      ],
      "metadata": {
        "trusted": true,
        "colab": {
          "base_uri": "https://localhost:8080/"
        },
        "id": "pP6Uk9CPeugx",
        "outputId": "3e50aceb-f68c-41b9-8825-80e8552e5207"
      },
      "execution_count": 7,
      "outputs": [
        {
          "output_type": "execute_result",
          "data": {
            "text/plain": [
              "LinearRegression()"
            ]
          },
          "metadata": {},
          "execution_count": 7
        }
      ]
    },
    {
      "cell_type": "markdown",
      "source": [
        "We can output a prediction:\n"
      ],
      "metadata": {
        "id": "THqbd1s7eugx"
      }
    },
    {
      "cell_type": "code",
      "source": [
        "Yhat=lm.predict(X)\n",
        "Yhat[0:5]   "
      ],
      "metadata": {
        "trusted": true,
        "colab": {
          "base_uri": "https://localhost:8080/"
        },
        "id": "VofVGvXXeugx",
        "outputId": "812c5743-d00b-46c3-f8ed-17da314f6d7c"
      },
      "execution_count": 8,
      "outputs": [
        {
          "output_type": "execute_result",
          "data": {
            "text/plain": [
              "array([16236.50464347, 16236.50464347, 17058.23802179, 13771.3045085 ,\n",
              "       20345.17153508])"
            ]
          },
          "metadata": {},
          "execution_count": 8
        }
      ]
    },
    {
      "cell_type": "markdown",
      "source": [
        "<h4>What is the value of the intercept (a)?</h4>\n"
      ],
      "metadata": {
        "id": "JtQVRYu6eugx"
      }
    },
    {
      "cell_type": "code",
      "source": [
        "lm.intercept_"
      ],
      "metadata": {
        "trusted": true,
        "colab": {
          "base_uri": "https://localhost:8080/"
        },
        "id": "E_ScHSoSeugy",
        "outputId": "80871e12-50bf-4a1b-de0c-7cd2acccc3a0"
      },
      "execution_count": 9,
      "outputs": [
        {
          "output_type": "execute_result",
          "data": {
            "text/plain": [
              "38423.3058581574"
            ]
          },
          "metadata": {},
          "execution_count": 9
        }
      ]
    },
    {
      "cell_type": "markdown",
      "source": [
        "<h4>What is the value of the slope (b)?</h4>\n"
      ],
      "metadata": {
        "id": "22wY3A0Heugy"
      }
    },
    {
      "cell_type": "code",
      "source": [
        "lm.coef_"
      ],
      "metadata": {
        "scrolled": true,
        "trusted": true,
        "colab": {
          "base_uri": "https://localhost:8080/"
        },
        "id": "aluHnVyQeugy",
        "outputId": "647302ca-eb67-43e5-a202-2df99109402a"
      },
      "execution_count": 10,
      "outputs": [
        {
          "output_type": "execute_result",
          "data": {
            "text/plain": [
              "array([-821.73337832])"
            ]
          },
          "metadata": {},
          "execution_count": 10
        }
      ]
    },
    {
      "cell_type": "markdown",
      "source": [
        "<h3>What is the final estimated linear model we get?</h3>\n"
      ],
      "metadata": {
        "id": "1njy762Ieugy"
      }
    },
    {
      "cell_type": "markdown",
      "source": [
        "As we saw above, we should get a final linear model with the structure:\n"
      ],
      "metadata": {
        "id": "8xStzATJeugy"
      }
    },
    {
      "cell_type": "markdown",
      "source": [
        "$$\n",
        "Yhat = a + b  X\n",
        "$$\n"
      ],
      "metadata": {
        "id": "da3RL4Doeugy"
      }
    },
    {
      "cell_type": "markdown",
      "source": [
        "Plugging in the actual values we get:\n"
      ],
      "metadata": {
        "id": "qFMMUxNJeugy"
      }
    },
    {
      "cell_type": "markdown",
      "source": [
        "<b>Price</b> = 38423.31 - 821.73 x <b>highway-mpg</b>\n"
      ],
      "metadata": {
        "id": "Y1Je7Cy6eugy"
      }
    },
    {
      "cell_type": "markdown",
      "source": [
        "<div class=\"alert alert-danger alertdanger\" style=\"margin-top: 20px\">\n",
        "<h1>Question #1 a): </h1>\n",
        "\n",
        "<b>Create a linear regression object called \"lm1\".</b>\n",
        "\n",
        "</div>\n"
      ],
      "metadata": {
        "id": "yTeiXh81eugy"
      }
    },
    {
      "cell_type": "code",
      "source": [
        "# Write your code below and press Shift+Enter to execute \n",
        "lm1 = LinearRegression()\n",
        "lm1\n"
      ],
      "metadata": {
        "trusted": true,
        "colab": {
          "base_uri": "https://localhost:8080/"
        },
        "id": "B1MZF1Oyeugy",
        "outputId": "ca0d996e-2e4b-4016-9446-34c84c603aa5"
      },
      "execution_count": 11,
      "outputs": [
        {
          "output_type": "execute_result",
          "data": {
            "text/plain": [
              "LinearRegression()"
            ]
          },
          "metadata": {},
          "execution_count": 11
        }
      ]
    },
    {
      "cell_type": "markdown",
      "source": [
        "<div class=\"alert alert-danger alertdanger\" style=\"margin-top: 20px\">\n",
        "<h1> Question #1 b): </h1>\n",
        "\n",
        "<b>Train the model using \"engine-size\" as the independent variable and \"price\" as the dependent variable?</b>\n",
        "\n",
        "</div>\n"
      ],
      "metadata": {
        "id": "Onkj7ijHeugz"
      }
    },
    {
      "cell_type": "code",
      "source": [
        "# Write your code below and press Shift+Enter to execute \n",
        "lm1.fit(df[['engine-size']], df[['price']])\n",
        "lm1"
      ],
      "metadata": {
        "trusted": true,
        "colab": {
          "base_uri": "https://localhost:8080/"
        },
        "id": "XXSjNqGBeugz",
        "outputId": "a5e58f20-97b0-4d1a-e791-dc423377c02a"
      },
      "execution_count": 13,
      "outputs": [
        {
          "output_type": "execute_result",
          "data": {
            "text/plain": [
              "LinearRegression()"
            ]
          },
          "metadata": {},
          "execution_count": 13
        }
      ]
    },
    {
      "cell_type": "markdown",
      "source": [
        "<div class=\"alert alert-danger alertdanger\" style=\"margin-top: 20px\">\n",
        "<h1>Question #1 c):</h1>\n",
        "\n",
        "<b>Find the slope and intercept of the model.</b>\n",
        "\n",
        "</div>\n"
      ],
      "metadata": {
        "id": "yrUT4H9ieugz"
      }
    },
    {
      "cell_type": "markdown",
      "source": [
        "<h4>Slope</h4>\n"
      ],
      "metadata": {
        "id": "dP4ROnZNeugz"
      }
    },
    {
      "cell_type": "code",
      "source": [
        "# Write your code below and press Shift+Enter to execute \n",
        "lm1.coef_   #slope\n"
      ],
      "metadata": {
        "trusted": true,
        "colab": {
          "base_uri": "https://localhost:8080/"
        },
        "id": "qgbr7_6Aeugz",
        "outputId": "2b12bf81-3136-43e1-d232-7280d2f7ac18"
      },
      "execution_count": 15,
      "outputs": [
        {
          "output_type": "execute_result",
          "data": {
            "text/plain": [
              "array([[166.86001569]])"
            ]
          },
          "metadata": {},
          "execution_count": 15
        }
      ]
    },
    {
      "cell_type": "markdown",
      "source": [
        "<h4>Intercept</h4>\n"
      ],
      "metadata": {
        "id": "bmc0h4fBeugz"
      }
    },
    {
      "cell_type": "code",
      "source": [
        "# Write your code below and press Shift+Enter to execute \n",
        "lm1.intercept_   #intercept"
      ],
      "metadata": {
        "trusted": true,
        "colab": {
          "base_uri": "https://localhost:8080/"
        },
        "id": "OZ7Cka71eugz",
        "outputId": "2cc7226f-d6a6-4fe3-8fd4-6fee433ac6f6"
      },
      "execution_count": 16,
      "outputs": [
        {
          "output_type": "execute_result",
          "data": {
            "text/plain": [
              "array([-7963.33890628])"
            ]
          },
          "metadata": {},
          "execution_count": 16
        }
      ]
    },
    {
      "cell_type": "markdown",
      "source": [
        "<div class=\"alert alert-danger alertdanger\" style=\"margin-top: 20px\">\n",
        "<h1>Question #1 d): </h1>\n",
        "\n",
        "<b>What is the equation of the predicted line? You can use x and yhat or \"engine-size\" or \"price\".</b>\n",
        "\n",
        "</div>\n"
      ],
      "metadata": {
        "id": "baztn_egeugz"
      }
    },
    {
      "cell_type": "code",
      "source": [
        "# Write your code below and press Shift+Enter to execute \n",
        "# using X and Y  \n",
        "Yhat=-7963.34 + 166.86*X\n",
        "Price=-7963.34 + 166.86*df['engine-size']\n",
        "\n",
        "print(\"Yhat=\",Yhat)\n",
        "print(\"Price=\",Price)"
      ],
      "metadata": {
        "trusted": true,
        "colab": {
          "base_uri": "https://localhost:8080/"
        },
        "id": "1sGpS6YKeug0",
        "outputId": "38f1e604-45e2-4048-9c6b-68e57c745b71"
      },
      "execution_count": 20,
      "outputs": [
        {
          "output_type": "stream",
          "name": "stdout",
          "text": [
            "Yhat=      highway-mpg\n",
            "0       -3458.12\n",
            "1       -3458.12\n",
            "2       -3624.98\n",
            "3       -2957.54\n",
            "4       -4292.42\n",
            "..           ...\n",
            "196     -3291.26\n",
            "197     -3791.84\n",
            "198     -4125.56\n",
            "199     -3458.12\n",
            "200     -3791.84\n",
            "\n",
            "[201 rows x 1 columns]\n",
            "Price= 0      13728.46\n",
            "1      13728.46\n",
            "2      17399.38\n",
            "3      10224.40\n",
            "4      14729.62\n",
            "         ...   \n",
            "196    15563.92\n",
            "197    15563.92\n",
            "198    20903.44\n",
            "199    16231.36\n",
            "200    15563.92\n",
            "Name: engine-size, Length: 201, dtype: float64\n"
          ]
        }
      ]
    },
    {
      "cell_type": "markdown",
      "source": [
        "<h4>Multiple Linear Regression</h4>\n"
      ],
      "metadata": {
        "id": "99xV-pvjeug0"
      }
    },
    {
      "cell_type": "markdown",
      "source": [
        "<p>What if we want to predict car price using more than one variable?</p>\n",
        "\n",
        "<p>If we want to use more variables in our model to predict car price, we can use <b>Multiple Linear Regression</b>.\n",
        "Multiple Linear Regression is very similar to Simple Linear Regression, but this method is used to explain the relationship between one continuous response (dependent) variable and <b>two or more</b> predictor (independent) variables.\n",
        "Most of the real-world regression models involve multiple predictors. We will illustrate the structure by using four predictor variables, but these results can generalize to any integer:</p>\n"
      ],
      "metadata": {
        "id": "Xh4EfxHYeug0"
      }
    },
    {
      "cell_type": "markdown",
      "source": [
        "$$\n",
        "Y: Response \\ Variable\\\\\\\\\\\\\\\\\\\\\n",
        "X\\_1 :Predictor\\ Variable \\ 1\\\\\\\\\n",
        "X\\_2: Predictor\\ Variable \\ 2\\\\\\\\\n",
        "X\\_3: Predictor\\ Variable \\ 3\\\\\\\\\n",
        "X\\_4: Predictor\\ Variable \\ 4\\\\\\\\\n",
        "$$\n"
      ],
      "metadata": {
        "id": "EoSjkzTseug0"
      }
    },
    {
      "cell_type": "markdown",
      "source": [
        "$$\n",
        "a: intercept\\\\\\\\\\\\\\\\\\\\\n",
        "b\\_1 :coefficients \\ of\\ Variable \\ 1\\\\\\\\\n",
        "b\\_2: coefficients \\ of\\ Variable \\ 2\\\\\\\\\n",
        "b\\_3: coefficients \\ of\\ Variable \\ 3\\\\\\\\\n",
        "b\\_4: coefficients \\ of\\ Variable \\ 4\\\\\\\\\n",
        "$$\n"
      ],
      "metadata": {
        "id": "-5pgw6hGeug0"
      }
    },
    {
      "cell_type": "markdown",
      "source": [
        "The equation is given by:\n"
      ],
      "metadata": {
        "id": "QRouUgIreug0"
      }
    },
    {
      "cell_type": "markdown",
      "source": [
        "$$\n",
        "Yhat = a + b\\_1 X\\_1 + b\\_2 X\\_2 + b\\_3 X\\_3 + b\\_4 X\\_4\n",
        "$$\n"
      ],
      "metadata": {
        "id": "jiUZwilqeug0"
      }
    },
    {
      "cell_type": "markdown",
      "source": [
        "<p>From the previous section  we know that other good predictors of price could be:</p>\n",
        "<ul>\n",
        "    <li>Horsepower</li>\n",
        "    <li>Curb-weight</li>\n",
        "    <li>Engine-size</li>\n",
        "    <li>Highway-mpg</li>\n",
        "</ul>\n",
        "Let's develop a model using these variables as the predictor variables.\n"
      ],
      "metadata": {
        "id": "FzRn9lGNeug0"
      }
    },
    {
      "cell_type": "code",
      "source": [
        "Z = df[['horsepower', 'curb-weight', 'engine-size', 'highway-mpg']]"
      ],
      "metadata": {
        "trusted": true,
        "id": "50MgJNFSeug0"
      },
      "execution_count": 21,
      "outputs": []
    },
    {
      "cell_type": "markdown",
      "source": [
        "Fit the linear model using the four above-mentioned variables.\n"
      ],
      "metadata": {
        "id": "WZrM2zYMeug0"
      }
    },
    {
      "cell_type": "code",
      "source": [
        "lm.fit(Z, df['price'])"
      ],
      "metadata": {
        "trusted": true,
        "colab": {
          "base_uri": "https://localhost:8080/"
        },
        "id": "o_ZXRJYveug1",
        "outputId": "4e571cc0-f55f-4a9c-c581-12324d8e7fb7"
      },
      "execution_count": 22,
      "outputs": [
        {
          "output_type": "execute_result",
          "data": {
            "text/plain": [
              "LinearRegression()"
            ]
          },
          "metadata": {},
          "execution_count": 22
        }
      ]
    },
    {
      "cell_type": "markdown",
      "source": [
        "What is the value of the intercept(a)?\n"
      ],
      "metadata": {
        "id": "ikzq2EFteug1"
      }
    },
    {
      "cell_type": "code",
      "source": [
        "lm.intercept_"
      ],
      "metadata": {
        "trusted": true,
        "colab": {
          "base_uri": "https://localhost:8080/"
        },
        "id": "Vq3kuTKBeug1",
        "outputId": "602dd744-5def-4b36-8c16-f2fd05e54d95"
      },
      "execution_count": 23,
      "outputs": [
        {
          "output_type": "execute_result",
          "data": {
            "text/plain": [
              "-15806.62462632922"
            ]
          },
          "metadata": {},
          "execution_count": 23
        }
      ]
    },
    {
      "cell_type": "markdown",
      "source": [
        "What are the values of the coefficients (b1, b2, b3, b4)?\n"
      ],
      "metadata": {
        "id": "ynEabo9Teug1"
      }
    },
    {
      "cell_type": "code",
      "source": [
        "lm.coef_"
      ],
      "metadata": {
        "trusted": true,
        "colab": {
          "base_uri": "https://localhost:8080/"
        },
        "id": "FDrSk8zdeug1",
        "outputId": "b6f7b619-276a-4db7-d731-eaf390167183"
      },
      "execution_count": 24,
      "outputs": [
        {
          "output_type": "execute_result",
          "data": {
            "text/plain": [
              "array([53.49574423,  4.70770099, 81.53026382, 36.05748882])"
            ]
          },
          "metadata": {},
          "execution_count": 24
        }
      ]
    },
    {
      "cell_type": "markdown",
      "source": [
        "What is the final estimated linear model that we get?\n"
      ],
      "metadata": {
        "id": "uzOx4j5Ieug1"
      }
    },
    {
      "cell_type": "markdown",
      "source": [
        "As we saw above, we should get a final linear function with the structure:\n",
        "\n",
        "$$\n",
        "Yhat = a + b\\_1 X\\_1 + b\\_2 X\\_2 + b\\_3 X\\_3 + b\\_4 X\\_4\n",
        "$$\n",
        "\n",
        "What is the linear function we get in this example?\n"
      ],
      "metadata": {
        "id": "d3NhIUxHeug1"
      }
    },
    {
      "cell_type": "markdown",
      "source": [
        "<b>Price</b> = -15678.742628061467 + 52.65851272 x <b>horsepower</b> + 4.69878948 x <b>curb-weight</b> + 81.95906216 x <b>engine-size</b> + 33.58258185 x <b>highway-mpg</b>\n"
      ],
      "metadata": {
        "id": "-hLmDQX_eug1"
      }
    },
    {
      "cell_type": "markdown",
      "source": [
        "<div class=\"alert alert-danger alertdanger\" style=\"margin-top: 20px\">\n",
        "<h1> Question  #2 a): </h1>\n",
        "Create and train a Multiple Linear Regression model \"lm2\" where the response variable is \"price\", and the predictor variable is \"normalized-losses\" and  \"highway-mpg\".\n",
        "</div>\n"
      ],
      "metadata": {
        "id": "yfYTllK6eug1"
      }
    },
    {
      "cell_type": "code",
      "source": [
        "# Write your code below and press Shift+Enter to execute \n",
        "lm2 = LinearRegression()\n",
        "lm2.fit(df[['normalized-losses' , 'highway-mpg']],df['price'])"
      ],
      "metadata": {
        "trusted": true,
        "colab": {
          "base_uri": "https://localhost:8080/"
        },
        "id": "GarRdsyTeug1",
        "outputId": "73d1efd7-5e8d-41e1-905e-a669cc0f5224"
      },
      "execution_count": 25,
      "outputs": [
        {
          "output_type": "execute_result",
          "data": {
            "text/plain": [
              "LinearRegression()"
            ]
          },
          "metadata": {},
          "execution_count": 25
        }
      ]
    },
    {
      "cell_type": "markdown",
      "source": [
        "<div class=\"alert alert-danger alertdanger\" style=\"margin-top: 20px\">\n",
        "<h1>Question  #2 b): </h1>\n",
        "<b>Find the coefficient of the model.</b>\n",
        "</div>\n"
      ],
      "metadata": {
        "id": "6iJvR_94eug2"
      }
    },
    {
      "cell_type": "code",
      "source": [
        "# Write your code below and press Shift+Enter to execute \n",
        "lm2.coef_"
      ],
      "metadata": {
        "trusted": true,
        "colab": {
          "base_uri": "https://localhost:8080/"
        },
        "id": "_jlf7zOYeug2",
        "outputId": "19c4a05b-0cb9-4e72-ccd7-7d2998eb30ce"
      },
      "execution_count": 26,
      "outputs": [
        {
          "output_type": "execute_result",
          "data": {
            "text/plain": [
              "array([   1.49789586, -820.45434016])"
            ]
          },
          "metadata": {},
          "execution_count": 26
        }
      ]
    },
    {
      "cell_type": "markdown",
      "source": [
        "<h2>2. Model Evaluation Using Visualization</h2>\n"
      ],
      "metadata": {
        "id": "ViHUV0WEeug2"
      }
    },
    {
      "cell_type": "markdown",
      "source": [
        "Now that we've developed some models, how do we evaluate our models and choose the best one? One way to do this is by using a visualization.\n"
      ],
      "metadata": {
        "id": "A1mas6yneug2"
      }
    },
    {
      "cell_type": "markdown",
      "source": [
        "Import the visualization package, seaborn:\n"
      ],
      "metadata": {
        "id": "8PxK71Dgeug2"
      }
    },
    {
      "cell_type": "code",
      "source": [
        "# import the visualization package: seaborn\n",
        "import seaborn as sns\n",
        "%matplotlib inline "
      ],
      "metadata": {
        "trusted": true,
        "id": "k8ScJoAkeug2"
      },
      "execution_count": 27,
      "outputs": []
    },
    {
      "cell_type": "markdown",
      "source": [
        "<h3>Regression Plot</h3>\n"
      ],
      "metadata": {
        "id": "5GVQ6gECeug2"
      }
    },
    {
      "cell_type": "markdown",
      "source": [
        "<p>When it comes to simple linear regression, an excellent way to visualize the fit of our model is by using <b>regression plots</b>.</p>\n",
        "\n",
        "<p>This plot will show a combination of a scattered data points (a <b>scatterplot</b>), as well as the fitted <b>linear regression</b> line going through the data. This will give us a reasonable estimate of the relationship between the two variables, the strength of the correlation, as well as the direction (positive or negative correlation).</p>\n"
      ],
      "metadata": {
        "id": "q0Cjd9Iaeug2"
      }
    },
    {
      "cell_type": "markdown",
      "source": [
        "Let's visualize **highway-mpg** as potential predictor variable of price:\n"
      ],
      "metadata": {
        "id": "jd0zzK2Jeug2"
      }
    },
    {
      "cell_type": "code",
      "source": [
        "width = 12\n",
        "height = 10\n",
        "plt.figure(figsize=(width, height))\n",
        "sns.regplot(x=\"highway-mpg\", y=\"price\", data=df)\n",
        "plt.ylim(0,)"
      ],
      "metadata": {
        "trusted": true,
        "colab": {
          "base_uri": "https://localhost:8080/",
          "height": 623
        },
        "id": "IsTuApESeug2",
        "outputId": "f953cb57-e02b-471d-af8a-1a27545681f4"
      },
      "execution_count": 28,
      "outputs": [
        {
          "output_type": "execute_result",
          "data": {
            "text/plain": [
              "(0.0, 48161.81350713932)"
            ]
          },
          "metadata": {},
          "execution_count": 28
        },
        {
          "output_type": "display_data",
          "data": {
            "text/plain": [
              "<Figure size 864x720 with 1 Axes>"
            ],
            "image/png": "[encoded data removed]"
          },
          "metadata": {
            "needs_background": "light"
          }
        }
      ]
    },
    {
      "cell_type": "markdown",
      "source": [
        "<p>We can see from this plot that price is negatively correlated to highway-mpg since the regression slope is negative.\n",
        "\n",
        "One thing to keep in mind when looking at a regression plot is to pay attention to how scattered the data points are around the regression line. This will give you a good indication of the variance of the data and whether a linear model would be the best fit or not. If the data is too far off from the line, this linear model might not be the best model for this data.\n",
        "\n",
        "Let's compare this plot to the regression plot of \"peak-rpm\".</p>\n"
      ],
      "metadata": {
        "id": "U6PYlGFkeug2"
      }
    },
    {
      "cell_type": "code",
      "source": [
        "plt.figure(figsize=(width, height))\n",
        "sns.regplot(x=\"peak-rpm\", y=\"price\", data=df)\n",
        "plt.ylim(0,)"
      ],
      "metadata": {
        "trusted": true,
        "colab": {
          "base_uri": "https://localhost:8080/",
          "height": 623
        },
        "id": "m3n7Otfpeug3",
        "outputId": "280ab3cb-edff-46a4-e153-e2796df5b9ea"
      },
      "execution_count": 29,
      "outputs": [
        {
          "output_type": "execute_result",
          "data": {
            "text/plain": [
              "(0.0, 47414.1)"
            ]
          },
          "metadata": {},
          "execution_count": 29
        },
        {
          "output_type": "display_data",
          "data": {
            "text/plain": [
              "<Figure size 864x720 with 1 Axes>"
            ],
            "image/png": "[encoded data removed]"
          },
          "metadata": {
            "needs_background": "light"
          }
        }
      ]
    },
    {
      "cell_type": "markdown",
      "source": [
        "<p>Comparing the regression plot of \"peak-rpm\" and \"highway-mpg\", we see that the points for \"highway-mpg\" are much closer to the generated line and, on average, decrease. The points for \"peak-rpm\" have more spread around the predicted line and it is much harder to determine if the points are decreasing or increasing as the \"peak-rpm\" increases.</p>\n"
      ],
      "metadata": {
        "id": "Bo9Rti9xeug3"
      }
    },
    {
      "cell_type": "markdown",
      "source": [
        "<div class=\"alert alert-danger alertdanger\" style=\"margin-top: 20px\">\n",
        "<h1>Question #3:</h1>\n",
        "<b>Given the regression plots above, is \"peak-rpm\" or \"highway-mpg\" more strongly correlated with \"price\"? Use the method  \".corr()\" to verify your answer.</b>\n",
        "</div>\n"
      ],
      "metadata": {
        "id": "Uw5a2jD0eug3"
      }
    },
    {
      "cell_type": "code",
      "source": [
        "# Write your code below and press Shift+Enter to execute \n",
        "\n",
        "# The variable \"highway-mpg\" has a stronger correlation with \"price\", it is approximate -0.704692  compared to \"peak-rpm\" which is approximate -0.101616. You can verify it using the following command:\n",
        "df[[\"peak-rpm\",\"highway-mpg\",\"price\"]].corr()"
      ],
      "metadata": {
        "trusted": true,
        "colab": {
          "base_uri": "https://localhost:8080/",
          "height": 143
        },
        "id": "HtKh7-f6eug3",
        "outputId": "12f11eeb-44a3-4713-8f57-e10f0cf8d1ae"
      },
      "execution_count": 30,
      "outputs": [
        {
          "output_type": "execute_result",
          "data": {
            "text/plain": [
              "             peak-rpm  highway-mpg     price\n",
              "peak-rpm     1.000000    -0.058598 -0.101616\n",
              "highway-mpg -0.058598     1.000000 -0.704692\n",
              "price       -0.101616    -0.704692  1.000000"
            ],
            "text/html": [
              "\n",
              "  <div id=\"df-0b4ba384-abef-434c-ac7a-fe891f2cfa72\">\n",
              "    <div class=\"colab-df-container\">\n",
              "      <div>\n",
              "<style scoped>\n",
              "    .dataframe tbody tr th:only-of-type {\n",
              "        vertical-align: middle;\n",
              "    }\n",
              "\n",
              "    .dataframe tbody tr th {\n",
              "        vertical-align: top;\n",
              "    }\n",
              "\n",
              "    .dataframe thead th {\n",
              "        text-align: right;\n",
              "    }\n",
              "</style>\n",
              "<table border=\"1\" class=\"dataframe\">\n",
              "  <thead>\n",
              "    <tr style=\"text-align: right;\">\n",
              "      <th></th>\n",
              "      <th>peak-rpm</th>\n",
              "      <th>highway-mpg</th>\n",
              "      <th>price</th>\n",
              "    </tr>\n",
              "  </thead>\n",
              "  <tbody>\n",
              "    <tr>\n",
              "      <th>peak-rpm</th>\n",
              "      <td>1.000000</td>\n",
              "      <td>-0.058598</td>\n",
              "      <td>-0.101616</td>\n",
              "    </tr>\n",
              "    <tr>\n",
              "      <th>highway-mpg</th>\n",
              "      <td>-0.058598</td>\n",
              "      <td>1.000000</td>\n",
              "      <td>-0.704692</td>\n",
              "    </tr>\n",
              "    <tr>\n",
              "      <th>price</th>\n",
              "      <td>-0.101616</td>\n",
              "      <td>-0.704692</td>\n",
              "      <td>1.000000</td>\n",
              "    </tr>\n",
              "  </tbody>\n",
              "</table>\n",
              "</div>\n",
              "      <button class=\"colab-df-convert\" onclick=\"convertToInteractive('df-0b4ba384-abef-434c-ac7a-fe891f2cfa72')\"\n",
              "              title=\"Convert this dataframe to an interactive table.\"\n",
              "              style=\"display:none;\">\n",
              "        \n",
              "  <svg xmlns=\"http://www.w3.org/2000/svg\" height=\"24px\"viewBox=\"0 0 24 24\"\n",
              "       width=\"24px\">\n",
              "    <path d=\"M0 0h24v24H0V0z\" fill=\"none\"/>\n",
              "    <path d=\"M18.56 5.44l.94 2.06.94-2.06 2.06-.94-2.06-.94-.94-2.06-.94 2.06-2.06.94zm-11 1L8.5 8.5l.94-2.06 2.06-.94-2.06-.94L8.5 2.5l-.94 2.06-2.06.94zm10 10l.94 2.06.94-2.06 2.06-.94-2.06-.94-.94-2.06-.94 2.06-2.06.94z\"/><path d=\"M17.41 7.96l-1.37-1.37c-.4-.4-.92-.59-1.43-.59-.52 0-1.04.2-1.43.59L10.3 9.45l-7.72 7.72c-.78.78-.78 2.05 0 2.83L4 21.41c.39.39.9.59 1.41.59.51 0 1.02-.2 1.41-.59l7.78-7.78 2.81-2.81c.8-.78.8-2.07 0-2.86zM5.41 20L4 18.59l7.72-7.72 1.47 1.35L5.41 20z\"/>\n",
              "  </svg>\n",
              "      </button>\n",
              "      \n",
              "  <style>\n",
              "    .colab-df-container {\n",
              "      display:flex;\n",
              "      flex-wrap:wrap;\n",
              "      gap: 12px;\n",
              "    }\n",
              "\n",
              "    .colab-df-convert {\n",
              "      background-color: #E8F0FE;\n",
              "      border: none;\n",
              "      border-radius: 50%;\n",
              "      cursor: pointer;\n",
              "      display: none;\n",
              "      fill: #1967D2;\n",
              "      height: 32px;\n",
              "      padding: 0 0 0 0;\n",
              "      width: 32px;\n",
              "    }\n",
              "\n",
              "    .colab-df-convert:hover {\n",
              "      background-color: #E2EBFA;\n",
              "      box-shadow: 0px 1px 2px rgba(60, 64, 67, 0.3), 0px 1px 3px 1px rgba(60, 64, 67, 0.15);\n",
              "      fill: #174EA6;\n",
              "    }\n",
              "\n",
              "    [theme=dark] .colab-df-convert {\n",
              "      background-color: #3B4455;\n",
              "      fill: #D2E3FC;\n",
              "    }\n",
              "\n",
              "    [theme=dark] .colab-df-convert:hover {\n",
              "      background-color: #434B5C;\n",
              "      box-shadow: 0px 1px 3px 1px rgba(0, 0, 0, 0.15);\n",
              "      filter: drop-shadow(0px 1px 2px rgba(0, 0, 0, 0.3));\n",
              "      fill: #FFFFFF;\n",
              "    }\n",
              "  </style>\n",
              "\n",
              "      <script>\n",
              "        const buttonEl =\n",
              "          document.querySelector('#df-0b4ba384-abef-434c-ac7a-fe891f2cfa72 button.colab-df-convert');\n",
              "        buttonEl.style.display =\n",
              "          google.colab.kernel.accessAllowed ? 'block' : 'none';\n",
              "\n",
              "        async function convertToInteractive(key) {\n",
              "          const element = document.querySelector('#df-0b4ba384-abef-434c-ac7a-fe891f2cfa72');\n",
              "          const dataTable =\n",
              "            await google.colab.kernel.invokeFunction('convertToInteractive',\n",
              "                                                     [key], {});\n",
              "          if (!dataTable) return;\n",
              "\n",
              "          const docLinkHtml = 'Like what you see? Visit the ' +\n",
              "            '<a target=\"_blank\" href=https://colab.research.google.com/notebooks/data_table.ipynb>data table notebook</a>'\n",
              "            + ' to learn more about interactive tables.';\n",
              "          element.innerHTML = '';\n",
              "          dataTable['output_type'] = 'display_data';\n",
              "          await google.colab.output.renderOutput(dataTable, element);\n",
              "          const docLink = document.createElement('div');\n",
              "          docLink.innerHTML = docLinkHtml;\n",
              "          element.appendChild(docLink);\n",
              "        }\n",
              "      </script>\n",
              "    </div>\n",
              "  </div>\n",
              "  "
            ]
          },
          "metadata": {},
          "execution_count": 30
        }
      ]
    },
    {
      "cell_type": "markdown",
      "source": [
        "<h3>Residual Plot</h3>\n",
        "\n",
        "<p>A good way to visualize the variance of the data is to use a residual plot.</p>\n",
        "\n",
        "<p>What is a <b>residual</b>?</p>\n",
        "\n",
        "<p>The difference between the observed value (y) and the predicted value (Yhat) is called the residual (e). When we look at a regression plot, the residual is the distance from the data point to the fitted regression line.</p>\n",
        "\n",
        "<p>So what is a <b>residual plot</b>?</p>\n",
        "\n",
        "<p>A residual plot is a graph that shows the residuals on the vertical y-axis and the independent variable on the horizontal x-axis.</p>\n",
        "\n",
        "<p>What do we pay attention to when looking at a residual plot?</p>\n",
        "\n",
        "<p>We look at the spread of the residuals:</p>\n",
        "\n",
        "<p>- If the points in a residual plot are <b>randomly spread out around the x-axis</b>, then a <b>linear model is appropriate</b> for the data.\n",
        "\n",
        "Why is that? Randomly spread out residuals means that the variance is constant, and thus the linear model is a good fit for this data.</p>\n"
      ],
      "metadata": {
        "id": "8MCLuKEBeug3"
      }
    },
    {
      "cell_type": "code",
      "source": [
        "width = 12\n",
        "height = 10\n",
        "plt.figure(figsize=(width, height))\n",
        "sns.residplot(x=df['highway-mpg'],y=df['price'])\n",
        "plt.show()"
      ],
      "metadata": {
        "trusted": true,
        "colab": {
          "base_uri": "https://localhost:8080/",
          "height": 606
        },
        "id": "wmv2xEBpeug3",
        "outputId": "e5029d6b-cded-4c40-f040-5aa37efcd06b"
      },
      "execution_count": 31,
      "outputs": [
        {
          "output_type": "display_data",
          "data": {
            "text/plain": [
              "<Figure size 864x720 with 1 Axes>"
            ],
            "image/png": "[encoded data removed]"
          },
          "metadata": {
            "needs_background": "light"
          }
        }
      ]
    },
    {
      "cell_type": "markdown",
      "source": [
        "<i>What is this plot telling us?</i>\n",
        "\n",
        "<p>We can see from this residual plot that the residuals are not randomly spread around the x-axis, leading us to believe that maybe a non-linear model is more appropriate for this data.</p>\n"
      ],
      "metadata": {
        "id": "3zXPimxTeug3"
      }
    },
    {
      "cell_type": "markdown",
      "source": [
        "<h3>Multiple Linear Regression</h3>\n"
      ],
      "metadata": {
        "id": "eC-jBQ7geug3"
      }
    },
    {
      "cell_type": "markdown",
      "source": [
        "<p>How do we visualize a model for Multiple Linear Regression? This gets a bit more complicated because you can't visualize it with regression or residual plot.</p>\n",
        "\n",
        "<p>One way to look at the fit of the model is by looking at the <b>distribution plot</b>. We can look at the distribution of the fitted values that result from the model and compare it to the distribution of the actual values.</p>\n"
      ],
      "metadata": {
        "id": "w2MG2KDZeug3"
      }
    },
    {
      "cell_type": "markdown",
      "source": [
        "First, let's make a prediction:\n"
      ],
      "metadata": {
        "id": "2XCYw-Q6eug3"
      }
    },
    {
      "cell_type": "code",
      "source": [
        "Y_hat = lm.predict(Z)\n"
      ],
      "metadata": {
        "trusted": true,
        "id": "cgD8DVECeug3"
      },
      "execution_count": 32,
      "outputs": []
    },
    {
      "cell_type": "code",
      "source": [
        "plt.figure(figsize=(width, height))\n",
        "\n",
        "\n",
        "ax1 = sns.distplot(df['price'], hist=False, color=\"r\", label=\"Actual Value\")\n",
        "sns.distplot(Y_hat, hist=False, color=\"b\", label=\"Fitted Values\" , ax=ax1)\n",
        "\n",
        "\n",
        "plt.title('Actual vs Fitted Values for Price')\n",
        "plt.xlabel('Price (in dollars)')\n",
        "plt.ylabel('Proportion of Cars')\n",
        "\n",
        "plt.show()\n",
        "plt.close()"
      ],
      "metadata": {
        "trusted": true,
        "colab": {
          "base_uri": "https://localhost:8080/",
          "height": 710
        },
        "id": "AHzaQO2Ieug4",
        "outputId": "0b2f624b-ef5e-449f-f829-0e8f409dba00"
      },
      "execution_count": 33,
      "outputs": [
        {
          "output_type": "stream",
          "name": "stderr",
          "text": [
            "/usr/local/lib/python3.7/dist-packages/seaborn/distributions.py:2619: FutureWarning: `distplot` is a deprecated function and will be removed in a future version. Please adapt your code to use either `displot` (a figure-level function with similar flexibility) or `kdeplot` (an axes-level function for kernel density plots).\n",
            "  warnings.warn(msg, FutureWarning)\n",
            "/usr/local/lib/python3.7/dist-packages/seaborn/distributions.py:2619: FutureWarning: `distplot` is a deprecated function and will be removed in a future version. Please adapt your code to use either `displot` (a figure-level function with similar flexibility) or `kdeplot` (an axes-level function for kernel density plots).\n",
            "  warnings.warn(msg, FutureWarning)\n"
          ]
        },
        {
          "output_type": "display_data",
          "data": {
            "text/plain": [
              "<Figure size 864x720 with 1 Axes>"
            ],
            "image/png": "[encoded data removed]"
          },
          "metadata": {
            "needs_background": "light"
          }
        }
      ]
    },
    {
      "cell_type": "markdown",
      "source": [
        "<p>We can see that the fitted values are reasonably close to the actual values since the two distributions overlap a bit. However, there is definitely some room for improvement.</p>\n"
      ],
      "metadata": {
        "id": "Al8ilZubeug4"
      }
    },
    {
      "cell_type": "markdown",
      "source": [
        "<h2>3. Polynomial Regression and Pipelines</h2>\n"
      ],
      "metadata": {
        "id": "G7q410HLeug4"
      }
    },
    {
      "cell_type": "markdown",
      "source": [
        "<p><b>Polynomial regression</b> is a particular case of the general linear regression model or multiple linear regression models.</p> \n",
        "<p>We get non-linear relationships by squaring or setting higher-order terms of the predictor variables.</p>\n",
        "\n",
        "<p>There are different orders of polynomial regression:</p>\n"
      ],
      "metadata": {
        "id": "0G52fnjzeug4"
      }
    },
    {
      "cell_type": "markdown",
      "source": [
        "<center><b>Quadratic - 2nd Order</b></center>\n",
        "$$\n",
        "Yhat = a + b_1 X +b_2 X^2 \n",
        "$$\n",
        "\n",
        "<center><b>Cubic - 3rd Order</b></center>\n",
        "$$\n",
        "Yhat = a + b_1 X +b_2 X^2 +b_3 X^3\\\\\\\\\\\\\\\\\\\\\n",
        "$$\n",
        "\n",
        "<center><b>Higher-Order</b>:</center>\n",
        "$$\n",
        "Y = a + b_1 X +b_2 X^2 +b_3 X^3 ....\\\\\\\\\n",
        "$$\n"
      ],
      "metadata": {
        "id": "EJaenS9Veug4"
      }
    },
    {
      "cell_type": "markdown",
      "source": [
        "<p>We saw earlier that a linear model did not provide the best fit while using \"highway-mpg\" as the predictor variable. Let's see if we can try fitting a polynomial model to the data instead.</p>\n"
      ],
      "metadata": {
        "id": "-J7re-zueug4"
      }
    },
    {
      "cell_type": "markdown",
      "source": [
        "<p>We will use the following function to plot the data:</p>\n"
      ],
      "metadata": {
        "id": "QZ_3VaLzeug4"
      }
    },
    {
      "cell_type": "code",
      "source": [
        "def PlotPolly(model, independent_variable, dependent_variabble, Name):\n",
        "    x_new = np.linspace(15, 55, 100)\n",
        "    y_new = model(x_new)\n",
        "\n",
        "    plt.plot(independent_variable, dependent_variabble, '.', x_new, y_new, '-')\n",
        "    plt.title('Polynomial Fit with Matplotlib for Price ~ Length')\n",
        "    ax = plt.gca()\n",
        "    ax.set_facecolor((0.898, 0.898, 0.898))\n",
        "    fig = plt.gcf()\n",
        "    plt.xlabel(Name)\n",
        "    plt.ylabel('Price of Cars')\n",
        "\n",
        "    plt.show()\n",
        "    plt.close()"
      ],
      "metadata": {
        "trusted": true,
        "id": "wxV5fz6Ceug4"
      },
      "execution_count": 34,
      "outputs": []
    },
    {
      "cell_type": "markdown",
      "source": [
        "Let's get the variables:\n"
      ],
      "metadata": {
        "id": "KThteBrWeug4"
      }
    },
    {
      "cell_type": "code",
      "source": [
        "x = df['highway-mpg']\n",
        "y = df['price']"
      ],
      "metadata": {
        "trusted": true,
        "id": "05-03ZLheug4"
      },
      "execution_count": 35,
      "outputs": []
    },
    {
      "cell_type": "markdown",
      "source": [
        "Let's fit the polynomial using the function <b>polyfit</b>, then use the function <b>poly1d</b> to display the polynomial function.\n"
      ],
      "metadata": {
        "id": "InIHFGzdeug4"
      }
    },
    {
      "cell_type": "code",
      "source": [
        "# Here we use a polynomial of the 3rd order (cubic) \n",
        "f = np.polyfit(x, y, 3)\n",
        "p = np.poly1d(f)\n",
        "print(p)"
      ],
      "metadata": {
        "trusted": true,
        "colab": {
          "base_uri": "https://localhost:8080/"
        },
        "id": "pJIgX8pjeug4",
        "outputId": "df426baf-93b0-4fee-c013-37be3a0c4526"
      },
      "execution_count": 36,
      "outputs": [
        {
          "output_type": "stream",
          "name": "stdout",
          "text": [
            "        3         2\n",
            "-1.557 x + 204.8 x - 8965 x + 1.379e+05\n"
          ]
        }
      ]
    },
    {
      "cell_type": "markdown",
      "source": [
        "Let's plot the function:\n"
      ],
      "metadata": {
        "id": "2GGeLgb_eug4"
      }
    },
    {
      "cell_type": "code",
      "source": [
        "PlotPolly(p, x, y, 'highway-mpg')"
      ],
      "metadata": {
        "trusted": true,
        "colab": {
          "base_uri": "https://localhost:8080/",
          "height": 295
        },
        "id": "BmlxGkpLeug5",
        "outputId": "6d5a60c6-005b-468f-be6b-4acd41e6b133"
      },
      "execution_count": 37,
      "outputs": [
        {
          "output_type": "display_data",
          "data": {
            "text/plain": [
              "<Figure size 432x288 with 1 Axes>"
            ],
            "image/png": "[encoded data removed]"
          },
          "metadata": {
            "needs_background": "light"
          }
        }
      ]
    },
    {
      "cell_type": "code",
      "source": [
        "np.polyfit(x, y, 3)"
      ],
      "metadata": {
        "trusted": true,
        "colab": {
          "base_uri": "https://localhost:8080/"
        },
        "id": "ElUm-ukYeug5",
        "outputId": "1de04127-78c9-4636-fc95-ef44cb52fd61"
      },
      "execution_count": 38,
      "outputs": [
        {
          "output_type": "execute_result",
          "data": {
            "text/plain": [
              "array([-1.55663829e+00,  2.04754306e+02, -8.96543312e+03,  1.37923594e+05])"
            ]
          },
          "metadata": {},
          "execution_count": 38
        }
      ]
    },
    {
      "cell_type": "markdown",
      "source": [
        "<p>We can already see from plotting that this polynomial model performs better than the linear model. This is because the generated polynomial function  \"hits\" more of the data points.</p>\n"
      ],
      "metadata": {
        "id": "kpaT8SMUeug5"
      }
    },
    {
      "cell_type": "markdown",
      "source": [
        "<div class=\"alert alert-danger alertdanger\" style=\"margin-top: 20px\">\n",
        "<h1>Question  #4:</h1>\n",
        "<b>Create 11 order polynomial model with the variables x and y from above.</b>\n",
        "</div>\n"
      ],
      "metadata": {
        "id": "UvMe0Hd0eug5"
      }
    },
    {
      "cell_type": "code",
      "source": [
        "# Write your code below and press Shift+Enter to execute \n",
        "f1 = np.polyfit(x, y, 11)\n",
        "p1 = np.poly1d(f1)\n",
        "print(p1)\n",
        "PlotPolly(p1,x,y, 'Highway MPG')"
      ],
      "metadata": {
        "trusted": true,
        "colab": {
          "base_uri": "https://localhost:8080/",
          "height": 364
        },
        "id": "Nz8JvdpUeug5",
        "outputId": "c6f55b94-87ee-4fe4-ed09-78969ef15b53"
      },
      "execution_count": 39,
      "outputs": [
        {
          "output_type": "stream",
          "name": "stdout",
          "text": [
            "            11             10             9           8         7\n",
            "-1.243e-08 x  + 4.722e-06 x  - 0.0008028 x + 0.08056 x - 5.297 x\n",
            "          6        5             4             3             2\n",
            " + 239.5 x - 7588 x + 1.684e+05 x - 2.565e+06 x + 2.551e+07 x - 1.491e+08 x + 3.879e+08\n"
          ]
        },
        {
          "output_type": "display_data",
          "data": {
            "text/plain": [
              "<Figure size 432x288 with 1 Axes>"
            ],
            "image/png": "[encoded data removed]"
          },
          "metadata": {
            "needs_background": "light"
          }
        }
      ]
    },
    {
      "cell_type": "markdown",
      "source": [
        "<p>The analytical expression for Multivariate Polynomial function gets complicated. For example, the expression for a second-order (degree=2) polynomial with two variables is given by:</p>\n"
      ],
      "metadata": {
        "id": "mmucwsDheug5"
      }
    },
    {
      "cell_type": "markdown",
      "source": [
        "$$\n",
        "Yhat = a + b\\_1 X\\_1 +b\\_2 X\\_2 +b\\_3 X\\_1 X\\_2+b\\_4 X\\_1^2+b\\_5 X\\_2^2\n",
        "$$\n"
      ],
      "metadata": {
        "id": "xskeszPDeug5"
      }
    },
    {
      "cell_type": "markdown",
      "source": [
        "We can perform a polynomial transform on multiple features. First, we import the module:\n"
      ],
      "metadata": {
        "id": "v4r3C-hAeug5"
      }
    },
    {
      "cell_type": "code",
      "source": [
        "from sklearn.preprocessing import PolynomialFeatures"
      ],
      "metadata": {
        "trusted": true,
        "id": "OREGEMHQeug5"
      },
      "execution_count": 40,
      "outputs": []
    },
    {
      "cell_type": "markdown",
      "source": [
        "We create a <b>PolynomialFeatures</b> object of degree 2:\n"
      ],
      "metadata": {
        "id": "CajmW5i7eug5"
      }
    },
    {
      "cell_type": "code",
      "source": [
        "pr=PolynomialFeatures(degree=2)\n",
        "pr"
      ],
      "metadata": {
        "trusted": true,
        "colab": {
          "base_uri": "https://localhost:8080/"
        },
        "id": "ro6FHdxDeug5",
        "outputId": "221d5068-7497-4310-c415-bdfce1df9d95"
      },
      "execution_count": 41,
      "outputs": [
        {
          "output_type": "execute_result",
          "data": {
            "text/plain": [
              "PolynomialFeatures()"
            ]
          },
          "metadata": {},
          "execution_count": 41
        }
      ]
    },
    {
      "cell_type": "code",
      "source": [
        "Z_pr=pr.fit_transform(Z)"
      ],
      "metadata": {
        "trusted": true,
        "id": "07wPIVjveug5"
      },
      "execution_count": 42,
      "outputs": []
    },
    {
      "cell_type": "markdown",
      "source": [
        "In the original data, there are 201 samples and 4 features.\n"
      ],
      "metadata": {
        "id": "8-Gwfm6eeug5"
      }
    },
    {
      "cell_type": "code",
      "source": [
        "Z.shape"
      ],
      "metadata": {
        "trusted": true,
        "colab": {
          "base_uri": "https://localhost:8080/"
        },
        "id": "sz6TCY60eug6",
        "outputId": "e10095a1-f65e-4772-d4c7-6d1f80a55a17"
      },
      "execution_count": 43,
      "outputs": [
        {
          "output_type": "execute_result",
          "data": {
            "text/plain": [
              "(201, 4)"
            ]
          },
          "metadata": {},
          "execution_count": 43
        }
      ]
    },
    {
      "cell_type": "markdown",
      "source": [
        "After the transformation, there are 201 samples and 15 features.\n"
      ],
      "metadata": {
        "id": "NoLovYz3eug6"
      }
    },
    {
      "cell_type": "code",
      "source": [
        "Z_pr.shape"
      ],
      "metadata": {
        "trusted": true,
        "colab": {
          "base_uri": "https://localhost:8080/"
        },
        "id": "B0iH_cyFeug6",
        "outputId": "8554fe4e-d76b-43ea-ba26-b29b6f2d2566"
      },
      "execution_count": 44,
      "outputs": [
        {
          "output_type": "execute_result",
          "data": {
            "text/plain": [
              "(201, 15)"
            ]
          },
          "metadata": {},
          "execution_count": 44
        }
      ]
    },
    {
      "cell_type": "markdown",
      "source": [
        "<h2>Pipeline</h2>\n"
      ],
      "metadata": {
        "id": "jDGKPhpceug6"
      }
    },
    {
      "cell_type": "markdown",
      "source": [
        "<p>Data Pipelines simplify the steps of processing the data. We use the module <b>Pipeline</b> to create a pipeline. We also use <b>StandardScaler</b> as a step in our pipeline.</p>\n"
      ],
      "metadata": {
        "id": "Edt95Witeug6"
      }
    },
    {
      "cell_type": "code",
      "source": [
        "from sklearn.pipeline import Pipeline\n",
        "from sklearn.preprocessing import StandardScaler"
      ],
      "metadata": {
        "trusted": true,
        "id": "TYsxdT4ceug6"
      },
      "execution_count": 45,
      "outputs": []
    },
    {
      "cell_type": "markdown",
      "source": [
        "We create the pipeline by creating a list of tuples including the name of the model or estimator and its corresponding constructor.\n"
      ],
      "metadata": {
        "id": "sUqyeCNSeug6"
      }
    },
    {
      "cell_type": "code",
      "source": [
        "Input=[('scale',StandardScaler()), ('polynomial', PolynomialFeatures(include_bias=False)), ('model',LinearRegression())]"
      ],
      "metadata": {
        "trusted": true,
        "id": "5cqWnzxXeug6"
      },
      "execution_count": 46,
      "outputs": []
    },
    {
      "cell_type": "markdown",
      "source": [
        "We input the list as an argument to the pipeline constructor:\n"
      ],
      "metadata": {
        "id": "r7YvsKhIeug6"
      }
    },
    {
      "cell_type": "code",
      "source": [
        "pipe=Pipeline(Input)\n",
        "pipe"
      ],
      "metadata": {
        "trusted": true,
        "colab": {
          "base_uri": "https://localhost:8080/"
        },
        "id": "J9kOJMzIeug6",
        "outputId": "6200279f-63a5-4cbd-daf6-311b1150dd15"
      },
      "execution_count": 47,
      "outputs": [
        {
          "output_type": "execute_result",
          "data": {
            "text/plain": [
              "Pipeline(steps=[('scale', StandardScaler()),\n",
              "                ('polynomial', PolynomialFeatures(include_bias=False)),\n",
              "                ('model', LinearRegression())])"
            ]
          },
          "metadata": {},
          "execution_count": 47
        }
      ]
    },
    {
      "cell_type": "markdown",
      "source": [
        "First, we convert the data type Z to type float to avoid conversion warnings that may appear as a result of StandardScaler taking float inputs.\n",
        "\n",
        "Then, we can normalize the data,  perform a transform and fit the model simultaneously.\n"
      ],
      "metadata": {
        "id": "s80zKO-Weug6"
      }
    },
    {
      "cell_type": "code",
      "source": [
        "Z = Z.astype(float)\n",
        "pipe.fit(Z,y)"
      ],
      "metadata": {
        "trusted": true,
        "colab": {
          "base_uri": "https://localhost:8080/"
        },
        "id": "YiBrZPU9eug6",
        "outputId": "166db44b-a915-46b9-ccb0-c91144515d96"
      },
      "execution_count": 48,
      "outputs": [
        {
          "output_type": "execute_result",
          "data": {
            "text/plain": [
              "Pipeline(steps=[('scale', StandardScaler()),\n",
              "                ('polynomial', PolynomialFeatures(include_bias=False)),\n",
              "                ('model', LinearRegression())])"
            ]
          },
          "metadata": {},
          "execution_count": 48
        }
      ]
    },
    {
      "cell_type": "markdown",
      "source": [
        "Similarly,  we can normalize the data, perform a transform and produce a prediction  simultaneously.\n"
      ],
      "metadata": {
        "id": "E_i7GRvqeug6"
      }
    },
    {
      "cell_type": "code",
      "source": [
        "ypipe=pipe.predict(Z)\n",
        "ypipe[0:4]"
      ],
      "metadata": {
        "trusted": true,
        "colab": {
          "base_uri": "https://localhost:8080/"
        },
        "id": "ZJP3BTvzeug7",
        "outputId": "131c6d48-8314-44c3-ea8a-f9c8512cc178"
      },
      "execution_count": 49,
      "outputs": [
        {
          "output_type": "execute_result",
          "data": {
            "text/plain": [
              "array([13102.74784201, 13102.74784201, 18225.54572197, 10390.29636555])"
            ]
          },
          "metadata": {},
          "execution_count": 49
        }
      ]
    },
    {
      "cell_type": "markdown",
      "source": [
        "<div class=\"alert alert-danger alertdanger\" style=\"margin-top: 20px\">\n",
        "<h1>Question #5:</h1>\n",
        "<b>Create a pipeline that standardizes the data, then produce a prediction using a linear regression model using the features Z and target y.</b>\n",
        "</div>\n"
      ],
      "metadata": {
        "id": "mvPAHiDbeug7"
      }
    },
    {
      "cell_type": "code",
      "source": [
        "# Write your code below and press Shift+Enter to execute \n",
        "Input=[('scale',StandardScaler()),('model',LinearRegression())]\n",
        "\n",
        "pipe=Pipeline(Input)\n",
        "\n",
        "pipe.fit(Z,y)\n",
        "\n",
        "ypipe=pipe.predict(Z)\n",
        "ypipe[0:10]"
      ],
      "metadata": {
        "trusted": true,
        "colab": {
          "base_uri": "https://localhost:8080/"
        },
        "id": "3TSUWsGzeug7",
        "outputId": "ad41766b-c8a6-4068-8a04-ad8452d69e8d"
      },
      "execution_count": 50,
      "outputs": [
        {
          "output_type": "execute_result",
          "data": {
            "text/plain": [
              "array([13699.11161184, 13699.11161184, 19051.65470233, 10620.36193015,\n",
              "       15521.31420211, 13869.66673213, 15456.16196732, 15974.00907672,\n",
              "       17612.35917161, 10722.32509097])"
            ]
          },
          "metadata": {},
          "execution_count": 50
        }
      ]
    },
    {
      "cell_type": "markdown",
      "source": [
        "<h2>4. Measures for In-Sample Evaluation</h2>\n"
      ],
      "metadata": {
        "id": "Z1RcySqreug7"
      }
    },
    {
      "cell_type": "markdown",
      "source": [
        "<p>When evaluating our models, not only do we want to visualize the results, but we also want a quantitative measure to determine how accurate the model is.</p>\n",
        "\n",
        "<p>Two very important measures that are often used in Statistics to determine the accuracy of a model are:</p>\n",
        "<ul>\n",
        "    <li><b>R^2 / R-squared</b></li>\n",
        "    <li><b>Mean Squared Error (MSE)</b></li>\n",
        "</ul>\n",
        "\n",
        "<b>R-squared</b>\n",
        "\n",
        "<p>R squared, also known as the coefficient of determination, is a measure to indicate how close the data is to the fitted regression line.</p>\n",
        "\n",
        "<p>The value of the R-squared is the percentage of variation of the response variable (y) that is explained by a linear model.</p>\n",
        "\n",
        "<b>Mean Squared Error (MSE)</b>\n",
        "\n",
        "<p>The Mean Squared Error measures the average of the squares of errors. That is, the difference between actual value (y) and the estimated value (ŷ).</p>\n"
      ],
      "metadata": {
        "id": "TnRTEL7Jeug7"
      }
    },
    {
      "cell_type": "markdown",
      "source": [
        "<h3>Model 1: Simple Linear Regression</h3>\n"
      ],
      "metadata": {
        "id": "MP92SOtfeug7"
      }
    },
    {
      "cell_type": "markdown",
      "source": [
        "Let's calculate the R^2:\n"
      ],
      "metadata": {
        "id": "GhvEI71Ieug7"
      }
    },
    {
      "cell_type": "code",
      "source": [
        "#highway_mpg_fit\n",
        "lm.fit(X, Y)\n",
        "# Find the R^2\n",
        "print('The R-square is: ', lm.score(X, Y))"
      ],
      "metadata": {
        "scrolled": true,
        "trusted": true,
        "colab": {
          "base_uri": "https://localhost:8080/"
        },
        "id": "cvwi1Qwfeug7",
        "outputId": "75038ffb-74f0-471d-e63a-629f6f0fafa9"
      },
      "execution_count": 51,
      "outputs": [
        {
          "output_type": "stream",
          "name": "stdout",
          "text": [
            "The R-square is:  0.4965911884339176\n"
          ]
        }
      ]
    },
    {
      "cell_type": "markdown",
      "source": [
        "We can say that \\~49.659% of the variation of the price is explained by this simple linear model \"horsepower_fit\".\n"
      ],
      "metadata": {
        "id": "LjJWT_u4eug7"
      }
    },
    {
      "cell_type": "markdown",
      "source": [
        "Let's calculate the MSE:\n"
      ],
      "metadata": {
        "id": "XfclIAOUeug7"
      }
    },
    {
      "cell_type": "markdown",
      "source": [
        "We can predict the output i.e., \"yhat\" using the predict method, where X is the input variable:\n"
      ],
      "metadata": {
        "id": "mVD2SjXleug8"
      }
    },
    {
      "cell_type": "code",
      "source": [
        "Yhat=lm.predict(X)\n",
        "print('The output of the first four predicted value is: ', Yhat[0:4])"
      ],
      "metadata": {
        "trusted": true,
        "colab": {
          "base_uri": "https://localhost:8080/"
        },
        "id": "zbxiBxz7eug8",
        "outputId": "2cac633e-d5a4-44ea-a1ce-52e48474a563"
      },
      "execution_count": 52,
      "outputs": [
        {
          "output_type": "stream",
          "name": "stdout",
          "text": [
            "The output of the first four predicted value is:  [16236.50464347 16236.50464347 17058.23802179 13771.3045085 ]\n"
          ]
        }
      ]
    },
    {
      "cell_type": "markdown",
      "source": [
        "Let's import the function <b>mean_squared_error</b> from the module <b>metrics</b>:\n"
      ],
      "metadata": {
        "id": "U0xu8_4Qeug8"
      }
    },
    {
      "cell_type": "code",
      "source": [
        "from sklearn.metrics import mean_squared_error"
      ],
      "metadata": {
        "trusted": true,
        "id": "F9_wh_gheug8"
      },
      "execution_count": 53,
      "outputs": []
    },
    {
      "cell_type": "markdown",
      "source": [
        "We can compare the predicted results with the actual results:\n"
      ],
      "metadata": {
        "id": "ekzXU5Vkeug8"
      }
    },
    {
      "cell_type": "code",
      "source": [
        "mse = mean_squared_error(df['price'], Yhat)\n",
        "print('The mean square error of price and predicted value is: ', mse)"
      ],
      "metadata": {
        "trusted": true,
        "colab": {
          "base_uri": "https://localhost:8080/"
        },
        "id": "5F0I2qZJeug8",
        "outputId": "f7402a0d-9601-4919-bdc2-4e95a1d37000"
      },
      "execution_count": 54,
      "outputs": [
        {
          "output_type": "stream",
          "name": "stdout",
          "text": [
            "The mean square error of price and predicted value is:  31635042.944639888\n"
          ]
        }
      ]
    },
    {
      "cell_type": "markdown",
      "source": [
        "<h3>Model 2: Multiple Linear Regression</h3>\n"
      ],
      "metadata": {
        "id": "3qQJXxMpeug8"
      }
    },
    {
      "cell_type": "markdown",
      "source": [
        "Let's calculate the R^2:\n"
      ],
      "metadata": {
        "id": "dLZcR7QYeug8"
      }
    },
    {
      "cell_type": "code",
      "source": [
        "# fit the model \n",
        "lm.fit(Z, df['price'])\n",
        "# Find the R^2\n",
        "print('The R-square is: ', lm.score(Z, df['price']))"
      ],
      "metadata": {
        "trusted": true,
        "colab": {
          "base_uri": "https://localhost:8080/"
        },
        "id": "H4OFDGLueug8",
        "outputId": "83fef012-c40c-43ee-bef9-d6e2594b81b8"
      },
      "execution_count": 55,
      "outputs": [
        {
          "output_type": "stream",
          "name": "stdout",
          "text": [
            "The R-square is:  0.8093562806577457\n"
          ]
        }
      ]
    },
    {
      "cell_type": "markdown",
      "source": [
        "We can say that \\~80.896 % of the variation of price is explained by this multiple linear regression \"multi_fit\".\n"
      ],
      "metadata": {
        "id": "TOzPXB6Yeug8"
      }
    },
    {
      "cell_type": "markdown",
      "source": [
        "Let's calculate the MSE.\n"
      ],
      "metadata": {
        "id": "pxUIOj2Peug8"
      }
    },
    {
      "cell_type": "markdown",
      "source": [
        "We produce a prediction:\n"
      ],
      "metadata": {
        "id": "bu9GFrsyeug8"
      }
    },
    {
      "cell_type": "code",
      "source": [
        "Y_predict_multifit = lm.predict(Z)"
      ],
      "metadata": {
        "trusted": true,
        "id": "TP4L8HF6eug8"
      },
      "execution_count": 56,
      "outputs": []
    },
    {
      "cell_type": "markdown",
      "source": [
        "We compare the predicted results with the actual results:\n"
      ],
      "metadata": {
        "id": "xkcQmpvteug8"
      }
    },
    {
      "cell_type": "code",
      "source": [
        "print('The mean square error of price and predicted value using multifit is: ', \\\n",
        "      mean_squared_error(df['price'], Y_predict_multifit))"
      ],
      "metadata": {
        "trusted": true,
        "colab": {
          "base_uri": "https://localhost:8080/"
        },
        "id": "pfe98vzmeug8",
        "outputId": "ca0c1a08-3ed9-4799-817c-8afe0fdb18fe"
      },
      "execution_count": 57,
      "outputs": [
        {
          "output_type": "stream",
          "name": "stdout",
          "text": [
            "The mean square error of price and predicted value using multifit is:  11980366.87072649\n"
          ]
        }
      ]
    },
    {
      "cell_type": "markdown",
      "source": [
        "<h3>Model 3: Polynomial Fit</h3>\n"
      ],
      "metadata": {
        "id": "UnSPmhPheug9"
      }
    },
    {
      "cell_type": "markdown",
      "source": [
        "Let's calculate the R^2.\n"
      ],
      "metadata": {
        "id": "ONT6SWM9eug9"
      }
    },
    {
      "cell_type": "markdown",
      "source": [
        "Let’s import the function <b>r2\\_score</b> from the module <b>metrics</b> as we are using a different function.\n"
      ],
      "metadata": {
        "id": "w1xneUQyeug9"
      }
    },
    {
      "cell_type": "code",
      "source": [
        "from sklearn.metrics import r2_score"
      ],
      "metadata": {
        "trusted": true,
        "id": "UBiL-P0zeug9"
      },
      "execution_count": 58,
      "outputs": []
    },
    {
      "cell_type": "markdown",
      "source": [
        "We apply the function to get the value of R^2:\n"
      ],
      "metadata": {
        "id": "6oMsGw-Zeug9"
      }
    },
    {
      "cell_type": "code",
      "source": [
        "r_squared = r2_score(y, p(x))\n",
        "print('The R-square value is: ', r_squared)"
      ],
      "metadata": {
        "trusted": true,
        "colab": {
          "base_uri": "https://localhost:8080/"
        },
        "id": "SLS-NMsqeug9",
        "outputId": "e2352967-62db-44c8-ed7f-5fc4889c024d"
      },
      "execution_count": 59,
      "outputs": [
        {
          "output_type": "stream",
          "name": "stdout",
          "text": [
            "The R-square value is:  0.674194666390652\n"
          ]
        }
      ]
    },
    {
      "cell_type": "markdown",
      "source": [
        "We can say that \\~67.419 % of the variation of price is explained by this polynomial fit.\n"
      ],
      "metadata": {
        "id": "6XCHM-dNeug9"
      }
    },
    {
      "cell_type": "markdown",
      "source": [
        "<h3>MSE</h3>\n"
      ],
      "metadata": {
        "id": "dnEnRbLHeug9"
      }
    },
    {
      "cell_type": "markdown",
      "source": [
        "We can also calculate the MSE:\n"
      ],
      "metadata": {
        "id": "_0QksYR9eug9"
      }
    },
    {
      "cell_type": "code",
      "source": [
        "mean_squared_error(df['price'], p(x))"
      ],
      "metadata": {
        "trusted": true,
        "colab": {
          "base_uri": "https://localhost:8080/"
        },
        "id": "6EthujWBeug9",
        "outputId": "7cf00818-7708-4ab9-88f2-8f7ca28aff20"
      },
      "execution_count": 60,
      "outputs": [
        {
          "output_type": "execute_result",
          "data": {
            "text/plain": [
              "20474146.426361218"
            ]
          },
          "metadata": {},
          "execution_count": 60
        }
      ]
    },
    {
      "cell_type": "markdown",
      "source": [
        "<h2>5. Prediction and Decision Making</h2>\n",
        "<h3>Prediction</h3>\n",
        "\n",
        "<p>In the previous section, we trained the model using the method <b>fit</b>. Now we will use the method <b>predict</b> to produce a prediction. Lets import <b>pyplot</b> for plotting; we will also be using some functions from numpy.</p>\n"
      ],
      "metadata": {
        "id": "aQugj3m7eug9"
      }
    },
    {
      "cell_type": "code",
      "source": [
        "import matplotlib.pyplot as plt\n",
        "import numpy as np\n",
        "\n",
        "%matplotlib inline "
      ],
      "metadata": {
        "trusted": true,
        "id": "yGfB-CVSeug9"
      },
      "execution_count": 61,
      "outputs": []
    },
    {
      "cell_type": "markdown",
      "source": [
        "Create a new input:\n"
      ],
      "metadata": {
        "id": "6M-5Pebteug9"
      }
    },
    {
      "cell_type": "code",
      "source": [
        "new_input=np.arange(1, 100, 1).reshape(-1, 1)"
      ],
      "metadata": {
        "trusted": true,
        "id": "nTwoH-Ojeug9"
      },
      "execution_count": 62,
      "outputs": []
    },
    {
      "cell_type": "markdown",
      "source": [
        "Fit the model:\n"
      ],
      "metadata": {
        "id": "kTVyNcM-eug-"
      }
    },
    {
      "cell_type": "code",
      "source": [
        "lm.fit(X, Y)\n",
        "lm"
      ],
      "metadata": {
        "trusted": true,
        "colab": {
          "base_uri": "https://localhost:8080/"
        },
        "id": "i80IwTUQeug-",
        "outputId": "5ca3a49f-389e-4f12-db95-3c7c20ccf3a3"
      },
      "execution_count": 63,
      "outputs": [
        {
          "output_type": "execute_result",
          "data": {
            "text/plain": [
              "LinearRegression()"
            ]
          },
          "metadata": {},
          "execution_count": 63
        }
      ]
    },
    {
      "cell_type": "markdown",
      "source": [
        "Produce a prediction:\n"
      ],
      "metadata": {
        "id": "RVRpekmheug-"
      }
    },
    {
      "cell_type": "code",
      "source": [
        "yhat=lm.predict(new_input)\n",
        "yhat[0:5]"
      ],
      "metadata": {
        "trusted": true,
        "colab": {
          "base_uri": "https://localhost:8080/"
        },
        "id": "fndrE8dfeug-",
        "outputId": "4e5cb80d-14b7-4543-b425-d64e10e4607b"
      },
      "execution_count": 64,
      "outputs": [
        {
          "output_type": "stream",
          "name": "stderr",
          "text": [
            "/usr/local/lib/python3.7/dist-packages/sklearn/base.py:451: UserWarning: X does not have valid feature names, but LinearRegression was fitted with feature names\n",
            "  \"X does not have valid feature names, but\"\n"
          ]
        },
        {
          "output_type": "execute_result",
          "data": {
            "text/plain": [
              "array([37601.57247984, 36779.83910151, 35958.10572319, 35136.37234487,\n",
              "       34314.63896655])"
            ]
          },
          "metadata": {},
          "execution_count": 64
        }
      ]
    },
    {
      "cell_type": "markdown",
      "source": [
        "We can plot the data:\n"
      ],
      "metadata": {
        "id": "lZfdN8Vseug-"
      }
    },
    {
      "cell_type": "code",
      "source": [
        "plt.plot(new_input, yhat)\n",
        "plt.show()"
      ],
      "metadata": {
        "trusted": true,
        "colab": {
          "base_uri": "https://localhost:8080/",
          "height": 265
        },
        "id": "V5u7nbWZeug-",
        "outputId": "c76d5507-69df-454c-da73-c39910fa9a26"
      },
      "execution_count": 65,
      "outputs": [
        {
          "output_type": "display_data",
          "data": {
            "text/plain": [
              "<Figure size 432x288 with 1 Axes>"
            ],
            "image/png": "[encoded data removed]"
          },
          "metadata": {
            "needs_background": "light"
          }
        }
      ]
    },
    {
      "cell_type": "markdown",
      "source": [
        "<h3>Decision Making: Determining a Good Model Fit</h3>\n"
      ],
      "metadata": {
        "id": "5dRTGZZXeug-"
      }
    },
    {
      "cell_type": "markdown",
      "source": [
        "<p>Now that we have visualized the different models, and generated the R-squared and MSE values for the fits, how do we determine a good model fit?\n",
        "<ul>\n",
        "    <li><i>What is a good R-squared value?</i></li>\n",
        "</ul>\n",
        "</p>\n",
        "\n",
        "<p>When comparing models, <b>the model with the higher R-squared value is a better fit</b> for the data.\n",
        "<ul>\n",
        "    <li><i>What is a good MSE?</i></li>\n",
        "</ul>\n",
        "</p>\n",
        "\n",
        "<p>When comparing models, <b>the model with the smallest MSE value is a better fit</b> for the data.</p>\n",
        "\n",
        "<h4>Let's take a look at the values for the different models.</h4>\n",
        "<p>Simple Linear Regression: Using Highway-mpg as a Predictor Variable of Price.\n",
        "<ul>\n",
        "    <li>R-squared: 0.49659118843391759</li>\n",
        "    <li>MSE: 3.16 x10^7</li>\n",
        "</ul>\n",
        "</p>\n",
        "\n",
        "<p>Multiple Linear Regression: Using Horsepower, Curb-weight, Engine-size, and Highway-mpg as Predictor Variables of Price.\n",
        "<ul>\n",
        "    <li>R-squared: 0.80896354913783497</li>\n",
        "    <li>MSE: 1.2 x10^7</li>\n",
        "</ul>\n",
        "</p>\n",
        "\n",
        "<p>Polynomial Fit: Using Highway-mpg as a Predictor Variable of Price.\n",
        "<ul>\n",
        "    <li>R-squared: 0.6741946663906514</li>\n",
        "    <li>MSE: 2.05 x 10^7</li>\n",
        "</ul>\n",
        "</p>\n"
      ],
      "metadata": {
        "id": "QuT0XpZJeug-"
      }
    },
    {
      "cell_type": "markdown",
      "source": [
        "<h3>Simple Linear Regression Model (SLR) vs Multiple Linear Regression Model (MLR)</h3>\n"
      ],
      "metadata": {
        "id": "yu8c_l4veug-"
      }
    },
    {
      "cell_type": "markdown",
      "source": [
        "<p>Usually, the more variables you have, the better your model is at predicting, but this is not always true. Sometimes you may not have enough data, you may run into numerical problems, or many of the variables may not be useful and even act as noise. As a result, you should always check the MSE and R^2.</p>\n",
        "\n",
        "<p>In order to compare the results of the MLR vs SLR models, we look at a combination of both the R-squared and MSE to make the best conclusion about the fit of the model.\n",
        "<ul>\n",
        "    <li><b>MSE</b>: The MSE of SLR is  3.16x10^7  while MLR has an MSE of 1.2 x10^7.  The MSE of MLR is much smaller.</li>\n",
        "    <li><b>R-squared</b>: In this case, we can also see that there is a big difference between the R-squared of the SLR and the R-squared of the MLR. The R-squared for the SLR (~0.497) is very small compared to the R-squared for the MLR (~0.809).</li>\n",
        "</ul>\n",
        "</p>\n",
        "\n",
        "This R-squared in combination with the MSE show that MLR seems like the better model fit in this case compared to SLR.\n"
      ],
      "metadata": {
        "id": "stdjThbEeug-"
      }
    },
    {
      "cell_type": "markdown",
      "source": [
        "<h3>Simple Linear Model (SLR) vs. Polynomial Fit</h3>\n"
      ],
      "metadata": {
        "id": "63x1wA5beug-"
      }
    },
    {
      "cell_type": "markdown",
      "source": [
        "<ul>\n",
        "    <li><b>MSE</b>: We can see that Polynomial Fit brought down the MSE, since this MSE is smaller than the one from the SLR.</li> \n",
        "    <li><b>R-squared</b>: The R-squared for the Polynomial Fit is larger than the R-squared for the SLR, so the Polynomial Fit also brought up the R-squared quite a bit.</li>\n",
        "</ul>\n",
        "<p>Since the Polynomial Fit resulted in a lower MSE and a higher R-squared, we can conclude that this was a better fit model than the simple linear regression for predicting \"price\" with \"highway-mpg\" as a predictor variable.</p>\n"
      ],
      "metadata": {
        "id": "ca5JHEaoeug-"
      }
    },
    {
      "cell_type": "markdown",
      "source": [
        "<h3>Multiple Linear Regression (MLR) vs. Polynomial Fit</h3>\n"
      ],
      "metadata": {
        "id": "Wbpyy9U3eug_"
      }
    },
    {
      "cell_type": "markdown",
      "source": [
        "<ul>\n",
        "    <li><b>MSE</b>: The MSE for the MLR is smaller than the MSE for the Polynomial Fit.</li>\n",
        "    <li><b>R-squared</b>: The R-squared for the MLR is also much larger than for the Polynomial Fit.</li>\n",
        "</ul>\n"
      ],
      "metadata": {
        "id": "jdezoPqKeug_"
      }
    },
    {
      "cell_type": "markdown",
      "source": [
        "<h2>Conclusion</h2>\n"
      ],
      "metadata": {
        "id": "d9al8_7Weug_"
      }
    },
    {
      "cell_type": "markdown",
      "source": [
        "<p>Comparing these three models, we conclude that <b>the MLR model is the best model</b> to be able to predict price from our dataset. This result makes sense since we have 27 variables in total and we know that more than one of those variables are potential predictors of the final car price.</p>\n"
      ],
      "metadata": {
        "id": "R-VogqLyeug_"
      }
    },
    {
      "cell_type": "markdown",
      "source": [
        "![image.png](data:image/png;base64,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)"
      ],
      "metadata": {
        "id": "b2jioX79hjAD"
      }
    },
    {
      "cell_type": "markdown",
      "source": [
        "![image.png](data:image/png;base64,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)"
      ],
      "metadata": {
        "id": "3b_CkW0Nhj9J"
      }
    }
  ]
}