{
  "nbformat": 4,
  "nbformat_minor": 0,
  "metadata": {
    "colab": {
      "name": "assignment01.ipynb",
      "provenance": [],
      "include_colab_link": true
    },
    "kernelspec": {
      "name": "python3",
      "display_name": "Python 3"
    },
    "language_info": {
      "name": "python"
    }
  },
  "cells": [
    {
      "cell_type": "markdown",
      "metadata": {
        "id": "view-in-github",
        "colab_type": "text"
      },
      "source": [
        "<a href=\"https://colab.research.google.com/github/PosgradoMNA/actividades-de-aprendizaje-antonio-saenz/blob/main/assignment01.ipynb\" target=\"_parent\"><img src=\"https://colab.research.google.com/assets/colab-badge.svg\" alt=\"Open In Colab\"/></a>"
      ]
    },
    {
      "cell_type": "code",
      "execution_count": null,
      "metadata": {
        "id": "LzUSMM79NR9P",
        "outputId": "0e6cb421-1096-426a-b31a-f61d059def81",
        "colab": {
          "base_uri": "https://localhost:8080/"
        }
      },
      "outputs": [
        {
          "output_type": "stream",
          "name": "stdout",
          "text": [
            "assignment01 for GitJobish03 and edited in git, and 18\n"
          ]
        }
      ],
      "source": [
        "print('assignment01 for GitJobish03 and edited in git, and 18')"
      ]
    },
    {
      "cell_type": "code",
      "source": [
        "print(\"LAB 01 - Antonio Saenz - A01793884\")"
      ],
      "metadata": {
        "id": "mxM_WppZPMFx",
        "outputId": "8f25112c-89c0-4620-85c0-950f6e0633b9",
        "colab": {
          "base_uri": "https://localhost:8080/"
        }
      },
      "execution_count": null,
      "outputs": [
        {
          "output_type": "stream",
          "name": "stdout",
          "text": [
            "LAB 01 - Antonio Saenz - A01793884\n"
          ]
        }
      ]
    },
    {
      "cell_type": "code",
      "source": [
        "import sys\n",
        "print(sys.version)"
      ],
      "metadata": {
        "id": "iHzpemaLRlQT",
        "outputId": "e428d4e0-74fb-4d2e-f0c5-46680e7fa1cb",
        "colab": {
          "base_uri": "https://localhost:8080/"
        }
      },
      "execution_count": null,
      "outputs": [
        {
          "output_type": "stream",
          "name": "stdout",
          "text": [
            "3.7.14 (default, Sep  8 2022, 00:06:44) \n",
            "[GCC 7.5.0]\n"
          ]
        }
      ]
    },
    {
      "cell_type": "code",
      "source": [
        "print(\"Hello World\") # Say Hello"
      ],
      "metadata": {
        "id": "opiGKTvcJ5XE",
        "outputId": "c74cfd70-b43a-40a3-a390-b217d3526ea3",
        "colab": {
          "base_uri": "https://localhost:8080/"
        }
      },
      "execution_count": null,
      "outputs": [
        {
          "output_type": "stream",
          "name": "stdout",
          "text": [
            "Hello World\n"
          ]
        }
      ]
    },
    {
      "cell_type": "code",
      "source": [
        "#frint(\"Hello World\") # Show error message"
      ],
      "metadata": {
        "id": "2gosWWNdRzVL"
      },
      "execution_count": null,
      "outputs": []
    },
    {
      "cell_type": "code",
      "source": [
        "print(\"Hello\\nWorld\")"
      ],
      "metadata": {
        "id": "C6KdOP4EPj7h",
        "outputId": "f8340a0f-0dae-4273-9dd1-7bd9d18099c5",
        "colab": {
          "base_uri": "https://localhost:8080/"
        }
      },
      "execution_count": null,
      "outputs": [
        {
          "output_type": "stream",
          "name": "stdout",
          "text": [
            "Hello\n",
            "World\n"
          ]
        }
      ]
    },
    {
      "cell_type": "code",
      "source": [
        "# this is a comment"
      ],
      "metadata": {
        "id": "Sk1f6G_iPmTv"
      },
      "execution_count": null,
      "outputs": []
    },
    {
      "cell_type": "code",
      "source": [
        "type(\"Hello World\")"
      ],
      "metadata": {
        "id": "zCP_OQpZPpGV",
        "outputId": "216c2f55-68d4-4245-ca6d-6b18e51dd346",
        "colab": {
          "base_uri": "https://localhost:8080/"
        }
      },
      "execution_count": null,
      "outputs": [
        {
          "output_type": "execute_result",
          "data": {
            "text/plain": [
              "str"
            ]
          },
          "metadata": {},
          "execution_count": 6
        }
      ]
    },
    {
      "cell_type": "code",
      "source": [
        "type(\"1.1\")\n",
        "type(int(1.0))"
      ],
      "metadata": {
        "id": "QOw3QWQQPvBT",
        "outputId": "549a7737-0ca2-48b5-adca-5862b7bb370c",
        "colab": {
          "base_uri": "https://localhost:8080/"
        }
      },
      "execution_count": null,
      "outputs": [
        {
          "output_type": "execute_result",
          "data": {
            "text/plain": [
              "int"
            ]
          },
          "metadata": {},
          "execution_count": 8
        }
      ]
    },
    {
      "cell_type": "code",
      "source": [
        "print(bool(int(\"1\")))"
      ],
      "metadata": {
        "id": "iAV_QLqBP4L8",
        "outputId": "c3ae43ce-0cc3-4bfb-bb9a-219ca66dda2b",
        "colab": {
          "base_uri": "https://localhost:8080/"
        }
      },
      "execution_count": null,
      "outputs": [
        {
          "output_type": "stream",
          "name": "stdout",
          "text": [
            "True\n"
          ]
        }
      ]
    },
    {
      "cell_type": "code",
      "source": [
        "str(bool(int(\"19\")))"
      ],
      "metadata": {
        "id": "v76sscPiQBbC",
        "outputId": "9068cefb-744f-4980-e6ef-9c1b736fe015",
        "colab": {
          "base_uri": "https://localhost:8080/",
          "height": 35
        }
      },
      "execution_count": null,
      "outputs": [
        {
          "output_type": "execute_result",
          "data": {
            "text/plain": [
              "'True'"
            ],
            "application/vnd.google.colaboratory.intrinsic+json": {
              "type": "string"
            }
          },
          "metadata": {},
          "execution_count": 16
        }
      ]
    },
    {
      "cell_type": "code",
      "source": [
        "Letters=\"ABCDEFGHIJK\"\n",
        "Letters[0:4]"
      ],
      "metadata": {
        "id": "Tg-nn1RvQrJx",
        "outputId": "2e3bc39d-a08e-4051-9354-d45199e0a398",
        "colab": {
          "base_uri": "https://localhost:8080/",
          "height": 35
        }
      },
      "execution_count": null,
      "outputs": [
        {
          "output_type": "execute_result",
          "data": {
            "text/plain": [
              "'ABCD'"
            ],
            "application/vnd.google.colaboratory.intrinsic+json": {
              "type": "string"
            }
          },
          "metadata": {},
          "execution_count": 17
        }
      ]
    },
    {
      "cell_type": "code",
      "source": [
        "Good=\"GsoAo+dh itgom kkenuo6w\"\n",
        "Better=Good[::2]\n",
        "Better"
      ],
      "metadata": {
        "id": "mrya_B8QQwxm",
        "outputId": "87d599f2-389d-4bef-8e8b-1b1b0fdd41c2",
        "colab": {
          "base_uri": "https://localhost:8080/",
          "height": 35
        }
      },
      "execution_count": null,
      "outputs": [
        {
          "output_type": "execute_result",
          "data": {
            "text/plain": [
              "'Good to know'"
            ],
            "application/vnd.google.colaboratory.intrinsic+json": {
              "type": "string"
            }
          },
          "metadata": {},
          "execution_count": 21
        }
      ]
    },
    {
      "cell_type": "code",
      "source": [
        "Better.upper()"
      ],
      "metadata": {
        "id": "9QfmO0KTQ_nn",
        "outputId": "afdca7fd-7892-4e66-8914-56112d1f269a",
        "colab": {
          "base_uri": "https://localhost:8080/",
          "height": 35
        }
      },
      "execution_count": null,
      "outputs": [
        {
          "output_type": "execute_result",
          "data": {
            "text/plain": [
              "'GOOD TO KNOW'"
            ],
            "application/vnd.google.colaboratory.intrinsic+json": {
              "type": "string"
            }
          },
          "metadata": {},
          "execution_count": 22
        }
      ]
    },
    {
      "cell_type": "code",
      "source": [
        "2*Better.upper()"
      ],
      "metadata": {
        "id": "-u_rZThxR91C",
        "outputId": "d9faca0a-66ed-495b-8b52-e18b0df454ba",
        "colab": {
          "base_uri": "https://localhost:8080/",
          "height": 35
        }
      },
      "execution_count": null,
      "outputs": [
        {
          "output_type": "execute_result",
          "data": {
            "text/plain": [
              "'GOOD TO KNOWGOOD TO KNOW'"
            ],
            "application/vnd.google.colaboratory.intrinsic+json": {
              "type": "string"
            }
          },
          "metadata": {},
          "execution_count": 28
        }
      ]
    },
    {
      "cell_type": "code",
      "source": [
        "g = \"Mary had a little lamb Little lamb, little lamb Mary had a little lamb \\\n",
        "Its fleece was white as snow And everywhere that Mary went Mary went, Mary went \\\n",
        "Everywhere that Mary went The lamb was sure to go\"\n",
        "\n",
        "g.find(\"snow\") #index of"
      ],
      "metadata": {
        "id": "y_h_B2RcSlNe",
        "outputId": "79a57189-301c-4c21-d4a2-7b88f2c192eb",
        "colab": {
          "base_uri": "https://localhost:8080/"
        }
      },
      "execution_count": null,
      "outputs": [
        {
          "output_type": "execute_result",
          "data": {
            "text/plain": [
              "95"
            ]
          },
          "metadata": {},
          "execution_count": 30
        }
      ]
    },
    {
      "cell_type": "markdown",
      "source": [
        "--------------------------------------------------------------------------"
      ],
      "metadata": {
        "id": "nRQLcFj5SvfT"
      }
    },
    {
      "cell_type": "code",
      "source": [
        "print(\"LAB 02 - Antonio Saenz - A01793884\")"
      ],
      "metadata": {
        "id": "uoxW4ivnSznq",
        "outputId": "e3a2eb40-f93e-401e-ad3a-42e03325be3f",
        "colab": {
          "base_uri": "https://localhost:8080/"
        }
      },
      "execution_count": null,
      "outputs": [
        {
          "output_type": "stream",
          "name": "stdout",
          "text": [
            "LAB 02 - Antonio Saenz - A01793884\n"
          ]
        }
      ]
    },
    {
      "cell_type": "code",
      "source": [
        "######################## Tuples\n",
        "\n",
        "A = (0,1,2,3)\n",
        "print(A)"
      ],
      "metadata": {
        "id": "R1BQyIMqS15W",
        "outputId": "90d11ded-0213-4b53-c16e-a0a90cb2758f",
        "colab": {
          "base_uri": "https://localhost:8080/"
        }
      },
      "execution_count": null,
      "outputs": [
        {
          "output_type": "stream",
          "name": "stdout",
          "text": [
            "(0, 1, 2, 3)\n"
          ]
        }
      ]
    },
    {
      "cell_type": "code",
      "source": [
        "tuple1 = (\"disco\",10,1.2 )\n",
        "tuple1"
      ],
      "metadata": {
        "id": "SGQ9yrkITpKe",
        "outputId": "e056834c-c248-4e43-ca1f-cadfdf2a4015",
        "colab": {
          "base_uri": "https://localhost:8080/"
        }
      },
      "execution_count": null,
      "outputs": [
        {
          "output_type": "execute_result",
          "data": {
            "text/plain": [
              "('disco', 10, 1.2)"
            ]
          },
          "metadata": {},
          "execution_count": 39
        }
      ]
    },
    {
      "cell_type": "code",
      "source": [
        "print(tuple1[0])\n",
        "print(tuple1[1])\n",
        "print(tuple1[2])"
      ],
      "metadata": {
        "id": "-5SHDsR6Tr-o",
        "outputId": "b7ff9a1a-f786-4aba-a7ec-244415297e04",
        "colab": {
          "base_uri": "https://localhost:8080/"
        }
      },
      "execution_count": null,
      "outputs": [
        {
          "output_type": "stream",
          "name": "stdout",
          "text": [
            "disco\n",
            "10\n",
            "1.2\n"
          ]
        }
      ]
    },
    {
      "cell_type": "code",
      "source": [
        "Ratings = (0, 9, 6, 5, 10, 8, 9, 6, 2)\n",
        "sorted(Ratings)"
      ],
      "metadata": {
        "id": "B7TqqKopTyn4",
        "outputId": "29b288ad-5d30-4b33-f8df-8813d41dbaae",
        "colab": {
          "base_uri": "https://localhost:8080/"
        }
      },
      "execution_count": null,
      "outputs": [
        {
          "output_type": "execute_result",
          "data": {
            "text/plain": [
              "[0, 2, 5, 6, 6, 8, 9, 9, 10]"
            ]
          },
          "metadata": {},
          "execution_count": 42
        }
      ]
    },
    {
      "cell_type": "code",
      "source": [
        "NestedT =(1, 2, (\"pop\", \"rock\") ,(3,4),(\"disco\",(1,2)))\n",
        "print(\"Element 2, 0 of Tuple: \",   NestedT[2][0])\n",
        "print(\"Element 2, 1 of Tuple: \",   NestedT[2][1])\n",
        "print(\"Element 3, 0 of Tuple: \",   NestedT[3][0])\n",
        "print(\"Element 3, 1 of Tuple: \",   NestedT[3][1])\n",
        "print(\"Element 4, 0 of Tuple: \",   NestedT[4][0])\n",
        "print(\"Element 4, 1 of Tuple: \",   NestedT[4][1])"
      ],
      "metadata": {
        "id": "gZV5PrWFT7Sz",
        "outputId": "d6543220-c85d-49ee-bd05-fdadb5c44e46",
        "colab": {
          "base_uri": "https://localhost:8080/"
        }
      },
      "execution_count": null,
      "outputs": [
        {
          "output_type": "stream",
          "name": "stdout",
          "text": [
            "Element 2, 0 of Tuple:  pop\n",
            "Element 2, 1 of Tuple:  rock\n",
            "Element 3, 0 of Tuple:  3\n",
            "Element 3, 1 of Tuple:  4\n",
            "Element 4, 0 of Tuple:  disco\n",
            "Element 4, 1 of Tuple:  (1, 2)\n"
          ]
        }
      ]
    },
    {
      "cell_type": "code",
      "source": [
        "C_tuple = (-5, 1, -3)\n",
        "C_list = sorted(C_tuple)\n",
        "C_list"
      ],
      "metadata": {
        "id": "Rwg4ZoBtUPy0",
        "outputId": "42a1f8d3-29e1-4af9-97b0-430b78ec7cf1",
        "colab": {
          "base_uri": "https://localhost:8080/"
        }
      },
      "execution_count": null,
      "outputs": [
        {
          "output_type": "execute_result",
          "data": {
            "text/plain": [
              "[-5, -3, 1]"
            ]
          },
          "metadata": {},
          "execution_count": 44
        }
      ]
    },
    {
      "cell_type": "code",
      "source": [
        "########################### Lists \n",
        "\n",
        "A[0:2]"
      ],
      "metadata": {
        "id": "Pqa9kdY3TBjD",
        "outputId": "482b56da-fa50-4d70-fee0-ae3a81005311",
        "colab": {
          "base_uri": "https://localhost:8080/"
        }
      },
      "execution_count": null,
      "outputs": [
        {
          "output_type": "execute_result",
          "data": {
            "text/plain": [
              "(0, 1)"
            ]
          },
          "metadata": {},
          "execution_count": 38
        }
      ]
    },
    {
      "cell_type": "code",
      "source": [
        "B=[\"a\",\"b\",\"c\"]\n",
        "B[0:2]"
      ],
      "metadata": {
        "id": "wrcEaN7cTDKN",
        "outputId": "5c75a2d2-bd5a-4ca7-d796-aa1625ba7c72",
        "colab": {
          "base_uri": "https://localhost:8080/"
        }
      },
      "execution_count": null,
      "outputs": [
        {
          "output_type": "execute_result",
          "data": {
            "text/plain": [
              "['a', 'b']"
            ]
          },
          "metadata": {},
          "execution_count": 36
        }
      ]
    },
    {
      "cell_type": "code",
      "source": [
        "B[0] = 'A'\n",
        "B"
      ],
      "metadata": {
        "id": "fBdAPNZwTSGe",
        "outputId": "de9bfb8e-e082-49ac-e116-3e8e526949a2",
        "colab": {
          "base_uri": "https://localhost:8080/"
        }
      },
      "execution_count": null,
      "outputs": [
        {
          "output_type": "execute_result",
          "data": {
            "text/plain": [
              "['A', 'b', 'c']"
            ]
          },
          "metadata": {},
          "execution_count": 37
        }
      ]
    },
    {
      "cell_type": "code",
      "source": [
        "L = [\"Michael Jackson\", 10.1, 1982, [1, 2], (\"A\", 1)]\n",
        "L"
      ],
      "metadata": {
        "id": "ZgMXx-EYTlMq",
        "outputId": "5504b2bc-052e-4c1a-e74e-05d5f4a44a39",
        "colab": {
          "base_uri": "https://localhost:8080/"
        }
      },
      "execution_count": null,
      "outputs": [
        {
          "output_type": "execute_result",
          "data": {
            "text/plain": [
              "['Michael Jackson', 10.1, 1982, [1, 2], ('A', 1)]"
            ]
          },
          "metadata": {},
          "execution_count": 46
        }
      ]
    },
    {
      "cell_type": "code",
      "source": [
        "L[3:5]"
      ],
      "metadata": {
        "id": "l1GYUZShUZr9",
        "outputId": "7ab4eb39-972b-4320-bd31-ac7505d97bc6",
        "colab": {
          "base_uri": "https://localhost:8080/"
        }
      },
      "execution_count": null,
      "outputs": [
        {
          "output_type": "execute_result",
          "data": {
            "text/plain": [
              "[[1, 2], ('A', 1)]"
            ]
          },
          "metadata": {},
          "execution_count": 47
        }
      ]
    },
    {
      "cell_type": "code",
      "source": [
        "L.extend(['pop', 10])\n",
        "L"
      ],
      "metadata": {
        "id": "tUcavkgfUcVa",
        "outputId": "add2f37a-d5d0-4e78-f324-aac97386e35d",
        "colab": {
          "base_uri": "https://localhost:8080/"
        }
      },
      "execution_count": null,
      "outputs": [
        {
          "output_type": "execute_result",
          "data": {
            "text/plain": [
              "['Michael Jackson', 10.1, 1982, [1, 2], ('A', 1), 'pop', 10]"
            ]
          },
          "metadata": {},
          "execution_count": 48
        }
      ]
    },
    {
      "cell_type": "code",
      "source": [
        "L.append(['rock', 20])\n",
        "L"
      ],
      "metadata": {
        "id": "XDgQ3mhIUg8B",
        "outputId": "44bacdba-d234-43a6-a2a5-2cf3cf154da8",
        "colab": {
          "base_uri": "https://localhost:8080/"
        }
      },
      "execution_count": null,
      "outputs": [
        {
          "output_type": "execute_result",
          "data": {
            "text/plain": [
              "['Michael Jackson', 10.1, 1982, [1, 2], ('A', 1), 'pop', 10, ['rock', 20]]"
            ]
          },
          "metadata": {},
          "execution_count": 49
        }
      ]
    },
    {
      "cell_type": "code",
      "source": [
        "L[7][0]='blues'\n",
        "L"
      ],
      "metadata": {
        "id": "_oaUU-MqUnVw",
        "outputId": "3f36cf71-917b-4144-8d45-b7d58f44c6a4",
        "colab": {
          "base_uri": "https://localhost:8080/"
        }
      },
      "execution_count": null,
      "outputs": [
        {
          "output_type": "execute_result",
          "data": {
            "text/plain": [
              "['Michael Jackson', 10.1, 1982, [1, 2], ('A', 1), 'pop', 10, ['blues', 20]]"
            ]
          },
          "metadata": {},
          "execution_count": 50
        }
      ]
    },
    {
      "cell_type": "code",
      "source": [
        "B = L[:]\n",
        "B"
      ],
      "metadata": {
        "id": "XkhbOgGIUy8P",
        "outputId": "f09b7827-dd58-46fc-c38e-17f776d90ef7",
        "colab": {
          "base_uri": "https://localhost:8080/"
        }
      },
      "execution_count": null,
      "outputs": [
        {
          "output_type": "execute_result",
          "data": {
            "text/plain": [
              "['Michael Jackson', 10.1, 1982, [1, 2], ('A', 1), 'pop', 10, ['blues', 20]]"
            ]
          },
          "metadata": {},
          "execution_count": 51
        }
      ]
    },
    {
      "cell_type": "code",
      "source": [
        "L[1]=11.5\n",
        "print(L)\n",
        "print(B)"
      ],
      "metadata": {
        "id": "dO52KIP-U4zN",
        "outputId": "0d73192b-0b7c-458c-eb49-840172c437a1",
        "colab": {
          "base_uri": "https://localhost:8080/"
        }
      },
      "execution_count": null,
      "outputs": [
        {
          "output_type": "stream",
          "name": "stdout",
          "text": [
            "['Michael Jackson', 11.5, 1982, [1, 2], ('A', 1), 'pop', 10, ['blues', 20]]\n",
            "['Michael Jackson', 10.1, 1982, [1, 2], ('A', 1), 'pop', 10, ['blues', 20]]\n"
          ]
        }
      ]
    },
    {
      "cell_type": "code",
      "source": [
        "Z=L\n",
        "Z[1]=12\n",
        "print(Z)\n",
        "print(L)\n",
        "print(B)"
      ],
      "metadata": {
        "id": "H1FFoGNkVAxK",
        "outputId": "29ffff45-7110-4ab7-f1e0-524894842f73",
        "colab": {
          "base_uri": "https://localhost:8080/"
        }
      },
      "execution_count": null,
      "outputs": [
        {
          "output_type": "stream",
          "name": "stdout",
          "text": [
            "['Michael Jackson', 12, 1982, [1, 2], ('A', 1), 'pop', 10, ['blues', 20]]\n",
            "['Michael Jackson', 12, 1982, [1, 2], ('A', 1), 'pop', 10, ['blues', 20]]\n",
            "['Michael Jackson', 10.1, 1982, [1, 2], ('A', 1), 'pop', 10, ['blues', 20]]\n"
          ]
        }
      ]
    },
    {
      "cell_type": "code",
      "source": [
        "################################# Sets\n",
        "\n",
        "set(['A','B','C','A','B','C'])"
      ],
      "metadata": {
        "id": "NyYNoWh9VqbA",
        "outputId": "e182a12a-125e-4ae3-a81e-f5b6387394a8",
        "colab": {
          "base_uri": "https://localhost:8080/"
        }
      },
      "execution_count": null,
      "outputs": [
        {
          "output_type": "execute_result",
          "data": {
            "text/plain": [
              "{'A', 'B', 'C'}"
            ]
          },
          "metadata": {},
          "execution_count": 61
        }
      ]
    },
    {
      "cell_type": "code",
      "source": [
        "S={'A','B','C'}\n",
        "S.add('D')\n",
        "S"
      ],
      "metadata": {
        "id": "juem85LsVzYC",
        "outputId": "e04e8fd5-59d3-43e8-ac60-9dc4b1c150e8",
        "colab": {
          "base_uri": "https://localhost:8080/"
        }
      },
      "execution_count": null,
      "outputs": [
        {
          "output_type": "execute_result",
          "data": {
            "text/plain": [
              "{'A', 'B', 'C', 'D'}"
            ]
          },
          "metadata": {},
          "execution_count": 62
        }
      ]
    },
    {
      "cell_type": "code",
      "source": [
        "album_set1 = set([\"Thriller\", 'AC/DC', 'Back in Black'])\n",
        "album_set2 = set([ \"AC/DC\", \"Back in Black\", \"The Dark Side of the Moon\"])\n",
        "\n",
        "album_set1, album_set2"
      ],
      "metadata": {
        "id": "ZwiJ6l3HWEsY",
        "outputId": "631bfed8-f893-45e3-af83-1990c3a13d78",
        "colab": {
          "base_uri": "https://localhost:8080/"
        }
      },
      "execution_count": null,
      "outputs": [
        {
          "output_type": "execute_result",
          "data": {
            "text/plain": [
              "({'AC/DC', 'Back in Black', 'Thriller'},\n",
              " {'AC/DC', 'Back in Black', 'The Dark Side of the Moon'})"
            ]
          },
          "metadata": {},
          "execution_count": 63
        }
      ]
    },
    {
      "cell_type": "code",
      "source": [
        "intersection = album_set1 & album_set2\n",
        "intersection"
      ],
      "metadata": {
        "id": "V9zGpqwMWIz6",
        "outputId": "6b2d5743-63e3-4f6b-98b7-28aa2d3d86a7",
        "colab": {
          "base_uri": "https://localhost:8080/"
        }
      },
      "execution_count": null,
      "outputs": [
        {
          "output_type": "execute_result",
          "data": {
            "text/plain": [
              "{'AC/DC', 'Back in Black'}"
            ]
          },
          "metadata": {},
          "execution_count": 64
        }
      ]
    },
    {
      "cell_type": "code",
      "source": [
        "album_set1.difference(album_set2)  "
      ],
      "metadata": {
        "id": "xTtiFFDCWLbY",
        "outputId": "5fac65b7-eb2f-464c-d3a7-47f3705636e8",
        "colab": {
          "base_uri": "https://localhost:8080/"
        }
      },
      "execution_count": null,
      "outputs": [
        {
          "output_type": "execute_result",
          "data": {
            "text/plain": [
              "{'Thriller'}"
            ]
          },
          "metadata": {},
          "execution_count": 65
        }
      ]
    },
    {
      "cell_type": "code",
      "source": [
        "album_set2.difference(album_set1) "
      ],
      "metadata": {
        "id": "RbNaMe1-WNqR",
        "outputId": "90ff00ac-a8b0-476e-fa2d-90bdf21c2d8b",
        "colab": {
          "base_uri": "https://localhost:8080/"
        }
      },
      "execution_count": null,
      "outputs": [
        {
          "output_type": "execute_result",
          "data": {
            "text/plain": [
              "{'The Dark Side of the Moon'}"
            ]
          },
          "metadata": {},
          "execution_count": 66
        }
      ]
    },
    {
      "cell_type": "code",
      "source": [
        "album_set1.intersection(album_set2) "
      ],
      "metadata": {
        "id": "cW1avTcVWPhd",
        "outputId": "93242534-c0a8-47a8-edd4-c53501eb0107",
        "colab": {
          "base_uri": "https://localhost:8080/"
        }
      },
      "execution_count": null,
      "outputs": [
        {
          "output_type": "execute_result",
          "data": {
            "text/plain": [
              "{'AC/DC', 'Back in Black'}"
            ]
          },
          "metadata": {},
          "execution_count": 67
        }
      ]
    },
    {
      "cell_type": "code",
      "source": [
        "album_set1.union(album_set2)"
      ],
      "metadata": {
        "id": "4w0eISlbWUra",
        "outputId": "80babadf-4d87-43e6-d4d2-e51859845ab5",
        "colab": {
          "base_uri": "https://localhost:8080/"
        }
      },
      "execution_count": null,
      "outputs": [
        {
          "output_type": "execute_result",
          "data": {
            "text/plain": [
              "{'AC/DC', 'Back in Black', 'The Dark Side of the Moon', 'Thriller'}"
            ]
          },
          "metadata": {},
          "execution_count": 68
        }
      ]
    },
    {
      "cell_type": "code",
      "source": [
        "# Check if superset\n",
        "\n",
        "set(album_set1).issuperset(album_set2)  "
      ],
      "metadata": {
        "id": "-Zo8rfbgWXbh",
        "outputId": "6be888d1-1e39-40cb-f509-219c59ccbd71",
        "colab": {
          "base_uri": "https://localhost:8080/"
        }
      },
      "execution_count": null,
      "outputs": [
        {
          "output_type": "execute_result",
          "data": {
            "text/plain": [
              "False"
            ]
          },
          "metadata": {},
          "execution_count": 69
        }
      ]
    },
    {
      "cell_type": "code",
      "source": [
        "# Check if subset\n",
        "\n",
        "set(album_set2).issubset(album_set1)     "
      ],
      "metadata": {
        "id": "lXbpBlyPWdjh",
        "outputId": "86042f41-6400-4f59-c50c-2852d7daef2c",
        "colab": {
          "base_uri": "https://localhost:8080/"
        }
      },
      "execution_count": null,
      "outputs": [
        {
          "output_type": "execute_result",
          "data": {
            "text/plain": [
              "False"
            ]
          },
          "metadata": {},
          "execution_count": 70
        }
      ]
    },
    {
      "cell_type": "code",
      "source": [
        "# Convert the list ['rap','house','electronic music', 'rap'] to a set:\n",
        "set(['rap','house','electronic music','rap'])"
      ],
      "metadata": {
        "id": "byX7LQyXWiq5",
        "outputId": "05754fc3-58f2-49d1-ff6f-0bce8e6c7c2f",
        "colab": {
          "base_uri": "https://localhost:8080/"
        }
      },
      "execution_count": null,
      "outputs": [
        {
          "output_type": "execute_result",
          "data": {
            "text/plain": [
              "{'electronic music', 'house', 'rap'}"
            ]
          },
          "metadata": {},
          "execution_count": 71
        }
      ]
    },
    {
      "cell_type": "code",
      "source": [
        "A = [1, 2, 2, 1]  \n",
        "B = set([1, 2, 2, 1])\n",
        "print(\"the sum of A is:\", sum(A))\n",
        "print(\"the sum of B is:\", sum(B))"
      ],
      "metadata": {
        "id": "UQQXKAPIWphB",
        "outputId": "3da388b6-f990-4390-82f6-bd45f87bf029",
        "colab": {
          "base_uri": "https://localhost:8080/"
        }
      },
      "execution_count": null,
      "outputs": [
        {
          "output_type": "stream",
          "name": "stdout",
          "text": [
            "the sum of A is: 6\n",
            "the sum of B is: 3\n"
          ]
        }
      ]
    },
    {
      "cell_type": "code",
      "source": [
        "############################ Dictionaries\n",
        "\n",
        "Dict = {\"key1\": 1, \"key2\": \"2\", \"key3\": [3, 3, 3], \"key4\": (4, 4, 4), ('key5'): 5, (0, 1): 6}\n",
        "Dict"
      ],
      "metadata": {
        "id": "REWAMqByW1tV",
        "outputId": "2e2aa8a3-73d2-4ee0-800d-5d4ab878d49d",
        "colab": {
          "base_uri": "https://localhost:8080/"
        }
      },
      "execution_count": null,
      "outputs": [
        {
          "output_type": "execute_result",
          "data": {
            "text/plain": [
              "{'key1': 1,\n",
              " 'key2': '2',\n",
              " 'key3': [3, 3, 3],\n",
              " 'key4': (4, 4, 4),\n",
              " 'key5': 5,\n",
              " (0, 1): 6}"
            ]
          },
          "metadata": {},
          "execution_count": 73
        }
      ]
    },
    {
      "cell_type": "code",
      "source": [
        "Dict[\"key1\"]"
      ],
      "metadata": {
        "id": "E1E3q67RW9Xl",
        "outputId": "6507a0f2-1227-4c50-8862-ef38f4aa7c80",
        "colab": {
          "base_uri": "https://localhost:8080/"
        }
      },
      "execution_count": null,
      "outputs": [
        {
          "output_type": "execute_result",
          "data": {
            "text/plain": [
              "1"
            ]
          },
          "metadata": {},
          "execution_count": 74
        }
      ]
    },
    {
      "cell_type": "code",
      "source": [
        "Dict[(0, 1)]"
      ],
      "metadata": {
        "id": "hVw5bGV1W-3N",
        "outputId": "ba186238-fcfe-4610-c260-a915fdf4a3a7",
        "colab": {
          "base_uri": "https://localhost:8080/"
        }
      },
      "execution_count": null,
      "outputs": [
        {
          "output_type": "execute_result",
          "data": {
            "text/plain": [
              "6"
            ]
          },
          "metadata": {},
          "execution_count": 75
        }
      ]
    },
    {
      "cell_type": "code",
      "source": [
        "Dict.keys()"
      ],
      "metadata": {
        "id": "JvphNKDGXCSD",
        "outputId": "6e38032e-bb5b-427c-942c-cdc13b7250f8",
        "colab": {
          "base_uri": "https://localhost:8080/"
        }
      },
      "execution_count": null,
      "outputs": [
        {
          "output_type": "execute_result",
          "data": {
            "text/plain": [
              "dict_keys(['key1', 'key2', 'key3', 'key4', 'key5', (0, 1)])"
            ]
          },
          "metadata": {},
          "execution_count": 76
        }
      ]
    },
    {
      "cell_type": "code",
      "source": [
        "Dict.values()"
      ],
      "metadata": {
        "id": "kWt0RBKfXGkg",
        "outputId": "43f4bd8e-26e9-4771-a72c-fb325cffcb53",
        "colab": {
          "base_uri": "https://localhost:8080/"
        }
      },
      "execution_count": null,
      "outputs": [
        {
          "output_type": "execute_result",
          "data": {
            "text/plain": [
              "dict_values([1, '2', [3, 3, 3], (4, 4, 4), 5, 6])"
            ]
          },
          "metadata": {},
          "execution_count": 77
        }
      ]
    },
    {
      "cell_type": "code",
      "source": [
        "Dict['key7']=7\n",
        "Dict"
      ],
      "metadata": {
        "id": "Hp0zRIrgXLVb",
        "outputId": "43677f8e-c77f-49ed-ae31-3147dba6c078",
        "colab": {
          "base_uri": "https://localhost:8080/"
        }
      },
      "execution_count": null,
      "outputs": [
        {
          "output_type": "execute_result",
          "data": {
            "text/plain": [
              "{'key1': 1,\n",
              " 'key2': '2',\n",
              " 'key3': [3, 3, 3],\n",
              " 'key4': (4, 4, 4),\n",
              " 'key5': 5,\n",
              " (0, 1): 6,\n",
              " 'key7': 7}"
            ]
          },
          "metadata": {},
          "execution_count": 78
        }
      ]
    },
    {
      "cell_type": "code",
      "source": [
        "del(Dict['key7'])\n",
        "Dict"
      ],
      "metadata": {
        "id": "3q6T2HFgXZXd",
        "outputId": "d2bc0535-dbb4-403d-bb2e-3d1a450ac5e8",
        "colab": {
          "base_uri": "https://localhost:8080/"
        }
      },
      "execution_count": null,
      "outputs": [
        {
          "output_type": "execute_result",
          "data": {
            "text/plain": [
              "{'key1': 1,\n",
              " 'key2': '2',\n",
              " 'key3': [3, 3, 3],\n",
              " 'key4': (4, 4, 4),\n",
              " 'key5': 5,\n",
              " (0, 1): 6}"
            ]
          },
          "metadata": {},
          "execution_count": 79
        }
      ]
    },
    {
      "cell_type": "code",
      "source": [
        "'key4' in Dict"
      ],
      "metadata": {
        "id": "LT2VZk_xXgZp",
        "outputId": "cfb3a75e-5d67-4167-c483-e98d5a7ae461",
        "colab": {
          "base_uri": "https://localhost:8080/"
        }
      },
      "execution_count": null,
      "outputs": [
        {
          "output_type": "execute_result",
          "data": {
            "text/plain": [
              "True"
            ]
          },
          "metadata": {},
          "execution_count": 80
        }
      ]
    },
    {
      "cell_type": "markdown",
      "source": [
        "---------------------------------------------------------------------------"
      ],
      "metadata": {
        "id": "pjyK_3auXoeD"
      }
    },
    {
      "cell_type": "code",
      "source": [
        "print(\"LAB 03 - Antonio Saenz - A01793884\")"
      ],
      "metadata": {
        "id": "c6G9KisHXreP",
        "outputId": "2f18ec91-df56-456b-bb73-3e44eeda9c42",
        "colab": {
          "base_uri": "https://localhost:8080/"
        }
      },
      "execution_count": null,
      "outputs": [
        {
          "output_type": "stream",
          "name": "stdout",
          "text": [
            "LAB 03 - Antonio Saenz - A01793884\n"
          ]
        }
      ]
    },
    {
      "cell_type": "code",
      "source": [
        "# Conditions & Loops\n",
        "\n",
        "dates = [1982,1980,1973]\n",
        "N = len(dates)\n",
        "\n",
        "for i in range(N):\n",
        "    print(dates[i]) "
      ],
      "metadata": {
        "id": "fytb660GXwdz",
        "outputId": "e20ca7e9-a640-46bf-ff0a-a09b67583199",
        "colab": {
          "base_uri": "https://localhost:8080/"
        }
      },
      "execution_count": null,
      "outputs": [
        {
          "output_type": "stream",
          "name": "stdout",
          "text": [
            "1982\n",
            "1980\n",
            "1973\n"
          ]
        }
      ]
    },
    {
      "cell_type": "code",
      "source": [
        "for i in range(0, 8):\n",
        "    print(i)"
      ],
      "metadata": {
        "id": "Q2KmWf6WX9ph",
        "outputId": "95869b8e-b12c-4fa5-bf60-7c68f8b36b9a",
        "colab": {
          "base_uri": "https://localhost:8080/"
        }
      },
      "execution_count": null,
      "outputs": [
        {
          "output_type": "stream",
          "name": "stdout",
          "text": [
            "0\n",
            "1\n",
            "2\n",
            "3\n",
            "4\n",
            "5\n",
            "6\n",
            "7\n"
          ]
        }
      ]
    },
    {
      "cell_type": "code",
      "source": [
        "for year in dates:  \n",
        "    print(year)   "
      ],
      "metadata": {
        "id": "N0IQsD7kYHuQ",
        "outputId": "dcb5c518-59da-44f1-a652-64c433a406e2",
        "colab": {
          "base_uri": "https://localhost:8080/"
        }
      },
      "execution_count": null,
      "outputs": [
        {
          "output_type": "stream",
          "name": "stdout",
          "text": [
            "1982\n",
            "1980\n",
            "1973\n"
          ]
        }
      ]
    },
    {
      "cell_type": "code",
      "source": [
        "# While Loop Example\n",
        "\n",
        "dates = [1982, 1980, 1973, 2000]\n",
        "\n",
        "i = 0\n",
        "year = dates[0]\n",
        "\n",
        "while(year != 1973):    \n",
        "    print(year)\n",
        "    i = i + 1\n",
        "    year = dates[i]\n",
        "    \n",
        "\n",
        "print(\"It took \", i ,\"repetitions to get out of loop.\")"
      ],
      "metadata": {
        "id": "jRt389i_YPZr",
        "outputId": "e3ee9d69-5b1d-4532-b5c5-d9645f7a983d",
        "colab": {
          "base_uri": "https://localhost:8080/"
        }
      },
      "execution_count": null,
      "outputs": [
        {
          "output_type": "stream",
          "name": "stdout",
          "text": [
            "1982\n",
            "1980\n",
            "It took  2 repetitions to get out of loop.\n"
          ]
        }
      ]
    },
    {
      "cell_type": "code",
      "source": [
        "PlayListRatings = [10, 9.5, 10, 8, 7.5, 5, 10, 10]\n",
        "i = 0\n",
        "Rating = PlayListRatings[0]\n",
        "while(i < len(PlayListRatings) and Rating >= 6):\n",
        "    Rating = PlayListRatings[i]\n",
        "    print(Rating)\n",
        "    i += 1 "
      ],
      "metadata": {
        "id": "J0JDrWH6YYKL",
        "outputId": "fac7ba09-16af-45a4-de72-e3ea3171dfab",
        "colab": {
          "base_uri": "https://localhost:8080/"
        }
      },
      "execution_count": null,
      "outputs": [
        {
          "output_type": "stream",
          "name": "stdout",
          "text": [
            "10\n",
            "9.5\n",
            "10\n",
            "8\n",
            "7.5\n",
            "5\n"
          ]
        }
      ]
    },
    {
      "cell_type": "code",
      "source": [
        "############### Functions\n",
        "\n",
        "def Equation(a,b):\n",
        "    c = a + b + 2 * a * b - 1\n",
        "    if(c < 0):\n",
        "        c = 0 \n",
        "    else:\n",
        "        c = 5\n",
        "    return(c) \n",
        " \n",
        "a1 = 4\n",
        "b1 = 5\n",
        "c1 = Equation(a1, b1)\n",
        "c1\n"
      ],
      "metadata": {
        "id": "xySMtYT6YrAC",
        "outputId": "bafc5a35-e5fb-44d6-9f09-8095ca3bac3d",
        "colab": {
          "base_uri": "https://localhost:8080/"
        }
      },
      "execution_count": null,
      "outputs": [
        {
          "output_type": "execute_result",
          "data": {
            "text/plain": [
              "5"
            ]
          },
          "metadata": {},
          "execution_count": 89
        }
      ]
    },
    {
      "cell_type": "code",
      "source": [
        "a2 = 0\n",
        "b2 = 0\n",
        "c2 = Equation(a2, b2)\n",
        "c2"
      ],
      "metadata": {
        "id": "eIdLJqtJZKp2",
        "outputId": "23a504e9-8e3f-495c-abd0-36999990e7eb",
        "colab": {
          "base_uri": "https://localhost:8080/"
        }
      },
      "execution_count": null,
      "outputs": [
        {
          "output_type": "execute_result",
          "data": {
            "text/plain": [
              "0"
            ]
          },
          "metadata": {},
          "execution_count": 92
        }
      ]
    },
    {
      "cell_type": "code",
      "source": [
        "#Classes\n",
        "\n",
        "class analysedText(object):\n",
        "    \n",
        "    fmtText=\"\"\n",
        "    \n",
        "    def __init__ (self, text):\n",
        "        # TODO: Remove the punctuation from <text> and make it lower case.        \n",
        "        # TODO: Assign the formatted text to a new attribute called \"fmtText\"\n",
        "        self.fmtText=text.replace('.','').replace('!','').replace('?','').replace(',','').lower()\n",
        "    \n",
        "    def freqAll(self):    \n",
        "        # TODO: Split the text into a list of words  \n",
        "        wordList=self.fmtText.split(\" \")\n",
        "        # TODO: Create a dictionary with the unique words in the text as keys\n",
        "        # and the number of times they occur in the text as values\n",
        "        freqMap={}\n",
        "        for word in set(wordList):\n",
        "             freqMap[word]=wordList.count(word)\n",
        "        return freqMap # return the created dictionary\n",
        "        \n",
        "    \n",
        "    def freqOf(self, word):\n",
        "        # TODO: return the number of occurrences of <word> in <fmtText>\n",
        "        freqDict=self.freqAll()\n",
        "        if word in freqDict:\n",
        "            return freqDict[word]\n",
        "        else:\n",
        "            return 0"
      ],
      "metadata": {
        "id": "glrnXjaSZTsi"
      },
      "execution_count": null,
      "outputs": []
    },
    {
      "cell_type": "code",
      "source": [
        "import sys\n",
        "\n",
        "sampleMap = {'eirmod': 1,'sed': 1, 'amet': 2, 'diam': 5, 'consetetur': 1, 'labore': 1, 'tempor': 1, 'dolor': 1, 'magna': 2, 'et': 3, 'nonumy': 1, 'ipsum': 1, 'lorem': 2}\n",
        "\n",
        "def testMsg(passed):\n",
        "    if passed:\n",
        "       return 'Test Passed'\n",
        "    else :\n",
        "       return 'Test Failed'\n",
        "\n",
        "print(\"Constructor: \")\n",
        "try:\n",
        "    samplePassage = analysedText(\"Lorem ipsum dolor! diam amet, consetetur Lorem magna. sed diam nonumy eirmod tempor. diam et labore? et diam magna. et diam amet.\")\n",
        "    print(testMsg(samplePassage.fmtText == \"lorem ipsum dolor diam amet consetetur lorem magna sed diam nonumy eirmod tempor diam et labore et diam magna et diam amet\"))\n",
        "except:\n",
        "    print(\"Error detected. Recheck your function \" )\n",
        "\n",
        "print(\"freqAll: \")\n",
        "try:\n",
        "    wordMap = samplePassage.freqAll()\n",
        "    print(testMsg(wordMap==sampleMap))\n",
        "except:\n",
        "    print(\"Error detected. Recheck your function \" )\n",
        "\n",
        "print(\"freqOf: \")\n",
        "try:\n",
        "    passed = True\n",
        "    for word in sampleMap:        \n",
        "        if samplePassage.freqOf(word) != sampleMap[word]:\n",
        "            passed = False\n",
        "            break\n",
        "    print(testMsg(passed))\n",
        "    \n",
        "except:\n",
        "    print(\"Error detected. Recheck your function  \" )"
      ],
      "metadata": {
        "id": "fRoHRwNaZcXG",
        "outputId": "a8de4b9d-4bde-47ba-f646-2331ba0a5e48",
        "colab": {
          "base_uri": "https://localhost:8080/"
        }
      },
      "execution_count": null,
      "outputs": [
        {
          "output_type": "stream",
          "name": "stdout",
          "text": [
            "Constructor: \n",
            "Test Passed\n",
            "freqAll: \n",
            "Test Passed\n",
            "freqOf: \n",
            "Test Passed\n"
          ]
        }
      ]
    },
    {
      "cell_type": "markdown",
      "source": [
        "![image.png](data:image/png;base64,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)"
      ],
      "metadata": {
        "id": "MI0bcP9IZ3G4"
      }
    }
  ]
}