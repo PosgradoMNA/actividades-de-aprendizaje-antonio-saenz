{
  "nbformat": 4,
  "nbformat_minor": 0,
  "metadata": {
    "colab": {
      "name": "assignment01.ipynb",
      "provenance": [],
      "include_colab_link": true
    },
    "kernelspec": {
      "name": "python3",
      "display_name": "Python 3"
    },
    "language_info": {
      "name": "python"
    }
  },
  "cells": [
    {
      "cell_type": "markdown",
      "metadata": {
        "id": "view-in-github",
        "colab_type": "text"
      },
      "source": [
        "<a href=\"https://colab.research.google.com/github/PosgradoMNA/actividades-de-aprendizaje-antonio-saenz/blob/main/assignment03.ipynb\" target=\"_parent\"><img src=\"https://colab.research.google.com/assets/colab-badge.svg\" alt=\"Open In Colab\"/></a>"
      ]
    },
    {
      "cell_type": "code",
      "execution_count": null,
      "metadata": {
        "id": "LzUSMM79NR9P",
        "outputId": "0e6cb421-1096-426a-b31a-f61d059def81",
        "colab": {
          "base_uri": "https://localhost:8080/"
        }
      },
      "outputs": [
        {
          "output_type": "stream",
          "name": "stdout",
          "text": [
            "assignment01 for GitJobish03 and edited in git, and 18\n"
          ]
        }
      ],
      "source": [
        "print('assignment03 for GitJobish03 and edited in git, and 18')"
      ]
    },
    {
      "cell_type": "code",
      "source": [
        "import numpy as np\n",
        "a=[1,2,3,4,5]\n",
        "x = np.array(a)\n",
        "type(x)"
      ],
      "metadata": {
        "id": "mxM_WppZPMFx",
        "colab": {
          "base_uri": "https://localhost:8080/"
        },
        "outputId": "9d77731a-0bbd-474a-d6d8-f8650bb7dac3"
      },
      "execution_count": 4,
      "outputs": [
        {
          "output_type": "execute_result",
          "data": {
            "text/plain": [
              "numpy.ndarray"
            ]
          },
          "metadata": {},
          "execution_count": 4
        }
      ]
    },
    {
      "cell_type": "code",
      "source": [
        "x.shape"
      ],
      "metadata": {
        "colab": {
          "base_uri": "https://localhost:8080/"
        },
        "id": "GSYThXivC2jb",
        "outputId": "5d263816-cf36-4193-f694-93ba57ade667"
      },
      "execution_count": 5,
      "outputs": [
        {
          "output_type": "execute_result",
          "data": {
            "text/plain": [
              "(5,)"
            ]
          },
          "metadata": {},
          "execution_count": 5
        }
      ]
    },
    {
      "cell_type": "code",
      "source": [
        "x.dtype"
      ],
      "metadata": {
        "colab": {
          "base_uri": "https://localhost:8080/"
        },
        "id": "UZVo4Mb7C52y",
        "outputId": "128a4c13-19af-4489-b147-d068db0f0742"
      },
      "execution_count": 6,
      "outputs": [
        {
          "output_type": "execute_result",
          "data": {
            "text/plain": [
              "dtype('int64')"
            ]
          },
          "metadata": {},
          "execution_count": 6
        }
      ]
    },
    {
      "cell_type": "code",
      "source": [
        "x.mean()"
      ],
      "metadata": {
        "colab": {
          "base_uri": "https://localhost:8080/"
        },
        "id": "WyZBKBjRDD8t",
        "outputId": "05267d72-edc4-4580-eea8-8c1b7c96893f"
      },
      "execution_count": 7,
      "outputs": [
        {
          "output_type": "execute_result",
          "data": {
            "text/plain": [
              "3.0"
            ]
          },
          "metadata": {},
          "execution_count": 7
        }
      ]
    },
    {
      "cell_type": "code",
      "source": [
        "A=np.array([[11,12],[21,22]])\n",
        "B=np.array([[1, 0],[0,1]])"
      ],
      "metadata": {
        "id": "hTWaj8axDNcA"
      },
      "execution_count": 8,
      "outputs": []
    },
    {
      "cell_type": "code",
      "source": [
        "C = A * B\n",
        "C"
      ],
      "metadata": {
        "colab": {
          "base_uri": "https://localhost:8080/"
        },
        "id": "9YRHHHDLDP9N",
        "outputId": "31de7328-805e-446c-9d5b-c656585c91ff"
      },
      "execution_count": 9,
      "outputs": [
        {
          "output_type": "execute_result",
          "data": {
            "text/plain": [
              "array([[11,  0],\n",
              "       [ 0, 22]])"
            ]
          },
          "metadata": {},
          "execution_count": 9
        }
      ]
    },
    {
      "cell_type": "code",
      "source": [
        "Z = np.dot(A,B)\n",
        "Z"
      ],
      "metadata": {
        "colab": {
          "base_uri": "https://localhost:8080/"
        },
        "id": "ze67VxTrDY3p",
        "outputId": "06256326-a8e0-41ca-fea4-02d63fe93189"
      },
      "execution_count": 10,
      "outputs": [
        {
          "output_type": "execute_result",
          "data": {
            "text/plain": [
              "array([[11, 12],\n",
              "       [21, 22]])"
            ]
          },
          "metadata": {},
          "execution_count": 10
        }
      ]
    },
    {
      "cell_type": "code",
      "source": [
        "np.array([1,-1])*np.array([1,1])"
      ],
      "metadata": {
        "colab": {
          "base_uri": "https://localhost:8080/"
        },
        "id": "JwTaMZv9DqR-",
        "outputId": "49bc7346-5782-4d75-ce70-c7c2981bdeae"
      },
      "execution_count": 11,
      "outputs": [
        {
          "output_type": "execute_result",
          "data": {
            "text/plain": [
              "array([ 1, -1])"
            ]
          },
          "metadata": {},
          "execution_count": 11
        }
      ]
    },
    {
      "cell_type": "code",
      "source": [
        "np.dot(np.array([1,-1]),np.array([1,1]))"
      ],
      "metadata": {
        "colab": {
          "base_uri": "https://localhost:8080/"
        },
        "id": "OGgkJUJyDsad",
        "outputId": "af629bf2-8a83-4d06-a147-5e63ec1d7ddd"
      },
      "execution_count": 12,
      "outputs": [
        {
          "output_type": "execute_result",
          "data": {
            "text/plain": [
              "0"
            ]
          },
          "metadata": {},
          "execution_count": 12
        }
      ]
    },
    {
      "cell_type": "markdown",
      "source": [
        "# LAB 01"
      ],
      "metadata": {
        "id": "JJD2O8SLD9sW"
      }
    },
    {
      "cell_type": "code",
      "source": [
        "# Create a python list\n",
        "\n",
        "a = [\"0\", 1, \"two\", \"3\", 4]"
      ],
      "metadata": {
        "id": "d8G3KnArEBVj"
      },
      "execution_count": 13,
      "outputs": []
    },
    {
      "cell_type": "code",
      "source": [
        "# Print each element\n",
        "\n",
        "print(\"a[0]:\", a[0])\n",
        "print(\"a[1]:\", a[1])\n",
        "print(\"a[2]:\", a[2])\n",
        "print(\"a[3]:\", a[3])\n",
        "print(\"a[4]:\", a[4])"
      ],
      "metadata": {
        "colab": {
          "base_uri": "https://localhost:8080/"
        },
        "id": "nMQWV2INELds",
        "outputId": "7de83281-7370-4a12-d0ae-71b386312a93"
      },
      "execution_count": 14,
      "outputs": [
        {
          "output_type": "stream",
          "name": "stdout",
          "text": [
            "a[0]: 0\n",
            "a[1]: 1\n",
            "a[2]: two\n",
            "a[3]: 3\n",
            "a[4]: 4\n"
          ]
        }
      ]
    },
    {
      "cell_type": "code",
      "source": [
        "# import numpy library\n",
        "\n",
        "import numpy as np "
      ],
      "metadata": {
        "id": "_kw9VjwTEPnd"
      },
      "execution_count": 15,
      "outputs": []
    },
    {
      "cell_type": "code",
      "source": [
        "# Create a numpy array\n",
        "\n",
        "a = np.array([0, 1, 2, 3, 4])\n",
        "a"
      ],
      "metadata": {
        "colab": {
          "base_uri": "https://localhost:8080/"
        },
        "id": "whnuTgioEROc",
        "outputId": "80e1a396-d606-42b1-f1be-72abb9a14dbd"
      },
      "execution_count": 16,
      "outputs": [
        {
          "output_type": "execute_result",
          "data": {
            "text/plain": [
              "array([0, 1, 2, 3, 4])"
            ]
          },
          "metadata": {},
          "execution_count": 16
        }
      ]
    },
    {
      "cell_type": "code",
      "source": [
        "# Print each element\n",
        "\n",
        "print(\"a[0]:\", a[0])\n",
        "print(\"a[1]:\", a[1])\n",
        "print(\"a[2]:\", a[2])\n",
        "print(\"a[3]:\", a[3])\n",
        "print(\"a[4]:\", a[4])"
      ],
      "metadata": {
        "colab": {
          "base_uri": "https://localhost:8080/"
        },
        "id": "h2dfmDsFEUI1",
        "outputId": "5bbcb48e-07c3-4ba7-defe-0d5146d5f961"
      },
      "execution_count": 17,
      "outputs": [
        {
          "output_type": "stream",
          "name": "stdout",
          "text": [
            "a[0]: 0\n",
            "a[1]: 1\n",
            "a[2]: 2\n",
            "a[3]: 3\n",
            "a[4]: 4\n"
          ]
        }
      ]
    },
    {
      "cell_type": "code",
      "source": [
        "print(np.__version__)"
      ],
      "metadata": {
        "colab": {
          "base_uri": "https://localhost:8080/"
        },
        "id": "ylkyM0ytEXY5",
        "outputId": "0b157727-8bc3-4846-ae53-eb692547ce48"
      },
      "execution_count": 18,
      "outputs": [
        {
          "output_type": "stream",
          "name": "stdout",
          "text": [
            "1.21.6\n"
          ]
        }
      ]
    },
    {
      "cell_type": "code",
      "source": [
        "# Check the type of the array\n",
        "\n",
        "type(a)"
      ],
      "metadata": {
        "colab": {
          "base_uri": "https://localhost:8080/"
        },
        "id": "GnOs8zOwEbO_",
        "outputId": "f509b097-af45-4daa-c146-f1f1caf93f29"
      },
      "execution_count": 19,
      "outputs": [
        {
          "output_type": "execute_result",
          "data": {
            "text/plain": [
              "numpy.ndarray"
            ]
          },
          "metadata": {},
          "execution_count": 19
        }
      ]
    },
    {
      "cell_type": "code",
      "source": [
        "# Create numpy array\n",
        "\n",
        "c = np.array([20, 1, 2, 3, 4])\n",
        "c"
      ],
      "metadata": {
        "colab": {
          "base_uri": "https://localhost:8080/"
        },
        "id": "GMMCvi53EfrE",
        "outputId": "c24d053e-4f8d-4633-bf04-3817bf208b64"
      },
      "execution_count": 20,
      "outputs": [
        {
          "output_type": "execute_result",
          "data": {
            "text/plain": [
              "array([20,  1,  2,  3,  4])"
            ]
          },
          "metadata": {},
          "execution_count": 20
        }
      ]
    },
    {
      "cell_type": "code",
      "source": [
        "# Assign the first element to 100\n",
        "\n",
        "c[0] = 100\n",
        "c"
      ],
      "metadata": {
        "colab": {
          "base_uri": "https://localhost:8080/"
        },
        "id": "XevnLJRUEs7M",
        "outputId": "1728d2e2-34cb-4dc9-81a1-7959917ed5c4"
      },
      "execution_count": 21,
      "outputs": [
        {
          "output_type": "execute_result",
          "data": {
            "text/plain": [
              "array([100,   1,   2,   3,   4])"
            ]
          },
          "metadata": {},
          "execution_count": 21
        }
      ]
    },
    {
      "cell_type": "code",
      "source": [
        "# Assign the 5th element to 0\n",
        "\n",
        "c[4] = 0\n",
        "c"
      ],
      "metadata": {
        "colab": {
          "base_uri": "https://localhost:8080/"
        },
        "id": "GYPzQyKJEvaI",
        "outputId": "e8f1df0e-df4d-41e8-f588-67eaee4c413d"
      },
      "execution_count": 22,
      "outputs": [
        {
          "output_type": "execute_result",
          "data": {
            "text/plain": [
              "array([100,   1,   2,   3,   0])"
            ]
          },
          "metadata": {},
          "execution_count": 22
        }
      ]
    },
    {
      "cell_type": "code",
      "source": [
        "# Slicing the numpy array\n",
        "\n",
        "d = c[1:4]\n",
        "d"
      ],
      "metadata": {
        "colab": {
          "base_uri": "https://localhost:8080/"
        },
        "id": "xpVKrQYCE0ab",
        "outputId": "c9c5cbc0-ccaa-4bc4-dffb-074c7c6e1db1"
      },
      "execution_count": 23,
      "outputs": [
        {
          "output_type": "execute_result",
          "data": {
            "text/plain": [
              "array([1, 2, 3])"
            ]
          },
          "metadata": {},
          "execution_count": 23
        }
      ]
    },
    {
      "cell_type": "code",
      "source": [
        "# Set the fourth element and fifth element to 300 and 400\n",
        "\n",
        "c[3:5] = 300, 400\n",
        "c"
      ],
      "metadata": {
        "colab": {
          "base_uri": "https://localhost:8080/"
        },
        "id": "aE68SJ0vE3T_",
        "outputId": "122c5c01-7f26-4664-d7f7-818bcc80d760"
      },
      "execution_count": 24,
      "outputs": [
        {
          "output_type": "execute_result",
          "data": {
            "text/plain": [
              "array([100,   1,   2, 300, 400])"
            ]
          },
          "metadata": {},
          "execution_count": 24
        }
      ]
    },
    {
      "cell_type": "code",
      "source": [
        "arr = np.array([1, 2, 3, 4, 5, 6, 7])\n",
        "\n",
        "print(arr[1:5:2])  # We can also define the steps in slicing, like this: [start:end:step]."
      ],
      "metadata": {
        "colab": {
          "base_uri": "https://localhost:8080/"
        },
        "id": "HwubDCNZFDbE",
        "outputId": "e357e4e6-b80c-41e2-9c7d-49815b6881c5"
      },
      "execution_count": 26,
      "outputs": [
        {
          "output_type": "stream",
          "name": "stdout",
          "text": [
            "[2 4]\n"
          ]
        }
      ]
    },
    {
      "cell_type": "code",
      "source": [
        "print(arr[:4])"
      ],
      "metadata": {
        "colab": {
          "base_uri": "https://localhost:8080/"
        },
        "id": "sSUb6IbuFWri",
        "outputId": "6ea085fe-b431-473e-ced3-90c51dd67948"
      },
      "execution_count": 27,
      "outputs": [
        {
          "output_type": "stream",
          "name": "stdout",
          "text": [
            "[1 2 3 4]\n"
          ]
        }
      ]
    },
    {
      "cell_type": "code",
      "source": [
        "print(arr[4:])"
      ],
      "metadata": {
        "colab": {
          "base_uri": "https://localhost:8080/"
        },
        "id": "UqZm7SDZFYXY",
        "outputId": "31e89675-2d32-4b44-f8af-7eba85d71ad0"
      },
      "execution_count": 28,
      "outputs": [
        {
          "output_type": "stream",
          "name": "stdout",
          "text": [
            "[5 6 7]\n"
          ]
        }
      ]
    },
    {
      "cell_type": "code",
      "source": [
        "print(arr[1:5:])   # If we don't pass step its considered 1"
      ],
      "metadata": {
        "colab": {
          "base_uri": "https://localhost:8080/"
        },
        "id": "XxqL5wUKFauT",
        "outputId": "74f20080-7ac1-4707-f0dd-8e1f98f38ca7"
      },
      "execution_count": 29,
      "outputs": [
        {
          "output_type": "stream",
          "name": "stdout",
          "text": [
            "[2 3 4 5]\n"
          ]
        }
      ]
    },
    {
      "cell_type": "code",
      "source": [
        "# Create the index list\n",
        "\n",
        "select = [0, 2, 3, 4]\n",
        "select"
      ],
      "metadata": {
        "colab": {
          "base_uri": "https://localhost:8080/"
        },
        "id": "rpdjJRtaFtpy",
        "outputId": "bbe9785c-1a64-4f9f-ee9b-b26d6c8e9bab"
      },
      "execution_count": 30,
      "outputs": [
        {
          "output_type": "execute_result",
          "data": {
            "text/plain": [
              "[0, 2, 3, 4]"
            ]
          },
          "metadata": {},
          "execution_count": 30
        }
      ]
    },
    {
      "cell_type": "code",
      "source": [
        "# Use List to select elements\n",
        "\n",
        "d = c[select]\n",
        "d"
      ],
      "metadata": {
        "colab": {
          "base_uri": "https://localhost:8080/"
        },
        "id": "TRLfY4FPFy0n",
        "outputId": "4509129a-8251-4885-976f-5dc4477a3f5b"
      },
      "execution_count": 31,
      "outputs": [
        {
          "output_type": "execute_result",
          "data": {
            "text/plain": [
              "array([100,   2, 300, 400])"
            ]
          },
          "metadata": {},
          "execution_count": 31
        }
      ]
    },
    {
      "cell_type": "code",
      "source": [
        "# Assign the specified elements to new value\n",
        "\n",
        "c[select] = 100000\n",
        "c"
      ],
      "metadata": {
        "colab": {
          "base_uri": "https://localhost:8080/"
        },
        "id": "WCS0oVAcF2Ti",
        "outputId": "f809198f-e86d-4078-cbd8-48b157167f7e"
      },
      "execution_count": 32,
      "outputs": [
        {
          "output_type": "execute_result",
          "data": {
            "text/plain": [
              "array([100000,      1, 100000, 100000, 100000])"
            ]
          },
          "metadata": {},
          "execution_count": 32
        }
      ]
    },
    {
      "cell_type": "markdown",
      "source": [
        "Find the sum of maximum and minimum value in the given numpy array"
      ],
      "metadata": {
        "id": "Hy5hXiYNGLn3"
      }
    },
    {
      "cell_type": "code",
      "source": [
        "c = np.array([-10, 201, 43, 94, 502])\n",
        "\n",
        "# Enter your code here\n",
        "max_c = c.max()\n",
        "max_c\n",
        "    \n",
        "min_c = c.min()\n",
        "min_c\n",
        "    \n",
        "    \n",
        "Sum = (max_c +min_c)\n",
        "Sum"
      ],
      "metadata": {
        "colab": {
          "base_uri": "https://localhost:8080/"
        },
        "id": "c-yXTYbnGMJo",
        "outputId": "e6136541-4e77-41c9-8487-bc0d6f872709"
      },
      "execution_count": 33,
      "outputs": [
        {
          "output_type": "execute_result",
          "data": {
            "text/plain": [
              "492"
            ]
          },
          "metadata": {},
          "execution_count": 33
        }
      ]
    },
    {
      "cell_type": "code",
      "source": [
        "u = np.array([1, 0])\n",
        "u"
      ],
      "metadata": {
        "colab": {
          "base_uri": "https://localhost:8080/"
        },
        "id": "926Xk6EXGSwD",
        "outputId": "9b90e898-1446-4479-cbcd-4cac72e05793"
      },
      "execution_count": 34,
      "outputs": [
        {
          "output_type": "execute_result",
          "data": {
            "text/plain": [
              "array([1, 0])"
            ]
          },
          "metadata": {},
          "execution_count": 34
        }
      ]
    },
    {
      "cell_type": "code",
      "source": [
        "v = np.array([0, 1])\n",
        "v"
      ],
      "metadata": {
        "colab": {
          "base_uri": "https://localhost:8080/"
        },
        "id": "MQcXu0wtGUFh",
        "outputId": "5a08c889-095b-4fbf-93a6-e6528b7e5bf1"
      },
      "execution_count": 35,
      "outputs": [
        {
          "output_type": "execute_result",
          "data": {
            "text/plain": [
              "array([0, 1])"
            ]
          },
          "metadata": {},
          "execution_count": 35
        }
      ]
    },
    {
      "cell_type": "code",
      "source": [
        "# Numpy Array Addition\n",
        "\n",
        "z = np.add(u, v)\n",
        "z"
      ],
      "metadata": {
        "colab": {
          "base_uri": "https://localhost:8080/"
        },
        "id": "iPsC9qf1GV2V",
        "outputId": "dbee6e53-dc06-4769-be01-6ad5e1f92ce4"
      },
      "execution_count": 36,
      "outputs": [
        {
          "output_type": "execute_result",
          "data": {
            "text/plain": [
              "array([1, 1])"
            ]
          },
          "metadata": {},
          "execution_count": 36
        }
      ]
    },
    {
      "cell_type": "markdown",
      "source": [
        "Perform addition operation on the given numpy array arr1 and arr2:"
      ],
      "metadata": {
        "id": "aP5T-Cq6G4KV"
      }
    },
    {
      "cell_type": "code",
      "source": [
        "arr1 = np.array([10, 11, 12, 13, 14, 15])\n",
        "arr2 = np.array([20, 21, 22, 23, 24, 25])\n",
        "\n",
        "# Enter your code here\n",
        "arr3 = np.add(arr1, arr2)\n",
        "arr3"
      ],
      "metadata": {
        "colab": {
          "base_uri": "https://localhost:8080/"
        },
        "id": "9zmet_K-G4sc",
        "outputId": "b70c087d-0f7e-4a55-f12a-f16ce6f9f697"
      },
      "execution_count": 37,
      "outputs": [
        {
          "output_type": "execute_result",
          "data": {
            "text/plain": [
              "array([30, 32, 34, 36, 38, 40])"
            ]
          },
          "metadata": {},
          "execution_count": 37
        }
      ]
    },
    {
      "cell_type": "code",
      "source": [
        "a = np.array([10, 20, 30])\n",
        "a"
      ],
      "metadata": {
        "colab": {
          "base_uri": "https://localhost:8080/"
        },
        "id": "osNqdzAzG6DQ",
        "outputId": "d6092be5-560e-4a8d-d7dc-1737fa03eb9b"
      },
      "execution_count": 38,
      "outputs": [
        {
          "output_type": "execute_result",
          "data": {
            "text/plain": [
              "array([10, 20, 30])"
            ]
          },
          "metadata": {},
          "execution_count": 38
        }
      ]
    },
    {
      "cell_type": "code",
      "source": [
        "b = np.array([5, 10, 15])\n",
        "b"
      ],
      "metadata": {
        "colab": {
          "base_uri": "https://localhost:8080/"
        },
        "id": "uSaVNKnLHFKt",
        "outputId": "34c25141-eade-4499-8922-4ecfb617739a"
      },
      "execution_count": 39,
      "outputs": [
        {
          "output_type": "execute_result",
          "data": {
            "text/plain": [
              "array([ 5, 10, 15])"
            ]
          },
          "metadata": {},
          "execution_count": 39
        }
      ]
    },
    {
      "cell_type": "code",
      "source": [
        "c = np.subtract(a, b)\n",
        "\n",
        "print(c)"
      ],
      "metadata": {
        "colab": {
          "base_uri": "https://localhost:8080/"
        },
        "id": "ea48sifFHGZa",
        "outputId": "d1ff44e1-a365-49d4-fa0b-2efb08ead106"
      },
      "execution_count": 40,
      "outputs": [
        {
          "output_type": "stream",
          "name": "stdout",
          "text": [
            "[ 5 10 15]\n"
          ]
        }
      ]
    },
    {
      "cell_type": "code",
      "source": [
        "arr1 = np.array([10, 20, 30, 40, 50, 60])\n",
        "arr2 = np.array([2, 1, 2, 3, 4, 5])\n",
        "\n",
        "arr3 = np.multiply(arr1, arr2)\n",
        "arr3\n"
      ],
      "metadata": {
        "colab": {
          "base_uri": "https://localhost:8080/"
        },
        "id": "BjfjIcp-HLLc",
        "outputId": "b429a7b8-5ee4-4f7b-8359-bb00f90eef95"
      },
      "execution_count": 41,
      "outputs": [
        {
          "output_type": "execute_result",
          "data": {
            "text/plain": [
              "array([ 20,  20,  60, 120, 200, 300])"
            ]
          },
          "metadata": {},
          "execution_count": 41
        }
      ]
    },
    {
      "cell_type": "code",
      "source": [
        "arr1 = np.array([10, 20, 30, 40, 50, 60])\n",
        "arr2 = np.array([3, 5, 10, 8, 2, 33])\n",
        "\n",
        "arr3 = np.divide(arr1, arr2)\n",
        "arr3"
      ],
      "metadata": {
        "colab": {
          "base_uri": "https://localhost:8080/"
        },
        "id": "a6LhCNAOHSfC",
        "outputId": "d479a251-3a89-4872-d8cb-36d68ff314d0"
      },
      "execution_count": 42,
      "outputs": [
        {
          "output_type": "execute_result",
          "data": {
            "text/plain": [
              "array([ 3.33333333,  4.        ,  3.        ,  5.        , 25.        ,\n",
              "        1.81818182])"
            ]
          },
          "metadata": {},
          "execution_count": 42
        }
      ]
    },
    {
      "cell_type": "markdown",
      "source": [
        "\n",
        "The dot product of the two numpy arrays u and v is given by:"
      ],
      "metadata": {
        "id": "vDtV0hoNHh_T"
      }
    },
    {
      "cell_type": "code",
      "source": [
        "X = np.array([1, 2])\n",
        "Y = np.array([3, 2])"
      ],
      "metadata": {
        "id": "E3ZHWhgEHie0"
      },
      "execution_count": 43,
      "outputs": []
    },
    {
      "cell_type": "code",
      "source": [
        "# Calculate the dot product\n",
        "\n",
        "np.dot(X, Y)"
      ],
      "metadata": {
        "colab": {
          "base_uri": "https://localhost:8080/"
        },
        "id": "fMRYuXxCHlZs",
        "outputId": "1cdb804d-71e1-404f-9f8a-90ddce3ec930"
      },
      "execution_count": 44,
      "outputs": [
        {
          "output_type": "execute_result",
          "data": {
            "text/plain": [
              "7"
            ]
          },
          "metadata": {},
          "execution_count": 44
        }
      ]
    },
    {
      "cell_type": "code",
      "source": [
        "#Elements of X\n",
        "print(X[0])\n",
        "print(X[1])"
      ],
      "metadata": {
        "colab": {
          "base_uri": "https://localhost:8080/"
        },
        "id": "n-We8T3BHnqq",
        "outputId": "6ceaaa2a-c5bb-4b60-f11e-6b89adc09406"
      },
      "execution_count": 45,
      "outputs": [
        {
          "output_type": "stream",
          "name": "stdout",
          "text": [
            "1\n",
            "2\n"
          ]
        }
      ]
    },
    {
      "cell_type": "code",
      "source": [
        "#Elements of Y\n",
        "print(Y[0])\n",
        "print(Y[1])"
      ],
      "metadata": {
        "colab": {
          "base_uri": "https://localhost:8080/"
        },
        "id": "1VJsQV2qHo4j",
        "outputId": "5cc6fcdc-272d-409f-b588-fd8ac8553b7f"
      },
      "execution_count": 46,
      "outputs": [
        {
          "output_type": "stream",
          "name": "stdout",
          "text": [
            "3\n",
            "2\n"
          ]
        }
      ]
    },
    {
      "cell_type": "markdown",
      "source": [
        "We are performing the dot product which is shown as below:\n",
        "\n",
        "<img src =\"https://cf-courses-data.s3.us.cloud-object-storage.appdomain.cloud/IBMDeveloperSkillsNetwork-PY0101EN-SkillsNetwork/labs/Module%205/images/dot1.png\" width=\"600\"/>"
      ],
      "metadata": {
        "id": "c32-IbEbHuvR"
      }
    },
    {
      "cell_type": "code",
      "source": [
        "arr1 = np.array([3, 5])\n",
        "arr2 = np.array([2, 4])\n",
        "\n",
        "arr3 = np.dot(arr1, arr2)\n",
        "arr3"
      ],
      "metadata": {
        "colab": {
          "base_uri": "https://localhost:8080/"
        },
        "id": "3_Ks5X01H1kz",
        "outputId": "51fa3322-7079-4347-b384-ffbc778abb53"
      },
      "execution_count": 48,
      "outputs": [
        {
          "output_type": "execute_result",
          "data": {
            "text/plain": [
              "26"
            ]
          },
          "metadata": {},
          "execution_count": 48
        }
      ]
    },
    {
      "cell_type": "code",
      "source": [
        "# Create a constant to numpy array\n",
        "\n",
        "u = np.array([1, 2, 3, -1]) \n",
        "u"
      ],
      "metadata": {
        "colab": {
          "base_uri": "https://localhost:8080/"
        },
        "id": "qWXWHdhxH6oD",
        "outputId": "1168d8ae-a649-4d3e-a36b-ad9a49009242"
      },
      "execution_count": 49,
      "outputs": [
        {
          "output_type": "execute_result",
          "data": {
            "text/plain": [
              "array([ 1,  2,  3, -1])"
            ]
          },
          "metadata": {},
          "execution_count": 49
        }
      ]
    },
    {
      "cell_type": "code",
      "source": [
        "# Add the constant to array\n",
        "\n",
        "u + 1"
      ],
      "metadata": {
        "colab": {
          "base_uri": "https://localhost:8080/"
        },
        "id": "Uxl0Eb4eH71q",
        "outputId": "6a6696a6-c8db-4111-a7bc-871bd4e631f3"
      },
      "execution_count": 50,
      "outputs": [
        {
          "output_type": "execute_result",
          "data": {
            "text/plain": [
              "array([2, 3, 4, 0])"
            ]
          },
          "metadata": {},
          "execution_count": 50
        }
      ]
    },
    {
      "cell_type": "markdown",
      "source": [
        "The process is summarised in the following animation:\n",
        "\n",
        "<img src=\"https://cf-courses-data.s3.us.cloud-object-storage.appdomain.cloud/IBMDeveloperSkillsNetwork-PY0101EN-SkillsNetwork/labs/Module%205/images/NumOneAdd.gif\" width=\"400\" />"
      ],
      "metadata": {
        "id": "J7exTI2mIDpV"
      }
    },
    {
      "cell_type": "code",
      "source": [
        "# The value of pi\n",
        "\n",
        "np.pi"
      ],
      "metadata": {
        "colab": {
          "base_uri": "https://localhost:8080/"
        },
        "id": "G-BgCBmbIg6E",
        "outputId": "5b8c1aec-595a-491a-fb95-8d0043aa96db"
      },
      "execution_count": 51,
      "outputs": [
        {
          "output_type": "execute_result",
          "data": {
            "text/plain": [
              "3.141592653589793"
            ]
          },
          "metadata": {},
          "execution_count": 51
        }
      ]
    },
    {
      "cell_type": "code",
      "source": [
        "# Create the numpy array in radians\n",
        "\n",
        "x = np.array([0, np.pi/2 , np.pi])"
      ],
      "metadata": {
        "id": "ra9uQI5sIiaw"
      },
      "execution_count": 52,
      "outputs": []
    },
    {
      "cell_type": "code",
      "source": [
        "# Calculate the sin of each elements\n",
        "\n",
        "y = np.sin(x)\n",
        "y"
      ],
      "metadata": {
        "colab": {
          "base_uri": "https://localhost:8080/"
        },
        "id": "vEfLqIVfIkGr",
        "outputId": "ea7710b6-cf49-42d3-e409-d37fe90fd1ba"
      },
      "execution_count": 53,
      "outputs": [
        {
          "output_type": "execute_result",
          "data": {
            "text/plain": [
              "array([0.0000000e+00, 1.0000000e+00, 1.2246468e-16])"
            ]
          },
          "metadata": {},
          "execution_count": 53
        }
      ]
    },
    {
      "cell_type": "markdown",
      "source": [
        "**Linspace**\n",
        "A useful function for plotting mathematical functions is linspace. Linspace returns evenly spaced numbers over a specified interval.\n",
        "\n",
        "**numpy.linspace(start, stop, num = int value)**\n",
        "\n",
        "start : start of interval range\n",
        "\n",
        "stop : end of interval range\n",
        "\n",
        "num : Number of samples to generate."
      ],
      "metadata": {
        "id": "XIXxXYXzIrWx"
      }
    },
    {
      "cell_type": "code",
      "source": [
        "# Makeup a numpy array within [-2, 2] and 5 elements\n",
        "\n",
        "np.linspace(-2, 2, num=5)"
      ],
      "metadata": {
        "colab": {
          "base_uri": "https://localhost:8080/"
        },
        "id": "0mIcCo77Ivrb",
        "outputId": "0e190602-473a-460d-e7af-b4259ca93d5a"
      },
      "execution_count": 54,
      "outputs": [
        {
          "output_type": "execute_result",
          "data": {
            "text/plain": [
              "array([-2., -1.,  0.,  1.,  2.])"
            ]
          },
          "metadata": {},
          "execution_count": 54
        }
      ]
    },
    {
      "cell_type": "code",
      "source": [
        "# Make a numpy array within [-2, 2] and 9 elements\n",
        "\n",
        "np.linspace(-2, 2, num=9)"
      ],
      "metadata": {
        "colab": {
          "base_uri": "https://localhost:8080/"
        },
        "id": "jV91RdtfI4Xb",
        "outputId": "a56b2bf8-554a-4df3-e374-fac5eba7f732"
      },
      "execution_count": 55,
      "outputs": [
        {
          "output_type": "execute_result",
          "data": {
            "text/plain": [
              "array([-2. , -1.5, -1. , -0.5,  0. ,  0.5,  1. ,  1.5,  2. ])"
            ]
          },
          "metadata": {},
          "execution_count": 55
        }
      ]
    },
    {
      "cell_type": "code",
      "source": [
        "# Make a numpy array within [0, 2π] and 100 elements \n",
        "\n",
        "x = np.linspace(0, 2*np.pi, num=100)\n",
        "x"
      ],
      "metadata": {
        "colab": {
          "base_uri": "https://localhost:8080/"
        },
        "id": "XOohxZVqI56S",
        "outputId": "01ccaee8-64d2-4390-d583-5afb1d04f0dd"
      },
      "execution_count": 57,
      "outputs": [
        {
          "output_type": "execute_result",
          "data": {
            "text/plain": [
              "array([0.        , 0.06346652, 0.12693304, 0.19039955, 0.25386607,\n",
              "       0.31733259, 0.38079911, 0.44426563, 0.50773215, 0.57119866,\n",
              "       0.63466518, 0.6981317 , 0.76159822, 0.82506474, 0.88853126,\n",
              "       0.95199777, 1.01546429, 1.07893081, 1.14239733, 1.20586385,\n",
              "       1.26933037, 1.33279688, 1.3962634 , 1.45972992, 1.52319644,\n",
              "       1.58666296, 1.65012947, 1.71359599, 1.77706251, 1.84052903,\n",
              "       1.90399555, 1.96746207, 2.03092858, 2.0943951 , 2.15786162,\n",
              "       2.22132814, 2.28479466, 2.34826118, 2.41172769, 2.47519421,\n",
              "       2.53866073, 2.60212725, 2.66559377, 2.72906028, 2.7925268 ,\n",
              "       2.85599332, 2.91945984, 2.98292636, 3.04639288, 3.10985939,\n",
              "       3.17332591, 3.23679243, 3.30025895, 3.36372547, 3.42719199,\n",
              "       3.4906585 , 3.55412502, 3.61759154, 3.68105806, 3.74452458,\n",
              "       3.8079911 , 3.87145761, 3.93492413, 3.99839065, 4.06185717,\n",
              "       4.12532369, 4.1887902 , 4.25225672, 4.31572324, 4.37918976,\n",
              "       4.44265628, 4.5061228 , 4.56958931, 4.63305583, 4.69652235,\n",
              "       4.75998887, 4.82345539, 4.88692191, 4.95038842, 5.01385494,\n",
              "       5.07732146, 5.14078798, 5.2042545 , 5.26772102, 5.33118753,\n",
              "       5.39465405, 5.45812057, 5.52158709, 5.58505361, 5.64852012,\n",
              "       5.71198664, 5.77545316, 5.83891968, 5.9023862 , 5.96585272,\n",
              "       6.02931923, 6.09278575, 6.15625227, 6.21971879, 6.28318531])"
            ]
          },
          "metadata": {},
          "execution_count": 57
        }
      ]
    },
    {
      "cell_type": "code",
      "source": [
        "# Calculate the sine of x list\n",
        "\n",
        "y = np.sin(x)"
      ],
      "metadata": {
        "id": "opJRyS_bI98x"
      },
      "execution_count": 58,
      "outputs": []
    },
    {
      "cell_type": "code",
      "source": [
        "# Plot the result\n",
        "import matplotlib.pyplot as plt\n",
        "\n",
        "plt.plot(x, y)"
      ],
      "metadata": {
        "colab": {
          "base_uri": "https://localhost:8080/",
          "height": 282
        },
        "id": "ty4AW4AeI_UI",
        "outputId": "7abdf71f-dd5e-4292-c8d5-06b2496ed626"
      },
      "execution_count": 60,
      "outputs": [
        {
          "output_type": "execute_result",
          "data": {
            "text/plain": [
              "[<matplotlib.lines.Line2D at 0x7fcc2e9ba4d0>]"
            ]
          },
          "metadata": {},
          "execution_count": 60
        },
        {
          "output_type": "display_data",
          "data": {
            "text/plain": [
              "<Figure size 432x288 with 1 Axes>"
            ],
            "image/png": "[encoded data removed]"
          },
          "metadata": {
            "needs_background": "light"
          }
        }
      ]
    },
    {
      "cell_type": "markdown",
      "source": [
        "**Iterating 1-D Arrays**\n",
        "\n",
        "Iterating means going through elements one by one.\n",
        "\n",
        "If we iterate on a 1-D array it will go through each element one by one.\n",
        "\n",
        "If we execute the numpy array, we get in the array format"
      ],
      "metadata": {
        "id": "AcwtN-iWJXtD"
      }
    },
    {
      "cell_type": "code",
      "source": [
        "arr1 = np.array([1, 2, 3])\n",
        "print(arr1)"
      ],
      "metadata": {
        "colab": {
          "base_uri": "https://localhost:8080/"
        },
        "id": "gQWXg4hNJgDb",
        "outputId": "99f738e9-5a63-4a25-ba31-3f4677666435"
      },
      "execution_count": 61,
      "outputs": [
        {
          "output_type": "stream",
          "name": "stdout",
          "text": [
            "[1 2 3]\n"
          ]
        }
      ]
    },
    {
      "cell_type": "markdown",
      "source": [
        "But if you want to result in the form of the list, then you can use for loop:"
      ],
      "metadata": {
        "id": "nlPuUnbBJiTG"
      }
    },
    {
      "cell_type": "code",
      "source": [
        "for x in arr1:\n",
        "  print(x)"
      ],
      "metadata": {
        "colab": {
          "base_uri": "https://localhost:8080/"
        },
        "id": "-B9gCu6dJi09",
        "outputId": "df6ffd48-505d-4b7b-8f89-0de6110a42cf"
      },
      "execution_count": 62,
      "outputs": [
        {
          "output_type": "stream",
          "name": "stdout",
          "text": [
            "1\n",
            "2\n",
            "3\n"
          ]
        }
      ]
    },
    {
      "cell_type": "markdown",
      "source": [
        "Consider the list [1, 2, 3, 4, 5] and [1, 0, 1, 0, 1]. Cast both lists to a numpy array then multiply them together:"
      ],
      "metadata": {
        "id": "i1AFde8QJrFu"
      }
    },
    {
      "cell_type": "code",
      "source": [
        "a = np.array([1, 2, 3, 4, 5])\n",
        "b = np.array([1, 0, 1, 0, 1])\n",
        "a * b"
      ],
      "metadata": {
        "colab": {
          "base_uri": "https://localhost:8080/"
        },
        "id": "tRtnVQ5TJtKx",
        "outputId": "f2be6a28-a57c-48c0-dc84-f66c115efdde"
      },
      "execution_count": 63,
      "outputs": [
        {
          "output_type": "execute_result",
          "data": {
            "text/plain": [
              "array([1, 0, 3, 0, 5])"
            ]
          },
          "metadata": {},
          "execution_count": 63
        }
      ]
    },
    {
      "cell_type": "code",
      "source": [
        "# Import the libraries\n",
        "\n",
        "import time \n",
        "import sys\n",
        "import numpy as np \n",
        "\n",
        "import matplotlib.pyplot as plt\n",
        "%matplotlib inline  \n",
        "\n",
        "def Plotvec2(a,b):\n",
        "    ax = plt.axes()# to generate the full window axes\n",
        "    ax.arrow(0, 0, *a, head_width=0.05, color ='r', head_length=0.1)#Add an arrow to the  a Axes with arrow head width 0.05, color red and arrow head length 0.1\n",
        "    plt.text(*(a + 0.1), 'a')\n",
        "    ax.arrow(0, 0, *b, head_width=0.05, color ='b', head_length=0.1)#Add an arrow to the  b Axes with arrow head width 0.05, color blue and arrow head length 0.1\n",
        "    plt.text(*(b + 0.1), 'b')\n",
        "    plt.ylim(-2, 2)#set the ylim to bottom(-2), top(2)\n",
        "    plt.xlim(-2, 2)#set the xlim to left(-2), right(2)"
      ],
      "metadata": {
        "id": "D6fhcVzuJ0DV"
      },
      "execution_count": 64,
      "outputs": []
    },
    {
      "cell_type": "markdown",
      "source": [
        "Convert the list [-1, 1] and [1, 1] to numpy arrays a and b. Then, plot the arrays as vectors using the fuction Plotvec2 and find their dot product:"
      ],
      "metadata": {
        "id": "yeUmQXvjJ3xg"
      }
    },
    {
      "cell_type": "code",
      "source": [
        "a = np.array([-1, 1])\n",
        "b = np.array([1, 1])\n",
        "Plotvec2(a, b)\n",
        "print(\"The dot product is\", np.dot(a,b))"
      ],
      "metadata": {
        "colab": {
          "base_uri": "https://localhost:8080/",
          "height": 286
        },
        "id": "Id1cclrSJ5s2",
        "outputId": "605336c4-e9f0-4274-d64d-a5a5d31e8a5f"
      },
      "execution_count": 65,
      "outputs": [
        {
          "output_type": "stream",
          "name": "stdout",
          "text": [
            "The dot product is 0\n"
          ]
        },
        {
          "output_type": "display_data",
          "data": {
            "text/plain": [
              "<Figure size 432x288 with 1 Axes>"
            ],
            "image/png": "[encoded data removed]"
          },
          "metadata": {
            "needs_background": "light"
          }
        }
      ]
    },
    {
      "cell_type": "markdown",
      "source": [
        "Convert the list [1, 0] and [0, 1] to numpy arrays a and b. Then, plot the arrays as vectors using the function Plotvec2 and find their dot product:"
      ],
      "metadata": {
        "id": "fNwsE-cQKDJ5"
      }
    },
    {
      "cell_type": "code",
      "source": [
        "a = np.array([1, 0])\n",
        "b = np.array([0, 1])\n",
        "Plotvec2(a, b)\n",
        "print(\"The dot product is\", np.dot(a, b))"
      ],
      "metadata": {
        "colab": {
          "base_uri": "https://localhost:8080/",
          "height": 286
        },
        "id": "kwyVm4ZpKDle",
        "outputId": "8f9736b8-fe12-4123-e36f-e08db0337a39"
      },
      "execution_count": 66,
      "outputs": [
        {
          "output_type": "stream",
          "name": "stdout",
          "text": [
            "The dot product is 0\n"
          ]
        },
        {
          "output_type": "display_data",
          "data": {
            "text/plain": [
              "<Figure size 432x288 with 1 Axes>"
            ],
            "image/png": "[encoded data removed]"
          },
          "metadata": {
            "needs_background": "light"
          }
        }
      ]
    },
    {
      "cell_type": "markdown",
      "source": [
        "Convert the list [1, 1] and [0, 1] to numpy arrays a and b. Then plot the arrays as vectors using the fuction Plotvec2 and find their dot product:"
      ],
      "metadata": {
        "id": "35hWxRuLKH68"
      }
    },
    {
      "cell_type": "code",
      "source": [
        "a = np.array([1, 1])\n",
        "b = np.array([0, 1])\n",
        "Plotvec2(a, b)\n",
        "print(\"The dot product is\", np.dot(a, b))"
      ],
      "metadata": {
        "colab": {
          "base_uri": "https://localhost:8080/",
          "height": 286
        },
        "id": "wDALMUAfKIOQ",
        "outputId": "0b05173c-1103-44c6-f293-0b626fccee73"
      },
      "execution_count": 67,
      "outputs": [
        {
          "output_type": "stream",
          "name": "stdout",
          "text": [
            "The dot product is 1\n"
          ]
        },
        {
          "output_type": "display_data",
          "data": {
            "text/plain": [
              "<Figure size 432x288 with 1 Axes>"
            ],
            "image/png": "[encoded data removed]"
          },
          "metadata": {
            "needs_background": "light"
          }
        }
      ]
    },
    {
      "cell_type": "markdown",
      "source": [
        "Why are the results of the dot product for [-1, 1] and [1, 1] and the dot product for [1, 0] and [0, 1] zero, but not zero for the dot product for [1, 1] and [0, 1]?"
      ],
      "metadata": {
        "id": "sxLTYwzYKeY8"
      }
    },
    {
      "cell_type": "markdown",
      "source": [
        "*The vectors used for question 4 and 5 are perpendicular. As a result, the dot product is zero.*"
      ],
      "metadata": {
        "id": "khUMFV8mKiU0"
      }
    },
    {
      "cell_type": "markdown",
      "source": [
        "Convert the list [1, 2, 3] and [8, 9, 10] to numpy arrays arr1 and arr2. Then perform Addition , Subtraction , Multiplication , Division and Dot Operation on the arr1 and arr2."
      ],
      "metadata": {
        "id": "-drknMqJK03B"
      }
    },
    {
      "cell_type": "code",
      "source": [
        "arr1 = np.array([1, 2, 3])\n",
        "arr2 = np.array([8, 9, 10])\n",
        "\n",
        "arr3 = np.add(arr1, arr2)\n",
        "print(arr3)\n",
        "\n",
        "arr4 = np.subtract(arr1, arr2)\n",
        "print(arr4)\n",
        "\n",
        "arr5 = np.multiply(arr1, arr2)\n",
        "print(arr5)\n",
        "\n",
        "\n",
        "arr6 = np.divide(arr1, arr2)\n",
        "print(arr6)\n",
        "\n",
        "arr7 = np.dot(arr1, arr2)\n",
        "print(arr7)"
      ],
      "metadata": {
        "colab": {
          "base_uri": "https://localhost:8080/"
        },
        "id": "nhOoZN92K1jG",
        "outputId": "82494920-ffbb-43c9-fa35-1366d681e849"
      },
      "execution_count": 69,
      "outputs": [
        {
          "output_type": "stream",
          "name": "stdout",
          "text": [
            "[ 9 11 13]\n",
            "[-7 -7 -7]\n",
            "[ 8 18 30]\n",
            "[0.125      0.22222222 0.3       ]\n",
            "56\n"
          ]
        }
      ]
    },
    {
      "cell_type": "markdown",
      "source": [
        "# LAB 02"
      ],
      "metadata": {
        "id": "rsw0ipbTLOhW"
      }
    },
    {
      "cell_type": "code",
      "source": [
        "A = np.array([[1,2],[3,4],[5,6],[7,8]])\n",
        "A"
      ],
      "metadata": {
        "colab": {
          "base_uri": "https://localhost:8080/"
        },
        "id": "gjLAPFt-LT72",
        "outputId": "4c1cf12e-d3b0-4aaa-c38f-b604f834e11f"
      },
      "execution_count": 71,
      "outputs": [
        {
          "output_type": "execute_result",
          "data": {
            "text/plain": [
              "array([[1, 2],\n",
              "       [3, 4],\n",
              "       [5, 6],\n",
              "       [7, 8]])"
            ]
          },
          "metadata": {},
          "execution_count": 71
        }
      ]
    },
    {
      "cell_type": "code",
      "source": [
        "# Create a list\n",
        "\n",
        "a = [[11, 12, 13], [21, 22, 23], [31, 32, 33]]\n",
        "a"
      ],
      "metadata": {
        "colab": {
          "base_uri": "https://localhost:8080/"
        },
        "id": "AAYlxlq7NkCb",
        "outputId": "4643e5e7-8ab3-47e0-dde4-c5f024ba6b64"
      },
      "execution_count": 75,
      "outputs": [
        {
          "output_type": "execute_result",
          "data": {
            "text/plain": [
              "[[11, 12, 13], [21, 22, 23], [31, 32, 33]]"
            ]
          },
          "metadata": {},
          "execution_count": 75
        }
      ]
    },
    {
      "cell_type": "code",
      "source": [
        "# Convert list to Numpy Array\n",
        "# Every element is the same type\n",
        "A=np.array(a)\n",
        "A"
      ],
      "metadata": {
        "colab": {
          "base_uri": "https://localhost:8080/"
        },
        "id": "j1c4E-WSNos4",
        "outputId": "56357ee2-ec3c-4e23-e709-3a62ace255ec"
      },
      "execution_count": 84,
      "outputs": [
        {
          "output_type": "execute_result",
          "data": {
            "text/plain": [
              "array([[11, 12, 13],\n",
              "       [21, 22, 23],\n",
              "       [31, 32, 33]])"
            ]
          },
          "metadata": {},
          "execution_count": 84
        }
      ]
    },
    {
      "cell_type": "code",
      "source": [
        "# Show the numpy array dimensions\n",
        "\n",
        "A.ndim"
      ],
      "metadata": {
        "colab": {
          "base_uri": "https://localhost:8080/"
        },
        "id": "LC51WuFAOR6G",
        "outputId": "2fbfc06c-e121-40d6-add6-ee0243cae62d"
      },
      "execution_count": 85,
      "outputs": [
        {
          "output_type": "execute_result",
          "data": {
            "text/plain": [
              "2"
            ]
          },
          "metadata": {},
          "execution_count": 85
        }
      ]
    },
    {
      "cell_type": "code",
      "source": [
        "# Show the numpy array shape\n",
        "\n",
        "A.shape"
      ],
      "metadata": {
        "colab": {
          "base_uri": "https://localhost:8080/"
        },
        "id": "HAc7ApONOUbh",
        "outputId": "fa195f84-c9a1-4357-8785-d494193c6d13"
      },
      "execution_count": 86,
      "outputs": [
        {
          "output_type": "execute_result",
          "data": {
            "text/plain": [
              "(3, 3)"
            ]
          },
          "metadata": {},
          "execution_count": 86
        }
      ]
    },
    {
      "cell_type": "code",
      "source": [
        "# Show the numpy array size\n",
        "\n",
        "A.size"
      ],
      "metadata": {
        "colab": {
          "base_uri": "https://localhost:8080/"
        },
        "id": "-o2syhGoOVt0",
        "outputId": "bedefcac-a055-44eb-8274-723bdaa724cd"
      },
      "execution_count": 87,
      "outputs": [
        {
          "output_type": "execute_result",
          "data": {
            "text/plain": [
              "9"
            ]
          },
          "metadata": {},
          "execution_count": 87
        }
      ]
    },
    {
      "cell_type": "markdown",
      "source": [
        "We can use rectangular brackets to access the different elements of the array. The correspondence between the rectangular brackets and the list and the rectangular representation is shown in the following figure for a 3x3 array:"
      ],
      "metadata": {
        "id": "_0o6XUt5NOmg"
      }
    },
    {
      "cell_type": "markdown",
      "source": [
        "<img src=\"https://cf-courses-data.s3.us.cloud-object-storage.appdomain.cloud/IBMDeveloperSkillsNetwork-PY0101EN-SkillsNetwork/labs/Module%205/images/NumTwoEg.png\" width=\"500\" />"
      ],
      "metadata": {
        "id": "vbudO5y9NPOk"
      }
    },
    {
      "cell_type": "markdown",
      "source": [
        "We can access the 2nd-row, 3rd column as shown in the following figure:\n",
        "\n",
        "<img src=\"https://cf-courses-data.s3.us.cloud-object-storage.appdomain.cloud/IBMDeveloperSkillsNetwork-PY0101EN-SkillsNetwork/labs/Module%205/images/NumTwoFT.png\" width=\"400\" />"
      ],
      "metadata": {
        "id": "7F1Xc141NWYz"
      }
    },
    {
      "cell_type": "code",
      "source": [
        "# Access the element on the second row and third column\n",
        "\n",
        "A[1,2]"
      ],
      "metadata": {
        "colab": {
          "base_uri": "https://localhost:8080/"
        },
        "id": "V1b30IAvNcih",
        "outputId": "231449f1-4bae-4fc3-c8ce-34116e1524f1"
      },
      "execution_count": 88,
      "outputs": [
        {
          "output_type": "execute_result",
          "data": {
            "text/plain": [
              "23"
            ]
          },
          "metadata": {},
          "execution_count": 88
        }
      ]
    },
    {
      "cell_type": "markdown",
      "source": [
        "Consider the following list a, convert it to Numpy Array."
      ],
      "metadata": {
        "id": "gEQFx0L2OkjJ"
      }
    },
    {
      "cell_type": "code",
      "source": [
        "# Write your code below\n",
        "\n",
        "a = [[1, 2, 3, 4], [5, 6, 7, 8], [9, 10, 11, 12]]\n",
        "\n",
        "A = np.array(a)\n",
        "A"
      ],
      "metadata": {
        "colab": {
          "base_uri": "https://localhost:8080/"
        },
        "id": "_i06EM0dOl2f",
        "outputId": "606b8c9b-d0b1-4203-85b1-dacd3cea012e"
      },
      "execution_count": 89,
      "outputs": [
        {
          "output_type": "execute_result",
          "data": {
            "text/plain": [
              "array([[ 1,  2,  3,  4],\n",
              "       [ 5,  6,  7,  8],\n",
              "       [ 9, 10, 11, 12]])"
            ]
          },
          "metadata": {},
          "execution_count": 89
        }
      ]
    },
    {
      "cell_type": "markdown",
      "source": [
        "Access the element on the first row and first and second columns."
      ],
      "metadata": {
        "id": "NKBZM7LgOs1H"
      }
    },
    {
      "cell_type": "code",
      "source": [
        "A[0][0:2]"
      ],
      "metadata": {
        "colab": {
          "base_uri": "https://localhost:8080/"
        },
        "id": "KSNSO5POOuH4",
        "outputId": "68e2e5ea-af01-4c80-e346-c112e95c42d0"
      },
      "execution_count": 91,
      "outputs": [
        {
          "output_type": "execute_result",
          "data": {
            "text/plain": [
              "array([1, 2])"
            ]
          },
          "metadata": {},
          "execution_count": 91
        }
      ]
    },
    {
      "cell_type": "markdown",
      "source": [
        "Perform matrix multiplication with the numpy arrays A and B."
      ],
      "metadata": {
        "id": "k_0HHbbXO56M"
      }
    },
    {
      "cell_type": "code",
      "source": [
        "# Write your code below\n",
        "\n",
        "B = np.array([[0, 1], [1, 0], [1, 1], [-1, 0]])\n",
        "\n",
        "X = np.dot(A,B)\n",
        "X"
      ],
      "metadata": {
        "colab": {
          "base_uri": "https://localhost:8080/"
        },
        "id": "9Rf3g9n4O6gg",
        "outputId": "a314de41-1816-443a-8bb4-c42698fa21dc"
      },
      "execution_count": 92,
      "outputs": [
        {
          "output_type": "execute_result",
          "data": {
            "text/plain": [
              "array([[ 1,  4],\n",
              "       [ 5, 12],\n",
              "       [ 9, 20]])"
            ]
          },
          "metadata": {},
          "execution_count": 92
        }
      ]
    },
    {
      "cell_type": "markdown",
      "source": [
        "# LAB 03"
      ],
      "metadata": {
        "id": "eN4pAnopRRTt"
      }
    },
    {
      "cell_type": "markdown",
      "source": [
        "Requests is a Python Library that allows you to send HTTP/1.1 requests easily. We can import the library as follows:"
      ],
      "metadata": {
        "id": "qjMgoVu7RVOX"
      }
    },
    {
      "cell_type": "code",
      "source": [
        "import requests"
      ],
      "metadata": {
        "id": "d5oMeRnHRXCC"
      },
      "execution_count": 93,
      "outputs": []
    },
    {
      "cell_type": "markdown",
      "source": [
        "We will also use the following libraries:"
      ],
      "metadata": {
        "id": "27gZgogeRZ8A"
      }
    },
    {
      "cell_type": "code",
      "source": [
        "import os \n",
        "from PIL import Image\n",
        "from IPython.display import IFrame"
      ],
      "metadata": {
        "id": "jGYFLZLSRbXN"
      },
      "execution_count": 94,
      "outputs": []
    },
    {
      "cell_type": "markdown",
      "source": [
        "You can make a GET request via the method get to www.ibm.com:"
      ],
      "metadata": {
        "id": "oG8K7MQfReAU"
      }
    },
    {
      "cell_type": "code",
      "source": [
        "url='https://www.ibm.com/'\n",
        "r=requests.get(url)"
      ],
      "metadata": {
        "id": "hFcrqawfReZc"
      },
      "execution_count": 95,
      "outputs": []
    },
    {
      "cell_type": "markdown",
      "source": [
        "We have the response object r, this has information about the request, like the status of the request. We can view the status code using the attribute status_code."
      ],
      "metadata": {
        "id": "x3z9oD1WRheT"
      }
    },
    {
      "cell_type": "code",
      "source": [
        "r.status_code"
      ],
      "metadata": {
        "colab": {
          "base_uri": "https://localhost:8080/"
        },
        "id": "oXVPgRpBRiZZ",
        "outputId": "e0743972-a4d8-4069-bb54-9b83ae628efe"
      },
      "execution_count": 96,
      "outputs": [
        {
          "output_type": "execute_result",
          "data": {
            "text/plain": [
              "200"
            ]
          },
          "metadata": {},
          "execution_count": 96
        }
      ]
    },
    {
      "cell_type": "markdown",
      "source": [
        "You can view the request headers:"
      ],
      "metadata": {
        "id": "q0MOj8WURk9v"
      }
    },
    {
      "cell_type": "code",
      "source": [
        "print(r.request.headers)"
      ],
      "metadata": {
        "colab": {
          "base_uri": "https://localhost:8080/"
        },
        "id": "IPj7akpaRlPt",
        "outputId": "725f47ce-e0a8-4fb8-e49f-f01b32dc624c"
      },
      "execution_count": 97,
      "outputs": [
        {
          "output_type": "stream",
          "name": "stdout",
          "text": [
            "{'User-Agent': 'python-requests/2.23.0', 'Accept-Encoding': 'gzip, deflate', 'Accept': '*/*', 'Connection': 'keep-alive', 'Cookie': '_abck=59725773B0663B341580EF0F38750A35~-1~YAAQ0fjaF5nTxKWDAQAASQNGpghE7MrBQJEondVEURzKlL+bXDFNkcZMIzYdMd+/Oq5OHNPwiUyr3gbFNpoycRxrtRWUznj0CsY42DBLpoVuHcUeyo2PLeo3G4j7gZa2K6/8A6bULRH2lYHkndWbzVVxJbzcvUohFVsqTajptl/HvTKPiNU8OfFuh2WdsoU1zDxmnu7o5r3SKdb4Pf5W243EDwWKBlCS1e1uy91loWYHjV06OEyARtDpSNx4SDKpkMUcwK8HhasHyGdx58CHL2KdIweocudbAsG5gqTTo4wQyN66AfX8yV8g7gDixtwFcFRT43BnNFInTZSyKcjYqOXddEvbyUwh8lw1q9MVFu7BChJBtsk=~-1~-1~-1; bm_sz=E2E08DF3D591C8AAD91EC99FAB00A375~YAAQ0fjaF5rTxKWDAQAASQNGphFMsDIZbj87PPvR0ulHUpxD/JYYXALkWjIryaSKh/clgHw0W8edQfrhkl0VRJv/RseBZdAUKSxfsdSUxTp03Md1sBPMfSzd7wSoemYsJACOdpB7DnpznfkmduJJZKkZIiyh8LSlcWM4WC3sFaXMCCd/l0At9aqp/qff1ptChII86wgpWlIJkxu6bQBiJU93I8GqiBmY0rK5hsWw/31dZicupi36//N/fsIvKzf6jPjpxLf7rR5cnFKKZLzu3Z9yXkVwK5j7/X1rp9XZ81o=~4473395~4534578'}\n"
          ]
        }
      ]
    },
    {
      "cell_type": "markdown",
      "source": [
        "\n",
        "You can view the request body, in the following line, as there is no body for a get request we get a None:"
      ],
      "metadata": {
        "id": "AbjhWmrLRo2g"
      }
    },
    {
      "cell_type": "code",
      "source": [
        "print(\"request body:\", r.request.body)"
      ],
      "metadata": {
        "colab": {
          "base_uri": "https://localhost:8080/"
        },
        "id": "yeTOqeNqRpNs",
        "outputId": "c17d8e68-2bd9-47d9-eb90-38bbbcb8a25e"
      },
      "execution_count": 98,
      "outputs": [
        {
          "output_type": "stream",
          "name": "stdout",
          "text": [
            "request body: None\n"
          ]
        }
      ]
    },
    {
      "cell_type": "markdown",
      "source": [
        "You can view the HTTP response header using the attribute headers. This returns a python dictionary of HTTP response headers."
      ],
      "metadata": {
        "id": "Q23zx8-xRwl_"
      }
    },
    {
      "cell_type": "code",
      "source": [
        "header=r.headers\n",
        "print(r.headers)"
      ],
      "metadata": {
        "colab": {
          "base_uri": "https://localhost:8080/"
        },
        "id": "0QpcyiYTRxWK",
        "outputId": "d4b5f21d-b666-4bc9-d4f9-091afd270f6f"
      },
      "execution_count": 99,
      "outputs": [
        {
          "output_type": "stream",
          "name": "stdout",
          "text": [
            "{'Server': 'Apache', 'Last-Modified': 'Mon, 03 Oct 2022 12:34:16 GMT', 'ETag': '\"17fce-5ea208fcd503e-gzip\"', 'Accept-Ranges': 'bytes', 'Content-Encoding': 'gzip', 'Content-Type': 'text/html', 'Cache-Control': 'max-age=3600', 'Expires': 'Wed, 05 Oct 2022 04:52:29 GMT', 'X-Akamai-Transformed': '9 21227 0 pmb=mTOE,2', 'Date': 'Wed, 05 Oct 2022 03:52:29 GMT', 'Content-Length': '21405', 'Connection': 'keep-alive', 'Vary': 'Accept-Encoding', 'x-content-type-options': 'nosniff', 'X-XSS-Protection': '1; mode=block', 'Content-Security-Policy': 'upgrade-insecure-requests', 'Strict-Transport-Security': 'max-age=31536000'}\n"
          ]
        }
      ]
    },
    {
      "cell_type": "code",
      "source": [
        "header['date']"
      ],
      "metadata": {
        "colab": {
          "base_uri": "https://localhost:8080/",
          "height": 35
        },
        "id": "Zvjcfp3pR1kV",
        "outputId": "2e18e36a-114a-4069-e9c1-1644cd8278fd"
      },
      "execution_count": 100,
      "outputs": [
        {
          "output_type": "execute_result",
          "data": {
            "text/plain": [
              "'Wed, 05 Oct 2022 03:52:29 GMT'"
            ],
            "application/vnd.google.colaboratory.intrinsic+json": {
              "type": "string"
            }
          },
          "metadata": {},
          "execution_count": 100
        }
      ]
    },
    {
      "cell_type": "code",
      "source": [
        "header['Content-Type']"
      ],
      "metadata": {
        "colab": {
          "base_uri": "https://localhost:8080/",
          "height": 35
        },
        "id": "fURl23ekR3b2",
        "outputId": "b59e736f-3c97-42e0-c294-9e4bf313582d"
      },
      "execution_count": 101,
      "outputs": [
        {
          "output_type": "execute_result",
          "data": {
            "text/plain": [
              "'text/html'"
            ],
            "application/vnd.google.colaboratory.intrinsic+json": {
              "type": "string"
            }
          },
          "metadata": {},
          "execution_count": 101
        }
      ]
    },
    {
      "cell_type": "code",
      "source": [
        " r.encoding"
      ],
      "metadata": {
        "colab": {
          "base_uri": "https://localhost:8080/",
          "height": 35
        },
        "id": "SrEYdp7pR5FN",
        "outputId": "82e4fc06-4c6b-4fb4-fcd2-aec02d7dcc70"
      },
      "execution_count": 102,
      "outputs": [
        {
          "output_type": "execute_result",
          "data": {
            "text/plain": [
              "'ISO-8859-1'"
            ],
            "application/vnd.google.colaboratory.intrinsic+json": {
              "type": "string"
            }
          },
          "metadata": {},
          "execution_count": 102
        }
      ]
    },
    {
      "cell_type": "code",
      "source": [
        "r.text[0:100]"
      ],
      "metadata": {
        "colab": {
          "base_uri": "https://localhost:8080/",
          "height": 35
        },
        "id": "D5eeiKjGR77Q",
        "outputId": "a0f14d1d-a7af-4924-c82c-ca8a02ab7930"
      },
      "execution_count": 103,
      "outputs": [
        {
          "output_type": "execute_result",
          "data": {
            "text/plain": [
              "'<!DOCTYPE html><html lang=\"en-US\"><head><meta name=\"viewport\" content=\"width=device-width\"/><meta ch'"
            ],
            "application/vnd.google.colaboratory.intrinsic+json": {
              "type": "string"
            }
          },
          "metadata": {},
          "execution_count": 103
        }
      ]
    },
    {
      "cell_type": "code",
      "source": [
        "# Use single quotation marks for defining string\n",
        "url='https://cf-courses-data.s3.us.cloud-object-storage.appdomain.cloud/IBMDeveloperSkillsNetwork-PY0101EN-SkillsNetwork/IDSNlogo.png'"
      ],
      "metadata": {
        "id": "J-rEhUKJSE0b"
      },
      "execution_count": 104,
      "outputs": []
    },
    {
      "cell_type": "code",
      "source": [
        "r=requests.get(url)"
      ],
      "metadata": {
        "id": "1XH2oAfjSGfA"
      },
      "execution_count": 105,
      "outputs": []
    },
    {
      "cell_type": "code",
      "source": [
        "print(r.headers)"
      ],
      "metadata": {
        "colab": {
          "base_uri": "https://localhost:8080/"
        },
        "id": "2xvURgsJSIMH",
        "outputId": "740c97e5-e41a-4da0-d260-273c6ba53ef4"
      },
      "execution_count": 106,
      "outputs": [
        {
          "output_type": "stream",
          "name": "stdout",
          "text": [
            "{'Date': 'Wed, 05 Oct 2022 03:55:09 GMT', 'X-Clv-Request-Id': 'ed20946b-b4bd-472b-9dde-fdd5bf88daef', 'Server': 'Cleversafe', 'X-Clv-S3-Version': '2.5', 'Accept-Ranges': 'bytes', 'x-amz-request-id': 'ed20946b-b4bd-472b-9dde-fdd5bf88daef', 'Cache-Control': 'max-age=0,public', 'ETag': '\"a831e767d02efd21b904ec485ac0c769\"', 'Content-Type': 'image/png', 'Last-Modified': 'Wed, 14 Sep 2022 05:47:46 GMT', 'Content-Length': '21590'}\n"
          ]
        }
      ]
    },
    {
      "cell_type": "code",
      "source": [
        "r.headers['Content-Type']"
      ],
      "metadata": {
        "colab": {
          "base_uri": "https://localhost:8080/",
          "height": 35
        },
        "id": "ydBXSHI2SJ20",
        "outputId": "740e5a4e-1ac7-40cb-c961-432ab53029be"
      },
      "execution_count": 107,
      "outputs": [
        {
          "output_type": "execute_result",
          "data": {
            "text/plain": [
              "'image/png'"
            ],
            "application/vnd.google.colaboratory.intrinsic+json": {
              "type": "string"
            }
          },
          "metadata": {},
          "execution_count": 107
        }
      ]
    },
    {
      "cell_type": "code",
      "source": [
        "path=os.path.join(os.getcwd(),'image.png')\n",
        "path"
      ],
      "metadata": {
        "colab": {
          "base_uri": "https://localhost:8080/",
          "height": 35
        },
        "id": "L8h2WZTNSL-W",
        "outputId": "354cafdb-60a3-4e61-c843-fe1365e87eee"
      },
      "execution_count": 108,
      "outputs": [
        {
          "output_type": "execute_result",
          "data": {
            "text/plain": [
              "'/content/image.png'"
            ],
            "application/vnd.google.colaboratory.intrinsic+json": {
              "type": "string"
            }
          },
          "metadata": {},
          "execution_count": 108
        }
      ]
    },
    {
      "cell_type": "code",
      "source": [
        "with open(path,'wb') as f:\n",
        "    f.write(r.content)"
      ],
      "metadata": {
        "id": "MckmmwUwSN8y"
      },
      "execution_count": 109,
      "outputs": []
    },
    {
      "cell_type": "code",
      "source": [
        "Image.open(path)"
      ],
      "metadata": {
        "colab": {
          "base_uri": "https://localhost:8080/",
          "height": 817
        },
        "id": "79xDA9EFSPpA",
        "outputId": "fc97f535-9268-4c61-c57c-7d9368c8f84e"
      },
      "execution_count": 110,
      "outputs": [
        {
          "output_type": "execute_result",
          "data": {
            "text/plain": [
              "<PIL.PngImagePlugin.PngImageFile image mode=P size=800x800 at 0x7FCC2DBE8C50>"
            ],
            "image/png": "[encoded data removed]"
          },
          "metadata": {},
          "execution_count": 110
        }
      ]
    },
    {
      "cell_type": "code",
      "source": [
        "url='https://cf-courses-data.s3.us.cloud-object-storage.appdomain.cloud/IBMDeveloperSkillsNetwork-PY0101EN-SkillsNetwork/labs/Module%205/data/Example1.txt'\n",
        "path=os.path.join(os.getcwd(),'example1.txt')\n",
        "r=requests.get(url)\n",
        "with open(path,'wb') as f:\n",
        "    f.write(r.content)"
      ],
      "metadata": {
        "id": "aAtoCFpaSewg"
      },
      "execution_count": 111,
      "outputs": []
    },
    {
      "cell_type": "code",
      "source": [
        "url_get='http://httpbin.org/get'"
      ],
      "metadata": {
        "id": "BcJ8YYawS1y8"
      },
      "execution_count": 112,
      "outputs": []
    },
    {
      "cell_type": "code",
      "source": [
        "payload={\"name\":\"Joseph\",\"ID\":\"123\"}"
      ],
      "metadata": {
        "id": "MRGGLmByS3oD"
      },
      "execution_count": 113,
      "outputs": []
    },
    {
      "cell_type": "code",
      "source": [
        "r=requests.get(url_get,params=payload)"
      ],
      "metadata": {
        "id": "_Gxoi26PS5g0"
      },
      "execution_count": 114,
      "outputs": []
    },
    {
      "cell_type": "code",
      "source": [
        "r.url"
      ],
      "metadata": {
        "colab": {
          "base_uri": "https://localhost:8080/",
          "height": 35
        },
        "id": "UCx0UqXjS7Be",
        "outputId": "b05e070f-9ece-4629-b1d7-7d5d364643fe"
      },
      "execution_count": 115,
      "outputs": [
        {
          "output_type": "execute_result",
          "data": {
            "text/plain": [
              "'http://httpbin.org/get?name=Joseph&ID=123'"
            ],
            "application/vnd.google.colaboratory.intrinsic+json": {
              "type": "string"
            }
          },
          "metadata": {},
          "execution_count": 115
        }
      ]
    },
    {
      "cell_type": "code",
      "source": [
        "r.json()"
      ],
      "metadata": {
        "colab": {
          "base_uri": "https://localhost:8080/"
        },
        "id": "CKg6N5LtS_7C",
        "outputId": "1a648da5-8de2-4b7c-8978-de6a44804e60"
      },
      "execution_count": 116,
      "outputs": [
        {
          "output_type": "execute_result",
          "data": {
            "text/plain": [
              "{'args': {'ID': '123', 'name': 'Joseph'},\n",
              " 'headers': {'Accept': '*/*',\n",
              "  'Accept-Encoding': 'gzip, deflate',\n",
              "  'Host': 'httpbin.org',\n",
              "  'User-Agent': 'python-requests/2.23.0',\n",
              "  'X-Amzn-Trace-Id': 'Root=1-633d00ee-213101927cc2a68b61e0ed51'},\n",
              " 'origin': '34.172.254.179',\n",
              " 'url': 'http://httpbin.org/get?name=Joseph&ID=123'}"
            ]
          },
          "metadata": {},
          "execution_count": 116
        }
      ]
    },
    {
      "cell_type": "code",
      "source": [
        "r.json()['args']"
      ],
      "metadata": {
        "colab": {
          "base_uri": "https://localhost:8080/"
        },
        "id": "hKPUE7XkTCHj",
        "outputId": "ac0ee3ee-b431-4cc6-f9db-9d90b8390de8"
      },
      "execution_count": 117,
      "outputs": [
        {
          "output_type": "execute_result",
          "data": {
            "text/plain": [
              "{'ID': '123', 'name': 'Joseph'}"
            ]
          },
          "metadata": {},
          "execution_count": 117
        }
      ]
    },
    {
      "cell_type": "code",
      "source": [
        "url_post='http://httpbin.org/post'"
      ],
      "metadata": {
        "id": "Clpi6kYGTGx1"
      },
      "execution_count": 118,
      "outputs": []
    },
    {
      "cell_type": "code",
      "source": [
        "r_post=requests.post(url_post,data=payload)"
      ],
      "metadata": {
        "id": "z5-Kfo0cTIcB"
      },
      "execution_count": 119,
      "outputs": []
    },
    {
      "cell_type": "markdown",
      "source": [
        "Comparing the URL from the response object of the GET and POST request we see the POST request has no name or value pairs (since POST sends the data in a request body."
      ],
      "metadata": {
        "id": "_whyFu3VTRDw"
      }
    },
    {
      "cell_type": "code",
      "source": [
        "print(\"POST request URL:\",r_post.url )\n",
        "print(\"GET request URL:\",r.url)"
      ],
      "metadata": {
        "colab": {
          "base_uri": "https://localhost:8080/"
        },
        "id": "7eKnMSAfTKZe",
        "outputId": "3cd1a0c7-a6ab-45bd-f0a1-b6dd6a551afc"
      },
      "execution_count": 120,
      "outputs": [
        {
          "output_type": "stream",
          "name": "stdout",
          "text": [
            "POST request URL: http://httpbin.org/post\n",
            "GET request URL: http://httpbin.org/get?name=Joseph&ID=123\n"
          ]
        }
      ]
    },
    {
      "cell_type": "markdown",
      "source": [
        "We can compare the POST and GET request body, we see only the POST request has a body:"
      ],
      "metadata": {
        "id": "YT92eMpTTSQ6"
      }
    },
    {
      "cell_type": "code",
      "source": [
        "print(\"POST request body:\",r_post.request.body)\n",
        "print(\"GET request body:\",r.request.body)"
      ],
      "metadata": {
        "colab": {
          "base_uri": "https://localhost:8080/"
        },
        "id": "73MkBhNMTboW",
        "outputId": "de09ca03-7fe1-4046-f3c7-aaf1aa1ba758"
      },
      "execution_count": 121,
      "outputs": [
        {
          "output_type": "stream",
          "name": "stdout",
          "text": [
            "POST request body: name=Joseph&ID=123\n",
            "GET request body: None\n"
          ]
        }
      ]
    },
    {
      "cell_type": "code",
      "source": [
        "r_post.json()['form']"
      ],
      "metadata": {
        "colab": {
          "base_uri": "https://localhost:8080/"
        },
        "id": "5yUlg_SrTeeU",
        "outputId": "4905eb09-d7ab-4bb9-ea03-6b3b2991892b"
      },
      "execution_count": 122,
      "outputs": [
        {
          "output_type": "execute_result",
          "data": {
            "text/plain": [
              "{'ID': '123', 'name': 'Joseph'}"
            ]
          },
          "metadata": {},
          "execution_count": 122
        }
      ]
    },
    {
      "cell_type": "markdown",
      "source": [
        "# RESULTS"
      ],
      "metadata": {
        "id": "lUkXBSTZXx6O"
      }
    },
    {
      "cell_type": "markdown",
      "source": [
        "![image.png](data:image/png;base64,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)"
      ],
      "metadata": {
        "id": "rYblCtk8ZR-P"
      }
    },
    {
      "cell_type": "markdown",
      "source": [
        "![image.png](data:image/png;base64,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)"
      ],
      "metadata": {
        "id": "HqHJyaB3ZEO-"
      }
    },
    {
      "cell_type": "markdown",
      "source": [
        "![python-for-data-science.png](data:image/png;base64,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)"
      ],
      "metadata": {
        "id": "FA9RwndCX04B"
      }
    }
  ]
}