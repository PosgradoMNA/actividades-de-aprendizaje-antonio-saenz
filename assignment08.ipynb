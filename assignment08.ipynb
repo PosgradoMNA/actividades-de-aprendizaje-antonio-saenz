{
  "cells": [
    {
      "cell_type": "markdown",
      "metadata": {
        "id": "view-in-github",
        "colab_type": "text"
      },
      "source": [
        "<a href=\"https://colab.research.google.com/github/PosgradoMNA/actividades-de-aprendizaje-antonio-saenz/blob/main/assignment08.ipynb\" target=\"_parent\"><img src=\"https://colab.research.google.com/assets/colab-badge.svg\" alt=\"Open In Colab\"/></a>"
      ]
    },
    {
      "cell_type": "markdown",
      "source": [
        "**IBM: DA0101EN**\n",
        "\n",
        "Data Analysis with Python\n",
        "\n",
        "# Module 5\n",
        "**Alumno:** Jose Antonio Saenz Ramirez\n",
        "\n",
        "**Matricula:** A01793884"
      ],
      "metadata": {
        "id": "NmgoDrBw5BwS"
      }
    },
    {
      "cell_type": "code",
      "execution_count": 1,
      "metadata": {
        "id": "xFwl30YB4tqE"
      },
      "outputs": [],
      "source": [
        "import pandas as pd\n",
        "import numpy as np"
      ]
    },
    {
      "cell_type": "code",
      "execution_count": 2,
      "metadata": {
        "id": "UbW3UlNE4tqE"
      },
      "outputs": [],
      "source": [
        "path = 'https://cf-courses-data.s3.us.cloud-object-storage.appdomain.cloud/IBMDeveloperSkillsNetwork-DA0101EN-SkillsNetwork/labs/Data%20files/module_5_auto.csv'"
      ]
    },
    {
      "cell_type": "code",
      "execution_count": 3,
      "metadata": {
        "id": "MmlTmAW04tqF"
      },
      "outputs": [],
      "source": [
        "\n",
        "df = pd.read_csv(path)"
      ]
    },
    {
      "cell_type": "code",
      "execution_count": 4,
      "metadata": {
        "id": "JnGuwpZ84tqF"
      },
      "outputs": [],
      "source": [
        "df.to_csv('module_5_auto.csv')"
      ]
    },
    {
      "cell_type": "markdown",
      "metadata": {
        "id": "j_bBndKW4tqF"
      },
      "source": [
        "First, let's only use numeric data:\n"
      ]
    },
    {
      "cell_type": "code",
      "execution_count": 5,
      "metadata": {
        "colab": {
          "base_uri": "https://localhost:8080/",
          "height": 317
        },
        "id": "Omvy70924tqF",
        "outputId": "0d4c1c17-f8b6-4fad-cec4-ce00f1f9fbd7"
      },
      "outputs": [
        {
          "output_type": "execute_result",
          "data": {
            "text/plain": [
              "   Unnamed: 0  Unnamed: 0.1  symboling  normalized-losses  wheel-base  \\\n",
              "0           0             0          3                122        88.6   \n",
              "1           1             1          3                122        88.6   \n",
              "2           2             2          1                122        94.5   \n",
              "3           3             3          2                164        99.8   \n",
              "4           4             4          2                164        99.4   \n",
              "\n",
              "     length     width  height  curb-weight  engine-size  ...  stroke  \\\n",
              "0  0.811148  0.890278    48.8         2548          130  ...    2.68   \n",
              "1  0.811148  0.890278    48.8         2548          130  ...    2.68   \n",
              "2  0.822681  0.909722    52.4         2823          152  ...    3.47   \n",
              "3  0.848630  0.919444    54.3         2337          109  ...    3.40   \n",
              "4  0.848630  0.922222    54.3         2824          136  ...    3.40   \n",
              "\n",
              "   compression-ratio  horsepower  peak-rpm  city-mpg  highway-mpg    price  \\\n",
              "0                9.0       111.0    5000.0        21           27  13495.0   \n",
              "1                9.0       111.0    5000.0        21           27  16500.0   \n",
              "2                9.0       154.0    5000.0        19           26  16500.0   \n",
              "3               10.0       102.0    5500.0        24           30  13950.0   \n",
              "4                8.0       115.0    5500.0        18           22  17450.0   \n",
              "\n",
              "   city-L/100km  diesel  gas  \n",
              "0     11.190476       0    1  \n",
              "1     11.190476       0    1  \n",
              "2     12.368421       0    1  \n",
              "3      9.791667       0    1  \n",
              "4     13.055556       0    1  \n",
              "\n",
              "[5 rows x 21 columns]"
            ],
            "text/html": [
              "\n",
              "  <div id=\"df-6cfe4008-df42-4c20-98ae-f42f1fcabcaa\">\n",
              "    <div class=\"colab-df-container\">\n",
              "      <div>\n",
              "<style scoped>\n",
              "    .dataframe tbody tr th:only-of-type {\n",
              "        vertical-align: middle;\n",
              "    }\n",
              "\n",
              "    .dataframe tbody tr th {\n",
              "        vertical-align: top;\n",
              "    }\n",
              "\n",
              "    .dataframe thead th {\n",
              "        text-align: right;\n",
              "    }\n",
              "</style>\n",
              "<table border=\"1\" class=\"dataframe\">\n",
              "  <thead>\n",
              "    <tr style=\"text-align: right;\">\n",
              "      <th></th>\n",
              "      <th>Unnamed: 0</th>\n",
              "      <th>Unnamed: 0.1</th>\n",
              "      <th>symboling</th>\n",
              "      <th>normalized-losses</th>\n",
              "      <th>wheel-base</th>\n",
              "      <th>length</th>\n",
              "      <th>width</th>\n",
              "      <th>height</th>\n",
              "      <th>curb-weight</th>\n",
              "      <th>engine-size</th>\n",
              "      <th>...</th>\n",
              "      <th>stroke</th>\n",
              "      <th>compression-ratio</th>\n",
              "      <th>horsepower</th>\n",
              "      <th>peak-rpm</th>\n",
              "      <th>city-mpg</th>\n",
              "      <th>highway-mpg</th>\n",
              "      <th>price</th>\n",
              "      <th>city-L/100km</th>\n",
              "      <th>diesel</th>\n",
              "      <th>gas</th>\n",
              "    </tr>\n",
              "  </thead>\n",
              "  <tbody>\n",
              "    <tr>\n",
              "      <th>0</th>\n",
              "      <td>0</td>\n",
              "      <td>0</td>\n",
              "      <td>3</td>\n",
              "      <td>122</td>\n",
              "      <td>88.6</td>\n",
              "      <td>0.811148</td>\n",
              "      <td>0.890278</td>\n",
              "      <td>48.8</td>\n",
              "      <td>2548</td>\n",
              "      <td>130</td>\n",
              "      <td>...</td>\n",
              "      <td>2.68</td>\n",
              "      <td>9.0</td>\n",
              "      <td>111.0</td>\n",
              "      <td>5000.0</td>\n",
              "      <td>21</td>\n",
              "      <td>27</td>\n",
              "      <td>13495.0</td>\n",
              "      <td>11.190476</td>\n",
              "      <td>0</td>\n",
              "      <td>1</td>\n",
              "    </tr>\n",
              "    <tr>\n",
              "      <th>1</th>\n",
              "      <td>1</td>\n",
              "      <td>1</td>\n",
              "      <td>3</td>\n",
              "      <td>122</td>\n",
              "      <td>88.6</td>\n",
              "      <td>0.811148</td>\n",
              "      <td>0.890278</td>\n",
              "      <td>48.8</td>\n",
              "      <td>2548</td>\n",
              "      <td>130</td>\n",
              "      <td>...</td>\n",
              "      <td>2.68</td>\n",
              "      <td>9.0</td>\n",
              "      <td>111.0</td>\n",
              "      <td>5000.0</td>\n",
              "      <td>21</td>\n",
              "      <td>27</td>\n",
              "      <td>16500.0</td>\n",
              "      <td>11.190476</td>\n",
              "      <td>0</td>\n",
              "      <td>1</td>\n",
              "    </tr>\n",
              "    <tr>\n",
              "      <th>2</th>\n",
              "      <td>2</td>\n",
              "      <td>2</td>\n",
              "      <td>1</td>\n",
              "      <td>122</td>\n",
              "      <td>94.5</td>\n",
              "      <td>0.822681</td>\n",
              "      <td>0.909722</td>\n",
              "      <td>52.4</td>\n",
              "      <td>2823</td>\n",
              "      <td>152</td>\n",
              "      <td>...</td>\n",
              "      <td>3.47</td>\n",
              "      <td>9.0</td>\n",
              "      <td>154.0</td>\n",
              "      <td>5000.0</td>\n",
              "      <td>19</td>\n",
              "      <td>26</td>\n",
              "      <td>16500.0</td>\n",
              "      <td>12.368421</td>\n",
              "      <td>0</td>\n",
              "      <td>1</td>\n",
              "    </tr>\n",
              "    <tr>\n",
              "      <th>3</th>\n",
              "      <td>3</td>\n",
              "      <td>3</td>\n",
              "      <td>2</td>\n",
              "      <td>164</td>\n",
              "      <td>99.8</td>\n",
              "      <td>0.848630</td>\n",
              "      <td>0.919444</td>\n",
              "      <td>54.3</td>\n",
              "      <td>2337</td>\n",
              "      <td>109</td>\n",
              "      <td>...</td>\n",
              "      <td>3.40</td>\n",
              "      <td>10.0</td>\n",
              "      <td>102.0</td>\n",
              "      <td>5500.0</td>\n",
              "      <td>24</td>\n",
              "      <td>30</td>\n",
              "      <td>13950.0</td>\n",
              "      <td>9.791667</td>\n",
              "      <td>0</td>\n",
              "      <td>1</td>\n",
              "    </tr>\n",
              "    <tr>\n",
              "      <th>4</th>\n",
              "      <td>4</td>\n",
              "      <td>4</td>\n",
              "      <td>2</td>\n",
              "      <td>164</td>\n",
              "      <td>99.4</td>\n",
              "      <td>0.848630</td>\n",
              "      <td>0.922222</td>\n",
              "      <td>54.3</td>\n",
              "      <td>2824</td>\n",
              "      <td>136</td>\n",
              "      <td>...</td>\n",
              "      <td>3.40</td>\n",
              "      <td>8.0</td>\n",
              "      <td>115.0</td>\n",
              "      <td>5500.0</td>\n",
              "      <td>18</td>\n",
              "      <td>22</td>\n",
              "      <td>17450.0</td>\n",
              "      <td>13.055556</td>\n",
              "      <td>0</td>\n",
              "      <td>1</td>\n",
              "    </tr>\n",
              "  </tbody>\n",
              "</table>\n",
              "<p>5 rows × 21 columns</p>\n",
              "</div>\n",
              "      <button class=\"colab-df-convert\" onclick=\"convertToInteractive('df-6cfe4008-df42-4c20-98ae-f42f1fcabcaa')\"\n",
              "              title=\"Convert this dataframe to an interactive table.\"\n",
              "              style=\"display:none;\">\n",
              "        \n",
              "  <svg xmlns=\"http://www.w3.org/2000/svg\" height=\"24px\"viewBox=\"0 0 24 24\"\n",
              "       width=\"24px\">\n",
              "    <path d=\"M0 0h24v24H0V0z\" fill=\"none\"/>\n",
              "    <path d=\"M18.56 5.44l.94 2.06.94-2.06 2.06-.94-2.06-.94-.94-2.06-.94 2.06-2.06.94zm-11 1L8.5 8.5l.94-2.06 2.06-.94-2.06-.94L8.5 2.5l-.94 2.06-2.06.94zm10 10l.94 2.06.94-2.06 2.06-.94-2.06-.94-.94-2.06-.94 2.06-2.06.94z\"/><path d=\"M17.41 7.96l-1.37-1.37c-.4-.4-.92-.59-1.43-.59-.52 0-1.04.2-1.43.59L10.3 9.45l-7.72 7.72c-.78.78-.78 2.05 0 2.83L4 21.41c.39.39.9.59 1.41.59.51 0 1.02-.2 1.41-.59l7.78-7.78 2.81-2.81c.8-.78.8-2.07 0-2.86zM5.41 20L4 18.59l7.72-7.72 1.47 1.35L5.41 20z\"/>\n",
              "  </svg>\n",
              "      </button>\n",
              "      \n",
              "  <style>\n",
              "    .colab-df-container {\n",
              "      display:flex;\n",
              "      flex-wrap:wrap;\n",
              "      gap: 12px;\n",
              "    }\n",
              "\n",
              "    .colab-df-convert {\n",
              "      background-color: #E8F0FE;\n",
              "      border: none;\n",
              "      border-radius: 50%;\n",
              "      cursor: pointer;\n",
              "      display: none;\n",
              "      fill: #1967D2;\n",
              "      height: 32px;\n",
              "      padding: 0 0 0 0;\n",
              "      width: 32px;\n",
              "    }\n",
              "\n",
              "    .colab-df-convert:hover {\n",
              "      background-color: #E2EBFA;\n",
              "      box-shadow: 0px 1px 2px rgba(60, 64, 67, 0.3), 0px 1px 3px 1px rgba(60, 64, 67, 0.15);\n",
              "      fill: #174EA6;\n",
              "    }\n",
              "\n",
              "    [theme=dark] .colab-df-convert {\n",
              "      background-color: #3B4455;\n",
              "      fill: #D2E3FC;\n",
              "    }\n",
              "\n",
              "    [theme=dark] .colab-df-convert:hover {\n",
              "      background-color: #434B5C;\n",
              "      box-shadow: 0px 1px 3px 1px rgba(0, 0, 0, 0.15);\n",
              "      filter: drop-shadow(0px 1px 2px rgba(0, 0, 0, 0.3));\n",
              "      fill: #FFFFFF;\n",
              "    }\n",
              "  </style>\n",
              "\n",
              "      <script>\n",
              "        const buttonEl =\n",
              "          document.querySelector('#df-6cfe4008-df42-4c20-98ae-f42f1fcabcaa button.colab-df-convert');\n",
              "        buttonEl.style.display =\n",
              "          google.colab.kernel.accessAllowed ? 'block' : 'none';\n",
              "\n",
              "        async function convertToInteractive(key) {\n",
              "          const element = document.querySelector('#df-6cfe4008-df42-4c20-98ae-f42f1fcabcaa');\n",
              "          const dataTable =\n",
              "            await google.colab.kernel.invokeFunction('convertToInteractive',\n",
              "                                                     [key], {});\n",
              "          if (!dataTable) return;\n",
              "\n",
              "          const docLinkHtml = 'Like what you see? Visit the ' +\n",
              "            '<a target=\"_blank\" href=https://colab.research.google.com/notebooks/data_table.ipynb>data table notebook</a>'\n",
              "            + ' to learn more about interactive tables.';\n",
              "          element.innerHTML = '';\n",
              "          dataTable['output_type'] = 'display_data';\n",
              "          await google.colab.output.renderOutput(dataTable, element);\n",
              "          const docLink = document.createElement('div');\n",
              "          docLink.innerHTML = docLinkHtml;\n",
              "          element.appendChild(docLink);\n",
              "        }\n",
              "      </script>\n",
              "    </div>\n",
              "  </div>\n",
              "  "
            ]
          },
          "metadata": {},
          "execution_count": 5
        }
      ],
      "source": [
        "df=df._get_numeric_data()\n",
        "df.head()"
      ]
    },
    {
      "cell_type": "markdown",
      "metadata": {
        "id": "6QnB-Um64tqF"
      },
      "source": [
        "Libraries for plotting:\n"
      ]
    },
    {
      "cell_type": "code",
      "execution_count": 6,
      "metadata": {
        "id": "PJpepvep4tqF"
      },
      "outputs": [],
      "source": [
        "from ipywidgets import interact, interactive, fixed, interact_manual"
      ]
    },
    {
      "cell_type": "markdown",
      "metadata": {
        "id": "sXEoN6mG4tqF"
      },
      "source": [
        "<h2>Functions for Plotting</h2>\n"
      ]
    },
    {
      "cell_type": "code",
      "execution_count": 7,
      "metadata": {
        "id": "oktwx5gr4tqG"
      },
      "outputs": [],
      "source": [
        "def DistributionPlot(RedFunction, BlueFunction, RedName, BlueName, Title):\n",
        "    width = 12\n",
        "    height = 10\n",
        "    plt.figure(figsize=(width, height))\n",
        "\n",
        "    ax1 = sns.distplot(RedFunction, hist=False, color=\"r\", label=RedName)\n",
        "    ax2 = sns.distplot(BlueFunction, hist=False, color=\"b\", label=BlueName, ax=ax1)\n",
        "\n",
        "    plt.title(Title)\n",
        "    plt.xlabel('Price (in dollars)')\n",
        "    plt.ylabel('Proportion of Cars')\n",
        "\n",
        "    plt.show()\n",
        "    plt.close()"
      ]
    },
    {
      "cell_type": "code",
      "execution_count": 8,
      "metadata": {
        "id": "_oJSQH224tqG"
      },
      "outputs": [],
      "source": [
        "def PollyPlot(xtrain, xtest, y_train, y_test, lr,poly_transform):\n",
        "    width = 12\n",
        "    height = 10\n",
        "    plt.figure(figsize=(width, height))\n",
        "    \n",
        "    \n",
        "    #training data \n",
        "    #testing data \n",
        "    # lr:  linear regression object \n",
        "    #poly_transform:  polynomial transformation object \n",
        " \n",
        "    xmax=max([xtrain.values.max(), xtest.values.max()])\n",
        "\n",
        "    xmin=min([xtrain.values.min(), xtest.values.min()])\n",
        "\n",
        "    x=np.arange(xmin, xmax, 0.1)\n",
        "\n",
        "\n",
        "    plt.plot(xtrain, y_train, 'ro', label='Training Data')\n",
        "    plt.plot(xtest, y_test, 'go', label='Test Data')\n",
        "    plt.plot(x, lr.predict(poly_transform.fit_transform(x.reshape(-1, 1))), label='Predicted Function')\n",
        "    plt.ylim([-10000, 60000])\n",
        "    plt.ylabel('Price')\n",
        "    plt.legend()"
      ]
    },
    {
      "cell_type": "markdown",
      "metadata": {
        "id": "wBAeiRBP4tqG"
      },
      "source": [
        "<h2 id=\"ref1\">Part 1: Training and Testing</h2>\n",
        "\n",
        "<p>An important step in testing your model is to split your data into training and testing data. We will place the target data <b>price</b> in a separate dataframe <b>y_data</b>:</p>\n"
      ]
    },
    {
      "cell_type": "code",
      "execution_count": 9,
      "metadata": {
        "id": "YwxgDSoK4tqG"
      },
      "outputs": [],
      "source": [
        "y_data = df['price']"
      ]
    },
    {
      "cell_type": "markdown",
      "metadata": {
        "id": "SJc-NfYr4tqG"
      },
      "source": [
        "Drop price data in dataframe **x_data**:\n"
      ]
    },
    {
      "cell_type": "code",
      "execution_count": 10,
      "metadata": {
        "id": "Jw5Ys1L14tqG"
      },
      "outputs": [],
      "source": [
        "x_data=df.drop('price',axis=1)"
      ]
    },
    {
      "cell_type": "markdown",
      "metadata": {
        "id": "yNoe7C0O4tqG"
      },
      "source": [
        "Now, we randomly split our data into training and testing data using the function <b>train_test_split</b>.\n"
      ]
    },
    {
      "cell_type": "code",
      "execution_count": 11,
      "metadata": {
        "colab": {
          "base_uri": "https://localhost:8080/"
        },
        "id": "1s6SjDlz4tqG",
        "outputId": "96e53449-a4bf-49aa-eded-30374d7ff6d9"
      },
      "outputs": [
        {
          "output_type": "stream",
          "name": "stdout",
          "text": [
            "number of test samples : 21\n",
            "number of training samples: 180\n"
          ]
        }
      ],
      "source": [
        "from sklearn.model_selection import train_test_split\n",
        "\n",
        "\n",
        "x_train, x_test, y_train, y_test = train_test_split(x_data, y_data, test_size=0.10, random_state=1)\n",
        "\n",
        "\n",
        "print(\"number of test samples :\", x_test.shape[0])\n",
        "print(\"number of training samples:\",x_train.shape[0])\n"
      ]
    },
    {
      "cell_type": "markdown",
      "metadata": {
        "id": "WBBi5HN24tqG"
      },
      "source": [
        "The <b>test_size</b> parameter sets the proportion of data that is split into the testing set. In the above, the testing set is 10% of the total dataset.\n"
      ]
    },
    {
      "cell_type": "markdown",
      "metadata": {
        "id": "nF9LV-Z-4tqH"
      },
      "source": [
        "<div class=\"alert alert-danger alertdanger\" style=\"margin-top: 20px\">\n",
        "<h1> Question  #1):</h1>\n",
        "\n",
        "<b>Use the function \"train_test_split\" to split up the dataset such that 40% of the data samples will be utilized for testing. Set the parameter \"random_state\" equal to zero. The output of the function should be the following:  \"x_train1\" , \"x_test1\", \"y_train1\" and  \"y_test1\".</b>\n",
        "\n",
        "</div>\n"
      ]
    },
    {
      "cell_type": "code",
      "execution_count": 12,
      "metadata": {
        "colab": {
          "base_uri": "https://localhost:8080/"
        },
        "id": "Uq3hzjha4tqH",
        "outputId": "35d081f0-fd8a-4038-9c23-49cec4ae9032"
      },
      "outputs": [
        {
          "output_type": "stream",
          "name": "stdout",
          "text": [
            "number of test samples : 81\n",
            "number of training samples: 120\n"
          ]
        }
      ],
      "source": [
        "# Write your code below and press Shift+Enter to execute \n",
        "x_train1, x_test1, y_train1, y_test1 = train_test_split(x_data, y_data, test_size=0.4, random_state=0) \n",
        "print(\"number of test samples :\", x_test1.shape[0])\n",
        "print(\"number of training samples:\",x_train1.shape[0])\n"
      ]
    },
    {
      "cell_type": "markdown",
      "metadata": {
        "id": "ZCgJ4iR74tqH"
      },
      "source": [
        "Let's import <b>LinearRegression</b> from the module <b>linear_model</b>.\n"
      ]
    },
    {
      "cell_type": "code",
      "execution_count": 13,
      "metadata": {
        "id": "0noKSi0z4tqH"
      },
      "outputs": [],
      "source": [
        "from sklearn.linear_model import LinearRegression"
      ]
    },
    {
      "cell_type": "markdown",
      "metadata": {
        "id": "vMVpfXdv4tqH"
      },
      "source": [
        "We create a Linear Regression object:\n"
      ]
    },
    {
      "cell_type": "code",
      "execution_count": 14,
      "metadata": {
        "id": "PISEeOjG4tqH"
      },
      "outputs": [],
      "source": [
        "lre=LinearRegression()"
      ]
    },
    {
      "cell_type": "markdown",
      "metadata": {
        "id": "pkbN_1aw4tqH"
      },
      "source": [
        "We fit the model using the feature \"horsepower\":\n"
      ]
    },
    {
      "cell_type": "code",
      "execution_count": 15,
      "metadata": {
        "colab": {
          "base_uri": "https://localhost:8080/"
        },
        "id": "GHgEZKRK4tqH",
        "outputId": "1078e6e2-ae69-4cda-e7a5-d8f2a4e4d8a6"
      },
      "outputs": [
        {
          "output_type": "execute_result",
          "data": {
            "text/plain": [
              "LinearRegression()"
            ]
          },
          "metadata": {},
          "execution_count": 15
        }
      ],
      "source": [
        "lre.fit(x_train[['horsepower']], y_train)"
      ]
    },
    {
      "cell_type": "markdown",
      "metadata": {
        "id": "Z8zdL0za4tqH"
      },
      "source": [
        "Let's calculate the R^2 on the test data:\n"
      ]
    },
    {
      "cell_type": "code",
      "execution_count": 16,
      "metadata": {
        "colab": {
          "base_uri": "https://localhost:8080/"
        },
        "id": "rE7zDAFO4tqH",
        "outputId": "d5e940a8-128c-462a-ecd3-46189e7e5961"
      },
      "outputs": [
        {
          "output_type": "execute_result",
          "data": {
            "text/plain": [
              "0.36358755750788263"
            ]
          },
          "metadata": {},
          "execution_count": 16
        }
      ],
      "source": [
        "lre.score(x_test[['horsepower']], y_test)"
      ]
    },
    {
      "cell_type": "markdown",
      "metadata": {
        "id": "ql1H18wt4tqI"
      },
      "source": [
        "We can see the R^2 is much smaller using the test data compared to the training data.\n"
      ]
    },
    {
      "cell_type": "code",
      "execution_count": 17,
      "metadata": {
        "colab": {
          "base_uri": "https://localhost:8080/"
        },
        "id": "VVZye2LW4tqI",
        "outputId": "681077b9-256b-4129-e56f-ab339dcf889e"
      },
      "outputs": [
        {
          "output_type": "execute_result",
          "data": {
            "text/plain": [
              "0.6619724197515104"
            ]
          },
          "metadata": {},
          "execution_count": 17
        }
      ],
      "source": [
        "lre.score(x_train[['horsepower']], y_train)"
      ]
    },
    {
      "cell_type": "markdown",
      "metadata": {
        "id": "vGYVZFTZ4tqI"
      },
      "source": [
        "<div class=\"alert alert-danger alertdanger\" style=\"margin-top: 20px\">\n",
        "<h1> Question  #2): </h1>\n",
        "<b> \n",
        "Find the R^2  on the test data using 40% of the dataset for testing.\n",
        "</b>\n",
        "</div>\n"
      ]
    },
    {
      "cell_type": "code",
      "execution_count": 18,
      "metadata": {
        "colab": {
          "base_uri": "https://localhost:8080/"
        },
        "id": "TProM4im4tqI",
        "outputId": "7bd3f32b-aa25-4048-bb72-ea11539c01a6"
      },
      "outputs": [
        {
          "output_type": "execute_result",
          "data": {
            "text/plain": [
              "0.7139364665406973"
            ]
          },
          "metadata": {},
          "execution_count": 18
        }
      ],
      "source": [
        "# Write your code below and press Shift+Enter to execute \n",
        "x_train1, x_test1, y_train1, y_test1 = train_test_split(x_data, y_data, test_size=0.4, random_state=0)\n",
        "lre.fit(x_train1[['horsepower']],y_train1)\n",
        "lre.score(x_test1[['horsepower']],y_test1)"
      ]
    },
    {
      "cell_type": "markdown",
      "metadata": {
        "id": "VGX8tCoZ4tqI"
      },
      "source": [
        "Sometimes you do not have sufficient testing data; as a result, you may want to perform cross-validation. Let's go over several methods that you can use for cross-validation.\n"
      ]
    },
    {
      "cell_type": "markdown",
      "metadata": {
        "id": "fdPvEfGD4tqI"
      },
      "source": [
        "<h2>Cross-Validation Score</h2>\n"
      ]
    },
    {
      "cell_type": "markdown",
      "metadata": {
        "id": "r5pmPtHO4tqI"
      },
      "source": [
        "Let's import <b>model_selection</b> from the module <b>cross_val_score</b>.\n"
      ]
    },
    {
      "cell_type": "code",
      "execution_count": 19,
      "metadata": {
        "id": "lxU20Y9I4tqI"
      },
      "outputs": [],
      "source": [
        "from sklearn.model_selection import cross_val_score"
      ]
    },
    {
      "cell_type": "markdown",
      "metadata": {
        "id": "KVZQs1zE4tqI"
      },
      "source": [
        "We input the object, the feature (\"horsepower\"), and the target data (y_data). The parameter 'cv' determines the number of folds. In this case, it is 4.\n"
      ]
    },
    {
      "cell_type": "code",
      "execution_count": 20,
      "metadata": {
        "id": "6EJLptSf4tqI"
      },
      "outputs": [],
      "source": [
        "Rcross = cross_val_score(lre, x_data[['horsepower']], y_data, cv=4)"
      ]
    },
    {
      "cell_type": "markdown",
      "metadata": {
        "id": "LRHW0_Zi4tqJ"
      },
      "source": [
        "The default scoring is R^2. Each element in the array has the average R^2 value for the fold:\n"
      ]
    },
    {
      "cell_type": "code",
      "execution_count": 21,
      "metadata": {
        "colab": {
          "base_uri": "https://localhost:8080/"
        },
        "id": "EF0m_LNH4tqJ",
        "outputId": "94d9fb05-d18f-49de-c14d-d2d49e46d824"
      },
      "outputs": [
        {
          "output_type": "execute_result",
          "data": {
            "text/plain": [
              "array([0.7746232 , 0.51716687, 0.74785353, 0.04839605])"
            ]
          },
          "metadata": {},
          "execution_count": 21
        }
      ],
      "source": [
        "Rcross"
      ]
    },
    {
      "cell_type": "markdown",
      "metadata": {
        "id": "ncndqH6N4tqJ"
      },
      "source": [
        "We can calculate the average and standard deviation of our estimate:\n"
      ]
    },
    {
      "cell_type": "code",
      "execution_count": 22,
      "metadata": {
        "colab": {
          "base_uri": "https://localhost:8080/"
        },
        "id": "2Siifycq4tqJ",
        "outputId": "8a36cfcd-de34-49b6-8377-1ae5160a9524"
      },
      "outputs": [
        {
          "output_type": "stream",
          "name": "stdout",
          "text": [
            "The mean of the folds are 0.522009915042119 and the standard deviation is 0.291183944475603\n"
          ]
        }
      ],
      "source": [
        "print(\"The mean of the folds are\", Rcross.mean(), \"and the standard deviation is\" , Rcross.std())"
      ]
    },
    {
      "cell_type": "markdown",
      "metadata": {
        "id": "jipzO1S84tqJ"
      },
      "source": [
        "We can use negative squared error as a score by setting the parameter  'scoring' metric to 'neg_mean_squared_error'.\n"
      ]
    },
    {
      "cell_type": "code",
      "execution_count": 23,
      "metadata": {
        "colab": {
          "base_uri": "https://localhost:8080/"
        },
        "id": "u0WF6rCF4tqJ",
        "outputId": "8577bce5-571c-46c4-f6d1-9014f468e564"
      },
      "outputs": [
        {
          "output_type": "execute_result",
          "data": {
            "text/plain": [
              "array([20254142.84026702, 43745493.2650517 , 12539630.34014931,\n",
              "       17561927.72247591])"
            ]
          },
          "metadata": {},
          "execution_count": 23
        }
      ],
      "source": [
        "-1 * cross_val_score(lre,x_data[['horsepower']], y_data,cv=4,scoring='neg_mean_squared_error')"
      ]
    },
    {
      "cell_type": "markdown",
      "metadata": {
        "id": "ZHdUI8lo4tqJ"
      },
      "source": [
        "<div class=\"alert alert-danger alertdanger\" style=\"margin-top: 20px\">\n",
        "<h1> Question  #3): </h1>\n",
        "<b> \n",
        "Calculate the average R^2 using two folds, then find the average R^2 for the second fold utilizing the \"horsepower\" feature: \n",
        "</b>\n",
        "</div>\n"
      ]
    },
    {
      "cell_type": "code",
      "execution_count": 24,
      "metadata": {
        "colab": {
          "base_uri": "https://localhost:8080/"
        },
        "id": "BRIDRxyU4tqJ",
        "outputId": "2b70400f-f4be-4c4e-fa0d-d3a462983bea"
      },
      "outputs": [
        {
          "output_type": "execute_result",
          "data": {
            "text/plain": [
              "0.5166761697127429"
            ]
          },
          "metadata": {},
          "execution_count": 24
        }
      ],
      "source": [
        "# Write your code below and press Shift+Enter to execute \n",
        "Rc=cross_val_score(lre,x_data[['horsepower']], y_data,cv=2)\n",
        "Rc.mean()"
      ]
    },
    {
      "cell_type": "markdown",
      "metadata": {
        "id": "XTiG49Xk4tqJ"
      },
      "source": [
        "You can also use the function 'cross_val_predict' to predict the output. The function splits up the data into the specified number of folds, with one fold for testing and the other folds are used for training. First, import the function:\n"
      ]
    },
    {
      "cell_type": "code",
      "execution_count": 25,
      "metadata": {
        "id": "aHfD1nVY4tqJ"
      },
      "outputs": [],
      "source": [
        "from sklearn.model_selection import cross_val_predict"
      ]
    },
    {
      "cell_type": "markdown",
      "metadata": {
        "id": "TgPvNngF4tqK"
      },
      "source": [
        "We input the object, the feature <b>\"horsepower\"</b>, and the target data <b>y_data</b>. The parameter 'cv' determines the number of folds. In this case, it is 4. We can produce an output:\n"
      ]
    },
    {
      "cell_type": "code",
      "execution_count": 26,
      "metadata": {
        "colab": {
          "base_uri": "https://localhost:8080/"
        },
        "id": "Oj0NGkLW4tqK",
        "outputId": "263110ae-c540-4583-974c-ebf479874b09"
      },
      "outputs": [
        {
          "output_type": "execute_result",
          "data": {
            "text/plain": [
              "array([14141.63807508, 14141.63807508, 20814.29423473, 12745.03562306,\n",
              "       14762.35027598])"
            ]
          },
          "metadata": {},
          "execution_count": 26
        }
      ],
      "source": [
        "yhat = cross_val_predict(lre,x_data[['horsepower']], y_data,cv=4)\n",
        "yhat[0:5]"
      ]
    },
    {
      "cell_type": "markdown",
      "metadata": {
        "id": "HVwFC5S94tqK"
      },
      "source": [
        "<h2 id=\"ref2\">Part 2: Overfitting, Underfitting and Model Selection</h2>\n",
        "\n",
        "<p>It turns out that the test data, sometimes referred to as the \"out of sample data\", is a much better measure of how well your model performs in the real world.  One reason for this is overfitting.\n",
        "\n",
        "Let's go over some examples. It turns out these differences are more apparent in Multiple Linear Regression and Polynomial Regression so we will explore overfitting in that context.</p>\n"
      ]
    },
    {
      "cell_type": "markdown",
      "metadata": {
        "id": "TMqvjyiq4tqK"
      },
      "source": [
        "Let's create Multiple Linear Regression objects and train the model using <b>'horsepower'</b>, <b>'curb-weight'</b>, <b>'engine-size'</b> and <b>'highway-mpg'</b> as features.\n"
      ]
    },
    {
      "cell_type": "code",
      "execution_count": 27,
      "metadata": {
        "colab": {
          "base_uri": "https://localhost:8080/"
        },
        "id": "oi8TEBdx4tqK",
        "outputId": "272e7800-5047-4434-bcd2-91122f9722d4"
      },
      "outputs": [
        {
          "output_type": "execute_result",
          "data": {
            "text/plain": [
              "LinearRegression()"
            ]
          },
          "metadata": {},
          "execution_count": 27
        }
      ],
      "source": [
        "lr = LinearRegression()\n",
        "lr.fit(x_train[['horsepower', 'curb-weight', 'engine-size', 'highway-mpg']], y_train)"
      ]
    },
    {
      "cell_type": "markdown",
      "metadata": {
        "id": "rgtQqB-F4tqK"
      },
      "source": [
        "Prediction using training data:\n"
      ]
    },
    {
      "cell_type": "code",
      "execution_count": 28,
      "metadata": {
        "colab": {
          "base_uri": "https://localhost:8080/"
        },
        "id": "kIjEZY9i4tqK",
        "outputId": "6e2ca8ba-c154-4224-df44-ec3dc18ad515"
      },
      "outputs": [
        {
          "output_type": "execute_result",
          "data": {
            "text/plain": [
              "array([ 7426.6731551 , 28323.75090803, 14213.38819709,  4052.34146983,\n",
              "       34500.19124244])"
            ]
          },
          "metadata": {},
          "execution_count": 28
        }
      ],
      "source": [
        "yhat_train = lr.predict(x_train[['horsepower', 'curb-weight', 'engine-size', 'highway-mpg']])\n",
        "yhat_train[0:5]"
      ]
    },
    {
      "cell_type": "markdown",
      "metadata": {
        "id": "_ulndg-64tqK"
      },
      "source": [
        "Prediction using test data:\n"
      ]
    },
    {
      "cell_type": "code",
      "execution_count": 29,
      "metadata": {
        "colab": {
          "base_uri": "https://localhost:8080/"
        },
        "id": "u1x_K9RB4tqK",
        "outputId": "e8eacb0e-c622-4685-fc05-a4c867c8d7fe"
      },
      "outputs": [
        {
          "output_type": "execute_result",
          "data": {
            "text/plain": [
              "array([11349.35089149,  5884.11059106, 11208.6928275 ,  6641.07786278,\n",
              "       15565.79920282])"
            ]
          },
          "metadata": {},
          "execution_count": 29
        }
      ],
      "source": [
        "yhat_test = lr.predict(x_test[['horsepower', 'curb-weight', 'engine-size', 'highway-mpg']])\n",
        "yhat_test[0:5]"
      ]
    },
    {
      "cell_type": "markdown",
      "metadata": {
        "id": "lF-w-1Ep4tqK"
      },
      "source": [
        "Let's perform some model evaluation using our training and testing data separately. First, we import the seaborn and matplotlib library for plotting.\n"
      ]
    },
    {
      "cell_type": "code",
      "execution_count": 30,
      "metadata": {
        "id": "XIqcDJV64tqK"
      },
      "outputs": [],
      "source": [
        "import matplotlib.pyplot as plt\n",
        "%matplotlib inline\n",
        "import seaborn as sns"
      ]
    },
    {
      "cell_type": "markdown",
      "metadata": {
        "id": "7R0zrUlP4tqK"
      },
      "source": [
        "Let's examine the distribution of the predicted values of the training data.\n"
      ]
    },
    {
      "cell_type": "code",
      "execution_count": 31,
      "metadata": {
        "colab": {
          "base_uri": "https://localhost:8080/",
          "height": 710
        },
        "id": "l1h0XqXH4tqL",
        "outputId": "b98c4c1c-4fcf-4ddd-b54a-038f3d47d08e"
      },
      "outputs": [
        {
          "output_type": "stream",
          "name": "stderr",
          "text": [
            "/usr/local/lib/python3.7/dist-packages/seaborn/distributions.py:2619: FutureWarning: `distplot` is a deprecated function and will be removed in a future version. Please adapt your code to use either `displot` (a figure-level function with similar flexibility) or `kdeplot` (an axes-level function for kernel density plots).\n",
            "  warnings.warn(msg, FutureWarning)\n",
            "/usr/local/lib/python3.7/dist-packages/seaborn/distributions.py:2619: FutureWarning: `distplot` is a deprecated function and will be removed in a future version. Please adapt your code to use either `displot` (a figure-level function with similar flexibility) or `kdeplot` (an axes-level function for kernel density plots).\n",
            "  warnings.warn(msg, FutureWarning)\n"
          ]
        },
        {
          "output_type": "display_data",
          "data": {
            "text/plain": [
              "<Figure size 864x720 with 1 Axes>"
            ],
            "image/png": "[encoded data removed]"
          },
          "metadata": {
            "needs_background": "light"
          }
        }
      ],
      "source": [
        "Title = 'Distribution  Plot of  Predicted Value Using Training Data vs Training Data Distribution'\n",
        "DistributionPlot(y_train, yhat_train, \"Actual Values (Train)\", \"Predicted Values (Train)\", Title)"
      ]
    },
    {
      "cell_type": "markdown",
      "metadata": {
        "id": "eJmAOgnx4tqL"
      },
      "source": [
        "Figure 1: Plot of predicted values using the training data compared to the actual values of the training data.\n"
      ]
    },
    {
      "cell_type": "markdown",
      "metadata": {
        "id": "76ALVBmD4tqL"
      },
      "source": [
        "So far, the model seems to be doing well in learning from the training dataset. But what happens when the model encounters new data from the testing dataset? When the model generates new values from the test data, we see the distribution of the predicted values is much different from the actual target values.\n"
      ]
    },
    {
      "cell_type": "code",
      "execution_count": 32,
      "metadata": {
        "colab": {
          "base_uri": "https://localhost:8080/",
          "height": 710
        },
        "id": "w0iCPH7m4tqL",
        "outputId": "6677df6c-ae44-4d79-d3a0-880e47ae4dc7"
      },
      "outputs": [
        {
          "output_type": "stream",
          "name": "stderr",
          "text": [
            "/usr/local/lib/python3.7/dist-packages/seaborn/distributions.py:2619: FutureWarning: `distplot` is a deprecated function and will be removed in a future version. Please adapt your code to use either `displot` (a figure-level function with similar flexibility) or `kdeplot` (an axes-level function for kernel density plots).\n",
            "  warnings.warn(msg, FutureWarning)\n",
            "/usr/local/lib/python3.7/dist-packages/seaborn/distributions.py:2619: FutureWarning: `distplot` is a deprecated function and will be removed in a future version. Please adapt your code to use either `displot` (a figure-level function with similar flexibility) or `kdeplot` (an axes-level function for kernel density plots).\n",
            "  warnings.warn(msg, FutureWarning)\n"
          ]
        },
        {
          "output_type": "display_data",
          "data": {
            "text/plain": [
              "<Figure size 864x720 with 1 Axes>"
            ],
            "image/png": "[encoded data removed]"
          },
          "metadata": {
            "needs_background": "light"
          }
        }
      ],
      "source": [
        "Title='Distribution  Plot of  Predicted Value Using Test Data vs Data Distribution of Test Data'\n",
        "DistributionPlot(y_test,yhat_test,\"Actual Values (Test)\",\"Predicted Values (Test)\",Title)"
      ]
    },
    {
      "cell_type": "markdown",
      "metadata": {
        "id": "pchhpBjV4tqL"
      },
      "source": [
        "Figure 2: Plot of predicted value using the test data compared to the actual values of the test data.\n"
      ]
    },
    {
      "cell_type": "markdown",
      "metadata": {
        "id": "T-GSc3PT4tqL"
      },
      "source": [
        "<p>Comparing Figure 1 and Figure 2, it is evident that the distribution of the test data in Figure 1 is much better at fitting the data. This difference in Figure 2 is apparent in the range of 5000 to 15,000. This is where the shape of the distribution is extremely different. Let's see if polynomial regression also exhibits a drop in the prediction accuracy when analysing the test dataset.</p>\n"
      ]
    },
    {
      "cell_type": "code",
      "execution_count": 33,
      "metadata": {
        "id": "nhkyo_f24tqL"
      },
      "outputs": [],
      "source": [
        "from sklearn.preprocessing import PolynomialFeatures"
      ]
    },
    {
      "cell_type": "markdown",
      "metadata": {
        "id": "6OYxJDBK4tqL"
      },
      "source": [
        "<h4>Overfitting</h4>\n",
        "<p>Overfitting occurs when the model fits the noise, but not the underlying process. Therefore, when testing your model using the test set, your model does not perform as well since it is modelling noise, not the underlying process that generated the relationship. Let's create a degree 5 polynomial model.</p>\n"
      ]
    },
    {
      "cell_type": "markdown",
      "metadata": {
        "id": "sD2cz0Ul4tqL"
      },
      "source": [
        "Let's use 55 percent of the data for training and the rest for testing:\n"
      ]
    },
    {
      "cell_type": "code",
      "execution_count": 34,
      "metadata": {
        "id": "f2d16vfR4tqL"
      },
      "outputs": [],
      "source": [
        "x_train, x_test, y_train, y_test = train_test_split(x_data, y_data, test_size=0.45, random_state=0)"
      ]
    },
    {
      "cell_type": "markdown",
      "metadata": {
        "id": "RdLv1gAo4tqL"
      },
      "source": [
        "We will perform a degree 5 polynomial transformation on the feature <b>'horsepower'</b>.\n"
      ]
    },
    {
      "cell_type": "code",
      "execution_count": 35,
      "metadata": {
        "colab": {
          "base_uri": "https://localhost:8080/"
        },
        "id": "J_5GYwg04tqL",
        "outputId": "11162db2-bb9d-4cac-f963-8c2c359d5373"
      },
      "outputs": [
        {
          "output_type": "execute_result",
          "data": {
            "text/plain": [
              "PolynomialFeatures(degree=5)"
            ]
          },
          "metadata": {},
          "execution_count": 35
        }
      ],
      "source": [
        "pr = PolynomialFeatures(degree=5)\n",
        "x_train_pr = pr.fit_transform(x_train[['horsepower']])\n",
        "x_test_pr = pr.fit_transform(x_test[['horsepower']])\n",
        "pr"
      ]
    },
    {
      "cell_type": "markdown",
      "metadata": {
        "id": "sldEbfS24tqM"
      },
      "source": [
        "Now, let's create a Linear Regression model \"poly\" and train it.\n"
      ]
    },
    {
      "cell_type": "code",
      "execution_count": 36,
      "metadata": {
        "colab": {
          "base_uri": "https://localhost:8080/"
        },
        "id": "7U0K2dvx4tqM",
        "outputId": "d01a7069-2a9d-4a47-d1ff-631d1c8554c5"
      },
      "outputs": [
        {
          "output_type": "execute_result",
          "data": {
            "text/plain": [
              "LinearRegression()"
            ]
          },
          "metadata": {},
          "execution_count": 36
        }
      ],
      "source": [
        "poly = LinearRegression()\n",
        "poly.fit(x_train_pr, y_train)"
      ]
    },
    {
      "cell_type": "markdown",
      "metadata": {
        "id": "ZMJBEW034tqM"
      },
      "source": [
        "We can see the output of our model using the method \"predict.\" We assign the values to \"yhat\".\n"
      ]
    },
    {
      "cell_type": "code",
      "execution_count": 37,
      "metadata": {
        "colab": {
          "base_uri": "https://localhost:8080/"
        },
        "id": "W0e9V-ka4tqM",
        "outputId": "07a7d57a-df19-4e2b-80ca-1b92121b82db"
      },
      "outputs": [
        {
          "output_type": "execute_result",
          "data": {
            "text/plain": [
              "array([ 6728.65561887,  7307.98782321, 12213.78770965, 18893.24804015,\n",
              "       19995.95195136])"
            ]
          },
          "metadata": {},
          "execution_count": 37
        }
      ],
      "source": [
        "yhat = poly.predict(x_test_pr)\n",
        "yhat[0:5]"
      ]
    },
    {
      "cell_type": "markdown",
      "metadata": {
        "id": "W8t1xy-54tqM"
      },
      "source": [
        "Let's take the first five predicted values and compare it to the actual targets.\n"
      ]
    },
    {
      "cell_type": "code",
      "execution_count": 38,
      "metadata": {
        "colab": {
          "base_uri": "https://localhost:8080/"
        },
        "id": "fbjZm7Xh4tqM",
        "outputId": "108437f8-bfeb-42cc-a7b1-29a13189b703"
      },
      "outputs": [
        {
          "output_type": "stream",
          "name": "stdout",
          "text": [
            "Predicted values: [ 6728.65561887  7307.98782321 12213.78770965 18893.24804015]\n",
            "True values: [ 6295. 10698. 13860. 13499.]\n"
          ]
        }
      ],
      "source": [
        "print(\"Predicted values:\", yhat[0:4])\n",
        "print(\"True values:\", y_test[0:4].values)"
      ]
    },
    {
      "cell_type": "markdown",
      "metadata": {
        "id": "jFPI6tXq4tqM"
      },
      "source": [
        "We will use the function \"PollyPlot\" that we defined at the beginning of the lab to display the training data, testing data, and the predicted function.\n"
      ]
    },
    {
      "cell_type": "code",
      "execution_count": 39,
      "metadata": {
        "colab": {
          "base_uri": "https://localhost:8080/",
          "height": 595
        },
        "id": "1-FS5_Zw4tqM",
        "outputId": "ec09aef7-bcd5-4a4b-870b-79930cb0629d"
      },
      "outputs": [
        {
          "output_type": "display_data",
          "data": {
            "text/plain": [
              "<Figure size 864x720 with 1 Axes>"
            ],
            "image/png": "[encoded data removed]"
          },
          "metadata": {
            "needs_background": "light"
          }
        }
      ],
      "source": [
        "PollyPlot(x_train[['horsepower']], x_test[['horsepower']], y_train, y_test, poly,pr)"
      ]
    },
    {
      "cell_type": "markdown",
      "metadata": {
        "id": "D3nmK0W04tqM"
      },
      "source": [
        "Figure 3: A polynomial regression model where red dots represent training data, green dots represent test data, and the blue line represents the model prediction.\n"
      ]
    },
    {
      "cell_type": "markdown",
      "metadata": {
        "id": "pbs7AK7k4tqM"
      },
      "source": [
        "We see that the estimated function appears to track the data but around 200 horsepower, the function begins to diverge from the data points.\n"
      ]
    },
    {
      "cell_type": "markdown",
      "metadata": {
        "id": "fHw27gjT4tqM"
      },
      "source": [
        "R^2 of the training data:\n"
      ]
    },
    {
      "cell_type": "code",
      "execution_count": 40,
      "metadata": {
        "colab": {
          "base_uri": "https://localhost:8080/"
        },
        "id": "g-c1KICT4tqM",
        "outputId": "11381771-ff3e-47c6-fffe-016f82adf68a"
      },
      "outputs": [
        {
          "output_type": "execute_result",
          "data": {
            "text/plain": [
              "0.556771690212023"
            ]
          },
          "metadata": {},
          "execution_count": 40
        }
      ],
      "source": [
        "poly.score(x_train_pr, y_train)"
      ]
    },
    {
      "cell_type": "markdown",
      "metadata": {
        "id": "4VEt8pEA4tqN"
      },
      "source": [
        "R^2 of the test data:\n"
      ]
    },
    {
      "cell_type": "code",
      "execution_count": 41,
      "metadata": {
        "colab": {
          "base_uri": "https://localhost:8080/"
        },
        "id": "PeRJihK74tqN",
        "outputId": "57b84da9-bdb2-4aa5-e35b-0ae021c4452a"
      },
      "outputs": [
        {
          "output_type": "execute_result",
          "data": {
            "text/plain": [
              "-29.87134030204415"
            ]
          },
          "metadata": {},
          "execution_count": 41
        }
      ],
      "source": [
        "poly.score(x_test_pr, y_test)"
      ]
    },
    {
      "cell_type": "markdown",
      "metadata": {
        "id": "7q_LBSvj4tqN"
      },
      "source": [
        "We see the R^2 for the training data is 0.5567 while the R^2 on the test data was -29.87.  The lower the R^2, the worse the model. A negative R^2 is a sign of overfitting.\n"
      ]
    },
    {
      "cell_type": "markdown",
      "metadata": {
        "id": "E9dT0YOj4tqN"
      },
      "source": [
        "Let's see how the R^2 changes on the test data for different order polynomials and then plot the results:\n"
      ]
    },
    {
      "cell_type": "code",
      "execution_count": 42,
      "metadata": {
        "colab": {
          "base_uri": "https://localhost:8080/",
          "height": 312
        },
        "id": "SxNC2KWe4tqN",
        "outputId": "e5e881c9-4a09-4b58-ee02-bf95779d6ee3"
      },
      "outputs": [
        {
          "output_type": "execute_result",
          "data": {
            "text/plain": [
              "Text(3, 0.75, 'Maximum R^2 ')"
            ]
          },
          "metadata": {},
          "execution_count": 42
        },
        {
          "output_type": "display_data",
          "data": {
            "text/plain": [
              "<Figure size 432x288 with 1 Axes>"
            ],
            "image/png": "[encoded data removed]"
          },
          "metadata": {
            "needs_background": "light"
          }
        }
      ],
      "source": [
        "Rsqu_test = []\n",
        "\n",
        "order = [1, 2, 3, 4]\n",
        "for n in order:\n",
        "    pr = PolynomialFeatures(degree=n)\n",
        "    \n",
        "    x_train_pr = pr.fit_transform(x_train[['horsepower']])\n",
        "    \n",
        "    x_test_pr = pr.fit_transform(x_test[['horsepower']])    \n",
        "    \n",
        "    lr.fit(x_train_pr, y_train)\n",
        "    \n",
        "    Rsqu_test.append(lr.score(x_test_pr, y_test))\n",
        "\n",
        "plt.plot(order, Rsqu_test)\n",
        "plt.xlabel('order')\n",
        "plt.ylabel('R^2')\n",
        "plt.title('R^2 Using Test Data')\n",
        "plt.text(3, 0.75, 'Maximum R^2 ')    "
      ]
    },
    {
      "cell_type": "markdown",
      "metadata": {
        "id": "6gpUvOql4tqN"
      },
      "source": [
        "We see the R^2 gradually increases until an order three polynomial is used. Then, the R^2 dramatically decreases at an order four polynomial.\n"
      ]
    },
    {
      "cell_type": "markdown",
      "metadata": {
        "id": "yIGYygLE4tqN"
      },
      "source": [
        "The following function will be used in the next section. Please run the cell below.\n"
      ]
    },
    {
      "cell_type": "code",
      "execution_count": 43,
      "metadata": {
        "id": "Bagx3-BD4tqN"
      },
      "outputs": [],
      "source": [
        "def f(order, test_data):\n",
        "    x_train, x_test, y_train, y_test = train_test_split(x_data, y_data, test_size=test_data, random_state=0)\n",
        "    pr = PolynomialFeatures(degree=order)\n",
        "    x_train_pr = pr.fit_transform(x_train[['horsepower']])\n",
        "    x_test_pr = pr.fit_transform(x_test[['horsepower']])\n",
        "    poly = LinearRegression()\n",
        "    poly.fit(x_train_pr,y_train)\n",
        "    PollyPlot(x_train[['horsepower']], x_test[['horsepower']], y_train,y_test, poly, pr)"
      ]
    },
    {
      "cell_type": "markdown",
      "metadata": {
        "id": "TkLHUBFS4tqN"
      },
      "source": [
        "The following interface allows you to experiment with different polynomial orders and different amounts of data.\n"
      ]
    },
    {
      "cell_type": "code",
      "execution_count": 44,
      "metadata": {
        "colab": {
          "base_uri": "https://localhost:8080/",
          "height": 676,
          "referenced_widgets": [
            "19e511324edb42b1b3e54167a09d8c69",
            "230b91384f004c628f34c821958111b4",
            "6f72f9312cca45829e7c03bd541e8925",
            "a75123e862b84ae2bb60ffdea94a961e",
            "742f9821f39842faa17226967138c821",
            "4d4877ea2a764f5db24e09df3dc7d525",
            "228f7f7536714b0bb531df60006f1986",
            "abdf92eae3fd408fad0ad0ec2ecd59df",
            "cf04d7578a0d4bf38b38538bccdf94c3",
            "070842799fdc4fc5b60a6c49f2b572a4"
          ]
        },
        "id": "8BcN89Cb4tqN",
        "outputId": "2b28eed5-4a3b-4914-8e53-81afbe7e684f"
      },
      "outputs": [
        {
          "output_type": "display_data",
          "data": {
            "text/plain": [
              "interactive(children=(IntSlider(value=3, description='order', max=6), FloatSlider(value=0.45, description='tes…"
            ],
            "application/vnd.jupyter.widget-view+json": {
              "version_major": 2,
              "version_minor": 0,
              "model_id": "19e511324edb42b1b3e54167a09d8c69"
            }
          },
          "metadata": {}
        },
        {
          "output_type": "execute_result",
          "data": {
            "text/plain": [
              "<function __main__.f(order, test_data)>"
            ]
          },
          "metadata": {},
          "execution_count": 44
        }
      ],
      "source": [
        "interact(f, order=(0, 6, 1), test_data=(0.05, 0.95, 0.05))"
      ]
    },
    {
      "cell_type": "markdown",
      "metadata": {
        "id": "ikc108pk4tqN"
      },
      "source": [
        "<div class=\"alert alert-danger alertdanger\" style=\"margin-top: 20px\">\n",
        "<h1> Question  #4a):</h1>\n",
        "\n",
        "<b>We can perform polynomial transformations with more than one feature. Create a \"PolynomialFeatures\" object \"pr1\" of degree two.</b>\n",
        "\n",
        "</div>\n"
      ]
    },
    {
      "cell_type": "code",
      "execution_count": 45,
      "metadata": {
        "id": "5sHjXpeH4tqN"
      },
      "outputs": [],
      "source": [
        "# Write your code below and press Shift+Enter to execute \n",
        "pr1=PolynomialFeatures(degree=2)"
      ]
    },
    {
      "cell_type": "markdown",
      "metadata": {
        "id": "Ipj-q5mE4tqO"
      },
      "source": [
        "<div class=\"alert alert-danger alertdanger\" style=\"margin-top: 20px\">\n",
        "<h1> Question  #4b): </h1>\n",
        "\n",
        "<b> \n",
        " Transform the training and testing samples for the features 'horsepower', 'curb-weight', 'engine-size' and 'highway-mpg'. Hint: use the method \"fit_transform\".</b>\n",
        "</div>\n"
      ]
    },
    {
      "cell_type": "code",
      "execution_count": 46,
      "metadata": {
        "id": "lrBS5aQx4tqO"
      },
      "outputs": [],
      "source": [
        "# Write your code below and press Shift+Enter to execute \n",
        "x_train_pr1=pr1.fit_transform(x_train[['horsepower', 'curb-weight', 'engine-size', 'highway-mpg']])\n",
        "\n",
        "x_test_pr1=pr1.fit_transform(x_test[['horsepower', 'curb-weight', 'engine-size', 'highway-mpg']])"
      ]
    },
    {
      "cell_type": "markdown",
      "metadata": {
        "id": "nKzcduwz4tqO"
      },
      "source": [
        "<!-- The answer is below:\n",
        "\n",
        "x_train_pr1=pr.fit_transform(x_train[['horsepower', 'curb-weight', 'engine-size', 'highway-mpg']])\n",
        "x_test_pr1=pr.fit_transform(x_test[['horsepower', 'curb-weight', 'engine-size', 'highway-mpg']])\n",
        "\n",
        "-->\n"
      ]
    },
    {
      "cell_type": "markdown",
      "metadata": {
        "id": "wlZQ6EUv4tqO"
      },
      "source": [
        "<div class=\"alert alert-danger alertdanger\" style=\"margin-top: 20px\">\n",
        "<h1> Question  #4c): </h1>\n",
        "<b> \n",
        "How many dimensions does the new feature have? Hint: use the attribute \"shape\".\n",
        "</b>\n",
        "</div>\n"
      ]
    },
    {
      "cell_type": "code",
      "execution_count": 47,
      "metadata": {
        "colab": {
          "base_uri": "https://localhost:8080/"
        },
        "id": "t3twQm9A4tqO",
        "outputId": "60d15d80-e865-4622-d580-567def3d5c51"
      },
      "outputs": [
        {
          "output_type": "execute_result",
          "data": {
            "text/plain": [
              "(110, 15)"
            ]
          },
          "metadata": {},
          "execution_count": 47
        }
      ],
      "source": [
        "# Write your code below and press Shift+Enter to execute \n",
        "x_train_pr1.shape #there are now 15 features"
      ]
    },
    {
      "cell_type": "markdown",
      "metadata": {
        "id": "kA-Pwfw84tqO"
      },
      "source": [
        "<div class=\"alert alert-danger alertdanger\" style=\"margin-top: 20px\">\n",
        "<h1> Question  #4d): </h1>\n",
        "\n",
        "<b> \n",
        "Create a linear regression model \"poly1\". Train the object using the method \"fit\" using the polynomial features.</b>\n",
        "</div>\n"
      ]
    },
    {
      "cell_type": "code",
      "execution_count": 48,
      "metadata": {
        "id": "oFUTtMO84tqO"
      },
      "outputs": [],
      "source": [
        "# Write your code below and press Shift+Enter to execute \n",
        "poly1=LinearRegression().fit(x_train_pr1,y_train)"
      ]
    },
    {
      "cell_type": "markdown",
      "metadata": {
        "id": "SaVAV08W4tqO"
      },
      "source": [
        " <div class=\"alert alert-danger alertdanger\" style=\"margin-top: 20px\">\n",
        "<h1> Question  #4e): </h1>\n",
        "<b>Use the method  \"predict\" to predict an output on the polynomial features, then use the function \"DistributionPlot\" to display the distribution of the predicted test output vs. the actual test data.</b>\n",
        "</div>\n"
      ]
    },
    {
      "cell_type": "code",
      "execution_count": 49,
      "metadata": {
        "colab": {
          "base_uri": "https://localhost:8080/",
          "height": 710
        },
        "id": "064cuTZt4tqP",
        "outputId": "ea7c9822-4381-4ba4-f4c9-875a71da3bcd"
      },
      "outputs": [
        {
          "output_type": "stream",
          "name": "stderr",
          "text": [
            "/usr/local/lib/python3.7/dist-packages/seaborn/distributions.py:2619: FutureWarning: `distplot` is a deprecated function and will be removed in a future version. Please adapt your code to use either `displot` (a figure-level function with similar flexibility) or `kdeplot` (an axes-level function for kernel density plots).\n",
            "  warnings.warn(msg, FutureWarning)\n",
            "/usr/local/lib/python3.7/dist-packages/seaborn/distributions.py:2619: FutureWarning: `distplot` is a deprecated function and will be removed in a future version. Please adapt your code to use either `displot` (a figure-level function with similar flexibility) or `kdeplot` (an axes-level function for kernel density plots).\n",
            "  warnings.warn(msg, FutureWarning)\n"
          ]
        },
        {
          "output_type": "display_data",
          "data": {
            "text/plain": [
              "<Figure size 864x720 with 1 Axes>"
            ],
            "image/png": "[encoded data removed]"
          },
          "metadata": {
            "needs_background": "light"
          }
        }
      ],
      "source": [
        "# Write your code below and press Shift+Enter to execute \n",
        "yhat_test1=poly1.predict(x_test_pr1)\n",
        "\n",
        "Title='Distribution  Plot of  Predicted Value Using Test Data vs Data Distribution of Test Data'\n",
        "\n",
        "DistributionPlot(y_test, yhat_test1, \"Actual Values (Test)\", \"Predicted Values (Test)\", Title)"
      ]
    },
    {
      "cell_type": "markdown",
      "metadata": {
        "id": "QGsUfyJe4tqP"
      },
      "source": [
        "<div class=\"alert alert-danger alertdanger\" style=\"margin-top: 20px\">\n",
        "<h1> Question  #4f): </h1>\n",
        "\n",
        "<b>Using the distribution plot above, describe (in words) the two regions where the predicted prices are less accurate than the actual prices.</b>\n",
        "\n",
        "</div>\n"
      ]
    },
    {
      "cell_type": "code",
      "execution_count": null,
      "metadata": {
        "id": "Ji4cngY-4tqP"
      },
      "outputs": [],
      "source": [
        "# Write your code below and press Shift+Enter to execute \n"
      ]
    },
    {
      "cell_type": "markdown",
      "source": [
        "* El valor pronosticado es más alto que el valor real para automóviles en los que el rango de precio es de \\$10 000; por el contrario, el precio pronosticado es más bajo que el costo del precio en el rango de \\$30 000 a \\$40 000. Como tal, el modelo no es tan preciso en estos rangos."
      ],
      "metadata": {
        "id": "T56YA8fj6Oms"
      }
    },
    {
      "cell_type": "markdown",
      "metadata": {
        "id": "hR8iX8f64tqP"
      },
      "source": [
        "<h2 id=\"ref3\">Part 3: Ridge Regression</h2> \n"
      ]
    },
    {
      "cell_type": "markdown",
      "metadata": {
        "id": "jh1jId7K4tqP"
      },
      "source": [
        "In this section, we will review Ridge Regression and see how the parameter alpha changes the model. Just a note, here our test data will be used as validation data.\n"
      ]
    },
    {
      "cell_type": "markdown",
      "metadata": {
        "id": "jMlJezS34tqP"
      },
      "source": [
        "Let's perform a degree two polynomial transformation on our data.\n"
      ]
    },
    {
      "cell_type": "code",
      "execution_count": 50,
      "metadata": {
        "id": "B61Jfb2X4tqP"
      },
      "outputs": [],
      "source": [
        "pr=PolynomialFeatures(degree=2)\n",
        "x_train_pr=pr.fit_transform(x_train[['horsepower', 'curb-weight', 'engine-size', 'highway-mpg','normalized-losses','symboling']])\n",
        "x_test_pr=pr.fit_transform(x_test[['horsepower', 'curb-weight', 'engine-size', 'highway-mpg','normalized-losses','symboling']])"
      ]
    },
    {
      "cell_type": "markdown",
      "metadata": {
        "id": "IDkSpLx14tqP"
      },
      "source": [
        "Let's import  <b>Ridge</b>  from the module <b>linear models</b>.\n"
      ]
    },
    {
      "cell_type": "code",
      "execution_count": 51,
      "metadata": {
        "id": "1w_jS7gN4tqP"
      },
      "outputs": [],
      "source": [
        "from sklearn.linear_model import Ridge"
      ]
    },
    {
      "cell_type": "markdown",
      "metadata": {
        "id": "9r6OJMX14tqP"
      },
      "source": [
        "Let's create a Ridge regression object, setting the regularization parameter (alpha) to 0.1\n"
      ]
    },
    {
      "cell_type": "code",
      "execution_count": 52,
      "metadata": {
        "id": "c2uvNL1S4tqP"
      },
      "outputs": [],
      "source": [
        "RigeModel=Ridge(alpha=1)"
      ]
    },
    {
      "cell_type": "markdown",
      "metadata": {
        "id": "Mfuv-FpZ4tqQ"
      },
      "source": [
        "Like regular regression, you can fit the model using the method <b>fit</b>.\n"
      ]
    },
    {
      "cell_type": "code",
      "execution_count": 53,
      "metadata": {
        "colab": {
          "base_uri": "https://localhost:8080/"
        },
        "id": "5Y8qyQiR4tqQ",
        "outputId": "4c33ce2c-38cb-43d1-eec6-8404b5f34616"
      },
      "outputs": [
        {
          "output_type": "execute_result",
          "data": {
            "text/plain": [
              "Ridge(alpha=1)"
            ]
          },
          "metadata": {},
          "execution_count": 53
        }
      ],
      "source": [
        "RigeModel.fit(x_train_pr, y_train)"
      ]
    },
    {
      "cell_type": "markdown",
      "metadata": {
        "id": "tEO3loz94tqQ"
      },
      "source": [
        "Similarly, you can obtain a prediction:\n"
      ]
    },
    {
      "cell_type": "code",
      "execution_count": 54,
      "metadata": {
        "id": "2kekyADu4tqQ"
      },
      "outputs": [],
      "source": [
        "yhat = RigeModel.predict(x_test_pr)"
      ]
    },
    {
      "cell_type": "markdown",
      "metadata": {
        "id": "hPrhHmXQ4tqQ"
      },
      "source": [
        "Let's compare the first five predicted samples to our test set:\n"
      ]
    },
    {
      "cell_type": "code",
      "execution_count": 55,
      "metadata": {
        "colab": {
          "base_uri": "https://localhost:8080/"
        },
        "id": "CeeqcOQI4tqQ",
        "outputId": "d66d167f-83bf-4254-8e69-8d69148348c5"
      },
      "outputs": [
        {
          "output_type": "stream",
          "name": "stdout",
          "text": [
            "predicted: [ 6570.82441941  9636.2489147  20949.92322737 19403.60313256]\n",
            "test set : [ 6295. 10698. 13860. 13499.]\n"
          ]
        }
      ],
      "source": [
        "print('predicted:', yhat[0:4])\n",
        "print('test set :', y_test[0:4].values)"
      ]
    },
    {
      "cell_type": "markdown",
      "metadata": {
        "id": "hGAV3B654tqQ"
      },
      "source": [
        "We select the value of alpha that minimizes the test error. To do so, we can use a for loop. We have also created a progress bar to see how many iterations we have completed so far.\n"
      ]
    },
    {
      "cell_type": "code",
      "execution_count": 56,
      "metadata": {
        "colab": {
          "base_uri": "https://localhost:8080/"
        },
        "id": "HAx5GjBQ4tqQ",
        "outputId": "d452d38b-0b86-4aa3-fa55-fab915152038"
      },
      "outputs": [
        {
          "output_type": "stream",
          "name": "stderr",
          "text": [
            "100%|██████████| 1000/1000 [00:11<00:00, 83.93it/s, Test Score=0.564, Train Score=0.859]\n"
          ]
        }
      ],
      "source": [
        "from tqdm import tqdm\n",
        "\n",
        "Rsqu_test = []\n",
        "Rsqu_train = []\n",
        "dummy1 = []\n",
        "Alpha = 10 * np.array(range(0,1000))\n",
        "pbar = tqdm(Alpha)\n",
        "\n",
        "for alpha in pbar:\n",
        "    RigeModel = Ridge(alpha=alpha) \n",
        "    RigeModel.fit(x_train_pr, y_train)\n",
        "    test_score, train_score = RigeModel.score(x_test_pr, y_test), RigeModel.score(x_train_pr, y_train)\n",
        "    \n",
        "    pbar.set_postfix({\"Test Score\": test_score, \"Train Score\": train_score})\n",
        "\n",
        "    Rsqu_test.append(test_score)\n",
        "    Rsqu_train.append(train_score)"
      ]
    },
    {
      "cell_type": "markdown",
      "metadata": {
        "id": "QYnlhRRI4tqQ"
      },
      "source": [
        "We can plot out the value of R^2 for different alphas:\n"
      ]
    },
    {
      "cell_type": "code",
      "execution_count": 57,
      "metadata": {
        "colab": {
          "base_uri": "https://localhost:8080/",
          "height": 623
        },
        "id": "37wwXudH4tqQ",
        "outputId": "37bc4964-8235-4c6d-954e-f176ccdfe92e"
      },
      "outputs": [
        {
          "output_type": "execute_result",
          "data": {
            "text/plain": [
              "<matplotlib.legend.Legend at 0x7fe352b23f90>"
            ]
          },
          "metadata": {},
          "execution_count": 57
        },
        {
          "output_type": "display_data",
          "data": {
            "text/plain": [
              "<Figure size 864x720 with 1 Axes>"
            ],
            "image/png": "[encoded data removed]"
          },
          "metadata": {
            "needs_background": "light"
          }
        }
      ],
      "source": [
        "width = 12\n",
        "height = 10\n",
        "plt.figure(figsize=(width, height))\n",
        "\n",
        "plt.plot(Alpha,Rsqu_test, label='validation data  ')\n",
        "plt.plot(Alpha,Rsqu_train, 'r', label='training Data ')\n",
        "plt.xlabel('alpha')\n",
        "plt.ylabel('R^2')\n",
        "plt.legend()"
      ]
    },
    {
      "cell_type": "markdown",
      "metadata": {
        "id": "zF7OTfBH4tqQ"
      },
      "source": [
        "**Figure 4**: The blue line represents the R^2 of the validation data, and the red line represents the R^2 of the training data. The x-axis represents the different values of Alpha.\n"
      ]
    },
    {
      "cell_type": "markdown",
      "metadata": {
        "id": "Ll93Mnqn4tqQ"
      },
      "source": [
        "Here the model is built and tested on the same data, so the training and test data are the same.\n",
        "\n",
        "The red line in Figure 4 represents the R^2 of the training data. As alpha increases the R^2 decreases. Therefore, as alpha increases, the model performs worse on the training data\n",
        "\n",
        "The blue line represents the R^2 on the validation data. As the value for alpha increases, the R^2 increases and converges at a point.\n"
      ]
    },
    {
      "cell_type": "markdown",
      "metadata": {
        "id": "wPfQvA9_4tqQ"
      },
      "source": [
        "<div class=\"alert alert-danger alertdanger\" style=\"margin-top: 20px\">\n",
        "<h1> Question  #5): </h1>\n",
        "\n",
        "Perform Ridge regression. Calculate the R^2 using the polynomial features, use the training data to train the model and use the test data to test the model. The parameter alpha should be set to 10.\n",
        "\n",
        "</div>\n"
      ]
    },
    {
      "cell_type": "code",
      "execution_count": 58,
      "metadata": {
        "colab": {
          "base_uri": "https://localhost:8080/"
        },
        "id": "GCRrpz0w4tqR",
        "outputId": "09ec0211-2fd7-4a23-ae0d-0eba048f9f8c"
      },
      "outputs": [
        {
          "output_type": "execute_result",
          "data": {
            "text/plain": [
              "0.5418576440206702"
            ]
          },
          "metadata": {},
          "execution_count": 58
        }
      ],
      "source": [
        "# Write your code below and press Shift+Enter to execute \n",
        "RigeModel = Ridge(alpha=10) \n",
        "RigeModel.fit(x_train_pr, y_train)\n",
        "RigeModel.score(x_test_pr, y_test)"
      ]
    },
    {
      "cell_type": "markdown",
      "metadata": {
        "id": "jb3fpaxF4tqR"
      },
      "source": [
        "<h2 id=\"ref4\">Part 4: Grid Search</h2>\n"
      ]
    },
    {
      "cell_type": "markdown",
      "metadata": {
        "id": "JYJkmvHY4tqR"
      },
      "source": [
        "The term alpha is a hyperparameter. Sklearn has the class <b>GridSearchCV</b> to make the process of finding the best hyperparameter simpler.\n"
      ]
    },
    {
      "cell_type": "markdown",
      "metadata": {
        "id": "6DsSth7u4tqR"
      },
      "source": [
        "Let's import <b>GridSearchCV</b> from  the module <b>model_selection</b>.\n"
      ]
    },
    {
      "cell_type": "code",
      "execution_count": 59,
      "metadata": {
        "id": "FhfjUW994tqR"
      },
      "outputs": [],
      "source": [
        "from sklearn.model_selection import GridSearchCV"
      ]
    },
    {
      "cell_type": "markdown",
      "metadata": {
        "id": "eyVQRHZ24tqR"
      },
      "source": [
        "We create a dictionary of parameter values:\n"
      ]
    },
    {
      "cell_type": "code",
      "execution_count": 60,
      "metadata": {
        "colab": {
          "base_uri": "https://localhost:8080/"
        },
        "id": "urD_QEgH4tqR",
        "outputId": "c658dfc7-b573-426a-d18e-3a1e4b46b57b"
      },
      "outputs": [
        {
          "output_type": "execute_result",
          "data": {
            "text/plain": [
              "[{'alpha': [0.001, 0.1, 1, 10, 100, 1000, 10000, 100000, 100000]}]"
            ]
          },
          "metadata": {},
          "execution_count": 60
        }
      ],
      "source": [
        "parameters1= [{'alpha': [0.001,0.1,1, 10, 100, 1000, 10000, 100000, 100000]}]\n",
        "parameters1"
      ]
    },
    {
      "cell_type": "markdown",
      "metadata": {
        "id": "mB_22FZv4tqR"
      },
      "source": [
        "Create a Ridge regression object:\n"
      ]
    },
    {
      "cell_type": "code",
      "execution_count": 61,
      "metadata": {
        "colab": {
          "base_uri": "https://localhost:8080/"
        },
        "id": "tWRx9-fM4tqR",
        "outputId": "74ebd35b-3653-4f3f-e078-bf5cae45fd5a"
      },
      "outputs": [
        {
          "output_type": "execute_result",
          "data": {
            "text/plain": [
              "Ridge()"
            ]
          },
          "metadata": {},
          "execution_count": 61
        }
      ],
      "source": [
        "RR=Ridge()\n",
        "RR"
      ]
    },
    {
      "cell_type": "markdown",
      "metadata": {
        "id": "fCgec6rs4tqR"
      },
      "source": [
        "Create a ridge grid search object:\n"
      ]
    },
    {
      "cell_type": "code",
      "execution_count": 62,
      "metadata": {
        "id": "3ClBTMR14tqR"
      },
      "outputs": [],
      "source": [
        "Grid1 = GridSearchCV(RR, parameters1,cv=4)"
      ]
    },
    {
      "cell_type": "markdown",
      "metadata": {
        "id": "O719RLvI4tqS"
      },
      "source": [
        "Fit the model:\n"
      ]
    },
    {
      "cell_type": "code",
      "execution_count": 63,
      "metadata": {
        "colab": {
          "base_uri": "https://localhost:8080/"
        },
        "id": "LVrHOUuv4tqS",
        "outputId": "a330e884-7ed3-4784-8865-7b3ae9b41d0f"
      },
      "outputs": [
        {
          "output_type": "execute_result",
          "data": {
            "text/plain": [
              "GridSearchCV(cv=4, estimator=Ridge(),\n",
              "             param_grid=[{'alpha': [0.001, 0.1, 1, 10, 100, 1000, 10000, 100000,\n",
              "                                    100000]}])"
            ]
          },
          "metadata": {},
          "execution_count": 63
        }
      ],
      "source": [
        "Grid1.fit(x_data[['horsepower', 'curb-weight', 'engine-size', 'highway-mpg']], y_data)"
      ]
    },
    {
      "cell_type": "markdown",
      "metadata": {
        "id": "nG-4uS1l4tqS"
      },
      "source": [
        "The object finds the best parameter values on the validation data. We can obtain the estimator with the best parameters and assign it to the variable BestRR as follows:\n"
      ]
    },
    {
      "cell_type": "code",
      "execution_count": 64,
      "metadata": {
        "colab": {
          "base_uri": "https://localhost:8080/"
        },
        "id": "5Fsdrr534tqS",
        "outputId": "ef995c70-58b8-471c-c833-97aa83cc696a"
      },
      "outputs": [
        {
          "output_type": "execute_result",
          "data": {
            "text/plain": [
              "Ridge(alpha=10000)"
            ]
          },
          "metadata": {},
          "execution_count": 64
        }
      ],
      "source": [
        "BestRR=Grid1.best_estimator_\n",
        "BestRR"
      ]
    },
    {
      "cell_type": "markdown",
      "metadata": {
        "id": "70QLL8lW4tqS"
      },
      "source": [
        "We now test our model on the test data:\n"
      ]
    },
    {
      "cell_type": "code",
      "execution_count": 65,
      "metadata": {
        "colab": {
          "base_uri": "https://localhost:8080/"
        },
        "id": "CuF9VUYe4tqS",
        "outputId": "f228fb99-f8e4-46a7-d282-05f75b762d85"
      },
      "outputs": [
        {
          "output_type": "execute_result",
          "data": {
            "text/plain": [
              "0.8411649831036151"
            ]
          },
          "metadata": {},
          "execution_count": 65
        }
      ],
      "source": [
        "BestRR.score(x_test[['horsepower', 'curb-weight', 'engine-size', 'highway-mpg']], y_test)"
      ]
    },
    {
      "cell_type": "markdown",
      "source": [
        "![image.png](data:image/png;base64,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)"
      ],
      "metadata": {
        "id": "TdiONvt39BG7"
      }
    },
    {
      "cell_type": "markdown",
      "source": [
        "![image.png](data:image/png;base64,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)"
      ],
      "metadata": {
        "id": "tZjUuQbk94Ph"
      }
    }
  ],
  "metadata": {
    "anaconda-cloud": {},
    "kernelspec": {
      "display_name": "Python 3",
      "language": "python",
      "name": "python3"
    },
    "language_info": {
      "codemirror_mode": {
        "name": "ipython",
        "version": 3
      },
      "file_extension": ".py",
      "mimetype": "text/x-python",
      "name": "python",
      "nbconvert_exporter": "python",
      "pygments_lexer": "ipython3",
      "version": "3.7.6"
    },
    "metadata": {
      "interpreter": {
        "hash": "ac2eaa0ea0ebeafcc7822e65e46aa9d4f966f30b695406963e145ea4a91cd4fc"
      }
    },
    "colab": {
      "provenance": [],
      "include_colab_link": true
    },
    "widgets": {
      "application/vnd.jupyter.widget-state+json": {
        "19e511324edb42b1b3e54167a09d8c69": {
          "model_module": "@jupyter-widgets/controls",
          "model_name": "VBoxModel",
          "model_module_version": "1.5.0",
          "state": {
            "_dom_classes": [
              "widget-interact"
            ],
            "_model_module": "@jupyter-widgets/controls",
            "_model_module_version": "1.5.0",
            "_model_name": "VBoxModel",
            "_view_count": null,
            "_view_module": "@jupyter-widgets/controls",
            "_view_module_version": "1.5.0",
            "_view_name": "VBoxView",
            "box_style": "",
            "children": [
              "IPY_MODEL_230b91384f004c628f34c821958111b4",
              "IPY_MODEL_6f72f9312cca45829e7c03bd541e8925",
              "IPY_MODEL_a75123e862b84ae2bb60ffdea94a961e"
            ],
            "layout": "IPY_MODEL_742f9821f39842faa17226967138c821"
          }
        },
        "230b91384f004c628f34c821958111b4": {
          "model_module": "@jupyter-widgets/controls",
          "model_name": "IntSliderModel",
          "model_module_version": "1.5.0",
          "state": {
            "_dom_classes": [],
            "_model_module": "@jupyter-widgets/controls",
            "_model_module_version": "1.5.0",
            "_model_name": "IntSliderModel",
            "_view_count": null,
            "_view_module": "@jupyter-widgets/controls",
            "_view_module_version": "1.5.0",
            "_view_name": "IntSliderView",
            "continuous_update": true,
            "description": "order",
            "description_tooltip": null,
            "disabled": false,
            "layout": "IPY_MODEL_4d4877ea2a764f5db24e09df3dc7d525",
            "max": 6,
            "min": 0,
            "orientation": "horizontal",
            "readout": true,
            "readout_format": "d",
            "step": 1,
            "style": "IPY_MODEL_228f7f7536714b0bb531df60006f1986",
            "value": 4
          }
        },
        "6f72f9312cca45829e7c03bd541e8925": {
          "model_module": "@jupyter-widgets/controls",
          "model_name": "FloatSliderModel",
          "model_module_version": "1.5.0",
          "state": {
            "_dom_classes": [],
            "_model_module": "@jupyter-widgets/controls",
            "_model_module_version": "1.5.0",
            "_model_name": "FloatSliderModel",
            "_view_count": null,
            "_view_module": "@jupyter-widgets/controls",
            "_view_module_version": "1.5.0",
            "_view_name": "FloatSliderView",
            "continuous_update": true,
            "description": "test_data",
            "description_tooltip": null,
            "disabled": false,
            "layout": "IPY_MODEL_abdf92eae3fd408fad0ad0ec2ecd59df",
            "max": 0.95,
            "min": 0.05,
            "orientation": "horizontal",
            "readout": true,
            "readout_format": ".2f",
            "step": 0.05,
            "style": "IPY_MODEL_cf04d7578a0d4bf38b38538bccdf94c3",
            "value": 0.2
          }
        },
        "a75123e862b84ae2bb60ffdea94a961e": {
          "model_module": "@jupyter-widgets/output",
          "model_name": "OutputModel",
          "model_module_version": "1.0.0",
          "state": {
            "_dom_classes": [],
            "_model_module": "@jupyter-widgets/output",
            "_model_module_version": "1.0.0",
            "_model_name": "OutputModel",
            "_view_count": null,
            "_view_module": "@jupyter-widgets/output",
            "_view_module_version": "1.0.0",
            "_view_name": "OutputView",
            "layout": "IPY_MODEL_070842799fdc4fc5b60a6c49f2b572a4",
            "msg_id": "",
            "outputs": [
              {
                "output_type": "display_data",
                "data": {
                  "text/plain": "<Figure size 864x720 with 1 Axes>",
                  "image/png": "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\n"
                },
                "metadata": {
                  "needs_background": "light"
                }
              }
            ]
          }
        },
        "742f9821f39842faa17226967138c821": {
          "model_module": "@jupyter-widgets/base",
          "model_name": "LayoutModel",
          "model_module_version": "1.2.0",
          "state": {
            "_model_module": "@jupyter-widgets/base",
            "_model_module_version": "1.2.0",
            "_model_name": "LayoutModel",
            "_view_count": null,
            "_view_module": "@jupyter-widgets/base",
            "_view_module_version": "1.2.0",
            "_view_name": "LayoutView",
            "align_content": null,
            "align_items": null,
            "align_self": null,
            "border": null,
            "bottom": null,
            "display": null,
            "flex": null,
            "flex_flow": null,
            "grid_area": null,
            "grid_auto_columns": null,
            "grid_auto_flow": null,
            "grid_auto_rows": null,
            "grid_column": null,
            "grid_gap": null,
            "grid_row": null,
            "grid_template_areas": null,
            "grid_template_columns": null,
            "grid_template_rows": null,
            "height": null,
            "justify_content": null,
            "justify_items": null,
            "left": null,
            "margin": null,
            "max_height": null,
            "max_width": null,
            "min_height": null,
            "min_width": null,
            "object_fit": null,
            "object_position": null,
            "order": null,
            "overflow": null,
            "overflow_x": null,
            "overflow_y": null,
            "padding": null,
            "right": null,
            "top": null,
            "visibility": null,
            "width": null
          }
        },
        "4d4877ea2a764f5db24e09df3dc7d525": {
          "model_module": "@jupyter-widgets/base",
          "model_name": "LayoutModel",
          "model_module_version": "1.2.0",
          "state": {
            "_model_module": "@jupyter-widgets/base",
            "_model_module_version": "1.2.0",
            "_model_name": "LayoutModel",
            "_view_count": null,
            "_view_module": "@jupyter-widgets/base",
            "_view_module_version": "1.2.0",
            "_view_name": "LayoutView",
            "align_content": null,
            "align_items": null,
            "align_self": null,
            "border": null,
            "bottom": null,
            "display": null,
            "flex": null,
            "flex_flow": null,
            "grid_area": null,
            "grid_auto_columns": null,
            "grid_auto_flow": null,
            "grid_auto_rows": null,
            "grid_column": null,
            "grid_gap": null,
            "grid_row": null,
            "grid_template_areas": null,
            "grid_template_columns": null,
            "grid_template_rows": null,
            "height": null,
            "justify_content": null,
            "justify_items": null,
            "left": null,
            "margin": null,
            "max_height": null,
            "max_width": null,
            "min_height": null,
            "min_width": null,
            "object_fit": null,
            "object_position": null,
            "order": null,
            "overflow": null,
            "overflow_x": null,
            "overflow_y": null,
            "padding": null,
            "right": null,
            "top": null,
            "visibility": null,
            "width": null
          }
        },
        "228f7f7536714b0bb531df60006f1986": {
          "model_module": "@jupyter-widgets/controls",
          "model_name": "SliderStyleModel",
          "model_module_version": "1.5.0",
          "state": {
            "_model_module": "@jupyter-widgets/controls",
            "_model_module_version": "1.5.0",
            "_model_name": "SliderStyleModel",
            "_view_count": null,
            "_view_module": "@jupyter-widgets/base",
            "_view_module_version": "1.2.0",
            "_view_name": "StyleView",
            "description_width": "",
            "handle_color": null
          }
        },
        "abdf92eae3fd408fad0ad0ec2ecd59df": {
          "model_module": "@jupyter-widgets/base",
          "model_name": "LayoutModel",
          "model_module_version": "1.2.0",
          "state": {
            "_model_module": "@jupyter-widgets/base",
            "_model_module_version": "1.2.0",
            "_model_name": "LayoutModel",
            "_view_count": null,
            "_view_module": "@jupyter-widgets/base",
            "_view_module_version": "1.2.0",
            "_view_name": "LayoutView",
            "align_content": null,
            "align_items": null,
            "align_self": null,
            "border": null,
            "bottom": null,
            "display": null,
            "flex": null,
            "flex_flow": null,
            "grid_area": null,
            "grid_auto_columns": null,
            "grid_auto_flow": null,
            "grid_auto_rows": null,
            "grid_column": null,
            "grid_gap": null,
            "grid_row": null,
            "grid_template_areas": null,
            "grid_template_columns": null,
            "grid_template_rows": null,
            "height": null,
            "justify_content": null,
            "justify_items": null,
            "left": null,
            "margin": null,
            "max_height": null,
            "max_width": null,
            "min_height": null,
            "min_width": null,
            "object_fit": null,
            "object_position": null,
            "order": null,
            "overflow": null,
            "overflow_x": null,
            "overflow_y": null,
            "padding": null,
            "right": null,
            "top": null,
            "visibility": null,
            "width": null
          }
        },
        "cf04d7578a0d4bf38b38538bccdf94c3": {
          "model_module": "@jupyter-widgets/controls",
          "model_name": "SliderStyleModel",
          "model_module_version": "1.5.0",
          "state": {
            "_model_module": "@jupyter-widgets/controls",
            "_model_module_version": "1.5.0",
            "_model_name": "SliderStyleModel",
            "_view_count": null,
            "_view_module": "@jupyter-widgets/base",
            "_view_module_version": "1.2.0",
            "_view_name": "StyleView",
            "description_width": "",
            "handle_color": null
          }
        },
        "070842799fdc4fc5b60a6c49f2b572a4": {
          "model_module": "@jupyter-widgets/base",
          "model_name": "LayoutModel",
          "model_module_version": "1.2.0",
          "state": {
            "_model_module": "@jupyter-widgets/base",
            "_model_module_version": "1.2.0",
            "_model_name": "LayoutModel",
            "_view_count": null,
            "_view_module": "@jupyter-widgets/base",
            "_view_module_version": "1.2.0",
            "_view_name": "LayoutView",
            "align_content": null,
            "align_items": null,
            "align_self": null,
            "border": null,
            "bottom": null,
            "display": null,
            "flex": null,
            "flex_flow": null,
            "grid_area": null,
            "grid_auto_columns": null,
            "grid_auto_flow": null,
            "grid_auto_rows": null,
            "grid_column": null,
            "grid_gap": null,
            "grid_row": null,
            "grid_template_areas": null,
            "grid_template_columns": null,
            "grid_template_rows": null,
            "height": null,
            "justify_content": null,
            "justify_items": null,
            "left": null,
            "margin": null,
            "max_height": null,
            "max_width": null,
            "min_height": null,
            "min_width": null,
            "object_fit": null,
            "object_position": null,
            "order": null,
            "overflow": null,
            "overflow_x": null,
            "overflow_y": null,
            "padding": null,
            "right": null,
            "top": null,
            "visibility": null,
            "width": null
          }
        }
      }
    }
  },
  "nbformat": 4,
  "nbformat_minor": 0
}